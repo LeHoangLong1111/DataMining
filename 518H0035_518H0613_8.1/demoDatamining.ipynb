{
  "nbformat": 4,
  "nbformat_minor": 0,
  "metadata": {
    "colab": {
      "name": "demoDatamining.ipynb",
      "provenance": [],
      "collapsed_sections": []
    },
    "kernelspec": {
      "name": "python3",
      "display_name": "Python 3"
    },
    "language_info": {
      "name": "python"
    }
  },
  "cells": [
    {
      "cell_type": "code",
      "metadata": {
        "id": "CqJsAgWJkUj6"
      },
      "source": [
        "import pandas as pd\n",
        "import matplotlib.pyplot as plt\n",
        "import numpy as np"
      ],
      "execution_count": null,
      "outputs": []
    },
    {
      "cell_type": "code",
      "metadata": {
        "colab": {
          "resources": {
            "http://localhost:8080/nbextensions/google.colab/files.js": {
              "data": "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",
              "ok": true,
              "headers": [
                [
                  "content-type",
                  "application/javascript"
                ]
              ],
              "status": 200,
              "status_text": ""
            }
          },
          "base_uri": "https://localhost:8080/",
          "height": 72
        },
        "id": "BEahh8xSkWAH",
        "outputId": "1d5f046a-bb33-45eb-ef2b-b2d4c50e92b4"
      },
      "source": [
        "from google.colab import files\n",
        "uploaded = files.upload()"
      ],
      "execution_count": null,
      "outputs": [
        {
          "output_type": "display_data",
          "data": {
            "text/html": [
              "\n",
              "     <input type=\"file\" id=\"files-a6b02b99-733d-439f-86fa-135b15dc23db\" name=\"files[]\" multiple disabled\n",
              "        style=\"border:none\" />\n",
              "     <output id=\"result-a6b02b99-733d-439f-86fa-135b15dc23db\">\n",
              "      Upload widget is only available when the cell has been executed in the\n",
              "      current browser session. Please rerun this cell to enable.\n",
              "      </output>\n",
              "      <script src=\"/nbextensions/google.colab/files.js\"></script> "
            ],
            "text/plain": [
              "<IPython.core.display.HTML object>"
            ]
          },
          "metadata": {
            "tags": []
          }
        },
        {
          "output_type": "stream",
          "text": [
            "Saving post-operative.data to post-operative.data\n"
          ],
          "name": "stdout"
        }
      ]
    },
    {
      "cell_type": "code",
      "metadata": {
        "id": "D3oxE6S9RObO"
      },
      "source": [
        "Data Description:\n",
        "    - L-CORE (patient's internal temperature in C):\n",
        "      high (> 37), mid (> = 36 and <= 37), low (<36)\n",
        "    - L-SURF (patient's skin surface temperature in C):\n",
        "      high (> 36.5), mid (> = 36.5 and <= 35), low (<35)\n",
        "    - L-O2 (oxygen saturation in%):\n",
        "      excellent (> = 98), good (> = 90 and <98), fair (> = 80 and <90), poor (<80)\n",
        "    - L-BP (last blood pressure reading):\n",
        "      high (> 130/90), mid (<= 130/90 and> = 90/70), low (<90/70)\n",
        "    - SURF-STBL (stabilizes the patient's surface temperature):\n",
        "       stable, mod-stable, unstable\n",
        "    - CORE-STBL (stabilizes the patient's temperature):\n",
        "       stable, mod-stable, unstable\n",
        "    - BP-STBL (stabilizes the patient's blood pressure):\n",
        "      stable, mod-stable, unstable\n",
        "    COMFORT (patient comfort at discharge, measured as an integer between 0 and 20)\n",
        "    - ADM-DECS decision (discharge decision):\n",
        "      I (patient referred to an Intensive Care Unit),\n",
        "      S (patient preparing to go home),\n",
        "      A (patient is taken to the floor general hospital)"
      ],
      "execution_count": null,
      "outputs": []
    },
    {
      "cell_type": "code",
      "metadata": {
        "colab": {
          "base_uri": "https://localhost:8080/",
          "height": 419
        },
        "id": "1IthxfECkatR",
        "outputId": "bb853708-a135-4649-cc28-91441975937a"
      },
      "source": [
        "import pandas as pd\n",
        "import io\n",
        "\n",
        "dataframe = pd.read_csv(io.StringIO(uploaded['post-operative.data'].decode('utf-8')), names=[\"L-CORE\", \"L-SURF\", \"L-O2\", \"L-BP\", \"SURF-STBL\", \"CORE-STBL\", \"BP-STBL\", \"COMFORT\", \"ADM-DECS\"])\n",
        "dataframe"
      ],
      "execution_count": null,
      "outputs": [
        {
          "output_type": "execute_result",
          "data": {
            "text/html": [
              "<div>\n",
              "<style scoped>\n",
              "    .dataframe tbody tr th:only-of-type {\n",
              "        vertical-align: middle;\n",
              "    }\n",
              "\n",
              "    .dataframe tbody tr th {\n",
              "        vertical-align: top;\n",
              "    }\n",
              "\n",
              "    .dataframe thead th {\n",
              "        text-align: right;\n",
              "    }\n",
              "</style>\n",
              "<table border=\"1\" class=\"dataframe\">\n",
              "  <thead>\n",
              "    <tr style=\"text-align: right;\">\n",
              "      <th></th>\n",
              "      <th>L-CORE</th>\n",
              "      <th>L-SURF</th>\n",
              "      <th>L-O2</th>\n",
              "      <th>L-BP</th>\n",
              "      <th>SURF-STBL</th>\n",
              "      <th>CORE-STBL</th>\n",
              "      <th>BP-STBL</th>\n",
              "      <th>COMFORT</th>\n",
              "      <th>ADM-DECS</th>\n",
              "    </tr>\n",
              "  </thead>\n",
              "  <tbody>\n",
              "    <tr>\n",
              "      <th>0</th>\n",
              "      <td>mid</td>\n",
              "      <td>low</td>\n",
              "      <td>excellent</td>\n",
              "      <td>mid</td>\n",
              "      <td>stable</td>\n",
              "      <td>stable</td>\n",
              "      <td>stable</td>\n",
              "      <td>15</td>\n",
              "      <td>A</td>\n",
              "    </tr>\n",
              "    <tr>\n",
              "      <th>1</th>\n",
              "      <td>mid</td>\n",
              "      <td>high</td>\n",
              "      <td>excellent</td>\n",
              "      <td>high</td>\n",
              "      <td>stable</td>\n",
              "      <td>stable</td>\n",
              "      <td>stable</td>\n",
              "      <td>10</td>\n",
              "      <td>S</td>\n",
              "    </tr>\n",
              "    <tr>\n",
              "      <th>2</th>\n",
              "      <td>high</td>\n",
              "      <td>low</td>\n",
              "      <td>excellent</td>\n",
              "      <td>high</td>\n",
              "      <td>stable</td>\n",
              "      <td>stable</td>\n",
              "      <td>mod-stable</td>\n",
              "      <td>10</td>\n",
              "      <td>A</td>\n",
              "    </tr>\n",
              "    <tr>\n",
              "      <th>3</th>\n",
              "      <td>mid</td>\n",
              "      <td>low</td>\n",
              "      <td>good</td>\n",
              "      <td>high</td>\n",
              "      <td>stable</td>\n",
              "      <td>unstable</td>\n",
              "      <td>mod-stable</td>\n",
              "      <td>15</td>\n",
              "      <td>A</td>\n",
              "    </tr>\n",
              "    <tr>\n",
              "      <th>4</th>\n",
              "      <td>mid</td>\n",
              "      <td>mid</td>\n",
              "      <td>excellent</td>\n",
              "      <td>high</td>\n",
              "      <td>stable</td>\n",
              "      <td>stable</td>\n",
              "      <td>stable</td>\n",
              "      <td>10</td>\n",
              "      <td>A</td>\n",
              "    </tr>\n",
              "    <tr>\n",
              "      <th>...</th>\n",
              "      <td>...</td>\n",
              "      <td>...</td>\n",
              "      <td>...</td>\n",
              "      <td>...</td>\n",
              "      <td>...</td>\n",
              "      <td>...</td>\n",
              "      <td>...</td>\n",
              "      <td>...</td>\n",
              "      <td>...</td>\n",
              "    </tr>\n",
              "    <tr>\n",
              "      <th>85</th>\n",
              "      <td>mid</td>\n",
              "      <td>mid</td>\n",
              "      <td>excellent</td>\n",
              "      <td>mid</td>\n",
              "      <td>unstable</td>\n",
              "      <td>stable</td>\n",
              "      <td>stable</td>\n",
              "      <td>10</td>\n",
              "      <td>A</td>\n",
              "    </tr>\n",
              "    <tr>\n",
              "      <th>86</th>\n",
              "      <td>mid</td>\n",
              "      <td>mid</td>\n",
              "      <td>excellent</td>\n",
              "      <td>mid</td>\n",
              "      <td>unstable</td>\n",
              "      <td>stable</td>\n",
              "      <td>stable</td>\n",
              "      <td>15</td>\n",
              "      <td>S</td>\n",
              "    </tr>\n",
              "    <tr>\n",
              "      <th>87</th>\n",
              "      <td>mid</td>\n",
              "      <td>mid</td>\n",
              "      <td>good</td>\n",
              "      <td>mid</td>\n",
              "      <td>unstable</td>\n",
              "      <td>stable</td>\n",
              "      <td>stable</td>\n",
              "      <td>15</td>\n",
              "      <td>A</td>\n",
              "    </tr>\n",
              "    <tr>\n",
              "      <th>88</th>\n",
              "      <td>mid</td>\n",
              "      <td>mid</td>\n",
              "      <td>excellent</td>\n",
              "      <td>mid</td>\n",
              "      <td>unstable</td>\n",
              "      <td>stable</td>\n",
              "      <td>stable</td>\n",
              "      <td>10</td>\n",
              "      <td>A</td>\n",
              "    </tr>\n",
              "    <tr>\n",
              "      <th>89</th>\n",
              "      <td>mid</td>\n",
              "      <td>mid</td>\n",
              "      <td>good</td>\n",
              "      <td>mid</td>\n",
              "      <td>unstable</td>\n",
              "      <td>stable</td>\n",
              "      <td>stable</td>\n",
              "      <td>15</td>\n",
              "      <td>S</td>\n",
              "    </tr>\n",
              "  </tbody>\n",
              "</table>\n",
              "<p>90 rows × 9 columns</p>\n",
              "</div>"
            ],
            "text/plain": [
              "   L-CORE L-SURF       L-O2  L-BP  ... CORE-STBL     BP-STBL COMFORT ADM-DECS\n",
              "0     mid    low  excellent   mid  ...    stable      stable      15        A\n",
              "1     mid   high  excellent  high  ...    stable      stable      10        S\n",
              "2    high    low  excellent  high  ...    stable  mod-stable      10        A\n",
              "3     mid    low       good  high  ...  unstable  mod-stable      15       A \n",
              "4     mid    mid  excellent  high  ...    stable      stable      10        A\n",
              "..    ...    ...        ...   ...  ...       ...         ...     ...      ...\n",
              "85    mid    mid  excellent   mid  ...    stable      stable      10        A\n",
              "86    mid    mid  excellent   mid  ...    stable      stable      15        S\n",
              "87    mid    mid       good   mid  ...    stable      stable      15        A\n",
              "88    mid    mid  excellent   mid  ...    stable      stable      10        A\n",
              "89    mid    mid       good   mid  ...    stable      stable      15        S\n",
              "\n",
              "[90 rows x 9 columns]"
            ]
          },
          "metadata": {
            "tags": []
          },
          "execution_count": 3
        }
      ]
    },
    {
      "cell_type": "code",
      "metadata": {
        "colab": {
          "base_uri": "https://localhost:8080/",
          "height": 295
        },
        "id": "d8yjaALkRgS1",
        "outputId": "1d293904-0fc8-4cdd-e551-90c2b7c34a66"
      },
      "source": [
        "dataframe['L-CORE'].value_counts().plot(kind='bar')"
      ],
      "execution_count": null,
      "outputs": [
        {
          "output_type": "execute_result",
          "data": {
            "text/plain": [
              "<matplotlib.axes._subplots.AxesSubplot at 0x7f658efa68d0>"
            ]
          },
          "metadata": {
            "tags": []
          },
          "execution_count": 4
        },
        {
          "output_type": "display_data",
          "data": {
            "image/png": "[encoded data removed]",
            "text/plain": [
              "<Figure size 432x288 with 1 Axes>"
            ]
          },
          "metadata": {
            "tags": [],
            "needs_background": "light"
          }
        }
      ]
    },
    {
      "cell_type": "code",
      "metadata": {
        "colab": {
          "base_uri": "https://localhost:8080/",
          "height": 297
        },
        "id": "WHDgwujjRnKm",
        "outputId": "7449a69c-fcb6-40c5-ffce-86d1ab73cd13"
      },
      "source": [
        "dataframe['L-SURF'].value_counts().plot(kind='bar')"
      ],
      "execution_count": null,
      "outputs": [
        {
          "output_type": "execute_result",
          "data": {
            "text/plain": [
              "<matplotlib.axes._subplots.AxesSubplot at 0x7f658eee73d0>"
            ]
          },
          "metadata": {
            "tags": []
          },
          "execution_count": 5
        },
        {
          "output_type": "display_data",
          "data": {
            "image/png": "[encoded data removed]",
            "text/plain": [
              "<Figure size 432x288 with 1 Axes>"
            ]
          },
          "metadata": {
            "tags": [],
            "needs_background": "light"
          }
        }
      ]
    },
    {
      "cell_type": "code",
      "metadata": {
        "colab": {
          "base_uri": "https://localhost:8080/",
          "height": 318
        },
        "id": "fvtC5xSjRo6U",
        "outputId": "e271c52a-7e0f-4b26-edd6-7576e5465a72"
      },
      "source": [
        "dataframe['L-O2'].value_counts().plot(kind='bar')"
      ],
      "execution_count": null,
      "outputs": [
        {
          "output_type": "execute_result",
          "data": {
            "text/plain": [
              "<matplotlib.axes._subplots.AxesSubplot at 0x7f658ea1d0d0>"
            ]
          },
          "metadata": {
            "tags": []
          },
          "execution_count": 6
        },
        {
          "output_type": "display_data",
          "data": {
            "image/png": "[encoded data removed]",
            "text/plain": [
              "<Figure size 432x288 with 1 Axes>"
            ]
          },
          "metadata": {
            "tags": [],
            "needs_background": "light"
          }
        }
      ]
    },
    {
      "cell_type": "code",
      "metadata": {
        "colab": {
          "base_uri": "https://localhost:8080/",
          "height": 294
        },
        "id": "5AeewsCxRq3f",
        "outputId": "fdf2da03-14d9-49cd-ea78-2db069ce40a2"
      },
      "source": [
        "dataframe['L-BP'].value_counts().plot(kind='bar')"
      ],
      "execution_count": null,
      "outputs": [
        {
          "output_type": "execute_result",
          "data": {
            "text/plain": [
              "<matplotlib.axes._subplots.AxesSubplot at 0x7f658e9e8110>"
            ]
          },
          "metadata": {
            "tags": []
          },
          "execution_count": 7
        },
        {
          "output_type": "display_data",
          "data": {
            "image/png": "[encoded data removed]",
            "text/plain": [
              "<Figure size 432x288 with 1 Axes>"
            ]
          },
          "metadata": {
            "tags": [],
            "needs_background": "light"
          }
        }
      ]
    },
    {
      "cell_type": "code",
      "metadata": {
        "colab": {
          "base_uri": "https://localhost:8080/",
          "height": 316
        },
        "id": "3pu6kF_WRtdQ",
        "outputId": "1107c9ef-b8b9-4444-ed22-c58186f31816"
      },
      "source": [
        "dataframe['SURF-STBL'].value_counts().plot(kind='bar')"
      ],
      "execution_count": null,
      "outputs": [
        {
          "output_type": "execute_result",
          "data": {
            "text/plain": [
              "<matplotlib.axes._subplots.AxesSubplot at 0x7f65951c5bd0>"
            ]
          },
          "metadata": {
            "tags": []
          },
          "execution_count": 8
        },
        {
          "output_type": "display_data",
          "data": {
            "image/png": "[encoded data removed]",
            "text/plain": [
              "<Figure size 432x288 with 1 Axes>"
            ]
          },
          "metadata": {
            "tags": [],
            "needs_background": "light"
          }
        }
      ]
    },
    {
      "cell_type": "code",
      "metadata": {
        "colab": {
          "base_uri": "https://localhost:8080/",
          "height": 328
        },
        "id": "Kk2hrDZRRvCN",
        "outputId": "384905a5-ca02-48f5-e099-48a9f9582c5d"
      },
      "source": [
        "dataframe['CORE-STBL'].value_counts().plot(kind='bar')"
      ],
      "execution_count": null,
      "outputs": [
        {
          "output_type": "execute_result",
          "data": {
            "text/plain": [
              "<matplotlib.axes._subplots.AxesSubplot at 0x7f658e8e0fd0>"
            ]
          },
          "metadata": {
            "tags": []
          },
          "execution_count": 9
        },
        {
          "output_type": "display_data",
          "data": {
            "image/png": "[encoded data removed]",
            "text/plain": [
              "<Figure size 432x288 with 1 Axes>"
            ]
          },
          "metadata": {
            "tags": [],
            "needs_background": "light"
          }
        }
      ]
    },
    {
      "cell_type": "code",
      "metadata": {
        "colab": {
          "base_uri": "https://localhost:8080/",
          "height": 328
        },
        "id": "OU4hb30_RxDn",
        "outputId": "e7ae08bc-86c7-46e1-aff9-7db6dee22c38"
      },
      "source": [
        "dataframe['BP-STBL'].value_counts().plot(kind='bar')"
      ],
      "execution_count": null,
      "outputs": [
        {
          "output_type": "execute_result",
          "data": {
            "text/plain": [
              "<matplotlib.axes._subplots.AxesSubplot at 0x7f658e85fad0>"
            ]
          },
          "metadata": {
            "tags": []
          },
          "execution_count": 10
        },
        {
          "output_type": "display_data",
          "data": {
            "image/png": "[encoded data removed]",
            "text/plain": [
              "<Figure size 432x288 with 1 Axes>"
            ]
          },
          "metadata": {
            "tags": [],
            "needs_background": "light"
          }
        }
      ]
    },
    {
      "cell_type": "code",
      "metadata": {
        "colab": {
          "base_uri": "https://localhost:8080/",
          "height": 285
        },
        "id": "Z-JtWN7bRzQX",
        "outputId": "4be5ff72-ea97-483a-c926-58d17a3c2c88"
      },
      "source": [
        "dataframe['COMFORT'].value_counts().plot(kind='bar')"
      ],
      "execution_count": null,
      "outputs": [
        {
          "output_type": "execute_result",
          "data": {
            "text/plain": [
              "<matplotlib.axes._subplots.AxesSubplot at 0x7f658e83d810>"
            ]
          },
          "metadata": {
            "tags": []
          },
          "execution_count": 11
        },
        {
          "output_type": "display_data",
          "data": {
            "image/png": "[encoded data removed]",
            "text/plain": [
              "<Figure size 432x288 with 1 Axes>"
            ]
          },
          "metadata": {
            "tags": [],
            "needs_background": "light"
          }
        }
      ]
    },
    {
      "cell_type": "code",
      "metadata": {
        "colab": {
          "base_uri": "https://localhost:8080/",
          "height": 282
        },
        "id": "xBdjnJdER1Dt",
        "outputId": "d5011d81-824b-4bc6-fe6c-aa50c7465caf"
      },
      "source": [
        "dataframe['ADM-DECS'].value_counts().plot(kind='bar')"
      ],
      "execution_count": null,
      "outputs": [
        {
          "output_type": "execute_result",
          "data": {
            "text/plain": [
              "<matplotlib.axes._subplots.AxesSubplot at 0x7f658e7a97d0>"
            ]
          },
          "metadata": {
            "tags": []
          },
          "execution_count": 12
        },
        {
          "output_type": "display_data",
          "data": {
            "image/png": "[encoded data removed]",
            "text/plain": [
              "<Figure size 432x288 with 1 Axes>"
            ]
          },
          "metadata": {
            "tags": [],
            "needs_background": "light"
          }
        }
      ]
    },
    {
      "cell_type": "code",
      "metadata": {
        "colab": {
          "base_uri": "https://localhost:8080/"
        },
        "id": "THT1-TjhR2k1",
        "outputId": "fc7be8f9-96b4-4b06-e547-fe5c25caafa4"
      },
      "source": [
        "# Handling missing data\n",
        "countLcore=0\n",
        "for i in dataframe['L-CORE']:\n",
        "  if i == '?':\n",
        "    countLcore = countLcore + 1\n",
        "print ('Count of \"?\" in L-CORE: ' + str(countLcore))\n",
        "\n",
        "countLsurf=0\n",
        "for i in dataframe['L-SURF']:\n",
        "  if i == '?':\n",
        "    countLsurf = countLcore + 1\n",
        "print ('Count of \"?\" in L-SURF: ' + str(countLsurf))\n",
        "\n",
        "countLo2=0\n",
        "for i in dataframe['L-O2']:\n",
        "  if i == '?':\n",
        "    countLo2 = countLo2 + 1\n",
        "print ('Count of \"?\" in L-O2: ' + str(countLo2))\n",
        "\n",
        "countLbp=0\n",
        "for i in dataframe['L-BP']:\n",
        "  if i == '?':\n",
        "    countLbp = countLbp + 1\n",
        "print ('Count of \"?\" in L-BP: ' + str(countLbp))\n",
        "\n",
        "countSurfStbl=0\n",
        "for i in dataframe['SURF-STBL']:\n",
        "  if i == '?':\n",
        "    countSurfStbl = countSurfStbl + 1\n",
        "print ('Count of \"?\" in SURF-STBL: ' + str(countSurfStbl))\n",
        "\n",
        "countCoreStbl=0\n",
        "for i in dataframe['CORE-STBL']:\n",
        "  if i == '?':\n",
        "    countCoreStbl = countCoreStbl + 1\n",
        "print ('Count of \"?\" in CORE-STBL: ' + str(countCoreStbl))\n",
        "\n",
        "\n",
        "countBpStbl=0\n",
        "for i in dataframe['BP-STBL']:\n",
        "  if i == '?':\n",
        "    countBpStbl = countBpStbl + 1\n",
        "print ('Count of \"?\" in BP-STBL: ' + str(countBpStbl))\n",
        "\n",
        "countComfort=0\n",
        "for i in dataframe['COMFORT']:\n",
        "  if i == '?':\n",
        "    countComfort = countComfort + 1\n",
        "print ('Count of \"?\" in COMFORT: ' + str(countComfort))\n",
        "\n",
        "countAdmDecs=0\n",
        "for i in dataframe['ADM-DECS']:\n",
        "  if i == '?':\n",
        "    countAdmDecs = countAdmDecs + 1\n",
        "print ('Count of \"?\" in ADM-DECS: ' + str(countAdmDecs))"
      ],
      "execution_count": null,
      "outputs": [
        {
          "output_type": "stream",
          "text": [
            "Count of \"?\" in L-CORE: 0\n",
            "Count of \"?\" in L-SURF: 0\n",
            "Count of \"?\" in L-O2: 0\n",
            "Count of \"?\" in L-BP: 0\n",
            "Count of \"?\" in SURF-STBL: 0\n",
            "Count of \"?\" in CORE-STBL: 0\n",
            "Count of \"?\" in BP-STBL: 0\n",
            "Count of \"?\" in COMFORT: 3\n",
            "Count of \"?\" in ADM-DECS: 0\n"
          ],
          "name": "stdout"
        }
      ]
    },
    {
      "cell_type": "code",
      "metadata": {
        "colab": {
          "base_uri": "https://localhost:8080/"
        },
        "id": "rsXrPaEISIhE",
        "outputId": "271365f2-811b-4d97-8287-d5da80a5fc3f"
      },
      "source": [
        "index=0\n",
        "print('Các dòng bị missing data: ')\n",
        "for row in dataframe.itertuples():\n",
        "  for column in row:\n",
        "    if column=='?':\n",
        "      print(index)\n",
        "  index = index+1"
      ],
      "execution_count": null,
      "outputs": [
        {
          "output_type": "stream",
          "text": [
            "Các dòng bị missing data: \n",
            "46\n",
            "48\n",
            "70\n"
          ],
          "name": "stdout"
        }
      ]
    },
    {
      "cell_type": "code",
      "metadata": {
        "colab": {
          "base_uri": "https://localhost:8080/",
          "height": 80
        },
        "id": "WsBcwGHbSLFj",
        "outputId": "d9ccecbd-560a-462f-bc2d-8b6d8b5942e3"
      },
      "source": [
        "dataframe.iloc[[46]]"
      ],
      "execution_count": null,
      "outputs": [
        {
          "output_type": "execute_result",
          "data": {
            "text/html": [
              "<div>\n",
              "<style scoped>\n",
              "    .dataframe tbody tr th:only-of-type {\n",
              "        vertical-align: middle;\n",
              "    }\n",
              "\n",
              "    .dataframe tbody tr th {\n",
              "        vertical-align: top;\n",
              "    }\n",
              "\n",
              "    .dataframe thead th {\n",
              "        text-align: right;\n",
              "    }\n",
              "</style>\n",
              "<table border=\"1\" class=\"dataframe\">\n",
              "  <thead>\n",
              "    <tr style=\"text-align: right;\">\n",
              "      <th></th>\n",
              "      <th>L-CORE</th>\n",
              "      <th>L-SURF</th>\n",
              "      <th>L-O2</th>\n",
              "      <th>L-BP</th>\n",
              "      <th>SURF-STBL</th>\n",
              "      <th>CORE-STBL</th>\n",
              "      <th>BP-STBL</th>\n",
              "      <th>COMFORT</th>\n",
              "      <th>ADM-DECS</th>\n",
              "    </tr>\n",
              "  </thead>\n",
              "  <tbody>\n",
              "    <tr>\n",
              "      <th>46</th>\n",
              "      <td>low</td>\n",
              "      <td>mid</td>\n",
              "      <td>good</td>\n",
              "      <td>high</td>\n",
              "      <td>unstable</td>\n",
              "      <td>stable</td>\n",
              "      <td>stable</td>\n",
              "      <td>?</td>\n",
              "      <td>I</td>\n",
              "    </tr>\n",
              "  </tbody>\n",
              "</table>\n",
              "</div>"
            ],
            "text/plain": [
              "   L-CORE L-SURF  L-O2  L-BP SURF-STBL CORE-STBL BP-STBL COMFORT ADM-DECS\n",
              "46    low    mid  good  high  unstable    stable  stable       ?        I"
            ]
          },
          "metadata": {
            "tags": []
          },
          "execution_count": 15
        }
      ]
    },
    {
      "cell_type": "code",
      "metadata": {
        "colab": {
          "base_uri": "https://localhost:8080/",
          "height": 80
        },
        "id": "jxQPiCaXSL85",
        "outputId": "d68aaaea-d07b-4794-cb30-cbecbcf4437f"
      },
      "source": [
        "dataframe.iloc[[48]]"
      ],
      "execution_count": null,
      "outputs": [
        {
          "output_type": "execute_result",
          "data": {
            "text/html": [
              "<div>\n",
              "<style scoped>\n",
              "    .dataframe tbody tr th:only-of-type {\n",
              "        vertical-align: middle;\n",
              "    }\n",
              "\n",
              "    .dataframe tbody tr th {\n",
              "        vertical-align: top;\n",
              "    }\n",
              "\n",
              "    .dataframe thead th {\n",
              "        text-align: right;\n",
              "    }\n",
              "</style>\n",
              "<table border=\"1\" class=\"dataframe\">\n",
              "  <thead>\n",
              "    <tr style=\"text-align: right;\">\n",
              "      <th></th>\n",
              "      <th>L-CORE</th>\n",
              "      <th>L-SURF</th>\n",
              "      <th>L-O2</th>\n",
              "      <th>L-BP</th>\n",
              "      <th>SURF-STBL</th>\n",
              "      <th>CORE-STBL</th>\n",
              "      <th>BP-STBL</th>\n",
              "      <th>COMFORT</th>\n",
              "      <th>ADM-DECS</th>\n",
              "    </tr>\n",
              "  </thead>\n",
              "  <tbody>\n",
              "    <tr>\n",
              "      <th>48</th>\n",
              "      <td>high</td>\n",
              "      <td>high</td>\n",
              "      <td>excellent</td>\n",
              "      <td>high</td>\n",
              "      <td>stable</td>\n",
              "      <td>stable</td>\n",
              "      <td>unstable</td>\n",
              "      <td>?</td>\n",
              "      <td>A</td>\n",
              "    </tr>\n",
              "  </tbody>\n",
              "</table>\n",
              "</div>"
            ],
            "text/plain": [
              "   L-CORE L-SURF       L-O2  L-BP  ... CORE-STBL   BP-STBL COMFORT ADM-DECS\n",
              "48   high   high  excellent  high  ...    stable  unstable       ?        A\n",
              "\n",
              "[1 rows x 9 columns]"
            ]
          },
          "metadata": {
            "tags": []
          },
          "execution_count": 16
        }
      ]
    },
    {
      "cell_type": "code",
      "metadata": {
        "colab": {
          "base_uri": "https://localhost:8080/",
          "height": 80
        },
        "id": "UWgVzPywSOaS",
        "outputId": "ed23b2d5-03c1-47dc-d8b7-7422bb1f9645"
      },
      "source": [
        "dataframe.iloc[[70]]"
      ],
      "execution_count": null,
      "outputs": [
        {
          "output_type": "execute_result",
          "data": {
            "text/html": [
              "<div>\n",
              "<style scoped>\n",
              "    .dataframe tbody tr th:only-of-type {\n",
              "        vertical-align: middle;\n",
              "    }\n",
              "\n",
              "    .dataframe tbody tr th {\n",
              "        vertical-align: top;\n",
              "    }\n",
              "\n",
              "    .dataframe thead th {\n",
              "        text-align: right;\n",
              "    }\n",
              "</style>\n",
              "<table border=\"1\" class=\"dataframe\">\n",
              "  <thead>\n",
              "    <tr style=\"text-align: right;\">\n",
              "      <th></th>\n",
              "      <th>L-CORE</th>\n",
              "      <th>L-SURF</th>\n",
              "      <th>L-O2</th>\n",
              "      <th>L-BP</th>\n",
              "      <th>SURF-STBL</th>\n",
              "      <th>CORE-STBL</th>\n",
              "      <th>BP-STBL</th>\n",
              "      <th>COMFORT</th>\n",
              "      <th>ADM-DECS</th>\n",
              "    </tr>\n",
              "  </thead>\n",
              "  <tbody>\n",
              "    <tr>\n",
              "      <th>70</th>\n",
              "      <td>mid</td>\n",
              "      <td>low</td>\n",
              "      <td>excellent</td>\n",
              "      <td>mid</td>\n",
              "      <td>unstable</td>\n",
              "      <td>unstable</td>\n",
              "      <td>unstable</td>\n",
              "      <td>?</td>\n",
              "      <td>A</td>\n",
              "    </tr>\n",
              "  </tbody>\n",
              "</table>\n",
              "</div>"
            ],
            "text/plain": [
              "   L-CORE L-SURF       L-O2 L-BP SURF-STBL CORE-STBL   BP-STBL COMFORT ADM-DECS\n",
              "70    mid    low  excellent  mid  unstable  unstable  unstable       ?        A"
            ]
          },
          "metadata": {
            "tags": []
          },
          "execution_count": 17
        }
      ]
    },
    {
      "cell_type": "code",
      "metadata": {
        "colab": {
          "base_uri": "https://localhost:8080/",
          "height": 419
        },
        "id": "h7RS7uQ8SPXQ",
        "outputId": "5e221888-1e32-4bf4-89a3-727812ad7799"
      },
      "source": [
        "dataframe1=dataframe\n",
        "dataframe1"
      ],
      "execution_count": null,
      "outputs": [
        {
          "output_type": "execute_result",
          "data": {
            "text/html": [
              "<div>\n",
              "<style scoped>\n",
              "    .dataframe tbody tr th:only-of-type {\n",
              "        vertical-align: middle;\n",
              "    }\n",
              "\n",
              "    .dataframe tbody tr th {\n",
              "        vertical-align: top;\n",
              "    }\n",
              "\n",
              "    .dataframe thead th {\n",
              "        text-align: right;\n",
              "    }\n",
              "</style>\n",
              "<table border=\"1\" class=\"dataframe\">\n",
              "  <thead>\n",
              "    <tr style=\"text-align: right;\">\n",
              "      <th></th>\n",
              "      <th>L-CORE</th>\n",
              "      <th>L-SURF</th>\n",
              "      <th>L-O2</th>\n",
              "      <th>L-BP</th>\n",
              "      <th>SURF-STBL</th>\n",
              "      <th>CORE-STBL</th>\n",
              "      <th>BP-STBL</th>\n",
              "      <th>COMFORT</th>\n",
              "      <th>ADM-DECS</th>\n",
              "    </tr>\n",
              "  </thead>\n",
              "  <tbody>\n",
              "    <tr>\n",
              "      <th>0</th>\n",
              "      <td>mid</td>\n",
              "      <td>low</td>\n",
              "      <td>excellent</td>\n",
              "      <td>mid</td>\n",
              "      <td>stable</td>\n",
              "      <td>stable</td>\n",
              "      <td>stable</td>\n",
              "      <td>15</td>\n",
              "      <td>A</td>\n",
              "    </tr>\n",
              "    <tr>\n",
              "      <th>1</th>\n",
              "      <td>mid</td>\n",
              "      <td>high</td>\n",
              "      <td>excellent</td>\n",
              "      <td>high</td>\n",
              "      <td>stable</td>\n",
              "      <td>stable</td>\n",
              "      <td>stable</td>\n",
              "      <td>10</td>\n",
              "      <td>S</td>\n",
              "    </tr>\n",
              "    <tr>\n",
              "      <th>2</th>\n",
              "      <td>high</td>\n",
              "      <td>low</td>\n",
              "      <td>excellent</td>\n",
              "      <td>high</td>\n",
              "      <td>stable</td>\n",
              "      <td>stable</td>\n",
              "      <td>mod-stable</td>\n",
              "      <td>10</td>\n",
              "      <td>A</td>\n",
              "    </tr>\n",
              "    <tr>\n",
              "      <th>3</th>\n",
              "      <td>mid</td>\n",
              "      <td>low</td>\n",
              "      <td>good</td>\n",
              "      <td>high</td>\n",
              "      <td>stable</td>\n",
              "      <td>unstable</td>\n",
              "      <td>mod-stable</td>\n",
              "      <td>15</td>\n",
              "      <td>A</td>\n",
              "    </tr>\n",
              "    <tr>\n",
              "      <th>4</th>\n",
              "      <td>mid</td>\n",
              "      <td>mid</td>\n",
              "      <td>excellent</td>\n",
              "      <td>high</td>\n",
              "      <td>stable</td>\n",
              "      <td>stable</td>\n",
              "      <td>stable</td>\n",
              "      <td>10</td>\n",
              "      <td>A</td>\n",
              "    </tr>\n",
              "    <tr>\n",
              "      <th>...</th>\n",
              "      <td>...</td>\n",
              "      <td>...</td>\n",
              "      <td>...</td>\n",
              "      <td>...</td>\n",
              "      <td>...</td>\n",
              "      <td>...</td>\n",
              "      <td>...</td>\n",
              "      <td>...</td>\n",
              "      <td>...</td>\n",
              "    </tr>\n",
              "    <tr>\n",
              "      <th>85</th>\n",
              "      <td>mid</td>\n",
              "      <td>mid</td>\n",
              "      <td>excellent</td>\n",
              "      <td>mid</td>\n",
              "      <td>unstable</td>\n",
              "      <td>stable</td>\n",
              "      <td>stable</td>\n",
              "      <td>10</td>\n",
              "      <td>A</td>\n",
              "    </tr>\n",
              "    <tr>\n",
              "      <th>86</th>\n",
              "      <td>mid</td>\n",
              "      <td>mid</td>\n",
              "      <td>excellent</td>\n",
              "      <td>mid</td>\n",
              "      <td>unstable</td>\n",
              "      <td>stable</td>\n",
              "      <td>stable</td>\n",
              "      <td>15</td>\n",
              "      <td>S</td>\n",
              "    </tr>\n",
              "    <tr>\n",
              "      <th>87</th>\n",
              "      <td>mid</td>\n",
              "      <td>mid</td>\n",
              "      <td>good</td>\n",
              "      <td>mid</td>\n",
              "      <td>unstable</td>\n",
              "      <td>stable</td>\n",
              "      <td>stable</td>\n",
              "      <td>15</td>\n",
              "      <td>A</td>\n",
              "    </tr>\n",
              "    <tr>\n",
              "      <th>88</th>\n",
              "      <td>mid</td>\n",
              "      <td>mid</td>\n",
              "      <td>excellent</td>\n",
              "      <td>mid</td>\n",
              "      <td>unstable</td>\n",
              "      <td>stable</td>\n",
              "      <td>stable</td>\n",
              "      <td>10</td>\n",
              "      <td>A</td>\n",
              "    </tr>\n",
              "    <tr>\n",
              "      <th>89</th>\n",
              "      <td>mid</td>\n",
              "      <td>mid</td>\n",
              "      <td>good</td>\n",
              "      <td>mid</td>\n",
              "      <td>unstable</td>\n",
              "      <td>stable</td>\n",
              "      <td>stable</td>\n",
              "      <td>15</td>\n",
              "      <td>S</td>\n",
              "    </tr>\n",
              "  </tbody>\n",
              "</table>\n",
              "<p>90 rows × 9 columns</p>\n",
              "</div>"
            ],
            "text/plain": [
              "   L-CORE L-SURF       L-O2  L-BP  ... CORE-STBL     BP-STBL COMFORT ADM-DECS\n",
              "0     mid    low  excellent   mid  ...    stable      stable      15        A\n",
              "1     mid   high  excellent  high  ...    stable      stable      10        S\n",
              "2    high    low  excellent  high  ...    stable  mod-stable      10        A\n",
              "3     mid    low       good  high  ...  unstable  mod-stable      15       A \n",
              "4     mid    mid  excellent  high  ...    stable      stable      10        A\n",
              "..    ...    ...        ...   ...  ...       ...         ...     ...      ...\n",
              "85    mid    mid  excellent   mid  ...    stable      stable      10        A\n",
              "86    mid    mid  excellent   mid  ...    stable      stable      15        S\n",
              "87    mid    mid       good   mid  ...    stable      stable      15        A\n",
              "88    mid    mid  excellent   mid  ...    stable      stable      10        A\n",
              "89    mid    mid       good   mid  ...    stable      stable      15        S\n",
              "\n",
              "[90 rows x 9 columns]"
            ]
          },
          "metadata": {
            "tags": []
          },
          "execution_count": 18
        }
      ]
    },
    {
      "cell_type": "code",
      "metadata": {
        "colab": {
          "base_uri": "https://localhost:8080/",
          "height": 419
        },
        "id": "FHnbjar1SRh6",
        "outputId": "931ee028-7be3-4441-dde3-bee2a150ac29"
      },
      "source": [
        "dataframe1=dataframe1.drop(labels=[46,48,70], axis=0)\n",
        "dataframe1"
      ],
      "execution_count": null,
      "outputs": [
        {
          "output_type": "execute_result",
          "data": {
            "text/html": [
              "<div>\n",
              "<style scoped>\n",
              "    .dataframe tbody tr th:only-of-type {\n",
              "        vertical-align: middle;\n",
              "    }\n",
              "\n",
              "    .dataframe tbody tr th {\n",
              "        vertical-align: top;\n",
              "    }\n",
              "\n",
              "    .dataframe thead th {\n",
              "        text-align: right;\n",
              "    }\n",
              "</style>\n",
              "<table border=\"1\" class=\"dataframe\">\n",
              "  <thead>\n",
              "    <tr style=\"text-align: right;\">\n",
              "      <th></th>\n",
              "      <th>L-CORE</th>\n",
              "      <th>L-SURF</th>\n",
              "      <th>L-O2</th>\n",
              "      <th>L-BP</th>\n",
              "      <th>SURF-STBL</th>\n",
              "      <th>CORE-STBL</th>\n",
              "      <th>BP-STBL</th>\n",
              "      <th>COMFORT</th>\n",
              "      <th>ADM-DECS</th>\n",
              "    </tr>\n",
              "  </thead>\n",
              "  <tbody>\n",
              "    <tr>\n",
              "      <th>0</th>\n",
              "      <td>mid</td>\n",
              "      <td>low</td>\n",
              "      <td>excellent</td>\n",
              "      <td>mid</td>\n",
              "      <td>stable</td>\n",
              "      <td>stable</td>\n",
              "      <td>stable</td>\n",
              "      <td>15</td>\n",
              "      <td>A</td>\n",
              "    </tr>\n",
              "    <tr>\n",
              "      <th>1</th>\n",
              "      <td>mid</td>\n",
              "      <td>high</td>\n",
              "      <td>excellent</td>\n",
              "      <td>high</td>\n",
              "      <td>stable</td>\n",
              "      <td>stable</td>\n",
              "      <td>stable</td>\n",
              "      <td>10</td>\n",
              "      <td>S</td>\n",
              "    </tr>\n",
              "    <tr>\n",
              "      <th>2</th>\n",
              "      <td>high</td>\n",
              "      <td>low</td>\n",
              "      <td>excellent</td>\n",
              "      <td>high</td>\n",
              "      <td>stable</td>\n",
              "      <td>stable</td>\n",
              "      <td>mod-stable</td>\n",
              "      <td>10</td>\n",
              "      <td>A</td>\n",
              "    </tr>\n",
              "    <tr>\n",
              "      <th>3</th>\n",
              "      <td>mid</td>\n",
              "      <td>low</td>\n",
              "      <td>good</td>\n",
              "      <td>high</td>\n",
              "      <td>stable</td>\n",
              "      <td>unstable</td>\n",
              "      <td>mod-stable</td>\n",
              "      <td>15</td>\n",
              "      <td>A</td>\n",
              "    </tr>\n",
              "    <tr>\n",
              "      <th>4</th>\n",
              "      <td>mid</td>\n",
              "      <td>mid</td>\n",
              "      <td>excellent</td>\n",
              "      <td>high</td>\n",
              "      <td>stable</td>\n",
              "      <td>stable</td>\n",
              "      <td>stable</td>\n",
              "      <td>10</td>\n",
              "      <td>A</td>\n",
              "    </tr>\n",
              "    <tr>\n",
              "      <th>...</th>\n",
              "      <td>...</td>\n",
              "      <td>...</td>\n",
              "      <td>...</td>\n",
              "      <td>...</td>\n",
              "      <td>...</td>\n",
              "      <td>...</td>\n",
              "      <td>...</td>\n",
              "      <td>...</td>\n",
              "      <td>...</td>\n",
              "    </tr>\n",
              "    <tr>\n",
              "      <th>85</th>\n",
              "      <td>mid</td>\n",
              "      <td>mid</td>\n",
              "      <td>excellent</td>\n",
              "      <td>mid</td>\n",
              "      <td>unstable</td>\n",
              "      <td>stable</td>\n",
              "      <td>stable</td>\n",
              "      <td>10</td>\n",
              "      <td>A</td>\n",
              "    </tr>\n",
              "    <tr>\n",
              "      <th>86</th>\n",
              "      <td>mid</td>\n",
              "      <td>mid</td>\n",
              "      <td>excellent</td>\n",
              "      <td>mid</td>\n",
              "      <td>unstable</td>\n",
              "      <td>stable</td>\n",
              "      <td>stable</td>\n",
              "      <td>15</td>\n",
              "      <td>S</td>\n",
              "    </tr>\n",
              "    <tr>\n",
              "      <th>87</th>\n",
              "      <td>mid</td>\n",
              "      <td>mid</td>\n",
              "      <td>good</td>\n",
              "      <td>mid</td>\n",
              "      <td>unstable</td>\n",
              "      <td>stable</td>\n",
              "      <td>stable</td>\n",
              "      <td>15</td>\n",
              "      <td>A</td>\n",
              "    </tr>\n",
              "    <tr>\n",
              "      <th>88</th>\n",
              "      <td>mid</td>\n",
              "      <td>mid</td>\n",
              "      <td>excellent</td>\n",
              "      <td>mid</td>\n",
              "      <td>unstable</td>\n",
              "      <td>stable</td>\n",
              "      <td>stable</td>\n",
              "      <td>10</td>\n",
              "      <td>A</td>\n",
              "    </tr>\n",
              "    <tr>\n",
              "      <th>89</th>\n",
              "      <td>mid</td>\n",
              "      <td>mid</td>\n",
              "      <td>good</td>\n",
              "      <td>mid</td>\n",
              "      <td>unstable</td>\n",
              "      <td>stable</td>\n",
              "      <td>stable</td>\n",
              "      <td>15</td>\n",
              "      <td>S</td>\n",
              "    </tr>\n",
              "  </tbody>\n",
              "</table>\n",
              "<p>87 rows × 9 columns</p>\n",
              "</div>"
            ],
            "text/plain": [
              "   L-CORE L-SURF       L-O2  L-BP  ... CORE-STBL     BP-STBL COMFORT ADM-DECS\n",
              "0     mid    low  excellent   mid  ...    stable      stable      15        A\n",
              "1     mid   high  excellent  high  ...    stable      stable      10        S\n",
              "2    high    low  excellent  high  ...    stable  mod-stable      10        A\n",
              "3     mid    low       good  high  ...  unstable  mod-stable      15       A \n",
              "4     mid    mid  excellent  high  ...    stable      stable      10        A\n",
              "..    ...    ...        ...   ...  ...       ...         ...     ...      ...\n",
              "85    mid    mid  excellent   mid  ...    stable      stable      10        A\n",
              "86    mid    mid  excellent   mid  ...    stable      stable      15        S\n",
              "87    mid    mid       good   mid  ...    stable      stable      15        A\n",
              "88    mid    mid  excellent   mid  ...    stable      stable      10        A\n",
              "89    mid    mid       good   mid  ...    stable      stable      15        S\n",
              "\n",
              "[87 rows x 9 columns]"
            ]
          },
          "metadata": {
            "tags": []
          },
          "execution_count": 19
        }
      ]
    },
    {
      "cell_type": "code",
      "metadata": {
        "id": "nZIRys7ASW06"
      },
      "source": [
        "# Standardized data"
      ],
      "execution_count": null,
      "outputs": []
    },
    {
      "cell_type": "code",
      "metadata": {
        "colab": {
          "base_uri": "https://localhost:8080/"
        },
        "id": "u56-YK7rSY7j",
        "outputId": "4ae1cf1a-1ced-4ebb-bfc0-83e71de651ea"
      },
      "source": [
        "X = dataframe1.values[:,:-1]\n",
        "y = dataframe1.values[:,-1]\n",
        "print(X)\n",
        "print(y)"
      ],
      "execution_count": null,
      "outputs": [
        {
          "output_type": "stream",
          "text": [
            "[['mid' 'low' 'excellent' 'mid' 'stable' 'stable' 'stable' '15']\n",
            " ['mid' 'high' 'excellent' 'high' 'stable' 'stable' 'stable' '10']\n",
            " ['high' 'low' 'excellent' 'high' 'stable' 'stable' 'mod-stable' '10']\n",
            " ['mid' 'low' 'good' 'high' 'stable' 'unstable' 'mod-stable' '15']\n",
            " ['mid' 'mid' 'excellent' 'high' 'stable' 'stable' 'stable' '10']\n",
            " ['high' 'low' 'good' 'mid' 'stable' 'stable' 'unstable' '15']\n",
            " ['mid' 'low' 'excellent' 'high' 'stable' 'stable' 'mod-stable' '05']\n",
            " ['high' 'mid' 'excellent' 'mid' 'unstable' 'unstable' 'stable' '10']\n",
            " ['mid' 'high' 'good' 'mid' 'stable' 'stable' 'stable' '10']\n",
            " ['mid' 'low' 'excellent' 'mid' 'unstable' 'stable' 'mod-stable' '10']\n",
            " ['mid' 'mid' 'good' 'mid' 'stable' 'stable' 'stable' '15']\n",
            " ['mid' 'low' 'good' 'high' 'stable' 'stable' 'mod-stable' '10']\n",
            " ['high' 'high' 'excellent' 'high' 'unstable' 'stable' 'unstable' '15']\n",
            " ['mid' 'high' 'good' 'mid' 'unstable' 'stable' 'mod-stable' '10']\n",
            " ['mid' 'low' 'good' 'high' 'unstable' 'unstable' 'stable' '15']\n",
            " ['high' 'high' 'excellent' 'high' 'unstable' 'stable' 'unstable' '10']\n",
            " ['low' 'high' 'good' 'high' 'unstable' 'stable' 'mod-stable' '15']\n",
            " ['mid' 'low' 'good' 'high' 'unstable' 'stable' 'stable' '10']\n",
            " ['mid' 'high' 'good' 'mid' 'unstable' 'stable' 'unstable' '15']\n",
            " ['mid' 'mid' 'good' 'mid' 'stable' 'stable' 'stable' '10']\n",
            " ['low' 'high' 'good' 'mid' 'unstable' 'stable' 'stable' '15']\n",
            " ['low' 'mid' 'excellent' 'high' 'unstable' 'stable' 'unstable' '10']\n",
            " ['mid' 'mid' 'good' 'mid' 'unstable' 'stable' 'unstable' '15']\n",
            " ['mid' 'mid' 'good' 'mid' 'unstable' 'stable' 'stable' '10']\n",
            " ['high' 'high' 'good' 'mid' 'stable' 'stable' 'mod-stable' '10']\n",
            " ['low' 'mid' 'good' 'mid' 'unstable' 'stable' 'stable' '10']\n",
            " ['high' 'mid' 'good' 'low' 'stable' 'stable' 'mod-stable' '10']\n",
            " ['low' 'mid' 'excellent' 'high' 'stable' 'stable' 'mod-stable' '10']\n",
            " ['mid' 'mid' 'excellent' 'mid' 'stable' 'stable' 'unstable' '15']\n",
            " ['mid' 'mid' 'good' 'mid' 'unstable' 'stable' 'unstable' '10']\n",
            " ['mid' 'mid' 'good' 'high' 'unstable' 'stable' 'stable' '10']\n",
            " ['low' 'low' 'good' 'mid' 'unstable' 'stable' 'unstable' '10']\n",
            " ['mid' 'mid' 'excellent' 'high' 'unstable' 'stable' 'mod-stable' '10']\n",
            " ['mid' 'low' 'good' 'mid' 'stable' 'stable' 'stable' '10']\n",
            " ['low' 'mid' 'excellent' 'high' 'stable' 'stable' 'mod-stable' '10']\n",
            " ['mid' 'mid' 'good' 'mid' 'stable' 'stable' 'stable' '10']\n",
            " ['low' 'mid' 'excellent' 'mid' 'stable' 'stable' 'stable' '10']\n",
            " ['low' 'low' 'good' 'mid' 'unstable' 'stable' 'unstable' '10']\n",
            " ['low' 'low' 'good' 'mid' 'stable' 'stable' 'stable' '07']\n",
            " ['mid' 'mid' 'good' 'high' 'unstable' 'stable' 'mod-stable' '10']\n",
            " ['low' 'low' 'good' 'mid' 'unstable' 'stable' 'stable' '10']\n",
            " ['low' 'mid' 'good' 'mid' 'stable' 'stable' 'stable' '15']\n",
            " ['high' 'high' 'good' 'high' 'unstable' 'stable' 'stable' '15']\n",
            " ['mid' 'mid' 'good' 'mid' 'stable' 'stable' 'stable' '10']\n",
            " ['low' 'low' 'excellent' 'mid' 'stable' 'stable' 'stable' '10']\n",
            " ['low' 'mid' 'good' 'mid' 'unstable' 'stable' 'stable' '10']\n",
            " ['mid' 'mid' 'excellent' 'mid' 'unstable' 'stable' 'stable' '10']\n",
            " ['mid' 'high' 'good' 'low' 'unstable' 'stable' 'stable' '10']\n",
            " ['mid' 'high' 'good' 'mid' 'unstable' 'mod-stable' 'mod-stable' '10']\n",
            " ['low' 'high' 'excellent' 'mid' 'unstable' 'stable' 'stable' '10']\n",
            " ['mid' 'low' 'excellent' 'high' 'unstable' 'stable' 'unstable' '10']\n",
            " ['mid' 'mid' 'good' 'mid' 'unstable' 'stable' 'mod-stable' '10']\n",
            " ['high' 'high' 'excellent' 'mid' 'unstable' 'stable' 'mod-stable' '10']\n",
            " ['mid' 'mid' 'good' 'mid' 'unstable' 'stable' 'stable' '15']\n",
            " ['high' 'mid' 'good' 'high' 'stable' 'stable' 'unstable' '15']\n",
            " ['mid' 'low' 'good' 'high' 'unstable' 'stable' 'mod-stable' '10']\n",
            " ['low' 'low' 'good' 'high' 'stable' 'stable' 'stable' '10']\n",
            " ['mid' 'high' 'good' 'mid' 'stable' 'stable' 'mod-stable' '10']\n",
            " ['mid' 'high' 'good' 'mid' 'unstable' 'stable' 'unstable' '10']\n",
            " ['mid' 'low' 'excellent' 'high' 'stable' 'stable' 'stable' '10']\n",
            " ['mid' 'mid' 'good' 'mid' 'stable' 'stable' 'unstable' '10']\n",
            " ['mid' 'low' 'excellent' 'mid' 'stable' 'stable' 'unstable' '10']\n",
            " ['high' 'mid' 'excellent' 'mid' 'unstable' 'unstable' 'unstable' '10']\n",
            " ['mid' 'mid' 'good' 'high' 'stable' 'stable' 'stable' '10']\n",
            " ['mid' 'low' 'excellent' 'mid' 'unstable' 'stable' 'stable' '10']\n",
            " ['mid' 'mid' 'excellent' 'mid' 'unstable' 'stable' 'stable' '10']\n",
            " ['mid' 'mid' 'excellent' 'high' 'stable' 'stable' 'stable' '10']\n",
            " ['mid' 'mid' 'excellent' 'low' 'stable' 'stable' 'stable' '10']\n",
            " ['low' 'low' 'excellent' 'mid' 'stable' 'stable' 'stable' '10']\n",
            " ['mid' 'mid' 'excellent' 'mid' 'stable' 'stable' 'mod-stable' '10']\n",
            " ['mid' 'mid' 'excellent' 'high' 'stable' 'stable' 'stable' '10']\n",
            " ['mid' 'low' 'excellent' 'high' 'stable' 'stable' 'mod-stable' '10']\n",
            " ['low' 'mid' 'good' 'mid' 'stable' 'stable' 'unstable' '10']\n",
            " ['mid' 'mid' 'excellent' 'mid' 'stable' 'stable' 'mod-stable' '10']\n",
            " ['mid' 'mid' 'excellent' 'mid' 'stable' 'stable' 'unstable' '10']\n",
            " ['mid' 'mid' 'excellent' 'mid' 'unstable' 'unstable' 'stable' '10']\n",
            " ['mid' 'mid' 'good' 'high' 'stable' 'stable' 'stable' '10']\n",
            " ['mid' 'mid' 'excellent' 'mid' 'stable' 'stable' 'stable' '15']\n",
            " ['mid' 'mid' 'excellent' 'mid' 'stable' 'stable' 'stable' '10']\n",
            " ['mid' 'low' 'good' 'mid' 'stable' 'stable' 'unstable' '10']\n",
            " ['high' 'mid' 'excellent' 'mid' 'unstable' 'stable' 'unstable' '05']\n",
            " ['mid' 'mid' 'excellent' 'mid' 'stable' 'stable' 'unstable' '10']\n",
            " ['mid' 'mid' 'excellent' 'mid' 'unstable' 'stable' 'stable' '10']\n",
            " ['mid' 'mid' 'excellent' 'mid' 'unstable' 'stable' 'stable' '15']\n",
            " ['mid' 'mid' 'good' 'mid' 'unstable' 'stable' 'stable' '15']\n",
            " ['mid' 'mid' 'excellent' 'mid' 'unstable' 'stable' 'stable' '10']\n",
            " ['mid' 'mid' 'good' 'mid' 'unstable' 'stable' 'stable' '15']]\n",
            "['A' 'S' 'A' 'A ' 'A' 'S' 'S' 'S' 'S' 'S' 'A' 'A' 'A' 'A' 'S' 'A' 'A' 'A'\n",
            " 'A' 'A' 'A' 'S' 'A' 'A' 'A' 'A' 'A' 'A' 'A' 'S' 'A' 'A' 'A' 'A' 'A' 'A'\n",
            " 'S' 'S' 'S' 'A' 'A' 'S' 'S' 'S' 'A' 'S' 'A' 'A' 'A' 'A' 'A' 'S' 'A' 'A'\n",
            " 'A' 'A' 'A' 'A' 'A' 'A' 'A' 'S' 'A' 'S' 'A' 'A' 'A' 'A' 'A' 'S' 'A' 'A'\n",
            " 'A' 'A' 'A' 'S' 'A' 'A' 'S' 'I' 'A' 'A' 'A' 'S' 'A' 'A' 'S']\n"
          ],
          "name": "stdout"
        }
      ]
    },
    {
      "cell_type": "code",
      "metadata": {
        "colab": {
          "base_uri": "https://localhost:8080/"
        },
        "id": "eNlk6RkUShm-",
        "outputId": "20f9813e-b395-4271-9d03-cc451ab5e0e8"
      },
      "source": [
        "from sklearn.preprocessing import LabelEncoder\n",
        "encoder = LabelEncoder()\n",
        "for i in range(X.shape[1]):\n",
        "    X[:,i] = encoder.fit_transform(X[:,i])\n",
        "print(X)"
      ],
      "execution_count": null,
      "outputs": [
        {
          "output_type": "stream",
          "text": [
            "[[2 1 0 2 0 1 1 3]\n",
            " [2 0 0 0 0 1 1 2]\n",
            " [0 1 0 0 0 1 0 2]\n",
            " [2 1 1 0 0 2 0 3]\n",
            " [2 2 0 0 0 1 1 2]\n",
            " [0 1 1 2 0 1 2 3]\n",
            " [2 1 0 0 0 1 0 0]\n",
            " [0 2 0 2 1 2 1 2]\n",
            " [2 0 1 2 0 1 1 2]\n",
            " [2 1 0 2 1 1 0 2]\n",
            " [2 2 1 2 0 1 1 3]\n",
            " [2 1 1 0 0 1 0 2]\n",
            " [0 0 0 0 1 1 2 3]\n",
            " [2 0 1 2 1 1 0 2]\n",
            " [2 1 1 0 1 2 1 3]\n",
            " [0 0 0 0 1 1 2 2]\n",
            " [1 0 1 0 1 1 0 3]\n",
            " [2 1 1 0 1 1 1 2]\n",
            " [2 0 1 2 1 1 2 3]\n",
            " [2 2 1 2 0 1 1 2]\n",
            " [1 0 1 2 1 1 1 3]\n",
            " [1 2 0 0 1 1 2 2]\n",
            " [2 2 1 2 1 1 2 3]\n",
            " [2 2 1 2 1 1 1 2]\n",
            " [0 0 1 2 0 1 0 2]\n",
            " [1 2 1 2 1 1 1 2]\n",
            " [0 2 1 1 0 1 0 2]\n",
            " [1 2 0 0 0 1 0 2]\n",
            " [2 2 0 2 0 1 2 3]\n",
            " [2 2 1 2 1 1 2 2]\n",
            " [2 2 1 0 1 1 1 2]\n",
            " [1 1 1 2 1 1 2 2]\n",
            " [2 2 0 0 1 1 0 2]\n",
            " [2 1 1 2 0 1 1 2]\n",
            " [1 2 0 0 0 1 0 2]\n",
            " [2 2 1 2 0 1 1 2]\n",
            " [1 2 0 2 0 1 1 2]\n",
            " [1 1 1 2 1 1 2 2]\n",
            " [1 1 1 2 0 1 1 1]\n",
            " [2 2 1 0 1 1 0 2]\n",
            " [1 1 1 2 1 1 1 2]\n",
            " [1 2 1 2 0 1 1 3]\n",
            " [0 0 1 0 1 1 1 3]\n",
            " [2 2 1 2 0 1 1 2]\n",
            " [1 1 0 2 0 1 1 2]\n",
            " [1 2 1 2 1 1 1 2]\n",
            " [2 2 0 2 1 1 1 2]\n",
            " [2 0 1 1 1 1 1 2]\n",
            " [2 0 1 2 1 0 0 2]\n",
            " [1 0 0 2 1 1 1 2]\n",
            " [2 1 0 0 1 1 2 2]\n",
            " [2 2 1 2 1 1 0 2]\n",
            " [0 0 0 2 1 1 0 2]\n",
            " [2 2 1 2 1 1 1 3]\n",
            " [0 2 1 0 0 1 2 3]\n",
            " [2 1 1 0 1 1 0 2]\n",
            " [1 1 1 0 0 1 1 2]\n",
            " [2 0 1 2 0 1 0 2]\n",
            " [2 0 1 2 1 1 2 2]\n",
            " [2 1 0 0 0 1 1 2]\n",
            " [2 2 1 2 0 1 2 2]\n",
            " [2 1 0 2 0 1 2 2]\n",
            " [0 2 0 2 1 2 2 2]\n",
            " [2 2 1 0 0 1 1 2]\n",
            " [2 1 0 2 1 1 1 2]\n",
            " [2 2 0 2 1 1 1 2]\n",
            " [2 2 0 0 0 1 1 2]\n",
            " [2 2 0 1 0 1 1 2]\n",
            " [1 1 0 2 0 1 1 2]\n",
            " [2 2 0 2 0 1 0 2]\n",
            " [2 2 0 0 0 1 1 2]\n",
            " [2 1 0 0 0 1 0 2]\n",
            " [1 2 1 2 0 1 2 2]\n",
            " [2 2 0 2 0 1 0 2]\n",
            " [2 2 0 2 0 1 2 2]\n",
            " [2 2 0 2 1 2 1 2]\n",
            " [2 2 1 0 0 1 1 2]\n",
            " [2 2 0 2 0 1 1 3]\n",
            " [2 2 0 2 0 1 1 2]\n",
            " [2 1 1 2 0 1 2 2]\n",
            " [0 2 0 2 1 1 2 0]\n",
            " [2 2 0 2 0 1 2 2]\n",
            " [2 2 0 2 1 1 1 2]\n",
            " [2 2 0 2 1 1 1 3]\n",
            " [2 2 1 2 1 1 1 3]\n",
            " [2 2 0 2 1 1 1 2]\n",
            " [2 2 1 2 1 1 1 3]]\n"
          ],
          "name": "stdout"
        }
      ]
    },
    {
      "cell_type": "code",
      "metadata": {
        "id": "EjdaK1HkSkiM"
      },
      "source": [
        "X_train_Nb = X[:60,:]\n",
        "y_train_Nb = y[:60]\n",
        "X_test_Nb = X[60:,:]\n",
        "y_test_Nb = y[60:]"
      ],
      "execution_count": null,
      "outputs": []
    },
    {
      "cell_type": "code",
      "metadata": {
        "colab": {
          "base_uri": "https://localhost:8080/"
        },
        "id": "izgpu_4CS4Oe",
        "outputId": "fc657a68-7d4a-40b3-c566-5be18456c3c5"
      },
      "source": [
        "from sklearn.naive_bayes import MultinomialNB\n",
        "model_MulNB = MultinomialNB()\n",
        "model_MulNB.fit(X_train_Nb,y_train_Nb)"
      ],
      "execution_count": null,
      "outputs": [
        {
          "output_type": "execute_result",
          "data": {
            "text/plain": [
              "MultinomialNB(alpha=1.0, class_prior=None, fit_prior=True)"
            ]
          },
          "metadata": {
            "tags": []
          },
          "execution_count": 23
        }
      ]
    },
    {
      "cell_type": "code",
      "metadata": {
        "colab": {
          "base_uri": "https://localhost:8080/"
        },
        "id": "bS-0R2TCS6Z5",
        "outputId": "5ffd6b7d-9519-41b6-ad1d-fe23c8cbe23d"
      },
      "source": [
        "y_pred_MulNb = model_MulNB.predict(X_test_Nb)\n",
        "print(y_pred_MulNb)\n",
        "print(y_test_Nb)"
      ],
      "execution_count": null,
      "outputs": [
        {
          "output_type": "stream",
          "text": [
            "['A' 'A' 'A' 'A' 'A' 'A' 'A' 'A' 'A' 'A' 'A' 'A' 'A' 'A' 'A' 'A' 'A' 'A'\n",
            " 'A' 'A' 'A' 'A' 'A' 'A' 'A' 'A' 'A']\n",
            "['A' 'S' 'A' 'S' 'A' 'A' 'A' 'A' 'A' 'S' 'A' 'A' 'A' 'A' 'A' 'S' 'A' 'A'\n",
            " 'S' 'I' 'A' 'A' 'A' 'S' 'A' 'A' 'S']\n"
          ],
          "name": "stdout"
        }
      ]
    },
    {
      "cell_type": "code",
      "metadata": {
        "colab": {
          "base_uri": "https://localhost:8080/"
        },
        "id": "ITYUKXD9S-p5",
        "outputId": "aac71439-b75d-45ac-919e-869e849b2634"
      },
      "source": [
        "from sklearn.naive_bayes import GaussianNB\n",
        "model_GauNB = GaussianNB()\n",
        "model_GauNB.fit(X_train_Nb,y_train_Nb)"
      ],
      "execution_count": null,
      "outputs": [
        {
          "output_type": "execute_result",
          "data": {
            "text/plain": [
              "GaussianNB(priors=None, var_smoothing=1e-09)"
            ]
          },
          "metadata": {
            "tags": []
          },
          "execution_count": 25
        }
      ]
    },
    {
      "cell_type": "code",
      "metadata": {
        "colab": {
          "base_uri": "https://localhost:8080/"
        },
        "id": "0eYYw00VTCfi",
        "outputId": "b95099a1-e617-4d70-d952-8f7274c2ce78"
      },
      "source": [
        "y_pred_GauNB = model_GauNB.predict(X_test_Nb)\n",
        "print(y_pred_GauNB)\n",
        "print(y_test_Nb)"
      ],
      "execution_count": null,
      "outputs": [
        {
          "output_type": "stream",
          "text": [
            "['A' 'A' 'S' 'A' 'A' 'A' 'A' 'A' 'A' 'A' 'A' 'A' 'A' 'A' 'A' 'S' 'A' 'A'\n",
            " 'A' 'A' 'S' 'A' 'A' 'A' 'A' 'A' 'A']\n",
            "['A' 'S' 'A' 'S' 'A' 'A' 'A' 'A' 'A' 'S' 'A' 'A' 'A' 'A' 'A' 'S' 'A' 'A'\n",
            " 'S' 'I' 'A' 'A' 'A' 'S' 'A' 'A' 'S']\n"
          ],
          "name": "stdout"
        }
      ]
    },
    {
      "cell_type": "code",
      "metadata": {
        "colab": {
          "base_uri": "https://localhost:8080/"
        },
        "id": "wc_QOwExTDcZ",
        "outputId": "dbd86138-399c-4f47-e367-0b6316a626d4"
      },
      "source": [
        "from sklearn.naive_bayes import BernoulliNB\n",
        "model_BerNB = BernoulliNB()\n",
        "model_BerNB.fit(X_train_Nb,y_train_Nb)"
      ],
      "execution_count": null,
      "outputs": [
        {
          "output_type": "execute_result",
          "data": {
            "text/plain": [
              "BernoulliNB(alpha=1.0, binarize=0.0, class_prior=None, fit_prior=True)"
            ]
          },
          "metadata": {
            "tags": []
          },
          "execution_count": 27
        }
      ]
    },
    {
      "cell_type": "code",
      "metadata": {
        "colab": {
          "base_uri": "https://localhost:8080/"
        },
        "id": "phZz06jJTFnR",
        "outputId": "5a0a75a3-13ae-4660-df7d-6c2c9e36cf53"
      },
      "source": [
        "y_pred_BerNB = model_BerNB.predict(X_test_Nb)\n",
        "print(y_pred_BerNB)\n",
        "print(y_test_Nb)"
      ],
      "execution_count": null,
      "outputs": [
        {
          "output_type": "stream",
          "text": [
            "['A' 'A' 'A' 'A' 'A' 'A' 'A' 'A' 'A' 'A' 'A' 'A' 'A' 'A' 'A' 'A' 'A' 'A'\n",
            " 'A' 'A' 'S' 'A' 'A' 'A' 'A' 'A' 'A']\n",
            "['A' 'S' 'A' 'S' 'A' 'A' 'A' 'A' 'A' 'S' 'A' 'A' 'A' 'A' 'A' 'S' 'A' 'A'\n",
            " 'S' 'I' 'A' 'A' 'A' 'S' 'A' 'A' 'S']\n"
          ],
          "name": "stdout"
        }
      ]
    },
    {
      "cell_type": "code",
      "metadata": {
        "id": "JQTixdFGTJ3c"
      },
      "source": [
        "# NB accuracy rating"
      ],
      "execution_count": null,
      "outputs": []
    },
    {
      "cell_type": "code",
      "metadata": {
        "colab": {
          "base_uri": "https://localhost:8080/"
        },
        "id": "QAObsA8mTPmj",
        "outputId": "0b1d1b03-b37f-444e-c4f7-df2a4500d9a5"
      },
      "source": [
        "from sklearn.metrics import classification_report\n",
        "print(classification_report(y_pred_MulNb,y_test_Nb))"
      ],
      "execution_count": null,
      "outputs": [
        {
          "output_type": "stream",
          "text": [
            "              precision    recall  f1-score   support\n",
            "\n",
            "           A       1.00      0.70      0.83        27\n",
            "           I       0.00      0.00      0.00         0\n",
            "           S       0.00      0.00      0.00         0\n",
            "\n",
            "    accuracy                           0.70        27\n",
            "   macro avg       0.33      0.23      0.28        27\n",
            "weighted avg       1.00      0.70      0.83        27\n",
            "\n"
          ],
          "name": "stdout"
        },
        {
          "output_type": "stream",
          "text": [
            "/usr/local/lib/python3.7/dist-packages/sklearn/metrics/_classification.py:1272: UndefinedMetricWarning: Recall and F-score are ill-defined and being set to 0.0 in labels with no true samples. Use `zero_division` parameter to control this behavior.\n",
            "  _warn_prf(average, modifier, msg_start, len(result))\n"
          ],
          "name": "stderr"
        }
      ]
    },
    {
      "cell_type": "code",
      "metadata": {
        "colab": {
          "base_uri": "https://localhost:8080/"
        },
        "id": "G25ASv9jTVjp",
        "outputId": "dc9877c6-f02a-4cb8-95e0-9ab1cd474c6c"
      },
      "source": [
        "from sklearn.metrics import classification_report\n",
        "print(classification_report(y_pred_GauNB,y_test_Nb))\n"
      ],
      "execution_count": null,
      "outputs": [
        {
          "output_type": "stream",
          "text": [
            "              precision    recall  f1-score   support\n",
            "\n",
            "           A       0.89      0.71      0.79        24\n",
            "           I       0.00      0.00      0.00         0\n",
            "           S       0.14      0.33      0.20         3\n",
            "\n",
            "    accuracy                           0.67        27\n",
            "   macro avg       0.35      0.35      0.33        27\n",
            "weighted avg       0.81      0.67      0.73        27\n",
            "\n"
          ],
          "name": "stdout"
        },
        {
          "output_type": "stream",
          "text": [
            "/usr/local/lib/python3.7/dist-packages/sklearn/metrics/_classification.py:1272: UndefinedMetricWarning: Recall and F-score are ill-defined and being set to 0.0 in labels with no true samples. Use `zero_division` parameter to control this behavior.\n",
            "  _warn_prf(average, modifier, msg_start, len(result))\n"
          ],
          "name": "stderr"
        }
      ]
    },
    {
      "cell_type": "code",
      "metadata": {
        "colab": {
          "base_uri": "https://localhost:8080/"
        },
        "id": "mZHaR0yCTXwm",
        "outputId": "67123035-0f3e-463e-ee9f-3e33493efc72"
      },
      "source": [
        "from sklearn.metrics import classification_report\n",
        "print(classification_report(y_pred_BerNB,y_test_Nb))"
      ],
      "execution_count": null,
      "outputs": [
        {
          "output_type": "stream",
          "text": [
            "              precision    recall  f1-score   support\n",
            "\n",
            "           A       0.95      0.69      0.80        26\n",
            "           I       0.00      0.00      0.00         0\n",
            "           S       0.00      0.00      0.00         1\n",
            "\n",
            "    accuracy                           0.67        27\n",
            "   macro avg       0.32      0.23      0.27        27\n",
            "weighted avg       0.91      0.67      0.77        27\n",
            "\n"
          ],
          "name": "stdout"
        },
        {
          "output_type": "stream",
          "text": [
            "/usr/local/lib/python3.7/dist-packages/sklearn/metrics/_classification.py:1272: UndefinedMetricWarning: Recall and F-score are ill-defined and being set to 0.0 in labels with no true samples. Use `zero_division` parameter to control this behavior.\n",
            "  _warn_prf(average, modifier, msg_start, len(result))\n"
          ],
          "name": "stderr"
        }
      ]
    }
  ]
}