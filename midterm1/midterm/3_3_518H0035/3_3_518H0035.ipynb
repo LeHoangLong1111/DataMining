{
  "nbformat": 4,
  "nbformat_minor": 0,
  "metadata": {
    "kernelspec": {
      "display_name": "Python 3",
      "language": "python",
      "name": "python3"
    },
    "language_info": {
      "codemirror_mode": {
        "name": "ipython",
        "version": 3
      },
      "file_extension": ".py",
      "mimetype": "text/x-python",
      "name": "python",
      "nbconvert_exporter": "python",
      "pygments_lexer": "ipython3",
      "version": "3.8.5"
    },
    "colab": {
      "name": "demo_(1).ipynb",
      "provenance": [],
      "collapsed_sections": [],
      "toc_visible": true
    }
  },
  "cells": [
    {
      "cell_type": "markdown",
      "metadata": {
        "id": "BUY6bPpJ2dHC"
      },
      "source": [
        "# SMS Spam Detection\n",
        "    \n",
        "    The SMS Spam Collection is a set of SMS tagged messages that have been collected for SMS Spam research. It contains one set of SMS messages in English of 5,574 messages, tagged acording being ham (legitimate) or spam.\n",
        "\n",
        "    Acknowledgements\n",
        "\n",
        "    The original dataset can be found in https://archive.ics.uci.edu/ml/datasets/SMS+Spam+Collection. The creators would like to note that in case you find the dataset useful, please make a reference to previous paper and the web page: http://www.dt.fee.unicamp.br/~tiago/smsspamcollection/ in your papers, research, etc.\n",
        "\n",
        "\n",
        "### 1. Import Packages"
      ]
    },
    {
      "cell_type": "code",
      "metadata": {
        "id": "n23C7w6O2dHF"
      },
      "source": [
        "import warnings\n",
        "warnings.filterwarnings('ignore')\n",
        "import pandas as pd\n",
        "import numpy as np\n",
        "import seaborn as sns\n",
        "import matplotlib as mpl\n",
        "import matplotlib.pyplot as plt\n",
        "%matplotlib inline"
      ],
      "execution_count": 2,
      "outputs": []
    },
    {
      "cell_type": "markdown",
      "metadata": {
        "id": "Cd3NjmiI2dHG"
      },
      "source": [
        "### 2. Dataset Loading and Data Preprocessing\n",
        "#### 2.1. Read dataset using pandas"
      ]
    },
    {
      "cell_type": "code",
      "metadata": {
        "colab": {
          "base_uri": "https://localhost:8080/",
          "height": 204
        },
        "id": "I0hVdWnj2dHH",
        "outputId": "4257fd5d-745e-4328-f308-db30d5171e6c"
      },
      "source": [
        "# enter here\n",
        "import io\n",
        "sms = pd.read_csv('sms_spam.csv', encoding = \"ISO-8859-1\")\n",
        "sms.head()"
      ],
      "execution_count": 3,
      "outputs": [
        {
          "output_type": "execute_result",
          "data": {
            "text/html": [
              "<div>\n",
              "<style scoped>\n",
              "    .dataframe tbody tr th:only-of-type {\n",
              "        vertical-align: middle;\n",
              "    }\n",
              "\n",
              "    .dataframe tbody tr th {\n",
              "        vertical-align: top;\n",
              "    }\n",
              "\n",
              "    .dataframe thead th {\n",
              "        text-align: right;\n",
              "    }\n",
              "</style>\n",
              "<table border=\"1\" class=\"dataframe\">\n",
              "  <thead>\n",
              "    <tr style=\"text-align: right;\">\n",
              "      <th></th>\n",
              "      <th>v1</th>\n",
              "      <th>v2</th>\n",
              "      <th>Unnamed: 2</th>\n",
              "      <th>Unnamed: 3</th>\n",
              "      <th>Unnamed: 4</th>\n",
              "    </tr>\n",
              "  </thead>\n",
              "  <tbody>\n",
              "    <tr>\n",
              "      <th>0</th>\n",
              "      <td>ham</td>\n",
              "      <td>Go until jurong point, crazy.. Available only ...</td>\n",
              "      <td>NaN</td>\n",
              "      <td>NaN</td>\n",
              "      <td>NaN</td>\n",
              "    </tr>\n",
              "    <tr>\n",
              "      <th>1</th>\n",
              "      <td>ham</td>\n",
              "      <td>Ok lar... Joking wif u oni...</td>\n",
              "      <td>NaN</td>\n",
              "      <td>NaN</td>\n",
              "      <td>NaN</td>\n",
              "    </tr>\n",
              "    <tr>\n",
              "      <th>2</th>\n",
              "      <td>spam</td>\n",
              "      <td>Free entry in 2 a wkly comp to win FA Cup fina...</td>\n",
              "      <td>NaN</td>\n",
              "      <td>NaN</td>\n",
              "      <td>NaN</td>\n",
              "    </tr>\n",
              "    <tr>\n",
              "      <th>3</th>\n",
              "      <td>ham</td>\n",
              "      <td>U dun say so early hor... U c already then say...</td>\n",
              "      <td>NaN</td>\n",
              "      <td>NaN</td>\n",
              "      <td>NaN</td>\n",
              "    </tr>\n",
              "    <tr>\n",
              "      <th>4</th>\n",
              "      <td>ham</td>\n",
              "      <td>Nah I don't think he goes to usf, he lives aro...</td>\n",
              "      <td>NaN</td>\n",
              "      <td>NaN</td>\n",
              "      <td>NaN</td>\n",
              "    </tr>\n",
              "  </tbody>\n",
              "</table>\n",
              "</div>"
            ],
            "text/plain": [
              "     v1  ... Unnamed: 4\n",
              "0   ham  ...        NaN\n",
              "1   ham  ...        NaN\n",
              "2  spam  ...        NaN\n",
              "3   ham  ...        NaN\n",
              "4   ham  ...        NaN\n",
              "\n",
              "[5 rows x 5 columns]"
            ]
          },
          "metadata": {
            "tags": []
          },
          "execution_count": 3
        }
      ]
    },
    {
      "cell_type": "markdown",
      "metadata": {
        "id": "yU6mR_VU2dHI"
      },
      "source": [
        "#### 2.2. Remove redundant attributes"
      ]
    },
    {
      "cell_type": "code",
      "metadata": {
        "colab": {
          "base_uri": "https://localhost:8080/",
          "height": 204
        },
        "id": "ptJDga6o2dHJ",
        "outputId": "3c246e40-697a-4cff-d075-d36513ff41ef"
      },
      "source": [
        "# enter here\n",
        "sms = sms.dropna(axis='columns')\n",
        "sms.head()"
      ],
      "execution_count": 4,
      "outputs": [
        {
          "output_type": "execute_result",
          "data": {
            "text/html": [
              "<div>\n",
              "<style scoped>\n",
              "    .dataframe tbody tr th:only-of-type {\n",
              "        vertical-align: middle;\n",
              "    }\n",
              "\n",
              "    .dataframe tbody tr th {\n",
              "        vertical-align: top;\n",
              "    }\n",
              "\n",
              "    .dataframe thead th {\n",
              "        text-align: right;\n",
              "    }\n",
              "</style>\n",
              "<table border=\"1\" class=\"dataframe\">\n",
              "  <thead>\n",
              "    <tr style=\"text-align: right;\">\n",
              "      <th></th>\n",
              "      <th>v1</th>\n",
              "      <th>v2</th>\n",
              "    </tr>\n",
              "  </thead>\n",
              "  <tbody>\n",
              "    <tr>\n",
              "      <th>0</th>\n",
              "      <td>ham</td>\n",
              "      <td>Go until jurong point, crazy.. Available only ...</td>\n",
              "    </tr>\n",
              "    <tr>\n",
              "      <th>1</th>\n",
              "      <td>ham</td>\n",
              "      <td>Ok lar... Joking wif u oni...</td>\n",
              "    </tr>\n",
              "    <tr>\n",
              "      <th>2</th>\n",
              "      <td>spam</td>\n",
              "      <td>Free entry in 2 a wkly comp to win FA Cup fina...</td>\n",
              "    </tr>\n",
              "    <tr>\n",
              "      <th>3</th>\n",
              "      <td>ham</td>\n",
              "      <td>U dun say so early hor... U c already then say...</td>\n",
              "    </tr>\n",
              "    <tr>\n",
              "      <th>4</th>\n",
              "      <td>ham</td>\n",
              "      <td>Nah I don't think he goes to usf, he lives aro...</td>\n",
              "    </tr>\n",
              "  </tbody>\n",
              "</table>\n",
              "</div>"
            ],
            "text/plain": [
              "     v1                                                 v2\n",
              "0   ham  Go until jurong point, crazy.. Available only ...\n",
              "1   ham                      Ok lar... Joking wif u oni...\n",
              "2  spam  Free entry in 2 a wkly comp to win FA Cup fina...\n",
              "3   ham  U dun say so early hor... U c already then say...\n",
              "4   ham  Nah I don't think he goes to usf, he lives aro..."
            ]
          },
          "metadata": {
            "tags": []
          },
          "execution_count": 4
        }
      ]
    },
    {
      "cell_type": "markdown",
      "metadata": {
        "id": "LdsmA8u52dHK"
      },
      "source": [
        "#### 2.3. Rename columns\n",
        "Requires: v1 -> label, v2 -> message"
      ]
    },
    {
      "cell_type": "code",
      "metadata": {
        "colab": {
          "base_uri": "https://localhost:8080/",
          "height": 204
        },
        "id": "abHCuMmY2dHL",
        "outputId": "875ceff4-e290-4a29-aabe-9ef6b6b29ded"
      },
      "source": [
        "# enter here\n",
        "sms.columns = ['label', 'message']\n",
        "\n",
        "sms.head()"
      ],
      "execution_count": 5,
      "outputs": [
        {
          "output_type": "execute_result",
          "data": {
            "text/html": [
              "<div>\n",
              "<style scoped>\n",
              "    .dataframe tbody tr th:only-of-type {\n",
              "        vertical-align: middle;\n",
              "    }\n",
              "\n",
              "    .dataframe tbody tr th {\n",
              "        vertical-align: top;\n",
              "    }\n",
              "\n",
              "    .dataframe thead th {\n",
              "        text-align: right;\n",
              "    }\n",
              "</style>\n",
              "<table border=\"1\" class=\"dataframe\">\n",
              "  <thead>\n",
              "    <tr style=\"text-align: right;\">\n",
              "      <th></th>\n",
              "      <th>label</th>\n",
              "      <th>message</th>\n",
              "    </tr>\n",
              "  </thead>\n",
              "  <tbody>\n",
              "    <tr>\n",
              "      <th>0</th>\n",
              "      <td>ham</td>\n",
              "      <td>Go until jurong point, crazy.. Available only ...</td>\n",
              "    </tr>\n",
              "    <tr>\n",
              "      <th>1</th>\n",
              "      <td>ham</td>\n",
              "      <td>Ok lar... Joking wif u oni...</td>\n",
              "    </tr>\n",
              "    <tr>\n",
              "      <th>2</th>\n",
              "      <td>spam</td>\n",
              "      <td>Free entry in 2 a wkly comp to win FA Cup fina...</td>\n",
              "    </tr>\n",
              "    <tr>\n",
              "      <th>3</th>\n",
              "      <td>ham</td>\n",
              "      <td>U dun say so early hor... U c already then say...</td>\n",
              "    </tr>\n",
              "    <tr>\n",
              "      <th>4</th>\n",
              "      <td>ham</td>\n",
              "      <td>Nah I don't think he goes to usf, he lives aro...</td>\n",
              "    </tr>\n",
              "  </tbody>\n",
              "</table>\n",
              "</div>"
            ],
            "text/plain": [
              "  label                                            message\n",
              "0   ham  Go until jurong point, crazy.. Available only ...\n",
              "1   ham                      Ok lar... Joking wif u oni...\n",
              "2  spam  Free entry in 2 a wkly comp to win FA Cup fina...\n",
              "3   ham  U dun say so early hor... U c already then say...\n",
              "4   ham  Nah I don't think he goes to usf, he lives aro..."
            ]
          },
          "metadata": {
            "tags": []
          },
          "execution_count": 5
        }
      ]
    },
    {
      "cell_type": "markdown",
      "metadata": {
        "id": "iNzPfuKN2dHM"
      },
      "source": [
        "#### 2.4. Modify columns\n",
        "Requires: change ham to 0, and spam to 1 in Label Attribute."
      ]
    },
    {
      "cell_type": "code",
      "metadata": {
        "id": "VbmKF8XQ2dHN",
        "colab": {
          "base_uri": "https://localhost:8080/",
          "height": 301
        },
        "outputId": "ffaf0db7-1450-4658-8e26-c7a52115df35"
      },
      "source": [
        "# enter here\n",
        "sms['label'].value_counts().plot(kind='bar')\n",
        "# sms['label']\n",
        "# sms.head()"
      ],
      "execution_count": 6,
      "outputs": [
        {
          "output_type": "execute_result",
          "data": {
            "text/plain": [
              "<matplotlib.axes._subplots.AxesSubplot at 0x7eff327a2350>"
            ]
          },
          "metadata": {
            "tags": []
          },
          "execution_count": 6
        },
        {
          "output_type": "display_data",
          "data": {
            "image/png": "[encoded data removed]",
            "text/plain": [
              "<Figure size 432x288 with 1 Axes>"
            ]
          },
          "metadata": {
            "tags": [],
            "needs_background": "light"
          }
        }
      ]
    },
    {
      "cell_type": "code",
      "metadata": {
        "colab": {
          "base_uri": "https://localhost:8080/",
          "height": 204
        },
        "id": "L4sbggDAIbh-",
        "outputId": "4c66b3cc-3317-4a3b-d562-1890b0d376ed"
      },
      "source": [
        "sms = sms.replace(['ham', 'spam'], [0,1])\n",
        "sms.head()"
      ],
      "execution_count": 7,
      "outputs": [
        {
          "output_type": "execute_result",
          "data": {
            "text/html": [
              "<div>\n",
              "<style scoped>\n",
              "    .dataframe tbody tr th:only-of-type {\n",
              "        vertical-align: middle;\n",
              "    }\n",
              "\n",
              "    .dataframe tbody tr th {\n",
              "        vertical-align: top;\n",
              "    }\n",
              "\n",
              "    .dataframe thead th {\n",
              "        text-align: right;\n",
              "    }\n",
              "</style>\n",
              "<table border=\"1\" class=\"dataframe\">\n",
              "  <thead>\n",
              "    <tr style=\"text-align: right;\">\n",
              "      <th></th>\n",
              "      <th>label</th>\n",
              "      <th>message</th>\n",
              "    </tr>\n",
              "  </thead>\n",
              "  <tbody>\n",
              "    <tr>\n",
              "      <th>0</th>\n",
              "      <td>0</td>\n",
              "      <td>Go until jurong point, crazy.. Available only ...</td>\n",
              "    </tr>\n",
              "    <tr>\n",
              "      <th>1</th>\n",
              "      <td>0</td>\n",
              "      <td>Ok lar... Joking wif u oni...</td>\n",
              "    </tr>\n",
              "    <tr>\n",
              "      <th>2</th>\n",
              "      <td>1</td>\n",
              "      <td>Free entry in 2 a wkly comp to win FA Cup fina...</td>\n",
              "    </tr>\n",
              "    <tr>\n",
              "      <th>3</th>\n",
              "      <td>0</td>\n",
              "      <td>U dun say so early hor... U c already then say...</td>\n",
              "    </tr>\n",
              "    <tr>\n",
              "      <th>4</th>\n",
              "      <td>0</td>\n",
              "      <td>Nah I don't think he goes to usf, he lives aro...</td>\n",
              "    </tr>\n",
              "  </tbody>\n",
              "</table>\n",
              "</div>"
            ],
            "text/plain": [
              "   label                                            message\n",
              "0      0  Go until jurong point, crazy.. Available only ...\n",
              "1      0                      Ok lar... Joking wif u oni...\n",
              "2      1  Free entry in 2 a wkly comp to win FA Cup fina...\n",
              "3      0  U dun say so early hor... U c already then say...\n",
              "4      0  Nah I don't think he goes to usf, he lives aro..."
            ]
          },
          "metadata": {
            "tags": []
          },
          "execution_count": 7
        }
      ]
    },
    {
      "cell_type": "markdown",
      "metadata": {
        "id": "exhxVOGT2dHN"
      },
      "source": [
        "#### 2.5. Add new column\n",
        "Requires: Add message_len Attribute that is the length of the message."
      ]
    },
    {
      "cell_type": "code",
      "metadata": {
        "id": "FIJg_bLi2dHO",
        "colab": {
          "base_uri": "https://localhost:8080/"
        },
        "outputId": "1a6f4f18-727c-497d-a5c2-b0dbe516bace"
      },
      "source": [
        "# enter here\n",
        "print(\"Count message num: \")\n",
        "sms['message'].isnull().sum()\n",
        "# sms.head()"
      ],
      "execution_count": 8,
      "outputs": [
        {
          "output_type": "stream",
          "text": [
            "Count message num: \n"
          ],
          "name": "stdout"
        },
        {
          "output_type": "execute_result",
          "data": {
            "text/plain": [
              "0"
            ]
          },
          "metadata": {
            "tags": []
          },
          "execution_count": 8
        }
      ]
    },
    {
      "cell_type": "code",
      "metadata": {
        "colab": {
          "base_uri": "https://localhost:8080/",
          "height": 204
        },
        "id": "A_YoxAyLJSkg",
        "outputId": "03deb3f7-95fe-445d-ac89-df8939345b18"
      },
      "source": [
        "length=[]\n",
        "for row in sms['message']:\n",
        "  length.append(len(row))\n",
        "sms['length']=length\n",
        "sms1=sms\n",
        "sms.head()"
      ],
      "execution_count": 9,
      "outputs": [
        {
          "output_type": "execute_result",
          "data": {
            "text/html": [
              "<div>\n",
              "<style scoped>\n",
              "    .dataframe tbody tr th:only-of-type {\n",
              "        vertical-align: middle;\n",
              "    }\n",
              "\n",
              "    .dataframe tbody tr th {\n",
              "        vertical-align: top;\n",
              "    }\n",
              "\n",
              "    .dataframe thead th {\n",
              "        text-align: right;\n",
              "    }\n",
              "</style>\n",
              "<table border=\"1\" class=\"dataframe\">\n",
              "  <thead>\n",
              "    <tr style=\"text-align: right;\">\n",
              "      <th></th>\n",
              "      <th>label</th>\n",
              "      <th>message</th>\n",
              "      <th>length</th>\n",
              "    </tr>\n",
              "  </thead>\n",
              "  <tbody>\n",
              "    <tr>\n",
              "      <th>0</th>\n",
              "      <td>0</td>\n",
              "      <td>Go until jurong point, crazy.. Available only ...</td>\n",
              "      <td>111</td>\n",
              "    </tr>\n",
              "    <tr>\n",
              "      <th>1</th>\n",
              "      <td>0</td>\n",
              "      <td>Ok lar... Joking wif u oni...</td>\n",
              "      <td>29</td>\n",
              "    </tr>\n",
              "    <tr>\n",
              "      <th>2</th>\n",
              "      <td>1</td>\n",
              "      <td>Free entry in 2 a wkly comp to win FA Cup fina...</td>\n",
              "      <td>155</td>\n",
              "    </tr>\n",
              "    <tr>\n",
              "      <th>3</th>\n",
              "      <td>0</td>\n",
              "      <td>U dun say so early hor... U c already then say...</td>\n",
              "      <td>49</td>\n",
              "    </tr>\n",
              "    <tr>\n",
              "      <th>4</th>\n",
              "      <td>0</td>\n",
              "      <td>Nah I don't think he goes to usf, he lives aro...</td>\n",
              "      <td>61</td>\n",
              "    </tr>\n",
              "  </tbody>\n",
              "</table>\n",
              "</div>"
            ],
            "text/plain": [
              "   label                                            message  length\n",
              "0      0  Go until jurong point, crazy.. Available only ...     111\n",
              "1      0                      Ok lar... Joking wif u oni...      29\n",
              "2      1  Free entry in 2 a wkly comp to win FA Cup fina...     155\n",
              "3      0  U dun say so early hor... U c already then say...      49\n",
              "4      0  Nah I don't think he goes to usf, he lives aro...      61"
            ]
          },
          "metadata": {
            "tags": []
          },
          "execution_count": 9
        }
      ]
    },
    {
      "cell_type": "markdown",
      "metadata": {
        "id": "n6qczU-92dHO"
      },
      "source": [
        "#### 2.6. Histogram graph"
      ]
    },
    {
      "cell_type": "code",
      "metadata": {
        "id": "Jg1SZMNW2dHP",
        "colab": {
          "base_uri": "https://localhost:8080/",
          "height": 296
        },
        "outputId": "a8cb0944-4194-4c61-8dc2-3a0ae3a7242d"
      },
      "source": [
        "# enter here\n",
        "\n",
        "\n",
        "sns.histplot(data=sms[sms['label']==0].length, kde=False, label='Ham messages',color='blue', bins=35)\n",
        "sns.histplot(data=sms[sms['label']==1].length, kde=False, label='Spam messages', color='red', bins=10 )\n",
        "\n",
        "plt.xlabel('Message length')\n",
        "plt.ylabel('Frequency')\n",
        "\n",
        "\n"
      ],
      "execution_count": 10,
      "outputs": [
        {
          "output_type": "execute_result",
          "data": {
            "text/plain": [
              "Text(0, 0.5, 'Frequency')"
            ]
          },
          "metadata": {
            "tags": []
          },
          "execution_count": 10
        },
        {
          "output_type": "display_data",
          "data": {
            "image/png": "[encoded data removed]",
            "text/plain": [
              "<Figure size 432x288 with 1 Axes>"
            ]
          },
          "metadata": {
            "tags": [],
            "needs_background": "light"
          }
        }
      ]
    },
    {
      "cell_type": "markdown",
      "metadata": {
        "id": "QamVMcku2dHP"
      },
      "source": [
        "#### 2.7. Preprocessing text \n",
        "    Takes in a string of text, then performs the following:\n",
        "    1. Remove all punctuation\n",
        "    2. Remove all stopwords\n",
        "    3. Returns a list of the cleaned text"
      ]
    },
    {
      "cell_type": "code",
      "metadata": {
        "id": "2BjRVUKD2dHQ",
        "colab": {
          "base_uri": "https://localhost:8080/"
        },
        "outputId": "3078ea85-57ac-4bae-f57b-0a0d07d62c93"
      },
      "source": [
        "import string\n",
        "import nltk\n",
        "nltk.download('stopwords')\n",
        "from nltk.corpus import stopwords\n",
        "\n",
        "def text_process(mess):\n",
        "    STOPWORDS = stopwords.words('english') + ['u', 'ü', 'ur', '4', '2', 'im', 'dont', 'doin', 'ure']\n",
        "    # Check characters to see if they are in punctuation\n",
        "    nopunc = [char for char in mess if char not in string.punctuation]\n",
        "    # Join the characters again to form the string.\n",
        "    nopunc = ''.join(nopunc)\n",
        "    # Now just remove any stopwords\n",
        "    return ' '.join([word for word in nopunc.split() if word.lower() not in STOPWORDS])"
      ],
      "execution_count": 11,
      "outputs": [
        {
          "output_type": "stream",
          "text": [
            "[nltk_data] Downloading package stopwords to /root/nltk_data...\n",
            "[nltk_data]   Unzipping corpora/stopwords.zip.\n"
          ],
          "name": "stdout"
        }
      ]
    },
    {
      "cell_type": "code",
      "metadata": {
        "id": "aTcG_MhO2dHR",
        "colab": {
          "base_uri": "https://localhost:8080/",
          "height": 204
        },
        "outputId": "c421c021-01da-4cd2-c80e-60161fdcffd5"
      },
      "source": [
        "# Apply the above function to preprocess the text.\n",
        "for row in sms['message']:\n",
        "  temp = text_process(row)\n",
        "  sms = sms.replace(row, temp)\n",
        "sms.head()\n",
        "# enter here"
      ],
      "execution_count": 12,
      "outputs": [
        {
          "output_type": "execute_result",
          "data": {
            "text/html": [
              "<div>\n",
              "<style scoped>\n",
              "    .dataframe tbody tr th:only-of-type {\n",
              "        vertical-align: middle;\n",
              "    }\n",
              "\n",
              "    .dataframe tbody tr th {\n",
              "        vertical-align: top;\n",
              "    }\n",
              "\n",
              "    .dataframe thead th {\n",
              "        text-align: right;\n",
              "    }\n",
              "</style>\n",
              "<table border=\"1\" class=\"dataframe\">\n",
              "  <thead>\n",
              "    <tr style=\"text-align: right;\">\n",
              "      <th></th>\n",
              "      <th>label</th>\n",
              "      <th>message</th>\n",
              "      <th>length</th>\n",
              "    </tr>\n",
              "  </thead>\n",
              "  <tbody>\n",
              "    <tr>\n",
              "      <th>0</th>\n",
              "      <td>0</td>\n",
              "      <td>Go jurong point crazy Available bugis n great ...</td>\n",
              "      <td>111</td>\n",
              "    </tr>\n",
              "    <tr>\n",
              "      <th>1</th>\n",
              "      <td>0</td>\n",
              "      <td>Ok lar Joking wif oni</td>\n",
              "      <td>29</td>\n",
              "    </tr>\n",
              "    <tr>\n",
              "      <th>2</th>\n",
              "      <td>1</td>\n",
              "      <td>Free entry wkly comp win FA Cup final tkts 21s...</td>\n",
              "      <td>155</td>\n",
              "    </tr>\n",
              "    <tr>\n",
              "      <th>3</th>\n",
              "      <td>0</td>\n",
              "      <td>dun say early hor c already say</td>\n",
              "      <td>49</td>\n",
              "    </tr>\n",
              "    <tr>\n",
              "      <th>4</th>\n",
              "      <td>0</td>\n",
              "      <td>Nah think goes usf lives around though</td>\n",
              "      <td>61</td>\n",
              "    </tr>\n",
              "  </tbody>\n",
              "</table>\n",
              "</div>"
            ],
            "text/plain": [
              "   label                                            message  length\n",
              "0      0  Go jurong point crazy Available bugis n great ...     111\n",
              "1      0                              Ok lar Joking wif oni      29\n",
              "2      1  Free entry wkly comp win FA Cup final tkts 21s...     155\n",
              "3      0                    dun say early hor c already say      49\n",
              "4      0             Nah think goes usf lives around though      61"
            ]
          },
          "metadata": {
            "tags": []
          },
          "execution_count": 12
        }
      ]
    },
    {
      "cell_type": "code",
      "metadata": {
        "colab": {
          "base_uri": "https://localhost:8080/",
          "height": 204
        },
        "id": "fqnusraVdAxa",
        "outputId": "8215adaa-cb04-47c6-efee-eea8054aa612"
      },
      "source": [
        "length=[]\n",
        "for row in sms['message']:\n",
        "  length.append(len(row))\n",
        "sms['length']=length\n",
        "sms.head()"
      ],
      "execution_count": 13,
      "outputs": [
        {
          "output_type": "execute_result",
          "data": {
            "text/html": [
              "<div>\n",
              "<style scoped>\n",
              "    .dataframe tbody tr th:only-of-type {\n",
              "        vertical-align: middle;\n",
              "    }\n",
              "\n",
              "    .dataframe tbody tr th {\n",
              "        vertical-align: top;\n",
              "    }\n",
              "\n",
              "    .dataframe thead th {\n",
              "        text-align: right;\n",
              "    }\n",
              "</style>\n",
              "<table border=\"1\" class=\"dataframe\">\n",
              "  <thead>\n",
              "    <tr style=\"text-align: right;\">\n",
              "      <th></th>\n",
              "      <th>label</th>\n",
              "      <th>message</th>\n",
              "      <th>length</th>\n",
              "    </tr>\n",
              "  </thead>\n",
              "  <tbody>\n",
              "    <tr>\n",
              "      <th>0</th>\n",
              "      <td>0</td>\n",
              "      <td>Go jurong point crazy Available bugis n great ...</td>\n",
              "      <td>82</td>\n",
              "    </tr>\n",
              "    <tr>\n",
              "      <th>1</th>\n",
              "      <td>0</td>\n",
              "      <td>Ok lar Joking wif oni</td>\n",
              "      <td>21</td>\n",
              "    </tr>\n",
              "    <tr>\n",
              "      <th>2</th>\n",
              "      <td>1</td>\n",
              "      <td>Free entry wkly comp win FA Cup final tkts 21s...</td>\n",
              "      <td>133</td>\n",
              "    </tr>\n",
              "    <tr>\n",
              "      <th>3</th>\n",
              "      <td>0</td>\n",
              "      <td>dun say early hor c already say</td>\n",
              "      <td>31</td>\n",
              "    </tr>\n",
              "    <tr>\n",
              "      <th>4</th>\n",
              "      <td>0</td>\n",
              "      <td>Nah think goes usf lives around though</td>\n",
              "      <td>38</td>\n",
              "    </tr>\n",
              "  </tbody>\n",
              "</table>\n",
              "</div>"
            ],
            "text/plain": [
              "   label                                            message  length\n",
              "0      0  Go jurong point crazy Available bugis n great ...      82\n",
              "1      0                              Ok lar Joking wif oni      21\n",
              "2      1  Free entry wkly comp win FA Cup final tkts 21s...     133\n",
              "3      0                    dun say early hor c already say      31\n",
              "4      0             Nah think goes usf lives around though      38"
            ]
          },
          "metadata": {
            "tags": []
          },
          "execution_count": 13
        }
      ]
    },
    {
      "cell_type": "code",
      "metadata": {
        "id": "km0s5Wgn2dHR",
        "colab": {
          "base_uri": "https://localhost:8080/",
          "height": 296
        },
        "outputId": "e8208540-4d42-4ab3-9637-688e752a7e08"
      },
      "source": [
        "# Draw Histogram graph again with clean messages.\n",
        "\n",
        "sns.histplot(data=sms[sms['label']==0].length, kde=False, label='Ham messages',color='blue', bins=35)\n",
        "sns.histplot(data=sms[sms['label']==1].length, kde=False, label='Spam messages', color='red', bins=10 )\n",
        "\n",
        "plt.xlabel('Message length')\n",
        "plt.ylabel('Frequency')\n",
        "\n",
        "# enter here"
      ],
      "execution_count": 14,
      "outputs": [
        {
          "output_type": "execute_result",
          "data": {
            "text/plain": [
              "Text(0, 0.5, 'Frequency')"
            ]
          },
          "metadata": {
            "tags": []
          },
          "execution_count": 14
        },
        {
          "output_type": "display_data",
          "data": {
            "image/png": "[encoded data removed]",
            "text/plain": [
              "<Figure size 432x288 with 1 Axes>"
            ]
          },
          "metadata": {
            "tags": [],
            "needs_background": "light"
          }
        }
      ]
    },
    {
      "cell_type": "markdown",
      "metadata": {
        "id": "pkiJUhjZ2dHS"
      },
      "source": [
        "#### 2.8. Feature extraction using TfidfVectorizer"
      ]
    },
    {
      "cell_type": "code",
      "metadata": {
        "id": "9ahYzEfP2dHS",
        "colab": {
          "base_uri": "https://localhost:8080/"
        },
        "outputId": "be31a336-1172-4a69-98c7-a32077e1e884"
      },
      "source": [
        "# enter here\n",
        "from sklearn.feature_extraction.text import TfidfVectorizer\n",
        "\n",
        "temp=[]\n",
        "for row in sms['message']:\n",
        "  temp.append(row)\n",
        "\n",
        "vectorizer_tfi = TfidfVectorizer()\n",
        "X_tfi = vectorizer_tfi.fit_transform(temp)\n",
        "print(vectorizer_tfi.get_feature_names())\n",
        "print(X_tfi.shape)"
      ],
      "execution_count": 15,
      "outputs": [
        {
          "output_type": "stream",
          "text": [
            "['008704050406', '0089my', '0121', '01223585236', '01223585334', '0125698789', '02', '020603', '0207', '02070836089', '02072069400', '02073162414', '02085076972', '020903', '021', '050703', '0578', '06', '060505', '061104', '07008009200', '07046744435', '07090201529', '07090298926', '07099833605', '071104', '07123456789', '0721072', '07732584351', '07734396839', '07742676969', '07753741225', '0776xxxxxxx', '07786200117', '077xxx', '078', '07801543489', '07808', '07808247860', '07808726822', '07815296484', '07821230901', '0784987', '0789xxxxxxx', '0794674629107880867867', '0796xxxxxx', '07973788240', '07xxxxxxxxx', '0800', '08000407165', '08000776320', '08000839402', '08000930705', '08000938767', '08001950382', '08002888812', '08002986030', '08002986906', '08002988890', '08006344447', '0808', '08081263000', '08081560665', '0825', '0844', '08448350055', '08448714184', '0845', '08450542832', '08452810071', '08452810073', '08452810075over18s', '0870', '08700621170150p', '08701213186', '08701237397', '08701417012', '08701417012150p', '0870141701216', '087016248', '08701752560', '087018728737', '0870241182716', '08702490080', '08702840625', '08702840625comuk', '08704439680', '08704439680tscs', '08706091795', '0870737910216yrs', '08707500020', '08707509020', '0870753331018', '08707808226', '08708034412', '08708800282', '08709222922', '08709501522', '0870k', '087104711148', '08712101358', '08712103738', '0871212025016', '08712300220', '087123002209am7pm', '08712317606', '08712400200', '08712400603', '08712402050', '08712402578', '08712402779', '08712402902', '08712402972', '08712404000', '08712405020', '08712405022', '08712460324', '08712460324nat', '08712466669', '0871277810710pmin', '0871277810810', '0871277810910pmin', '087143423992stop', '087147123779am7pm', '08714712379', '08714712388', '08714712394', '08714712412', '08714714011', '08714719523', '08715203028', '08715203649', '08715203652', '08715203656', '08715203677', '08715203685', '08715203694', '08715205273', '08715500022', '08715705022', '08717111821', '08717168528', '08717205546', '08717507382', '08717507711', '08717509990', '08717890890å', '08717895698', '08717898035', '08718711108', '08718720201', '08718723815', '08718725756', '08718726270', '08718726270150gbpmtmsg18', '08718726970', '08718726971', '08718726978', '087187272008', '08718727868', '08718727870', '08718729755', '08718729758', '08718730555', '08718730666', '08718738001', '08718738002', '08718738034', '08719180219', '08719180248', '08719181259', '08719181503', '08719181513', '08719839835', '08719899217', '08719899229', '08719899230', '09041940223', '09050000301', '09050000332', '09050000460', '09050000555', '09050000878', '09050000928', '09050001295', '09050001808', '09050002311', '09050003091', '09050005321', '09050090044', '09050280520', '09053750005', '09056242159', '09057039994', '09058091854', '09058091870', '09058094454', '09058094455', '09058094507', '09058094565', '09058094583', '09058094594', '09058094597', '09058094599', '09058095107', '09058095201', '09058097189', '09058097218', '09058098002', '09058099801', '09061104276', '09061104283', '09061209465', '09061213237', '09061221061', '09061221066', '09061701444', '09061701461', '09061701851', '09061701939', '09061702893', '09061743386', '09061743806', '09061743810', '09061743811', '09061744553', '09061749602', '09061790121', '09061790125', '09061790126', '09063440451', '09063442151', '09063458130', '0906346330', '09064011000', '09064012103', '09064012160', '09064015307', '09064017295', '09064017305', '09064018838', '09064019014', '09064019788', '09065069120', '09065069154', '09065171142stopsms08', '09065171142stopsms08718727870150ppm', '09065174042', '09065394514', '09065394973', '09065989180', '09065989182', '09066350750', '09066358152', '09066358361', '09066361921', '09066362206', '09066362220', '09066362231', '09066364311', '09066364349', '09066364589', '09066368327', '09066368470', '09066368753', '09066380611', '09066382422', '09066612661', '09066649731from', '09066660100', '09071512432', '09071512433', '09071517866', '09077818151', '09090204448', '09090900040', '09094100151', '09094646631', '09094646899', '09095350301', '09096102316', '09099725823', '09099726395', '09099726429', '09099726481', '09099726553', '09111030116', '09111032124', '09701213186', '0anetworks', '10', '100', '1000', '10000', '100000', '1000call', '1000s', '100603', '100psms', '100s', '1010', '1013', '101mega', '1030', '10803', '10am', '10am7pm', '10am9pm', '10k', '10p', '10pmin', '10ppm', '10th', '11', '1120', '113', '1131', '11414', '1148', '116', '1172', '118pmsg', '11mths', '12', '120', '12000pes', '1205', '121', '1225', '123', '1230', '125', '1250', '125gift', '128', '12hours', '12hrs', '12mths', '12price', '13', '130', '131004', '1327', '13404', '139', '140', '1405', '140ppm', '145', '1450', '146tf150p', '14thmarch', '150', '1500', '150ea', '150morefrmmob', '150msg', '150mtmsgrcvd18', '150p', '150pday', '150perweeksub', '150perwksub', '150pm', '150pmeg', '150pmin', '150pmmorefrommobile2bremovedmobypobox734ls27yf', '150pmsg', '150pmsgrcvd', '150pmsgrcvdhgsuite3422landsroww1j6hl', '150pmt', '150pmtmsg', '150pmtmsgrcvd18', '150ppermesssubscription', '150ppm', '150ppmpobox10183bhamb64xe', '150ppmsg', '150prcvd', '150psms', '150ptext', '150ptone', '150pw', '150pwk', '150rcvd', '150week', '150wk', '151', '1526', '153', '15541', '15pmin', '16', '1680', '169', '16only', '177', '18', '180', '181104', '1843', '186å', '18only', '18ptxt', '18yrs', '195', '1956669', '1appledayno', '1childish', '1cup', '1da', '1er', '1hanuman', '1his', '1hr', '1im', '1lemondayno', '1mcflyall', '1million', '1minmobsmore', '1minmobsmorelkpobox177hp51fl', '1minmoremobsemspobox45po139wa', '1month', '1pm', '1s', '1st', '1st4terms', '1stchoicecouk', '1stone', '1tulsi', '1u', '1unbreakable', '1winaweek', '1winawk', '1x150pwk', '1yf', '20', '200', '2000', '20000', '2003', '2004', '2005', '2006', '2007', '2025050', '20f', '20m12aq', '20p', '20pmin', '21', '211104', '215', '21870000hi', '21m', '21st', '22', '220cm2', '2309', '230ish', '24', '241', '241004', '247mp', '24hrs', '24m', '24th', '25', '250', '250k', '255', '25f', '25p', '260305', '261004', '261104', '2667', '26th', '2703', '27603', '28', '2814032', '285', '28days', '28th', '28thfebtcs', '290305', '29100', '29m', '2b', '2bajarangabali', '2bold', '2c', '2channel', '2day', '2daylove', '2end', '2exit', '2ez', '2getha', '2geva', '2go', '2godid', '2gthr', '2hrs', '2im', '2kbsubject', '2marrow', '2moro', '2morow', '2morro', '2morrow', '2morrowxxxx', '2mro', '2mrw', '2naughty', '2nd', '2nhite', '2nights', '2nite', '2nitetell', '2optout', '2optoutd3wv', '2p', '2police', '2px', '2rcv', '2stop', '2stoptx', '2stoptxt', '2u', '2u2', '2untamed', '2waxsto', '2when', '2wks', '2wt', '2wu', '2years', '2yr', '2yrs', '30', '300', '3000', '300603', '300603tcsbcm4235wc1n3xxcallcost150ppmmobilesvary', '300p', '3030', '30apr', '30pptxt', '30s', '30th', '31', '3100', '310303', '311004', '31pmsg150p', '32000', '3230', '32323', '326', '32f', '330', '3350', '3365', '350', '3510i', '35p', '3650', '36504', '3680', '3680offer', '373', '3750', '375max', '38', '391784', '399', '3aj', '3cover', '3d', '3days', '3db', '3g', '3gbp', '3hrs', '3lions', '3lp', '3maruti', '3miles', '3mins', '3mobile', '3optical', '3pound', '3qxj9', '3rd', '3sentiment', '3ss', '3u', '3unkempt', '3uz', '3wife', '3wk', '3wks', '3xx', '3xå', '40', '400', '400minscall', '402', '4041', '40411', '40533', '40gb', '40mph', '415', '41685', '41782', '420', '42049', '4217', '42478', '42810', '430', '434', '44', '4403ldnw1a7rw18', '447797706009', '447801259231', '447per', '448712404000please', '449050000301', '449071512431', '449month', '45', '450', '450p', '450pw', '45239', '46', '47', '4712', '4742', '48', '4882', '48922', '49557', '4a', '4cook', '4d', '4eva', '4few', '4fil', '4get', '4give', '4got', '4goten', '4info', '4jx', '4lux', '4mths', '4o', '4pavanaputra', '4press', '4rowdy', '4some1', '4tctxt', '4th', '4the', '4thnovbehind', '4txt120p', '4txtì¼120', '4u', '4ui', '4utxt', '4w', '4ward', '4wrd', '4years', '50', '500', '5000', '500000', '505060', '50award', '50p', '50s', '50å', '515', '515pm', '5226', '526', '528', '530', '532', '54', '542', '545', '5903', '5digital', '5free', '5ful', '5gardener', '5gently', '5ish', '5iåõm', '5k', '5min', '5mls', '5month', '5p', '5pm', '5sankatmochan', '5terror', '5th', '5wb', '5we', '5wkg', '5wq', '5years', '600', '6031', '60400thousadi', '60p', '60pmin', '61200', '61610', '62220cncl', '6230', '62468', '62735å', '630', '63miles', '645', '645pm', '650', '6669', '67441233', '68866', '69101', '69200', '69669', '69696', '69698', '69855', '6986618', '69876', '69888', '69888nyt', '69911å', '69969', '69988', '6cruel', '6days', '6hl', '6housemaid', '6hrs', '6ish', '6missed', '6months', '6pm', '6ramaduth', '6romantic', '6th', '6times', '6wu', '6zf', '700', '71', '725', '7250', '7250i', '730', '730ish', '730pm', '731', '74355', '750', '75000', '7548', '7634', '7684', '7732584351', '78', '786', '7876150ppm', '78pmin', '79', '7am', '7cfca1a', '7children', '7ish', '7mahaveer', '7oz', '7pm', '7romantic', '7shy', '7th', '7ws', '7zs', '800', '8000930705', '80062', '8007', '80082', '80086', '80122300pwk', '80155', '80160', '80182', '8027', '80488', '80488biz', '80608', '8077', '80878', '80s', '81010', '81151', '81303', '81618', '816183', '82242', '82277', '82277unsub', '82324', '82468', '830', '83021', '83039', '83049', '83110', '83118', '83222', '83332please', '83338', '83355', '83370', '83383', '83435', '83600', '83738', '84', '84025', '84122', '84128', '84128custcare', '84199', '84484', '85', '850', '85023', '85069', '85222', '85233', '8552', '85555', '86021', '861', '863', '864233', '86688', '86888', '87021', '87066', '87070', '87077', '87121', '87131', '8714714', '87239', '87575', '8800', '88039', '88039skilgmetscs087147403231winawkage16å', '88066', '88088', '88222', '8830', '88600', '88800', '8883', '88877', '88877free', '88888', '89034', '89070', '89080', '89105', '89123', '89545', '89555', '89693', '89938', '8am', '8attractive', '8ball', '8hr', '8lb', '8lovable', '8neighbour', '8o', '8pm', '8th', '8wp', '900', '9061100010', '9153', '924', '930', '945', '946', '95pax', '96', '97n7qp', '98321561', '9996', '9ae', '9am', '9am11pm', '9decent', '9funny', '9ja', '9pm', '9t', '9th', '9yt', 'a21', 'a30', 'aa', 'aah', 'aaniye', 'aaooooright', 'aathilove', 'aathiwhere', 'ab', 'abbey', 'abdomen', 'abeg', 'abel', 'aberdeen', 'abi', 'ability', 'abiola', 'abj', 'able', 'abnormally', 'aboutas', 'abroad', 'absence', 'absolutely', 'abstract', 'abt', 'abta', 'aburo', 'abuse', 'abusers', 'ac', 'academic', 'acc', 'accent', 'accenture', 'accept', 'access', 'accessible', 'accidant', 'accident', 'accidentally', 'accommodation', 'accommodationvouchers', 'accomodate', 'accomodations', 'accordin', 'accordingly', 'accordinglyor', 'account', 'accounting', 'accounts', 'accumulation', 'achanammarakheshqatar', 'ache', 'achieve', 'acid', 'acknowledgement', 'acl03530150pm', 'acnt', 'acoentry41', 'across', 'acsmsrewards', 'act', 'acted', 'actin', 'acting', 'action', 'activ8', 'activate', 'active', 'activities', 'actor', 'actual', 'actually', 'acwicmb3cktz8r74', 'ad', 'adam', 'add', 'addamsfa', 'added', 'addicted', 'addie', 'adding', 'address', 'addressull', 'adds', 'adewale', 'adi', 'adjustable', 'admin', 'administrator', 'admirer', 'admission', 'admit', 'admiti', 'adore', 'adoring', 'adp', 'adress', 'adrian', 'ads', 'adsense', 'adult', 'adults', 'advance', 'adventure', 'adventuring', 'advice', 'advise', 'advising', 'advisors', 'aeronautics', 'aeroplane', 'afew', 'affair', 'affairs', 'affection', 'affectionate', 'affectionsamp', 'affidavit', 'afford', 'afghanistan', 'afraid', 'africa', 'african', 'aft', 'afternon', 'afternoon', 'afternoons', 'afterwards', 'aftr', 'ag', 'againcall', 'againloving', 'agalla', 'age', 'age16', 'age16150ppermesssubscription', 'age23', 'agency', 'agent', 'agents', 'ages', 'agesring', 'agidhane', 'aging', 'ago', 'agocusoon', 'agree', 'agreen', 'ah', 'aha', 'ahead', 'ahgee', 'ahhh', 'ahhhhjust', 'ahmad', 'ahnow', 'ahold', 'ahsen', 'ahthe', 'ahwhat', 'aid', 'aids', 'aig', 'aight', 'aint', 'air', 'air1', 'airport', 'airtel', 'aiya', 'aiyah', 'aiyar', 'aiyo', 'ajith', 'ak', 'aka', 'akonlonely', 'al', 'alaikkumpride', 'alaipayuthe', 'albi', 'album', 'albumquite', 'alcohol', 'aldrine', 'alert', 'alertfrom', 'alerts', 'aletter', 'alex', 'alexs', 'alfie', 'algarve', 'algebra', 'algorithms', 'ali', 'alian', 'alibi', 'alive', 'alivebetter', 'allah', 'allahmeet', 'allahrakhesh', 'allalo', 'allday', 'alle', 'allo', 'allow', 'allowed', 'allows', 'alls', 'almost', 'alone', 'along', 'alot', 'already', 'alreadysabarish', 'alright', 'alrightokay', 'alrite', 'alritehave', 'also', 'alsoor', 'alter', 'alternativehope', 'although', 'alwa', 'always', 'alwys', 'amanda', 'amazing', 'ambitious', 'ambrithmaduraimet', 'american', 'ami', 'amigos', 'amk', 'ammaelife', 'ammo', 'among', 'amongst', 'amore', 'amount', 'amp', 'amplikater', 'amrca', 'amrita', 'ams', 'amt', 'amused', 'amx', 'amy', 'ana', 'anal', 'analysis', 'anand', 'anderson', 'andor', 'andre', 'andres', 'andrewsboy', 'andros', 'angels', 'angry', 'animal', 'animation', 'anjie', 'anjolas', 'anna', 'annie', 'anniversary', 'annoncement', 'announced', 'announcement', 'annoyin', 'annoying', 'anonymous', 'anot', 'another', 'ans', 'ansr', 'answer', 'answered', 'answerin', 'answering', 'answers', 'answr', 'antelope', 'anthony', 'anti', 'antibiotic', 'anybody', 'anybodys', 'anyhow', 'anymore', 'anyone', 'anyones', 'anyplaces', 'anythiing', 'anythin', 'anything', 'anythings', 'anythingtomorrow', 'anytime', 'anyway', 'anyways', 'anywhere', 'aom', 'apart', 'apartment', 'apes', 'apeshit', 'aphexåõs', 'apnt', 'apo', 'apologetic', 'apologise', 'apologize', 'apology', 'app', 'apparently', 'appeal', 'appear', 'appendix', 'applebees', 'applespairsall', 'application', 'apply', 'apply2', 'applyed', 'applying', 'appointment', 'appointments', 'appreciate', 'appreciated', 'approaches', 'approaching', 'appropriate', 'approve', 'approved', 'approx', 'apps', 'appt', 'appy', 'april', 'aproach', 'apt', 'aptitude', 'aquarius', 'ar', 'arab', 'arabian', 'arcade', 'archive', 'ard', 'ardìä', 'area', 'arent', 'arestaurant', 'aretaking', 'argentina', 'argh', 'argue', 'arguing', 'argument', 'arguments', 'aries', 'arise', 'arises', 'arithmetic', 'arm', 'armand', 'armands', 'armenia', 'arms', 'arng', 'arngd', 'arnt', 'around', 'aroundn', 'arpraveesh', 'arr', 'arrange', 'arranging', 'arrested', 'arrival', 'arrive', 'arrived', 'arrow', 'arsenal', 'art', 'artists', 'arts', 'arty', 'arul', 'arun', 'asa', 'asap', 'asapok', 'asda', 'ashes', 'ashley', 'ashleys', 'ashwini', 'asia', 'asian', 'ask', 'askd', 'asked', 'askin', 'asking', 'asks', 'aslamalaikkuminsha', 'asleep', 'aspects', 'ass', 'assessment', 'asshole', 'assistance', 'associate', 'assume', 'assumed', 'asthere', 'asthma', 'astne', 'astoundingly', 'astrology', 'astronomer', 'asus', 'asusual1', 'ate', 'athletic', 'athome', 'atlanta', 'atlast', 'atleast', 'atm', 'atrocious', 'attach', 'attached', 'attack', 'attempt', 'atten', 'attend', 'attended', 'attending', 'attention', 'attitude', 'attractioni', 'attracts', 'attributed', 'atyour', 'auction', 'auctionpunj', 'audiitions', 'audition', 'audrey', 'audreys', 'audrie', 'august', 'aunt', 'auntie', 'aunties', 'aunts', 'aunty', 'auntys', 'aust', 'australia', 'authorise', 'auto', 'autocorrect', 'av', 'ava', 'availa', 'available', 'availablei', 'availablethey', 'avalarr', 'avatar', 'avble', 'ave', 'avenge', 'avent', 'avenue', 'avin', 'avo', 'avoid', 'avoiding', 'avoids', 'await', 'awaiting', 'awake', 'award', 'awarded', 'away', 'awesome', 'awkward', 'aww', 'awww', 'ax', 'axis', 'ay', 'ayn', 'ayo', 'aå', 'b4', 'b4190604', 'b4280703', 'b4u', 'ba', 'ba128nnfwfly150ppm', 'baaaaaaaabe', 'baaaaabe', 'babe', 'babes', 'babesozi', 'babies', 'baby', 'babygoodbye', 'babyhope', 'babyjontet', 'babysit', 'babysitting', 'bac', 'back', 'backa', 'backdoor', 'backwards', 'bad', 'badass', 'badly', 'badrith', 'bag', 'bagi', 'bags', 'bahamas', 'baig', 'bailiff', 'bak', 'bakra', 'bakrid', 'balance', 'ball', 'baller', 'balloon', 'balls', 'bam', 'bambling', 'band', 'bandages', 'bang', 'bangb', 'bangbabes', 'bani', 'bank', 'banks', 'banned', 'banneduk', 'banter', 'bao', 'bar', 'barbie', 'barcelona', 'bare', 'barely', 'bari', 'barkleys', 'barmed', 'barolla', 'barred', 'barrel', 'barring', 'barry', 'bars', 'base', 'bash', 'basic', 'basically', 'basketball', 'baskets', 'basqihave', 'bat', 'batch', 'batchlor', 'bath', 'bathe', 'bathing', 'bathroom', 'batsman', 'batt', 'battery', 'bawling', 'bay', 'bb', 'bbc', 'bbdeluxe', 'bbdpooja', 'bbdthts', 'bblue', 'bbq', 'bbs', 'bc', 'bcaz', 'bck', 'bcm', 'bcm1896wc1n3xx', 'bcm4284', 'bcmsfwc1n3xx', 'bcoz', 'bcozi', 'bcum', 'bcums', 'bcz', 'bday', 'beach', 'beads', 'bear', 'bears', 'beatings', 'beauties', 'beautiful', 'beautifulmay', 'beauty', 'bec', 'becaus', 'becausethey', 'become', 'becomes', 'becoz', 'becz', 'bed', 'bedrm', 'bedrm900', 'bedroom', 'bedroomlove', 'beeen', 'beehoon', 'beendropping', 'beer', 'beerage', 'beerrs', 'beers', 'befor', 'beforehand', 'beforewent', 'beg', 'beggar', 'begging', 'begin', 'begins', 'begun', 'behalf', 'behave', 'behind', 'bein', 'believe', 'belive', 'bell', 'bellearlier', 'belligerent', 'belly', 'belong', 'belongs', 'belovd', 'beloved', 'belt', 'ben', 'bend', 'beneath', 'beneficiary', 'benefits', 'bennys', 'bergkamp', 'beside', 'best', 'best1', 'bestcongrats', 'bestrply', 'bet', 'beta', 'beth', 'betta', 'better', 'bettersn', 'beverage', 'bevieswaz', 'beware', 'beyond', 'bf', 'bffs', 'bfore', 'bhaskar', 'bhayandar', 'bian', 'biatch', 'bid', 'bids', 'big', 'bigger', 'biggest', 'bike', 'bill', 'billed', 'billing', 'billion', 'bills', 'billy', 'bilo', 'bimbo', 'bin', 'biola', 'biolas', 'bird', 'birds', 'birla', 'biro', 'birth', 'birthdate', 'birthday', 'bishan', 'bit', 'bitch', 'bitching', 'bite', 'bites', 'bits', 'bk', 'black', 'blackand', 'blackberry', 'blackim', 'blacko', 'blah', 'blakes', 'blame', 'blank', 'blanked', 'blanket', 'blankets', 'blastin', 'bleak', 'bleh', 'bless', 'blessed', 'blessget', 'blessing', 'blessings', 'blimey', 'blind', 'block', 'blocked', 'blog', 'blogging', 'bloke', 'blokes', 'blonde', 'bloo', 'blood', 'bloodblood', 'bloodsend', 'bloody', 'bloomberg', 'bloombergcom', 'blow', 'blowing', 'blown', 'blu', 'blue', 'bluetooth', 'bluetoothhdset', 'blueu', 'bluff', 'blur', 'bluray', 'bmw', 'board', 'boat', 'boatin', 'bob', 'body', 'boggy', 'bognor', 'bold', 'bold2', 'bollox', 'boltblue', 'bomb', 'bone', 'bong', 'bonus', 'boo', 'boobs', 'book', 'booked', 'bookedthe', 'booking', 'bookmark', 'books', 'bookshelf', 'boooo', 'boost', 'booty', 'bootydelious', 'borderline', 'bored', 'borin', 'boring', 'born', 'bornplease', 'borrow', 'boss', 'boston', 'bot', 'bother', 'bothering', 'bottle', 'bottom', 'bought', 'boughtåóbraindanceåóa', 'boundaries', 'bout', 'boutxx', 'bowa', 'bowl', 'bowls', 'box', 'box1146', 'box139', 'box177', 'box245c2150pm', 'box326', 'box334', 'box334sk38ch', 'box385', 'box39822', 'box403', 'box420', 'box42wr29c', 'box434sk38wp150ppm18', 'box61m60', 'box95qu', 'box97n7qp', 'boy', 'boye', 'boyf', 'boyfriend', 'boys', 'boytoy', 'boyy', 'bpo', 'brah', 'brain', 'brainless', 'brains', 'brainy', 'brand', 'brandy', 'bras', 'brats', 'braved', 'bray', 'brb', 'brdget', 'bread', 'breadstick', 'break', 'breaker', 'breakfast', 'breakin', 'breaking', 'breaks', 'breath', 'breathe', 'breathe1', 'breather', 'breathing', 'breeze', 'breezy', 'bribe', 'bridge', 'bridgwater', 'brief', 'bright', 'brighten', 'brilliant', 'brilliant1thingi', 'brilliantly', 'brin', 'bring', 'bringing', 'brings', 'brisk', 'brison', 'bristol', 'british', 'britney', 'bro', 'broad', 'broadband', 'broke', 'broken', 'brolly', 'bros', 'broth', 'brothas', 'brother', 'brothers', 'brought', 'browni', 'brownie', 'brownies', 'browse', 'browser', 'browsin', 'bruce', 'brum', 'bruv', 'bslvyl', 'bsn', 'bsnl', 'bstfrnd', 'bt', 'bthmm', 'btnational', 'btnationalrate', 'btooth', 'btw', 'btwn', 'bucks', 'bud', 'buddy', 'buddys', 'budget', 'buen', 'buff', 'buffet', 'buffy', 'bugis', 'build', 'building', 'built', 'bulbs', 'bull', 'bullshit', 'bunch', 'bundle', 'bunkers', 'buns', 'burden', 'burger', 'burgundy', 'burial', 'burn', 'burning', 'burns', 'burnt', 'burrito', 'bus', 'bus822656166382', 'buses', 'busetop', 'business', 'busty', 'busy', 'busyi', 'butt', 'buttheres', 'butting', 'buttons', 'buy', 'buyer', 'buyers', 'buying', 'buzy', 'buzz', 'buzzzz', 'bw', 'bx', 'bx420', 'bx420ip45we', 'bx526', 'byatch', 'bye', 'byåóleafcutter', 'båõday', 'c52', 'cab', 'cabin', 'cable', 'cafe', 'cage', 'cake', 'caken', 'cakes', 'cal', 'calculated', 'calculation', 'cali', 'calicut', 'california', 'calis', 'call', 'call09050000327', 'call2optout4qf2', 'call2optout674', 'call2optoutf4q', 'call2optouthf8', 'call2optoutj', 'call2optoutj5q', 'call2optoutlf56', 'call2optoutn9dx', 'call2optoutyhl', 'callback', 'callcost', 'callcoz', 'calld', 'calldrove', 'called', 'caller', 'callers', 'callertune', 'callfreefone', 'callin', 'calling', 'callingforgot', 'callon', 'calls', 'calls150ppm', 'callsmessagesmissed', 'callså', 'callurgent', 'calm', 'cam', 'camcorder', 'came', 'camera', 'cameravideo', 'camp', 'campus', 'camry', 'can', 'canada', 'canal', 'canary', 'cancel', 'canceled', 'cancelled', 'cancer', 'candont', 'canlove', 'canname', 'cannot', 'cannt', 'cant', 'cantdo', 'canteen', 'canåõt', 'capacity', 'capital', 'cappuccino', 'caps', 'captain', 'captaining', 'car', 'card', 'cardiff', 'cardin', 'cards', 'care', 'careabout', 'cared', 'career', 'careful', 'carefully', 'careinsha', 'careless', 'carente', 'cares', 'careswt', 'careumma', 'caring', 'carlie', 'carlin', 'carlos', 'carlosll', 'carly', 'carolina', 'caroline', 'carpark', 'carry', 'carryin', 'cars', 'carso', 'cartons', 'cartoon', 'case', 'cash', 'cashbalance', 'cashbincouk', 'cashed', 'cashin', 'cashto', 'casing', 'cast', 'casting', 'castor', 'casualty', 'cat', 'catch', 'catches', 'catching', 'categories', 'caught', 'cause', 'causes', 'causing', 'cave', 'caveboy', 'cbe', 'cc', 'cc100pmin', 'ccna', 'cd', 'cdgt', 'cds', 'cedar', 'ceiling', 'celeb', 'celeb4', 'celebrate', 'celebrated', 'celebration', 'celebrations', 'cell', 'census', 'center', 'centre', 'century', 'cer', 'cereals', 'ceri', 'certainly', 'certificate', 'cha', 'chachi', 'chad', 'chain', 'challenge', 'challenging', 'champ', 'champlaxigating', 'champneys', 'chance', 'chances', 'change', 'changed', 'changes', 'changing', 'channel', 'chapel', 'chaps', 'chapter', 'character', 'characters', 'charge', 'charged', 'charged150pmsg2', 'charges', 'charity', 'charles', 'charlie', 'charming', 'chart', 'charts', 'chase', 'chasing', 'chastity', 'chat', 'chat80155', 'chatim', 'chatlines', 'chatter', 'chatting', 'cheap', 'cheaper', 'cheat', 'cheating', 'chechi', 'check', 'checkboxes', 'checked', 'checkin', 'checking', 'checkmate', 'checkup', 'cheek', 'cheer', 'cheered', 'cheers', 'cheery', 'cheese', 'cheesy', 'cheetos', 'chef', 'chennai', 'chennaibecause', 'chennaii', 'cheque', 'cherish', 'cherthalain', 'chess', 'chest', 'chex', 'cheyyamoand', 'chez', 'chg', 'chgs', 'chic', 'chick', 'chicken', 'chickened', 'chief', 'chik', 'chikku', 'chikkuali', 'chikkub', 'chikkudb', 'chikkugoing', 'chikkuil', 'chikkuk', 'chikkusimple', 'chikkuwat', 'child', 'childish', 'childporn', 'children', 'childs', 'chile', 'chill', 'chillaxin', 'chillin', 'china', 'chinatown', 'chinchillas', 'chinese', 'chinky', 'chiong', 'chip', 'chitchat', 'chk', 'chloe', 'chocolate', 'choice', 'choices', 'choose', 'choosing', 'chop', 'chords', 'chores', 'chosen', 'chrgd50p', 'christ', 'christians', 'christmas', 'christmasmerry', 'christmassy', 'chuck', 'chuckin', 'church', 'ciao', 'cin', 'cine', 'cinema', 'citizen', 'city', 'citylink', 'cl', 'claim', 'claimcode', 'claims', 'claire', 'clarification', 'clarify', 'clas', 'clash', 'class', 'classes', 'classic', 'classmates', 'claypot', 'cld', 'clean', 'cleaning', 'clear', 'cleared', 'clearer', 'clearing', 'clearly', 'clever', 'click', 'cliff', 'cliffs', 'clip', 'clock', 'clocks', 'clos1', 'close', 'closeby', 'closed', 'closedincluding', 'closer', 'closes', 'closingdate040902', 'cloth', 'clothes', 'cloud', 'clover', 'club', 'club4', 'club4mobilescom', 'clue', 'cm', 'cme', 'cmon', 'cn', 'cnl', 'cnn', 'co', 'coach', 'coast', 'coat', 'coaxing', 'cocacola', 'coccooning', 'cochin', 'cock', 'cocksuckers', 'coco', 'code', 'code4xx26', 'coffee', 'coherently', 'coimbatore', 'coin', 'coincidence', 'coins', 'colany', 'cold', 'coldheard', 'colin', 'collages', 'collapsed', 'colleagues', 'collect', 'collected', 'collecting', 'collection', 'colleg', 'college', 'collegexx', 'color', 'colour', 'colourful', 'colourredtextcolourtxtstar', 'colours', 'com', 'comb', 'combination', 'combine', 'come', 'comedy', 'comedycant', 'comei', 'comes', 'cometil', 'comfey', 'comfort', 'comin', 'coming', 'comingdown', 'comingtmorow', 'command', 'comment', 'commercial', 'commit', 'common', 'community', 'comp', 'companies', 'companion', 'company', 'compare', 'compass', 'compensation', 'competition', 'complacent', 'complain', 'complaining', 'complaint', 'complementary', 'complete', 'completed', 'completely', 'completes', 'completing', 'complexities', 'complimentary', 'compliments', 'compofstuff', 'comprehensive', 'compromised', 'compulsory', 'computational', 'computer', 'computerless', 'computers', 'comuk220cm2', 'conacted', 'concentrate', 'concentrating', 'concentration', 'concern', 'concerned', 'concert', 'conclusion', 'condition', 'conditionand', 'conditions', 'conducts', 'conected', 'conference', 'confidence', 'configure', 'confirm', 'confirmd', 'confirmdeny', 'confirmed', 'conform', 'confused', 'confuses', 'congrats', 'congratulations', 'connect', 'connected', 'connection', 'connections', 'cons', 'consensus', 'consent', 'conserve', 'consider', 'considering', 'consistently', 'console', 'constant', 'constantly', 'contact', 'contacted', 'contacts', 'contains', 'content', 'contented', 'contention', 'contents', 'continent', 'continue', 'continued', 'contract', 'contribute', 'control', 'convenience', 'conversations', 'converted', 'converter', 'convey', 'conveying', 'convince', 'convinced', 'convincing', 'convincingjust', 'cook', 'cooked', 'cookies', 'cooking', 'cool', 'coolmob', 'cooped', 'cooperative', 'copied', 'copies', 'coping', 'cops', 'copy', 'corect', 'cornwall', 'corporation', 'corrct', 'correct', 'correction', 'correctionor', 'correctly', 'corrupt', 'corvettes', 'cos', 'cosign', 'cost', 'costa', 'costing', 'costs', 'costume', 'costumes', 'costå', 'couch', 'cougarpen', 'cough', 'coughing', 'could', 'coulda', 'couldnt', 'couldnåõt', 'count', 'countin', 'countinlots', 'country', 'counts', 'coupla', 'couple', 'courage', 'courageous', 'course', 'court', 'courtroom', 'cousin', 'cover', 'coveragd', 'covers', 'coz', 'cozsomtimes', 'cozy', 'cps', 'cr', 'cr01327bt', 'cr9', 'crab', 'crack', 'craigslist', 'crammed', 'cramps', 'crap', 'crash', 'crashed', 'crashing', 'crave', 'craving', 'craziest', 'crazy', 'crazyin', 'cream', 'created', 'creative', 'creativity', 'cred', 'credit', 'credited', 'credits', 'creep', 'creepy', 'cresubi', 'cribbs', 'cricket', 'cricketer', 'crickiting', 'cried', 'crisis', 'crisisspk', 'cro1327', 'crore', 'cross', 'crossing', 'crowd', 'croydon', 'crucial', 'crucify', 'cruise', 'cruisin', 'crushes', 'cry', 'crying', 'cs', 'csh11', 'cst', 'cstore', 'ctagg', 'ctargg', 'cthen', 'ctla', 'cttargg', 'ctter', 'cttergg', 'cuck', 'cud', 'cuddle', 'cuddled', 'cuddling', 'cudnt', 'culdnt', 'cultures', 'cum', 'cumin', 'cumming', 'cup', 'cupboard', 'cuppa', 'curfew', 'curious', 'current', 'currently', 'curry', 'curtsey', 'cust', 'custcare', 'custcare08718720201', 'custom', 'customer', 'customercare', 'customers', 'customersqueriesnetvisionukcom', 'cut', 'cute', 'cutefrnd', 'cutest', 'cutie', 'cutter', 'cutting', 'cuz', 'cw25wx', 'cya', 'cyclists', 'cysts', 'da', 'daal', 'daalways', 'dabbles', 'dabooks', 'dad', 'daddy', 'dado', 'dads', 'dagood', 'dahe', 'dahow', 'dai', 'daily', 'dajst', 'dammit', 'damn', 'dan', 'danalla', 'dancce', 'dance', 'dancin', 'dancing', 'dane', 'dang', 'danger', 'dangerous', 'dao', 'daplease', 'dare', 'dark', 'darker', 'darkest', 'darkness', 'darlin', 'darling', 'darlings', 'darlinim', 'darren', 'dartboard', 'das', 'dasara', 'dat', 'data', 'date', 'datebox1282essexcm61xn', 'dates', 'dating', 'datingi', 'datoday', 'dats', 'daurgent', 'dave', 'dawhats', 'dawhere', 'dawns', 'day', 'day2', 'day2find', 'dayexcept', 'dayhas', 'days', 'dayshe', 'daysso', 'dayswill', 'daysì', 'daytime', 'dayu', 'daywith', 'dd', 'de', 'dead', 'deadwell', 'deal', 'dealer', 'dealers', 'dealfarm', 'dealing', 'deals', 'deam', 'dear', 'dear1', 'dearer', 'deari', 'dearloving', 'dearly', 'dearme', 'dearrakhesh', 'dearregret', 'dearshall', 'dearslp', 'deartake', 'deary', 'death', 'debating', 'dec', 'decades', 'december', 'decide', 'decided', 'deciding', 'decimal', 'decision', 'decisions', 'deck', 'decking', 'declare', 'decorating', 'dedicate', 'dedicated', 'deduct', 'deep', 'deepak', 'deepest', 'deer', 'deeraj', 'def', 'defeat', 'defer', 'definite', 'definitely', 'definitly', 'defo', 'degree', 'degrees', 'dehydrated', 'dehydration', 'del', 'delay', 'delayed', 'delete', 'deleted', 'delhi', 'delicious', 'deliver', 'delivered', 'deliveredtomorrow', 'delivery', 'deltomorrow', 'deluxe', 'dem', 'demand', 'den', 'dena', 'dengra', 'denis', 'dent', 'dental', 'dentist', 'dentists', 'denying', 'department', 'dependable', 'dependents', 'depends', 'deposit', 'deposited', 'depressed', 'depression', 'dept', 'der', 'derek', 'dereks', 'derp', 'describe', 'description', 'desert', 'deserve', 'designation', 'desires', 'desk', 'desparate', 'desparately', 'desperate', 'despite', 'dessert', 'destination', 'destiny', 'detail', 'detailed', 'details', 'detailsi', 'determine', 'determined', 'detroit', 'deus', 'develop', 'developed', 'developer', 'device', 'devils', 'devouring', 'dey', 'deyhope', 'deyi', 'dha', 'dhina', 'dhoni', 'dhorte', 'di', 'dial', 'dialling', 'dialogue', 'diamond', 'diamonds', 'diapers', 'dice', 'dick', 'dict', 'dictionary', 'diddy', 'didn', 'didnt', 'didntgive', 'didnåõt', 'didt', 'die', 'died', 'diesel', 'diet', 'dieting', 'diff', 'differ', 'differbe', 'difference', 'differences', 'different', 'difficult', 'difficulties', 'dificult', 'digi', 'digital', 'digits', 'dignity', 'dileepthank', 'dime', 'dimension', 'din', 'dine', 'dined', 'dinero', 'ding', 'dining', 'dinner', 'dinnermsg', 'dino', 'dint', 'dippeditinadew', 'dips', 'direct', 'directly', 'director', 'directors', 'dirt', 'dirtiest', 'dirty', 'dis', 'disagreeable', 'disappeared', 'disappointment', 'disaster', 'disasters', 'disastrous', 'disc', 'disclose', 'disconnect', 'disconnected', 'discount', 'discreet', 'discuss', 'discussed', 'diseases', 'diskyou', 'dislikes', 'dismay', 'dismissial', 'display', 'distance', 'distract', 'disturb', 'disturbancemight', 'disturbing', 'ditto', 'divert', 'division', 'divorce', 'diwali', 'dizzamn', 'dizzee', 'dl', 'dled', 'dlf', 'dload', 'dnt', 'dob', 'dobby', 'dobbys', 'doc', 'dock', 'docks', 'docs', 'doctor', 'doctors', 'documents', 'dodda', 'dodgey', 'doesdiscountshitinnit', 'doesn', 'doesnt', 'doesnåõt', 'dog', 'dogbreath', 'dogg', 'doggin', 'dogging', 'doggy', 'dogs', 'dogwood', 'doinat', 'doinghow', 'doingwhat', 'dointerested', 'doke', 'dokey', 'dollar', 'dollars', 'dolld', 'dolls', 'dom', 'domain', 'don', 'donate', 'done', 'donewant', 'donno', 'dont4get2text', 'dontcha', 'donyt', 'donåõt', 'dooms', 'door', 'doors', 'dorm', 'dormitory', 'dorothykiefercom', 'dose', 'dosomething', 'dot', 'double', 'doublefaggot', 'doublemins', 'doubles', 'doubletxt', 'doubt', 'doug', 'dough', 'download', 'downloaded', 'downloads', 'downon', 'downs', 'downstem', 'dozens', 'dps', 'dr', 'dracula', 'drama', 'dramastorms', 'dramatic', 'drastic', 'draw', 'drawplease', 'draws', 'dreading', 'dream', 'dreamlove', 'dreams', 'dreamsmuah', 'dreamsu', 'dreamz', 'dress', 'dressed', 'dresser', 'drink', 'drinkin', 'drinking', 'drinkpa', 'drinks', 'drive', 'driver', 'drivin', 'driving', 'drizzling', 'drms', 'drmstake', 'drop', 'dropped', 'drops', 'drove', 'drpd', 'drug', 'drugdealer', 'drugs', 'drum', 'drunk', 'drunkard', 'drunken', 'drvgsto', 'dry', 'dryer', 'dsnt', 'dt', 'dual', 'dub', 'dubsack', 'duchess', 'ducking', 'dude', 'dudes', 'dudette', 'due', 'duffer', 'dull', 'dumb', 'dump', 'dun', 'dungerees', 'dunno', 'duo', 'durban', 'durham', 'dusk', 'dust', 'duvet', 'dvd', 'dvg', 'dwn', 'dying', 'dysentry', 'e14', 'eachother', 'ear', 'earlier', 'earlierwe', 'earliest', 'early', 'earn', 'earning', 'ears', 'earth', 'earthsofa', 'easier', 'easiest', 'easily', 'east', 'eastenders', 'easter', 'easy', 'eat', 'eaten', 'eatin', 'eating', 'ebay', 'ec2a', 'echo', 'eckankar', 'ecstacy', 'ecstasy', 'edge', 'edhae', 'edison', 'edition', 'edrunk', 'education', 'educational', 'edukkukayee', 'edward', 'edwards', 'ee', 'eek', 'eerie', 'eerulli', 'effect', 'effects', 'efficient', 'efreefone', 'eg', 'eg23f', 'eg23g', 'egbon', 'egg', 'eggpotato', 'eggs', 'eggspert', 'ego', 'eh', 'eh74rr', 'eight', 'eighth', 'eightish', 'eire', 'either', 'el', 'ela', 'elaborate', 'elaborating', 'elaine', 'elama', 'elaya', 'eldest', 'election', 'elections', 'electricity', 'elephant', 'eleven', 'elliot', 'ello', 'else', 'elsewhere', 'elvis', 'em', 'email', 'emailed', 'embarassed', 'embarassing', 'embarrassed', 'embassy', 'emergency', 'emerging', 'emigrated', 'emily', 'emotion', 'employee', 'employers', 'empty', 'en', 'enamous', 'enc', 'end', 'ended', 'ending', 'endless', 'endowed', 'ends', 'enemies', 'enemy', 'energy', 'eng', 'engaged', 'engagement', 'engalnd', 'engin', 'england', 'english', 'enjoy', 'enjoyed', 'enjoyin', 'enjoying', 'enketa', 'enna', 'ennal', 'enough', 'enter', 'entered', 'enters', 'entertain', 'entertaining', 'entey', 'entire', 'entirely', 'entitled', 'entrepreneurs', 'entropication', 'entry', 'enufcredeit', 'enuff', 'envelope', 'envy', 'epi', 'epsilon', 'equally', 'er', 'ericson', 'ericsson', 'erm', 'erotic', 'err', 'error', 'errors', 'ertini', 'eruku', 'erupt', 'erutupalam', 'erything', 'esaplanade', 'escalator', 'escape', 'ese', 'eshxxxxxxxxxxx', 'especially', 'espell', 'esplanade', 'essay', 'essential', 'establish', 'eta', 'etc', 'eternal', 'ethnicity', 'ethreats', 'ettans', 'euro', 'euro2004', 'eurodisinc', 'europe', 'evaluation', 'evaporated', 'eve', 'eveb', 'evei', 'even', 'evening', 'evenings', 'event', 'events', 'eventually', 'ever', 'every', 'every1', 'everybody', 'everybodys', 'everyboy', 'everyday', 'everyone', 'everyones', 'everyso', 'everythin', 'everything', 'everytime', 'everywhere', 'evey', 'eviction', 'evil', 'evn', 'evng', 'evo', 'evone', 'evr', 'evrey', 'evry', 'evry1', 'evrydy', 'ew', 'ex', 'exact', 'exactly', 'exam', 'exams', 'excellent', 'except', 'exchanged', 'excited', 'exciting', 'excuse', 'excused', 'excuses', 'exe', 'executive', 'exercise', 'exeter', 'exhaust', 'exhausted', 'exhibition', 'exist', 'exmpel', 'exorcism', 'exorcist', 'exp', 'expect', 'expected', 'expecting', 'expects', 'expensive', 'experience', 'experiencehttpwwwvouch4mecometlpdiningasp', 'experiment', 'expert', 'expired', 'expiredso', 'expires', 'expiry', 'explain', 'explicit', 'explicitly', 'explosive', 'exposed', 'exposes', 'express', 'expression', 'ext', 'exterminator', 'extra', 'extract', 'extreme', 'exwife', 'ey', 'eye', 'eyeddont', 'eyes', 'eå', 'fa', 'fab', 'faber', 'face', 'faceasssssholeeee', 'facebook', 'facilities', 'fact', 'factory', 'facts', 'faded', 'faggy', 'faglord', 'failed', 'failing', 'fails', 'failure', 'fainting', 'fair', 'faith', 'faithevening', 'fake', 'fakemy', 'fakeyes', 'fal', 'falconerf', 'fall', 'fallen', 'falling', 'falls', 'fals', 'famamus', 'familiar', 'family', 'familymay', 'famous', 'fan', 'fancied', 'fancies', 'fancy', 'fans', 'fantasies', 'fantastic', 'fantasy', 'far', 'farm', 'farrell', 'farting', 'fassyole', 'fast', 'faster', 'fastest', 'fastpls', 'fat', 'fated', 'father', 'fathima', 'fats', 'fatty', 'fault', 'faultal', 'faultfed', 'fav', 'fave', 'favor', 'favorite', 'favour', 'favourite', 'fb', 'fear', 'feathery', 'features', 'feb', 'febapril', 'february', 'fedex', 'feed', 'feel', 'feelin', 'feeling', 'feelingwavering', 'feels', 'fees', 'feet', 'fell', 'fellow', 'felt', 'female', 'feng', 'festival', 'fetch', 'fetching', 'fever', 'fffff', 'ffffffffff', 'ffffuuuuuuu', 'fgkslpo', 'fgkslpopw', 'fidalfication', 'field', 'fieldof', 'fiendmake', 'fifa', 'fifteen', 'fifth', 'fifty', 'fight', 'fighting', 'fightng', 'fights', 'figure', 'figures', 'figuring', 'file', 'files', 'fill', 'filled', 'filling', 'fills', 'film', 'films', 'filth', 'filthy', 'filthyguys', 'final', 'finalise', 'finally', 'finance', 'financial', 'find', 'finding', 'finds', 'fine', 'fineabsolutly', 'fineinshah', 'finest', 'finewhen', 'fingers', 'finish', 'finishd', 'finished', 'finishes', 'finishing', 'fink', 'finns', 'fire', 'fired', 'firefox', 'fireplace', 'firesare', 'firmware', 'firsg', 'first', 'fish', 'fishhead', 'fishrman', 'fit', 'fiting', 'five', 'fix', 'fixd', 'fixed', 'fixedline', 'fixes', 'fizz', 'flag', 'flaked', 'flaky', 'flame', 'flash', 'flat', 'flatter', 'flavour', 'flea', 'fletcher', 'flew', 'flies', 'flight', 'flights', 'flim', 'flip', 'flippin', 'flirt', 'flirting', 'floating', 'flood', 'floor', 'floppy', 'florida', 'flow', 'flower', 'flowers', 'flowing', 'fluids', 'flung', 'flurries', 'flute', 'fly', 'flyim', 'flying', 'flyng', 'fml', 'fmyou', 'fne', 'fo', 'fold', 'foley', 'folks', 'follow', 'followed', 'followin', 'following', 'follows', 'fond', 'fondly', 'fone', 'foned', 'fones', 'food', 'fool', 'fooled', 'fools', 'foot', 'football', 'footblcrckt', 'footie', 'footprints', 'footy', 'force', 'forced', 'foregate', 'foreign', 'forever', 'forevr', 'forfeit', 'forget', 'forgets', 'forgive', 'forgiven', 'forgiveness', 'forgot', 'forgotten', 'forgt', 'formal', 'formallypls', 'format', 'formatting', 'formclark', 'forms', 'formsdon', 'forth', 'fortune', 'forum', 'forums', 'forward', 'forwarded', 'forwarding', 'forå', 'found', 'four', 'fourth', 'foward', 'fowler', 'fox', 'fps', 'fr', 'fraction', 'fran', 'frankgood', 'frankie', 'franxx', 'franyxxxxx', 'frauds', 'freak', 'freaked', 'freaking', 'freaky', 'fredericksburg', 'free', 'free2day', 'freedom', 'freeentry', 'freefone', 'freek', 'freely', 'freemessage', 'freemsg', 'freemsgfav', 'freemsgfeelin', 'freenokia', 'freephone', 'freeringtone', 'freeringtonereply', 'freesend', 'freezing', 'fren', 'french', 'frens', 'frequently', 'fresh', 'freshers', 'fret', 'fri', 'friday', 'fridayhope', 'fridays', 'fridge', 'fried', 'friend', 'friendofafriend', 'friends', 'friendsare', 'friendship', 'friendshipmotherfatherteacherschildrens', 'friendships', 'fring', 'fringe', 'frm', 'frnd', 'frnds', 'frndship', 'frndshp', 'frndsship', 'frndz', 'frnt', 'fro', 'frog', 'frogaxel', 'fromm', 'front', 'frontierville', 'frosty', 'frwd', 'frying', 'ft', 'fuck', 'fucked', 'fuckin', 'fucking', 'fuckinniceselfish', 'fucks', 'fudge', 'fuelled', 'fujitsu', 'ful', 'fulfil', 'full', 'fullonsmscom', 'fumbling', 'fun', 'function', 'functions', 'fund', 'fundamentals', 'funeral', 'funk', 'funky', 'funny', 'funs', 'furniture', 'fusion', 'future', 'fuuuuck', 'fwiw', 'fyi', 'g2', 'g696ga', 'ga', 'gail', 'gailxx', 'gain', 'gained', 'gal', 'galcan', 'galileo', 'galno', 'gals', 'galsu', 'gam', 'game', 'games', 'gamestar', 'gandhipuram', 'ganesh', 'gang', 'gap', 'gaps', 'garage', 'garbage', 'garden', 'gari', 'garments', 'gary', 'gas', 'gastroenteritis', 'gate', 'gauge', 'gautham', 'gave', 'gay', 'gayle', 'gays', 'gaytextbuddycom', 'gaze', 'gb', 'gbp', 'gbp150week', 'gbp450week', 'gbp5month', 'gbpsms', 'gbpweek', 'gd', 'gdnow', 'gdthe', 'ge', 'gee', 'geeee', 'geeeee', 'geelater', 'gei', 'gek1510', 'gender', 'general', 'generally', 'genes', 'genius', 'gent', 'gentle', 'gentleman', 'gently', 'genuine', 'genus', 'geoenvironmental', 'georges', 'gep', 'ger', 'germany', 'get', 'get4an18th', 'getiing', 'geting', 'gets', 'getsleep', 'getstop', 'gettin', 'getting', 'getzedcouk', 'gf', 'ghodbandar', 'ghost', 'gibbs', 'gibe', 'gift', 'gifted', 'gifts', 'giggle', 'gigolo', 'gimme', 'gimmi', 'gin', 'girl', 'girld', 'girlfrnd', 'girlie', 'girls', 'gist', 'giv', 'give', 'given', 'gives', 'giving', 'givits', 'glad', 'glands', 'glasgow', 'glass', 'glo', 'global', 'glorious', 'glory', 'gloucesterroad', 'gm', 'gmgngegn', 'gmw', 'gn', 'gnarls', 'go', 'go2', 'go2sri', 'goa', 'goal', 'goals', 'goalsteam', 'gobi', 'god', 'godi', 'godnot', 'gods', 'godtaken', 'godyou', 'goes', 'goggles', 'goigng', 'goin', 'goin2bed', 'going', 'gokila', 'gold', 'golddigger', 'golden', 'goldviking', 'golf', 'gon', 'gona', 'gone', 'goneu', 'gong', 'gonna', 'gonnamissu', 'good', 'gooddhanush', 'goodenvironment', 'goodevening', 'goodfine', 'goodfriend', 'goodies', 'goodmate', 'goodmorning', 'goodmorningmy', 'goodnight', 'goodnite', 'goodno', 'goodnoon', 'goodo', 'goods', 'goodtimeoli', 'goodwhen', 'google', 'gopalettan', 'gorgeous', 'gosh', 'gossip', 'gossx', 'got', 'gota', 'gotany', 'gotmarried', 'goto', 'gotta', 'gotten', 'gotto', 'goverment', 'govtinstituitions', 'gowait', 'gower', 'gprs', 'gpu', 'gr8', 'gr8fun', 'gr8prizes', 'grab', 'grace', 'graduated', 'grahmbell', 'gram', 'grams', 'gran', 'grand', 'grandfather', 'grandma', 'grandmas', 'granite', 'granted', 'graphics', 'grasp', 'grateful', 'grave', 'gravel', 'gravity', 'gravy', 'gray', 'grazed', 'gre', 'great', 'greatbhaji', 'greatbye', 'greatest', 'greatly', 'greatness', 'greece', 'green', 'greeni', 'greet', 'greeting', 'greetings', 'grief', 'grinder', 'grins', 'grinule', 'grl', 'grocers', 'grooved', 'groovy', 'groovying', 'ground', 'groundamla', 'group', 'grow', 'growing', 'grown', 'grownup', 'growrandom', 'grr', 'grumble', 'grumpy', 'gs', 'gsex', 'gsoh', 'gt', 'gua', 'guai', 'guaranteed', 'gucci', 'gud', 'gudk', 'gudni8', 'gudnite', 'gudnitetcpractice', 'gudnyt', 'guess', 'guessed', 'guesses', 'guessin', 'guessing', 'guidance', 'guide', 'guides', 'guild', 'guilty', 'guitar', 'gumbys', 'guoyang', 'gurl', 'gut', 'guy', 'guys', 'gv', 'gving', 'gwr', 'gym', 'gymnastics', 'gynae', 'gyno', 'ha', 'habbahw', 'habit', 'hack', 'hadnt', 'hadya', 'haf', 'haha', 'hahahause', 'hahatake', 'hai', 'hail', 'hair', 'haircut', 'hairdressers', 'haiyoh', 'haiz', 'half', 'half8th', 'hall', 'halla', 'hallaq', 'halloween', 'ham', 'hamper', 'hamster', 'hand', 'handed', 'handing', 'handle', 'hands', 'handset', 'handsome', 'handsomes', 'hang', 'hanger', 'hangin', 'hanging', 'hanks', 'hannaford', 'hanumanji', 'happen', 'happend', 'happened', 'happenin', 'happening', 'happens', 'happier', 'happiest', 'happily', 'happiness', 'happy', 'hard', 'hardcore', 'harder', 'hardest', 'hardly', 'hari', 'harishs', 'harlem', 'harri', 'harry', 'hasbroin', 'hasnt', 'hassling', 'hat', 'hate', 'hates', 'haughaighgtujhyguj', 'haul', 'haunt', 'hav', 'hava', 'havent', 'haventcn', 'havenåõt', 'havin', 'havnt', 'hcl', 'hdd', 'head', 'headache', 'headin', 'heading', 'heads', 'headset', 'headstart', 'heal', 'healer', 'healthy', 'heap', 'hear', 'heard', 'hearin', 'hearing', 'heart', 'hearted', 'heartgn', 'heartheart', 'hearts', 'heartsnot', 'heat', 'heater', 'heaven', 'heavily', 'heavy', 'hectic', 'hee', 'heehee', 'height', 'held', 'helen', 'helens', 'hell', 'hella', 'hello', 'hellodrivby0quit', 'helloed', 'hellogorgeous', 'hellohow', 'helloooo', 'helloyou', 'help', 'help08700469649', 'help08700621170150p', 'help08712400602450p', 'help08714742804', 'help08718728876', 'helpful', 'helping', 'helpline', 'helps', 'heltiniiyo', 'hen', 'hence', 'henry', 'hep', 'herepls', 'hereremember', 'herethanksi', 'heri', 'herlove', 'hermy', 'heroes', 'heroi', 'heron', 'hershe', 'herwho', 'herwill', 'hes', 'hesitant', 'hesitate', 'hesitation', 'hex', 'hey', 'heygreat', 'heåõs', 'hgsuite3422lands', 'hgsuite3422landsroww1j6hl', 'hhahhaahahah', 'hi', 'hicts', 'hidden', 'hide', 'hides', 'hidid', 'hiding', 'high', 'highest', 'hii', 'hilariousalso', 'hill', 'hills', 'hillsborough', 'himso', 'himthen', 'hint', 'hip', 'hiphop', 'hire', 'hisher', 'history', 'hit', 'hitechnical', 'hitler', 'hitman', 'hits', 'hitteranyway', 'hittng', 'hiwhat', 'hiya', 'hl', 'hlday', 'hlp', 'hm', 'hme', 'hmm', 'hmmbad', 'hmmm', 'hmmmbut', 'hmmmhow', 'hmmmkbut', 'hmmmm', 'hmmmstill', 'hmmmy', 'hmph', 'hmv', 'hmv1', 'ho', 'hockey', 'hogidhechinnu', 'hogli', 'hogolo', 'hol', 'holby', 'hold', 'holder', 'holding', 'hole', 'holiday', 'holidayso', 'holla', 'hollalater', 'hols', 'holy', 'home', 'homebut', 'homecheck', 'homeleft', 'homelove', 'homeowners', 'homewot', 'hon', 'honest', 'honestly', 'honesty', 'honey', 'honeybee', 'honeydid', 'honeymoon', 'honi', 'hont', 'hoo', 'hooch', 'hoody', 'hook', 'hooked', 'hoops', 'hop', 'hope', 'hopeafternoon', 'hoped', 'hopeful', 'hopefully', 'hopeing', 'hopes', 'hopeu', 'hoping', 'hor', 'horniest', 'horny', 'horo', 'horrible', 'horse', 'hos', 'hospital', 'hospitals', 'hostbased', 'hostel', 'hostile', 'hot', 'hotel', 'hotels', 'hotmix', 'hottest', 'hour', 'hourish', 'hours', 'house', 'houseful', 'housemaid', 'housewives', 'housework', 'housing', 'howard', 'howda', 'howdy', 'however', 'howre', 'hows', 'howve', 'howz', 'hp', 'hp20', 'hppnss', 'hr', 'hrishi', 'hrs', 'hsbc', 'html', 'httpalto18coukwavewaveaspo44345', 'httpcareers', 'httpdoit', 'httpgotbabescouk', 'httpimg', 'httptms', 'httpwap', 'httpwwwbubbletextcom', 'httpwwwetlpcoukexpressoffer', 'httpwwwetlpcoukreward', 'httpwwwgr8prizescom', 'httpwwwurawinnercom', 'httpwwwwtlpcouktext', 'hu', 'huai', 'hubby', 'hubbys', 'hudgi', 'hug', 'huge', 'hugging', 'hugh', 'hugs', 'huh', 'hui', 'huiming', 'hum', 'humanities', 'humans', 'hun', 'hundred', 'hundredhe', 'hundreds', 'hungover', 'hungry', 'hunks', 'hunlove', 'hunny', 'hunnyhope', 'hunnywot', 'hunonbus', 'hunt', 'hunting', 'hurricanes', 'hurried', 'hurry', 'hurt', 'hurting', 'hurts', 'husband', 'hussey', 'hustle', 'hut', 'hv', 'hvae', 'hw', 'hwd', 'hwkeep', 'hyde', 'hypertension', 'hypotheticalhuagauahahuagahyuhagga', 'iam', 'ias', 'ibh', 'ibhltd', 'ibiza', 'ibm', 'ibn', 'ibored', 'ibuprofens', 'ic', 'iccha', 'ice', 'icic', 'icicibankcom', 'icky', 'icon', 'id', 'idc', 'idconvey', 'idea', 'ideal', 'ideas', 'identification', 'identifier', 'idiot', 'idk', 'idps', 'idu', 'ie', 'iff', 'ifink', 'ifwhenhow', 'ig11', 'ignorant', 'ignore', 'ignoring', 'ijust', 'ikea', 'ikno', 'iknow', 'il', 'ileave', 'ill', 'illness', 'ilol', 'ima', 'image', 'images', 'imaginationmy', 'imagine', 'imat', 'imf', 'imin', 'imma', 'immed', 'immediately', 'immunisation', 'imp', 'impatient', 'implications', 'important', 'importantly', 'imposed', 'impossible', 'imposter', 'impress', 'impressed', 'impression', 'impressively', 'improve', 'improved', 'imprtant', 'in2', 'inc', 'inch', 'inches', 'incident', 'inclu', 'include', 'includes', 'including', 'inclusive', 'incomm', 'inconsiderate', 'inconvenience', 'inconvenient', 'incorrect', 'increase', 'incredible', 'increments', 'inde', 'indeed', 'independence', 'independently', 'india', 'indian', 'indianpls', 'indians', 'indicate', 'individual', 'individualtime', 'indyarockscom', 'inever', 'infact', 'infections', 'infernal', 'influx', 'info', 'inforingtonekingcouk', 'inform', 'information', 'informed', 'informedrgdsrakheshkerala', 'infotxt82228couk', 'infovipclub4u', 'infowww100percentrealcom', 'infra', 'infront', 'ing', 'ingredients', 'initiate', 'ink', 'inlude', 'inmind', 'inner', 'innings', 'innocent', 'innu', 'inour', 'inperialmusic', 'inpersonation', 'inr', 'insects', 'insha', 'inshah', 'inside', 'inspection', 'inst', 'install', 'installation', 'installing', 'instant', 'instantly', 'instead', 'instructions', 'insurance', 'intelligent', 'intend', 'intention', 'intentions', 'interest', 'interested', 'interesting', 'interflora', 'interfued', 'internal', 'internet', 'internetservice', 'interview', 'interviews', 'interviw', 'intha', 'intimate', 'intrepid', 'intro', 'intrude', 'invaders', 'invention', 'invest', 'investigate', 'invitation', 'invite', 'invited', 'inviting', 'invnted', 'invoices', 'involve', 'involved', 'iouri', 'ip', 'ip4', 'ipad', 'ipaditan', 'ipads', 'iphone', 'ipod', 'iq', 'iraq', 'ireneere', 'iriver', 'iron', 'ironing', 'irritated', 'irritates', 'irritating', 'irritation', 'irulinae', 'isaiahd', 'isare', 'iscoming', 'ish', 'ishtamayoohappy', 'island', 'islands', 'islove', 'isn', 'isnt', 'isnåõt', 'issue', 'issues', 'it', 'italian', 'itboth', 'itcould', 'items', 'iter', 'ithis', 'iti', 'itjust', 'itleave', 'itlet', 'itll', 'itmail', 'itmay', 'itna', 'itnow', 'itor', 'itplspls', 'itried2tell', 'itsnot', 'ittb', 'itu', 'itwhichturnedinto', 'itxt', 'itxx', 'itz', 'itåõs', 'ivatte', 'ive', 'iwana', 'iwasmarinethatåõs', 'iz', 'izzit', 'iåõd', 'iåõllspeak', 'iåõm', 'iåõve', 'j89', 'jabo', 'jack', 'jacket', 'jackpot', 'jackson', 'jacuzzi', 'jada', 'jade', 'jaklin', 'jam', 'james', 'jamster', 'jamstercouk', 'jamsterget', 'jamz', 'jan', 'janarige', 'jane', 'janinexx', 'january', 'janx', 'jap', 'japanese', 'jason', 'java', 'jay', 'jaya', 'jaykwon', 'jays', 'jaz', 'jazz', 'jb', 'jd', 'je', 'jealous', 'jeans', 'jeetey', 'jeevithathile', 'jelly', 'jen', 'jenne', 'jenny', 'jeremiah', 'jeri', 'jerk', 'jerry', 'jersey', 'jess', 'jesus', 'jet', 'jetton', 'jewelry', 'jez', 'ji', 'jia', 'jiayin', 'jide', 'jiu', 'jjc', 'jo', 'joanna', 'job', 'jobs', 'jocks', 'jod', 'jog', 'jogging', 'john', 'johnåósounds', 'join', 'joined', 'joinedhope', 'joinedso', 'joining', 'joke', 'joker', 'jokes', 'jokethet', 'jokin', 'joking', 'jolly', 'jolt', 'jon', 'jones', 'jontin', 'jordan', 'jordantxt', 'jorgeshock', 'jos', 'jot', 'journey', 'joy', 'joys', 'jp', 'js', 'jsco', 'jst', 'jstfrnd', 'jsut', 'juan', 'judgementali', 'juicy', 'jules', 'juliana', 'julianaland', 'july', 'jump', 'jumpers', 'june', 'jungle', 'junna', 'jurong', 'jus', 'justbeen', 'justify', 'juswoke', 'juz', 'k52', 'k61', 'k718', 'kaaj', 'kadeem', 'kafter', 'kaiez', 'kaila', 'kaitlyn', 'kalaachutaarama', 'kalainar', 'kalisidare', 'kall', 'kallis', 'kalstiyathen', 'kama', 'kanagu', 'kane', 'kanji', 'kano', 'kanoanyway', 'kanoil', 'kanowhr', 'kappa', 'karaoke', 'karnan', 'karo', 'kate', 'katexxx', 'kath', 'kavalan', 'kay', 'kaypoh', 'kb', 'kbut', 'kdo', 'ke', 'keen', 'keep', 'keeping', 'keeps', 'kegger', 'keluviri', 'keng', 'kens', 'kent', 'kept', 'kerala', 'keralacircle', 'keris', 'kettoda', 'key', 'keypad', 'keys', 'keyword', 'kfc', 'kg', 'kgive', 'kgood', 'khelate', 'ki', 'kicchu', 'kick', 'kickboxing', 'kickoff', 'kicks', 'kid', 'kidding', 'kids', 'kidz', 'kill', 'killed', 'killing', 'kills', 'kilos', 'kim', 'kind', 'kinda', 'kindly', 'king', 'kingdom', 'kintu', 'kiosk', 'kip', 'kisi', 'kiss', 'kisses', 'kissing', 'kit', 'kits', 'kittum', 'kitty', 'kkadvance', 'kkany', 'kkapo', 'kkare', 'kkcongratulation', 'kkfrom', 'kkgoodstudy', 'kkhow', 'kkim', 'kkits', 'kkthis', 'kkwhat', 'kkwhen', 'kkwhere', 'kkwhy', 'kkyesterday', 'kl341', 'knackered', 'knees', 'knew', 'knickers', 'knock', 'knocking', 'know', 'knowhe', 'knowing', 'known', 'knows', 'knowthis', 'knowwait', 'knowyetunde', 'knw', 'ko', 'kochi', 'kodstini', 'kodthini', 'konw', 'korche', 'korean', 'korli', 'korte', 'kotees', 'kothi', 'kr', 'ksry', 'kthen', 'ktv', 'ku', 'kuch', 'kudiyarasu', 'kusruthi', 'kvb', 'kwish', 'kyou', 'kz', 'l8', 'l8er', 'l8r', 'l8tr', 'la', 'la1', 'la3', 'la32wu', 'lab', 'labor', 'lac', 'lacking', 'lacsthats', 'lacsthere', 'laden', 'ladies', 'ladiesu', 'lady', 'lag', 'lage', 'lager', 'laid', 'laidwant', 'lakhs', 'lambda', 'lambu', 'lamp', 'lancaster', 'land', 'landing', 'landline', 'landlineonly', 'landlines', 'landmark', 'lands', 'lane', 'langport', 'language', 'lanka', 'lanre', 'lap', 'lapdancer', 'laptop', 'lar', 'lara', 'laready', 'large', 'largest', 'lark', 'lasagna', 'last', 'lastest', 'lasting', 'late', 'latebut', 'latei', 'lately', 'latelyxxx', 'later', 'lateso', 'latest', 'latests', 'latr', 'laugh', 'laughed', 'laughing', 'laughs', 'laundry', 'laurie', 'lautech', 'lavender', 'law', 'laxinorficated', 'lay', 'laying', 'lays', 'lazy', 'lccltd', 'ldn', 'ldnw15h', 'le', 'lead', 'leadership', 'leading', 'leads', 'leafdayno', 'league', 'leannewhat', 'learn', 'learned', 'least', 'least5times', 'leastwhich', 'leave', 'leaves', 'leaving', 'lect', 'lecture', 'lecturer', 'left', 'leftovers', 'leg', 'legal', 'legitimat', 'legs', 'leh', 'lehhaha', 'lei', 'lekdog', 'lemme', 'length', 'lengths', 'lennon', 'leo', 'leona', 'leonardo', 'leonas', 'les', 'less', 'lesser', 'lesson', 'lessons', 'let', 'lets', 'letter', 'letters', 'leu', 'level', 'li', 'liao', 'liaoso', 'liaotoo', 'lib', 'libertines', 'library', 'lick', 'licks', 'lido', 'lie', 'lies', 'life', 'lifeand', 'lifebook', 'lifeis', 'lifethis', 'lifetime', 'lifeyou', 'lifpartnr', 'lift', 'lifted', 'lifting', 'light', 'lighters', 'lightly', 'lik', 'like', 'liked', 'likely', 'likes', 'likeyour', 'likingbe', 'lil', 'lily', 'lim', 'limit', 'limited', 'limiting', 'limits', 'limping', 'lindsay', 'line', 'linear', 'lined', 'linerental', 'lines', 'lineyou', 'lingerie', 'lingo', 'link', 'links', 'linux', 'lion', 'lionm', 'lionp', 'lions', 'lip', 'lipo', 'lips', 'liquor', 'list', 'listed', 'listen', 'listener', 'listening', 'listening2the', 'listn', 'lists', 'lit', 'literally', 'litres', 'little', 'live', 'lived', 'liver', 'liverpool', 'lives', 'living', 'lk', 'lkpobox177hp51fl', 'll', 'lm', 'lmao', 'lmaonice', 'lnly', 'lo', 'load', 'loads', 'loan', 'loans', 'lobby', 'local', 'location', 'locations', 'locaxx', 'lock', 'locks', 'lodge', 'lodging', 'log', 'logged', 'logging', 'login', 'logo', 'logoff', 'logon', 'logopic', 'logos', 'logosmusicnews', 'loko', 'lol', 'lolnice', 'lololo', 'londn', 'london', 'loneliness', 'lonely', 'long', 'longer', 'lonlines', 'loo', 'look', 'lookatme', 'looked', 'lookin', 'looking', 'looks', 'lool', 'loooooool', 'looovvve', 'loose', 'loosing', 'loosu', 'lor', 'lord', 'lorgoin', 'lorwe', 'lose', 'losers', 'loses', 'losing', 'loss', 'lost', 'lot', 'loti', 'lotr', 'lots', 'lotsly', 'lotta', 'lotto', 'lotwill', 'lotz', 'lou', 'loud', 'lounge', 'lousy', 'lov', 'lovable', 'love', 'loveable', 'loved', 'lovejen', 'lovely', 'loveme', 'lover', 'loverakhesh', 'loverboy', 'lovers', 'loves', 'lovin', 'loving', 'lovingly', 'lovly', 'low', 'lowcost', 'lower', 'lowes', 'loxahatchee', 'loyal', 'loyalty', 'ls1', 'ls15hb', 'ls278bb', 'lst', 'lt', 'lt3', 'ltd', 'ltdecimalgt', 'ltdhelpdesk', 'ltdå', 'ltemailgt', 'ltgt', 'lttimegt', 'lttrs', 'lturlgt', 'lubly', 'luck', 'luck2', 'luckily', 'lucky', 'lucozade', 'lucozadecoukwrc', 'lucy', 'lucyxx', 'luks', 'lul', 'lunch', 'lunchtime', 'lunchyou', 'lunsford', 'lush', 'luton', 'luv', 'luvd', 'luvnight', 'luvs', 'lux', 'luxury', 'lv', 'lvblefrnd', 'lyf', 'lyfu', 'lying', 'lyk', 'lyricalladie21f', 'lyrics', 'm100', 'm221bp', 'm227xy', 'm26', 'm263uz', 'm39m51', 'm6', 'm8', 'm8s', 'm95', 'maaaan', 'maangalyam', 'maat', 'mac', 'macedonia', 'macha', 'machan', 'machiany', 'machines', 'macho', 'mack', 'macleran', 'macs', 'mad', 'mad1', 'mad2', 'madam', 'madamregret', 'made', 'madodu', 'madoke', 'madstini', 'madthen', 'mag', 'maga', 'magazine', 'maggi', 'magic', 'magical', 'magicalsongsblogspotcom', 'mah', 'mahal', 'mahfuuzmeaning', 'mail', 'mailbox', 'mailed', 'maili', 'mails', 'main', 'maintain', 'maintaining', 'major', 'make', 'makes', 'makiing', 'makin', 'making', 'malaria', 'malarky', 'male', 'mall', 'mallika', 'man', 'manage', 'manageable', 'managed', 'management', 'manchester', 'manda', 'mandan', 'mandara', 'mandy', 'maneesha', 'manege', 'mango', 'maniac', 'manky', 'manual', 'many', 'map', 'mapquest', 'maps', 'maraikara', 'marandratha', 'march', 'maretare', 'margaret', 'margin', 'mark', 'market', 'marketing', 'marking', 'marley', 'marrgeremembr', 'marriage', 'marriageprogram', 'married', 'marry', 'marsms', 'marvel', 'mary', 'mas', 'masked', 'massages', 'massagetiepos', 'massive', 'masteriastering', 'masters', 'mat', 'match', 'matched', 'matches', 'mate', 'mates', 'math', 'mathe', 'mathematics', 'mathews', 'maths', 'matra', 'matric', 'matrix3', 'matter', 'mattermsg', 'matters', 'matthew', 'matured', 'maturity', 'max', 'max10mins', 'max6month', 'maximize', 'maximum', 'maxå', 'may', 'mayb', 'maybe', 'mb', 'mc', 'mca', 'mcat', 'mcr', 'meal', 'meals', 'mean', 'meaning', 'meaningful', 'meaningless', 'means', 'meant', 'meanwhile', 'meare', 'measure', 'meat', 'meatballs', 'mecause', 'med', 'medical', 'medicine', 'medont', 'meds', 'mee', 'meet', 'meetgreet', 'meetin', 'meeting', 'meetins', 'meetitz', 'meets', 'mega', 'meh', 'mei', 'meim', 'meis', 'meive', 'mel', 'melike', 'melle', 'melnite', 'melody', 'melt', 'member', 'members', 'membership', 'membershiptake', 'memorable', 'memories', 'memory', 'men', 'meneed', 'mens', 'mental', 'mention', 'mentionedtomorrow', 'mentionned', 'mentor', 'menu', 'meok', 'meow', 'meowd', 'merely', 'merememberin', 'meremove', 'merry', 'mesages', 'meshe', 'meso', 'mess', 'message', 'messaged', 'messageit', 'messageits', 'messageno', 'messagepandy', 'messages', 'messagesim', 'messagesome', 'messagestext', 'messagethanks', 'messaging', 'messed', 'messenger', 'messy', 'met', 'method', 'meummifyingbye', 'mf', 'mfl', 'mgs', 'mi', 'mia', 'michael', 'mid', 'middle', 'midnight', 'mids', 'might', 'miiiiiiissssssssss', 'mila', 'mileage', 'miles', 'milk', 'milkdayno', 'millers', 'million', 'millions', 'miltazindgi', 'min', 'mina', 'minapn', 'mind', 'minded', 'mindsetbelieve', 'mine', 'mineall', 'minecraft', 'mines', 'mini', 'minimum', 'minnaminunginte', 'minor', 'mins', 'mins100txtmth', 'minstand', 'minstexts', 'mint', 'minus', 'minute', 'minutes', 'minuts', 'miracle', 'mirror', 'mis', 'misbehaved', 'miserable', 'misfits', 'mising', 'misplaced', 'miss', 'misscall', 'missed', 'missin', 'missing', 'missionary', 'missions', 'misss', 'misstake', 'missunderstding', 'missy', 'mist', 'mistake', 'mistakes', 'mistakeu', 'misundrstud', 'mite', 'mitsake', 'mittelschmertz', 'miwa', 'mix', 'mj', 'mjzgroup', 'mk45', 'ml', 'mm', 'mmm', 'mmmm', 'mmmmm', 'mmmmmm', 'mmmmmmm', 'mmsto', 'mns', 'mnth', 'mnths', 'mo', 'moan', 'mob', 'mobcudb', 'mobile', 'mobiles', 'mobilesdirect', 'mobilesvary', 'mobileupd8', 'mobno', 'mobs', 'mobsicom', 'mobstorequiz10ppm', 'moby', 'mode', 'model', 'modelsony', 'modl', 'module', 'modules', 'mofo', 'moji', 'mojibiola', 'mokka', 'molestedsomeone', 'mom', 'moment', 'moments', 'moms', 'mon', 'monday', 'mondaynxt', 'moneeppolum', 'money', 'moneyas', 'moneyi', 'monkeespeople', 'monkey', 'monkeyaround', 'monkeys', 'monl8rsx', 'mono', 'monoc', 'monos', 'monster', 'month', 'monthly', 'monthlysubscription50pmsg', 'monthnot', 'months', 'mood', 'moon', 'moons', 'moral', 'moraldont', 'moralone', 'morn', 'mornin', 'morning', 'mornings', 'morningtake', 'morphine', 'moseley', 'mostly', 'mother', 'motherfucker', 'motherinlaw', 'motivate', 'motivating', 'motive', 'motor', 'motorola', 'mountain', 'mountains', 'mouse', 'mouth', 'move', 'moved', 'moves', 'movie', 'movies', 'moviewat', 'moving', 'mp3', 'mquiz', 'mr', 'mre', 'mrng', 'mrt', 'mrur', 'ms', 'msg', 'msg150p', 'msging', 'msgrcvd18', 'msgs', 'msgs150p', 'msgsd', 'msgsometext', 'msgsubscription', 'msgticketkioskvalid', 'msgwe', 'msgå', 'msn', 'mssuman', 'mt', 'mtalk', 'mth', 'mths', 'mtnl', 'mu', 'much', 'muchand', 'muchi', 'muchimpede', 'muchxxlove', 'mudyadhu', 'mufti', 'muhommad', 'muht', 'multimedia', 'multiply', 'multis', 'mum', 'mumbai', 'mumhas', 'mummy', 'mummys', 'mums', 'mumtaz', 'mumtazs', 'mundhe', 'munsters', 'murali', 'murder', 'murdered', 'murderer', 'mus', 'mush', 'mushy', 'music', 'musical', 'must', 'musta', 'musthu', 'mustprovide', 'mutai', 'mutations', 'muz', 'mw', 'mwahs', 'mylife', 'mymoby', 'myparents', 'mys', 'myspace', 'mystery', 'mytonecomenjoy', 'n8', 'na', 'naal', 'nachos', 'nag', 'nagar', 'nah', 'nahi', 'nails', 'naked', 'nalla', 'nalli', 'name', 'name1', 'name2', 'named', 'namemy', 'names', 'nammanna', 'nan', 'nange', 'nanny', 'nannys', 'nap', 'narcotics', 'nasdaq', 'naseeb', 'nasty', 'nat', 'natalie', 'natalja', 'national', 'nationwide', 'nattil', 'natuition', 'natural', 'nature', 'natwest', 'naughty', 'nauseous', 'nav', 'navigate', 'nb', 'nbme', 'nd', 'ne', 'near', 'nearby', 'nearer', 'nearly', 'necesity', 'necessarily', 'necessary', 'necessity', 'neck', 'necklace', 'ned', 'need', 'needa', 'needed', 'neededsalary', 'needing', 'needle', 'needs', 'needy', 'neekunna', 'neft', 'negative', 'neglect', 'neglet', 'neighbor', 'neighbors', 'neither', 'nelson', 'neo69', 'nervous', 'neshanthtel', 'net', 'netcollex', 'netflix', 'nething', 'netno', 'network', 'networking', 'networks', 'neva', 'never', 'nevering', 'neville', 'nevr', 'new', 'neway', 'newest', 'newport', 'newquaysend', 'news', 'newsby', 'newscaster', 'newshype', 'newspapers', 'next', 'ngage', 'nhs', 'ni8', 'ni8swt', 'nic', 'nice', 'nicenicehow', 'nichols', 'nick', 'nickey', 'nicky', 'nig', 'nigeria', 'nigh', 'night', 'nighters', 'nightnight', 'nightnobody', 'nights', 'nightsexcellent', 'nightswe', 'nigpun', 'nigro', 'nike', 'nikiyu4net', 'nimbomsons', 'nimya', 'nimyapls', 'ninish', 'nino', 'nipost', 'nit', 'nite', 'nite2', 'nitro', 'nitros', 'nitw', 'nitz', 'njan', 'nmde', 'no1', 'no165', 'no434', 'no440', 'no762', 'no81151', 'no83355', 'no910', 'nobbing', 'noble', 'nobody', 'nobodys', 'nobut', 'noe', 'nofew', 'nohe', 'noi', 'noice', 'noise', 'noisy', 'noits', 'nojst', 'nok', 'nokia', 'nokia150p', 'nokia6600', 'nokia6650', 'nokias', 'noline', 'nolistened2the', 'non', 'noncomittal', 'none', 'nonenowhere', 'nonetheless', 'nookii', 'noon', 'nooooooo', 'noooooooo', 'nope', 'nora', 'norcorp', 'nordstrom', 'norm', 'norm150ptone', 'normal', 'normally', 'north', 'northampton', 'nos', 'nose', 'nosh', 'nosy', 'note', 'notebook', 'notes', 'nothin', 'nothing', 'nothis', 'notice', 'notifications', 'notified', 'notixiquating', 'nottel', 'nottingham', 'notxtcouk', 'noun', 'novelty', 'november', 'now1', 'now4t', 'nowadays', 'nowadayslot', 'nowcan', 'nowi', 'nownyt', 'nowonion', 'noworriesloanscom', 'nowreply', 'nowsavamobmember', 'nowsend', 'nowsky', 'nowstill', 'nowtcs', 'nowuse', 'nr31', 'nri', 'nt', 'nte', 'ntswt', 'ntt', 'ntwk', 'nuclear', 'nudist', 'nuerologist', 'num', 'number', 'numberpls', 'numberrespectful', 'numbers', 'numberso', 'nursery', 'nurses', 'nurungu', 'nus', 'nusstu', 'nuther', 'nutter', 'nver', 'nvm', 'nvq', 'nw', 'nxt', 'nyc', 'nydc', 'nys', 'nyt', 'nytec2a3lpmsg150p', 'nyusa', 'nz', 'nìâte', 'o2', 'o2coukgames', 'o2fwd', 'oath', 'obedient', 'obese', 'obey', 'objection', 'oblisingately', 'oblivious', 'obviously', 'occasion', 'occupied', 'occupy', 'occur', 'occurs', 'oceand', 'oclock', 'october', 'odalebeku', 'odi', 'ofcourse', 'offc', 'offcampus', 'offense', 'offer', 'offered', 'offering', 'offers', 'offerthe', 'office', 'officer', 'officestill', 'officethenampet', 'officeunderstand', 'officewhats', 'official', 'officially', 'offline', 'ofice', 'oficegot', 'ofsi', 'often', 'ofå', 'oga', 'ogunrinde', 'oh', 'ohas', 'ohi', 'oi', 'oic', 'oil', 'oja', 'ok', 'okay', 'okcome', 'okday', 'okden', 'okey', 'okie', 'okies', 'okmail', 'okok', 'okors', 'oktake', 'okthenwhats', 'okvarunnathu', 'ola', 'olage', 'olave', 'olayiwolas', 'old', 'ollubut', 'olol', 'olowoyey', 'olympics', 'omg', 'omw', 'onam', 'oncall', 'ondu', 'one', 'onedge', 'ones', 'oneta', 'oni', 'onionrs', 'onit', 'online', 'onlinewhy', 'onluy', 'only1more', 'onlybettr', 'onlydon', 'onlyfound', 'onto', 'onum', 'onwards', 'onwords', 'ooh', 'oooh', 'oooooh', 'ooooooh', 'oops', 'open', 'opened', 'opener', 'openin', 'opening', 'openings', 'operate', 'operator', 'opinion', 'opinions', 'opponenter', 'opportunity', 'opportunityall', 'opportunitypls', 'opposed', 'opposite', 'opps', 'opt', 'opted', 'optimistic', 'optin', 'option', 'optout', 'or2optouthv9d', 'or2stoptxt', 'oral', 'orange', 'orangei', 'oranges', 'orc', 'orchard', 'order', 'ordered', 'ore', 'oredi', 'oreo', 'oreos', 'organise', 'organizer', 'orh', 'orig', 'original', 'orno', 'ors', 'ortxt', 'oru', 'os', 'oscar', 'oso', 'otbox', 'others', 'otherwise', 'othrs', 'otside', 'ou', 'ouch', 'ourbacks', 'oursso', 'outage', 'outages', 'outbid', 'outdoors', 'outfit', 'outfor', 'outgoing', 'outhave', 'outif', 'outl8r', 'outrageous', 'outreach', 'outs', 'outside', 'outsider', 'outstanding', 'outta', 'ovarian', 'overa', 'overdid', 'overdose', 'overemphasiseor', 'overheating', 'overtime', 'ovr', 'ovulatewhen', 'ovulation', 'ow', 'owe', 'owed', 'owl', 'owned', 'owns', 'ownyouve', 'owo', 'oxygen', 'oyea', 'oyster', 'oz', 'pa', 'paces', 'pack', 'package', 'packalso', 'packing', 'packs', 'padhegm', 'page', 'pages', 'pai', 'paid', 'pain', 'painful', 'painhope', 'paining', 'painit', 'painting', 'pale', 'palm', 'pan', 'panalambut', 'panasonic', 'pandy', 'panic', 'panicks', 'panren', 'pansy', 'panther', 'panties', 'pants', 'pap', 'papa', 'paper', 'papers', 'paperwork', 'paracetamol', 'parachute', 'parade', 'paragon', 'paragraphs', 'paranoid', 'parantella', 'parchi', 'parco', 'parent', 'parentnot', 'parents', 'parentsi', 'paris', 'parisfree', 'parish', 'park', 'park6ph', 'parked', 'parkin', 'parking', 'part', 'participate', 'particular', 'particularly', 'parties', 'partner', 'partners', 'partnership', 'parts', 'party', 'partys', 'paru', 'pases', 'pass', 'passable', 'passed', 'passes', 'passion', 'passionate', 'passport', 'passthey', 'password', 'passwordsatmsms', 'past', 'pataistha', 'patent', 'path', 'pathaya', 'paths', 'patients', 'patrick', 'pattern', 'patty', 'pattys', 'paul', 'pause', 'pay', 'payasam', 'payback', 'payed', 'payee', 'paying', 'payment', 'payments', 'payoh', 'paypal', 'pc', 'pdatenow', 'peace', 'peaceful', 'peach', 'peak', 'pears', 'pee', 'peeps', 'pehle', 'pei', 'pen', 'pence', 'pendent', 'pending', 'pendingi', 'penis', 'penny', 'people', 'peoples', 'per', 'percent', 'percentages', 'perf', 'perfect', 'perform', 'performance', 'performed', 'perfume', 'perhaps', 'peril', 'period', 'peripherals', 'permanent', 'permission', 'permissions', 'perpetual', 'persevered', 'persian', 'person', 'person2die', 'personal', 'personality', 'personally', 'personmeet', 'persons', 'perspective', 'perumbavoor', 'pesky', 'pest', 'pete', 'peteis', 'petey', 'peteynoiåõm', 'petrol', 'petrolrs', 'pg', 'ph', 'ph08700435505150p', 'ph08704050406', 'pharmacy', 'phasing', 'phd', 'phews', 'phil', 'philosophical', 'philosophy', 'phne', 'phoenix', 'phone', 'phone750', 'phonebook', 'phoned', 'phones', 'phony', 'photo', 'photos', 'photoshop', 'php', 'phrase', 'physics', 'piah', 'pic', 'pick', 'picked', 'picking', 'pickle', 'pics', 'picsfree1', 'picture', 'pictures', 'pictxt', 'pie', 'piece', 'pieces', 'pierre', 'pig', 'piggy', 'pilates', 'pile', 'pillows', 'pimples', 'pimpleseven', 'pin', 'pink', 'pinku', 'pints', 'pisces', 'piss', 'pissed', 'pity', 'pix', 'pixels', 'pizza', 'pl', 'place', 'placed', 'placement', 'placeno', 'places', 'plaid', 'plan', 'plane', 'planet', 'planeti', 'planettalkinstantcom', 'planned', 'planning', 'plans', 'plate', 'platt', 'play', 'played', 'player', 'players', 'playerwhy', 'playi', 'playin', 'playing', 'playng', 'plaza', 'pleasant', 'please', 'pleased', 'pleassssssseeeeee', 'pleasure', 'pleasured', 'plenty', 'plm', 'ploughing', 'pls', 'plsi', 'plum', 'plumbers', 'plumbingremixed', 'plural', 'plus', 'plyr', 'plz', 'pm', 'pmt', 'po', 'po19', 'pobox', 'pobox1', 'pobox11414tcrw1', 'pobox12n146tf15', 'pobox12n146tf150p', 'pobox202', 'pobox334', 'pobox36504w45wq', 'pobox365o4w45wq', 'pobox45w2tg150p', 'pobox75ldns7', 'pobox84', 'poboxox36504w45wq', 'pocay', 'pocked', 'pocketbabecouk', 'pockets', 'pocy', 'pod', 'poem', 'poet', 'point', 'points', 'poker', 'poking', 'pokkiri', 'pole', 'police', 'politicians', 'polo', 'poly', 'poly200p', 'poly3', 'polyc', 'polyh', 'polyph', 'polyphonic', 'polys', 'polytruepixringtonesgames', 'pongal', 'pongaldo', 'ponnungale', 'poo', 'pookie', 'pool', 'poop', 'poor', 'poorly', 'poortiyagi', 'pop', 'popcorn', 'popcornjust', 'popped', 'popping', 'porn', 'porridge', 'port', 'portal', 'portege', 'pose', 'posh', 'posible', 'position', 'positions', 'positive', 'possession', 'possessive', 'possessiveness', 'possibility', 'possible', 'possiblehope', 'possibly', 'post', 'postal', 'postcard', 'postcode', 'posted', 'posterode', 'posting', 'postponed', 'posts', 'potato', 'potential', 'potter', 'pouch', 'pound', 'pounded', 'pounds', 'poured', 'pours', 'pouts', 'power', 'powerful', 'poyyarikaturkolathupalayamunjalur', 'ppl', 'pple', 'pple700', 'ppm', 'ppm150', 'ppt150x3normal', 'prabha', 'prabhaim', 'prabu', 'pract', 'practical', 'practice', 'practicing', 'practicum', 'practising', 'praises', 'prakasam', 'prakasamanu', 'prakesh', 'praps', 'prasad', 'prasanth', 'prashanthettans', 'pray', 'prayers', 'praying', 'prayingwill', 'prayrs', 'pre', 'prebook', 'predict', 'predicte', 'predicting', 'prediction', 'predictive', 'prefer', 'preferably', 'prem', 'premaricakindly', 'premier', 'premium', 'prepaid', 'prepare', 'prepared', 'prepayment', 'preponed', 'prescribed', 'prescripiton', 'prescription', 'presence', 'present', 'presents', 'president', 'presleys', 'presnts', 'press', 'pressies', 'pressure', 'prestige', 'pretend', 'pretsorginta', 'pretsovru', 'pretty', 'prevent', 'previews', 'previous', 'previously', 'prey', 'price', 'prices', 'priceso', 'pride', 'priest', 'prin', 'prince', 'princegn', 'princes', 'princess', 'print', 'printed', 'printer', 'printing', 'prior', 'priority', 'priscillas', 'privacy', 'private', 'prix', 'priya', 'prize', 'prizeawaiting', 'prizes', 'prizeswith', 'prizeto', 'pro', 'prob', 'probably', 'problem', 'problematic', 'problembut', 'problemfree', 'problemi', 'problems', 'problms', 'problum', 'probs', 'probthat', 'process', 'processed', 'processexcellent', 'processits', 'processnetworking', 'prods', 'products', 'prof', 'professional', 'professors', 'profile', 'profiles', 'profit', 'program', 'programs', 'progress', 'project', 'projects', 'prolly', 'prometazine', 'prominent', 'promise', 'promised', 'promises', 'promo', 'promoting', 'promotion', 'promptly', 'prompts', 'prone', 'proof', 'proove', 'proper', 'properly', 'property', 'propose', 'props', 'propsd', 'pros', 'prospects', 'protect', 'proverb', 'provided', 'provider', 'province', 'proze', 'prsn', 'ps', 'ps3', 'pshewmissing', 'psp', 'psychiatrist', 'psychic', 'psychologist', 'pt2', 'ptbo', 'pthis', 'pub', 'pubcafe', 'public', 'publish', 'pubs', 'pudunga', 'pull', 'pulling', 'pulls', 'pump', 'punch', 'punish', 'punishment', 'punto', 'puppy', 'pura', 'purchase', 'purchases', 'pure', 'purity', 'purpleu', 'purpose', 'purse', 'push', 'pushbutton', 'pushes', 'pussy', 'put', 'puts', 'puttin', 'putting', 'puzzeles', 'puzzles', 'px3748', 'på', 'qatar', 'qatarrakhesh', 'qbank', 'qet', 'qi', 'qing', 'qlynnbv', 'quality', 'quarter', 'que', 'queen', 'queries', 'ques', 'question', 'questioned', 'questions', 'questionstd', 'quick', 'quickly', 'quiet', 'quit', 'quite', 'quiteamuzing', 'quitting', 'quiz', 'quizclub', 'quizwin', 'quizzes', 'quote', 'quoting', 'r836', 'racal', 'racing', 'radiator', 'radio', 'raed', 'rael', 'raglan', 'rahul', 'raiden', 'railway', 'rain', 'raining', 'raise', 'raised', 'raj', 'rajas', 'rajini', 'rajipls', 'rajitha', 'rajnikant', 'rakhesh', 'raksha', 'rally', 'ralphs', 'ramen', 'ran', 'random', 'randomlly', 'randomly', 'randy', 'rang', 'range', 'ranjith', 'ranju', 'raping', 'rate', 'rates', 'ratetcs', 'rather', 'ratio', 'rats', 'raviyog', 'rawring', 'rayan', 'rayman', 'rays', 'rcbbattle', 'rcd', 'rct', 'rcv', 'rcvd', 'rd', 'rdy', 're', 'reach', 'reache', 'reached', 'reaching', 'reacting', 'reaction', 'read', 'readers', 'readiness', 'reading', 'ready', 'readyall', 'real', 'real1', 'realise', 'realised', 'realising', 'reality', 'realize', 'realized', 'realizes', 'really', 'realy', 'reapply', 'rearrange', 'reason', 'reasonable', 'reasons', 'reassurance', 'reassuring', 'rebel', 'reboot', 'rebooting', 'rebtel', 'rec', 'recd', 'recdthirtyeight', 'receipt', 'receipts', 'receive', 'receivea', 'received', 'receiving', 'recent', 'recently', 'reception', 'recession', 'recharge', 'recharged', 'rechargerakhesh', 'recieve', 'reckon', 'recognise', 'recognises', 'record', 'recorded', 'recorder', 'records', 'recount', 'recovery', 'recpt', 'recreation', 'recycling', 'red', 'redeemable', 'redim', 'redred', 'reduce', 'ree', 'ref', 'ref9280114', 'ref9307622', 'reference', 'references', 'referin', 'reffering', 'refilled', 'reflection', 'reflex', 'reformat', 'refreshed', 'refund', 'refundedthis', 'refused', 'reg', 'regard', 'regarding', 'regards', 'register', 'registered', 'registration', 'regret', 'regretted', 'regular', 'rejected', 'related', 'relation', 'relationshipits', 'relatives', 'relax', 'relaxing', 'released', 'reliant', 'relieved', 'religiously', 'relocate', 'reltnship', 'rem', 'remain', 'remains', 'remb', 'remember', 'remembered', 'rememberi', 'remembr', 'remembrs', 'remet', 'remind', 'reminded', 'reminder', 'reminding', 'reminds', 'removal', 'remove', 'removed', 'rencontre', 'renewal', 'renewed', 'renewing', 'rent', 'rental', 'renting', 'rentl', 'rents', 'repair', 'repairs', 'repeat', 'repeating', 'repent', 'replace', 'replacement', 'replacing', 'replied', 'replies', 'reply', 'replybe', 'replying', 'replys150', 'report', 'reppurcussions', 'representative', 'republic', 'request', 'requests', 'require', 'required', 'requirements', 'requires', 'reschedule', 'research', 'resend', 'resent', 'reservations', 'reserve', 'reserved', 'reserves', 'reset', 'residency', 'resizing', 'reslove', 'resolution', 'resolved', 'resort', 'respect', 'respectful', 'responcewhat', 'respond', 'responding', 'response', 'responsibilities', 'responsibility', 'responsible', 'rest', 'restaurant', 'restock', 'restocked', 'restrict', 'restrictions', 'restuwud', 'restwish', 'resub', 'resubbing', 'resubmit', 'result', 'results', 'resume', 'resuming', 'retard', 'retired', 'retrieve', 'return', 'returned', 'returning', 'returns', 'reunion', 'reveal', 'revealed', 'revealing', 'reverse', 'review', 'revision', 'reward', 'rewarding', 'rg21', 'rgds', 'rgent', 'rhode', 'rhythm', 'rice', 'rich', 'riddance', 'ridden', 'ride', 'right', 'rightio', 'rightly', 'rights', 'rileys', 'rimac', 'ring', 'ringing', 'ringsreturn', 'ringtone', 'ringtonefrom', 'ringtoneget', 'ringtoneking', 'ringtones', 'ringtoneåá', 'rinu', 'rip', 'ripped', 'risk', 'risks', 'rite', 'ritten', 'river', 'road', 'roads', 'roadsrvx', 'roast', 'rob', 'robinson', 'robs', 'rock', 'rocking', 'rocks', 'rodds1', 'rodger', 'rofl', 'roger', 'role', 'roles', 'rolled', 'roller', 'romantic', 'romcapspam', 'ron', 'rons', 'room', 'roomate', 'roommate', 'roommates', 'rooms', 'ros', 'rose', 'roses', 'rough', 'round', 'rounderso', 'rounds', 'route', 'row', 'rows', 'roww1j6hl', 'roww1jhl', 'royal', 'rp176781', 'rpl', 'rply', 'rr', 'rreveal', 'rs', 'rs5', 'rsi', 'rstm', 'rtking', 'rtm', 'rto', 'ru', 'rub', 'rubber', 'rude', 'rudi', 'rugby', 'ruin', 'ruining', 'rule', 'rules', 'rum', 'rumbling', 'rummer', 'rumour', 'run', 'running', 'runninglets', 'runs', 'rupaul', 'rush', 'rushing', 'rv', 'ryan', 'ryans', 'ryder', 's3xy', 's8', 's89', 'sac', 'sachin', 'sachinjust', 'sack', 'sacked', 'sacrifice', 'sad', 'sae', 'saeed', 'safe', 'safely', 'safety', 'sagamu', 'saibaba', 'said', 'saidif', 'sake', 'salad', 'salam', 'salary', 'sale', 'sales', 'salesman', 'salespee', 'salmon', 'salon', 'salt', 'sam', 'samachara', 'samantha', 'sambarlife', 'sameso', 'samus', 'sandiago', 'sane', 'sang', 'sankranti', 'santa', 'santha', 'sao', 'sapna', 'sar', 'sara', 'sarasota', 'sarcasm', 'sarcastic', 'saristar', 'sariyag', 'sary', 'sashimi', 'sat', 'satanic', 'sathy', 'sathya', 'satisfied', 'satisfy', 'satlove', 'satsgettin', 'satsoundåõs', 'saturday', 'satì', 'saucy', 'savamob', 'save', 'saved', 'saves', 'savings', 'saw', 'say', 'sayask', 'sayin', 'saying', 'says', 'sayy', 'sbut', 'sc', 'scallies', 'scammers', 'scarcasim', 'scared', 'scary', 'scenario', 'scenery', 'sch', 'schedule', 'school', 'schools', 'science', 'scold', 'scorable', 'score', 'scores', 'scoring', 'scotch', 'scotland', 'scotsman', 'scouse', 'scraped', 'scrappy', 'scratches', 'scratching', 'scream', 'screamed', 'screaming', 'screen', 'screwd', 'scrounge', 'scrumptious', 'sculpture', 'sd', 'sday', 'sdryb8i', 'se', 'sea', 'search', 'searching', 'season', 'seat', 'sec', 'second', 'secondary', 'seconds', 'secret', 'secretary', 'secretly', 'secrets', 'secs', 'section', 'sections', 'secure', 'secured', 'sed', 'see', 'seeds', 'seeing', 'seekers', 'seeking', 'seem', 'seemed', 'seems', 'seen', 'seeno', 'sees', 'sef', 'seh', 'sehwag', 'seing', 'select', 'selected', 'selection', 'self', 'selfindependence', 'selfish', 'selflessness', 'sell', 'selling', 'sells', 'sem', 'semester', 'semi', 'semiobscure', 'sen', 'send', 'sender', 'sendername', 'sending', 'sends', 'senor', 'senrddnot', 'sense', 'sensesrespect', 'sensible', 'sensitive', 'sent', 'sentdate', 'sentence', 'senthil', 'senthilhsbc', 'seperated', 'sept', 'september', 'serena', 'series', 'serious', 'seriously', 'served', 'server', 'service', 'services', 'serving', 'servs', 'set', 'setting', 'settings', 'settle', 'settled', 'settling', 'seven', 'seventeen', 'several', 'sex', 'sexiest', 'sextextukcom', 'sexual', 'sexy', 'sexychat', 'sez', 'sf', 'sfine', 'sfirst', 'sfrom', 'sh', 'sha', 'shades', 'shadow', 'shag', 'shagged', 'shah', 'shahjahan', 'shahjahans', 'shakara', 'shake', 'shakespeare', 'shaking', 'shall', 'shame', 'shampain', 'shangela', 'shanghai', 'shanilrakhesh', 'shant', 'shaping', 'share', 'shared', 'sharing', 'shattered', 'shaved', 'shb', 'shd', 'sheet', 'sheets', 'sheffield', 'shelf', 'shell', 'shelves', 'sherawat', 'shes', 'shesil', 'shhhhh', 'shifad', 'shijas', 'shijutta', 'shinco', 'shindig', 'shining', 'shiny', 'ship', 'shipped', 'shipping', 'shirt', 'shirts', 'shit', 'shite', 'shitin', 'shitjustfound', 'shitload', 'shits', 'shitstorm', 'shivratri', 'shjas', 'shld', 'shldxxxx', 'shock', 'shocking', 'shoes', 'shola', 'shoot', 'shop', 'shoppin', 'shopping', 'shopthe', 'shopwe', 'shoranur', 'shore', 'shorethe', 'short', 'shortage', 'shortcode', 'shorter', 'shortly', 'shorts', 'shot', 'shoul', 'shoulders', 'shouldn', 'shouldnt', 'shouted', 'shouting', 'shove', 'shoving', 'show', 'showed', 'shower', 'showered', 'showers', 'showing', 'showr', 'showroomscity', 'shows', 'shracomorsglsuplt10', 'shrek', 'shrink', 'shrub', 'shu', 'shud', 'shuhui', 'shun', 'shut', 'shy', 'si', 'sian', 'sib', 'sic', 'sick', 'sickness', 'sicomo', 'side', 'sif', 'sigh', 'sighs', 'sight', 'sign', 'signal', 'significance', 'significant', 'signin', 'signing', 'siguviri', 'silence', 'silent', 'silently', 'silly', 'silver', 'sim', 'simonwatson5120', 'simple', 'simpler', 'simply', 'simpsons', 'simulate', 'since', 'sinco', 'sindu', 'sing', 'singapore', 'singing', 'single', 'singles', 'sink', 'sip', 'sipix', 'sips', 'sir', 'siri', 'sirjii', 'sirs', 'sirsalam', 'sis', 'sister', 'sisters', 'sit', 'site', 'sitll', 'sitter', 'sittin', 'sitting', 'situation', 'situations', 'siva', 'sivatats', 'six', 'size', 'sized', 'sk3', 'sk38xh', 'skallis', 'skateboarding', 'skilgme', 'skillgame', 'skillgame1winaweek', 'skills', 'skinny', 'skins', 'skint', 'skip', 'skirt', 'sky', 'skye', 'skype', 'skyped', 'skyving', 'slaaaaave', 'slacking', 'slap', 'slave', 'sleep', 'sleepin', 'sleeping', 'sleepingand', 'sleepingwith', 'sleeps', 'sleepsweet', 'sleepwellamptake', 'sleepy', 'slept', 'slice', 'slices', 'slide', 'sliding', 'slightly', 'slip', 'slippers', 'slippery', 'slo', 'slo4msgs', 'slob', 'slots', 'slovely', 'slow', 'slower', 'slowing', 'slowly', 'slurp', 'smacks', 'small', 'smaller', 'smart', 'smartcall', 'smarter', 'smartthough', 'smash', 'smashed', 'smear', 'smell', 'smells', 'smeone', 'smidgin', 'smile', 'smiled', 'smiles', 'smiley', 'smiling', 'smith', 'smithswitch', 'smoke', 'smoked', 'smokes', 'smokin', 'smoking', 'smoothly', 'sms', 'sms08718727870', 'smsd', 'smsing', 'smsservices', 'smsshsexnetun', 'smth', 'sn', 'snake', 'snap', 'snappy', 'snatch', 'snd', 'sneham', 'snickering', 'sno', 'snogs', 'snoringthey', 'snow', 'snowball', 'snowboarding', 'snowman', 'snuggles', 'soany', 'soc', 'sochte', 'social', 'sofa', 'soft', 'software', 'soil', 'soiree', 'sol', 'soladha', 'sold', 'solihull', 'solve', 'solved', 'some1', 'somebody', 'someday', 'someone', 'someones', 'someonethat', 'someonone', 'someplace', 'somerset', 'somethin', 'something', 'somethings', 'sometime', 'sometimerakheshvisitor', 'sometimes', 'sometme', 'somewhat', 'somewhere', 'somewheresomeone', 'somewhr', 'somone', 'somtimes', 'sonathaya', 'sonetimes', 'song', 'songs', 'sonot', 'sony', 'sonyericsson', 'soo', 'soon', 'soonc', 'sooner', 'soonlots', 'soonxxx', 'sooo', 'soooo', 'sooooo', 'sophas', 'sore', 'sorrow', 'sorrowsi', 'sorry', 'sorryi', 'sorryin', 'sort', 'sorta', 'sorted', 'sortedbut', 'sorting', 'sorts', 'sory', 'sorydarealyfrm', 'sos', 'soso', 'soul', 'sound', 'sounding', 'sounds', 'soundtrack', 'soup', 'source', 'sources', 'south', 'southern', 'souveniers', 'soz', 'sp', 'space', 'spacebucks', 'spaces', 'spageddies', 'spain', 'spam', 'spanish', 'spare', 'spares', 'spark', 'sparkling', 'spatula', 'speak', 'speaking', 'special', 'specialcall', 'speciale', 'specialisation', 'specialise', 'specially', 'specific', 'specify', 'specs', 'speechless', 'speed', 'speedchat', 'speeding', 'speling', 'spell', 'spelled', 'spelling', 'spend', 'spending', 'spent', 'spice', 'spider', 'spiderman', 'spiffing', 'spile', 'spin', 'spinout', 'spiral', 'spirit', 'spiritual', 'spjanuary', 'spk', 'spl', 'splash', 'splashmobile', 'splat', 'splendid', 'split', 'splleing', 'splwat', 'spoil', 'spoiled', 'spoilt', 'spoke', 'spoken', 'sponsors', 'spontaneously', 'spook', 'spoon', 'spoons', 'sporadically', 'sport', 'sports', 'sportsx', 'spose', 'spot', 'spotty', 'spouse', 'sppok', 'spreadsheet', 'spree', 'spring', 'springs', 'sprint', 'sprwm', 'sptv', 'sptyrone', 'spunout', 'spys', 'sq825', 'squatting', 'squeeeeeze', 'squeezed', 'squid', 'squishy', 'srs', 'srsly', 'srt', 'sry', 'ssi', 'ssindia', 'ssnervous', 'st', 'stability', 'stable', 'stadium', 'staff', 'staffsciencenusedusgphyhcmkteachingpc1323', 'stage', 'stagwood', 'stairs', 'stalk', 'stalking', 'stamped', 'stamps', 'stand', 'standard', 'standing', 'stands', 'stapati', 'star', 'starer', 'staring', 'starring', 'stars', 'starshine', 'start', 'started', 'startedindia', 'starti', 'starting', 'starts', 'starve', 'starving', 'starwars3', 'stash', 'stated', 'statement', 'statements', 'station', 'stations', 'status', 'stay', 'stayed', 'stayin', 'staying', 'stays', 'std', 'stdtxtrate', 'steak', 'steal', 'stealing', 'steam', 'steamboat', 'steed', 'steering', 'step', 'steps', 'stereo', 'stereophonics', 'sterling', 'sterm', 'steve', 'stevelike', 'stewartsize', 'steyn', 'sth', 'sthis', 'stick', 'sticky', 'stifled', 'stil', 'still', 'stillmaybe', 'stink', 'stitch', 'stock', 'stocked', 'stockport', 'stolen', 'stomach', 'stomps', 'stone', 'stoners', 'stones', 'stool', 'stop', 'stop2', 'stop2stop', 'stopbcm', 'stopcost', 'stopcs', 'stopped', 'stops', 'stoptxt', 'stoptxtstop', 'stoptxtstopå', 'store', 'storelike', 'stores', 'stories', 'storming', 'story', 'str', 'str8', 'straight', 'strain', 'strange', 'stranger', 'strangersaw', 'stream', 'street', 'streetshall', 'stress', 'stressed', 'stressful', 'stressfull', 'stretch', 'strewn', 'strict', 'strike', 'strings', 'strip', 'stripes', 'strips', 'strokes', 'strong', 'strongbuy', 'strongly', 'strt', 'strtd', 'struggling', 'sts', 'stu', 'stubborn', 'stuck', 'studdying', 'student', 'studentfinancial', 'students', 'studies', 'studio', 'study', 'studying', 'studyn', 'stuff', 'stuff42moro', 'stuffed', 'stuffing', 'stuffleaving', 'stuffs', 'stuffwhy', 'stunning', 'stupid', 'stupidits', 'style', 'styles', 'styling', 'stylish', 'stylist', 'sub', 'subject', 'subletting', 'submitted', 'submitting', 'subpoly', 'subs', 'subscribe', 'subscribe6gbpmnth', 'subscribed', 'subscriber', 'subscribers', 'subscription', 'subscriptions', 'subscriptn3gbpwk', 'subscrition', 'subsequent', 'subtoitles', 'success', 'successful', 'successfully', 'sucker', 'suckers', 'sucks', 'sudden', 'suddenly', 'sudn', 'sue', 'suffer', 'suffering', 'suffers', 'sufficient', 'sugababes', 'suganya', 'sugar', 'sugardad', 'suggest', 'suggestion', 'suggestions', 'suite', 'suitemates', 'suits', 'sullivan', 'sum', 'sum1', 'sumfing', 'summer', 'summers', 'summon', 'sumthin', 'sumthinxx', 'sun', 'sun0819', 'sunday', 'sundayish', 'sunlight', 'sunny', 'sunoco', 'sunroof', 'sunscreen', 'sunshine', 'suntec', 'sup', 'super', 'superb', 'superior', 'supervisor', 'suply', 'supose', 'suppliers', 'supplies', 'supply', 'support', 'supportproviding', 'supports', 'supportvery', 'suppose', 'supposed', 'supreme', 'suprman', 'sura', 'sure', 'surely', 'surf', 'surfing', 'surgical', 'surly', 'surname', 'surprise', 'surprised', 'surrender', 'surrounded', 'survey', 'surya', 'sutra', 'sux', 'suzy', 'svc', 'sw7', 'sw73ss', 'swalpa', 'swan', 'swann', 'swap', 'swashbuckling', 'swat', 'swatch', 'sway', 'swayze', 'swear', 'sweater', 'sweatter', 'sweet', 'sweetest', 'sweetheart', 'sweetie', 'sweets', 'swell', 'swhrt', 'swimming', 'swimsuit', 'swing', 'swiss', 'switch', 'swollen', 'swoop', 'swt', 'swtheart', 'syd', 'syllabus', 'symbol', 'sympathetic', 'symptoms', 'synced', 'syria', 'syrup', 'system', 'systems', 't91', 'ta', 'table', 'tables', 'tablet', 'tablets', 'tackle', 'tacos', 'tactful', 'tactless', 'tadaaaaa', 'tag', 'tagged', 'tahan', 'tai', 'tait', 'taj', 'taka', 'take', 'takecare', 'taken', 'takenonly', 'takes', 'takin', 'taking', 'talent', 'talents', 'talk', 'talkbut', 'talked', 'talkin', 'talking', 'talks', 'tall', 'tallahassee', 'tallent', 'tamilnaduthen', 'tampa', 'tank', 'tantrums', 'tap', 'tape', 'tariffs', 'tarot', 'tarpon', 'tas', 'taste', 'tasts', 'tat', 'tata', 'tattoos', 'tau', 'taught', 'taunton', 'taxes', 'taxi', 'taxless', 'taxt', 'taylor', 'taylors', 'tayseertissco', 'tb', 'tbspersolvo', 'tc', 'tcllc', 'tcrw1', 'tcs', 'tcsbcm4235wc1n3xx', 'tcsc', 'tcsstop', 'tddnewsletteremc1couk', 'tea', 'teach', 'teacher', 'teaches', 'teaching', 'teacoffee', 'team', 'teams', 'tear', 'tears', 'tease', 'teasing', 'tech', 'technical', 'technologies', 'tee', 'teenager', 'teeth', 'teethif', 'teethis', 'teju', 'tel', 'telephone', 'telephonic', 'teletext', 'tell', 'telling', 'tellmiss', 'tells', 'telly', 'telphone', 'telugu', 'teluguthts', 'temales', 'temp', 'temper', 'temple', 'ten', 'tenants', 'tendencies', 'tenerife', 'tensed', 'tension', 'teresa', 'term', 'terminatedwe', 'terms', 'termsapply', 'terrible', 'terrific', 'terrorist', 'terry', 'tescos', 'tessypls', 'test', 'testing', 'tests', 'tex', 'texas', 'texd', 'text', 'text82228', 'textand', 'textbook', 'textbuddy', 'textcomp', 'texted', 'textin', 'texting', 'textoperator', 'textpod', 'texts', 'textsweekend', 'tgxxrz', 'th', 'thandiyachu', 'thangam', 'thangamits', 'thank', 'thanks', 'thanks2', 'thanksgiving', 'thanku', 'thankyou', 'thanx', 'thanx4', 'thanxxx', 'thasa', 'that', 'that2worzels', 'thatd', 'thatdont', 'thati', 'thatll', 'thatmum', 'thatnow', 'thats', 'thatåõs', 'thatåõscool', 'the4th', 'theacusations', 'theater', 'theatre', 'thedailydraw', 'thekingshead', 'themed', 'themes', 'themob', 'themobhit', 'themobyo', 'themp', 'thenwill', 'theoretically', 'theory', 'theplace', 'theredo', 'theregoodnight', 'therell', 'therere', 'theres', 'therexx', 'thesedays', 'theseyours', 'thesis', 'thesmszonecom', 'thewend', 'theyll', 'theyre', 'thgt', 'thia', 'thin', 'thing', 'thinghow', 'things', 'think', 'thinked', 'thinkin', 'thinking', 'thinks', 'thinkthis', 'thinl', 'thirunelvali', 'thisdon', 'thk', 'thkin', 'thm', 'thnk', 'thnq', 'thnx', 'tho', 'thoso', 'thot', 'thou', 'though', 'thought', 'thoughts', 'thoughtsi', 'thousands', 'thout', 'thread', 'threats', 'three', 'threw', 'thriller', 'throat', 'throw', 'throwin', 'throwing', 'thrown', 'throws', 'thru', 'thrurespect', 'ths', 'tht', 'thts', 'thuglyfe', 'thurs', 'thursday', 'thus', 'thx', 'thy', 'tick', 'ticket', 'tickets', 'tiempo', 'tiger', 'tight', 'tightly', 'tigress', 'tihs', 'tiime', 'til', 'till', 'tim', 'time', 'timedhoni', 'timehope', 'times', 'timeslil', 'timeyou', 'timeyour', 'timi', 'timin', 'timing', 'timings', 'tip', 'tips', 'tired', 'tiring', 'tirunelvai', 'tirunelvali', 'tirupur', 'tis', 'tisscotayseer', 'title', 'titles', 'titleso', 'tiwary', 'tix', 'tiz', 'tke', 'tkts', 'tlk', 'tm', 'tming', 'tmobile', 'tmorrowpls', 'tmr', 'tmrw', 'tmw', 'tnc', 'tncs', 'toa', 'toaday', 'tobacco', 'tobed', 'tocallshall', 'toclaim', 'today', 'todaybut', 'todaydo', 'todayfrom', 'todaygood', 'todayhe', 'todays', 'todaysundaysunday', 'todo', 'tog', 'together', 'tohar', 'toilet', 'tok', 'token', 'toking', 'tol', 'told', 'toldshe', 'toledo', 'tolerance', 'toll', 'tom', 'tomarrow', 'tomeandsaidthis', 'tomo', 'tomocant', 'tomorro', 'tomorrow', 'tomorrowcall', 'tomorrowtoday', 'tomorw', 'tone', 'tones', 'tones2u', 'tones2youcouk', 'tonesreply', 'tonexs', 'tonght', 'tongued', 'tonight', 'tonights', 'tonite', 'tonitebusy', 'tonitethings', 'tons', 'took', 'tookplace', 'tool', 'toolets', 'tooo', 'toopray', 'toot', 'toothpaste', 'tootsie', 'top', 'topic', 'topicsorry', 'toplay', 'topped', 'toppoly', 'tops', 'tor', 'torch', 'torrents', 'tortilla', 'torture', 'tosend', 'toshiba', 'toss', 'tot', 'total', 'totally', 'totes', 'touch', 'touched', 'tough', 'toughest', 'tour', 'towards', 'town', 'towndontmatter', 'toxic', 'toyota', 'tp', 'track', 'trackmarque', 'trade', 'traditions', 'traffic', 'train', 'trained', 'training', 'trainners', 'trains', 'tram', 'tranquility', 'transaction', 'transcribing', 'transfer', 'transferacc', 'transfered', 'transferred', 'transfr', 'transfred', 'transport', 'trash', 'trauma', 'trav', 'travel', 'traveling', 'travelled', 'travelling', 'treacle', 'treadmill', 'treasure', 'treat', 'treated', 'treatin', 'treats', 'trebles', 'tree', 'trek', 'trends', 'trial', 'tried', 'trip', 'triple', 'trips', 'trishul', 'triumphed', 'tron', 'trouble', 'troubleshooting', 'trouser', 'truble', 'truck', 'true', 'truekdo', 'truffles', 'truly', 'truro', 'trust', 'trusting', 'truth', 'truthful', 'try', 'tryin', 'trying', 'trywales', 'ts', 'tsandcs', 'tscs', 'tscs08714740323', 'tscs087147403231winawkage16', 'tshirt', 'tsunami', 'tsunamis', 'tt', 'tts', 'ttyl', 'tue', 'tues', 'tuesday', 'tui', 'tuition', 'tul', 'tulip', 'tunde', 'tune', 'tunji', 'turkeys', 'turn', 'turned', 'turning', 'turns', 'tuth', 'tv', 'tvhe', 'tvlol', 'twat', 'twelve', 'twenty', 'twice', 'twiggs', 'twilight', 'twinks', 'twins', 'twittering', 'two', 'txt', 'txt250com', 'txtauction', 'txtauctiontxt', 'txtin', 'txting', 'txtjourney', 'txtno', 'txts', 'txtx', 'tyler', 'tylers', 'type', 'typelyk', 'types', 'typical', 'u4', 'uawakefeellikw', 'ubandu', 'ubi', 'ucall', 'ud', 'ufind', 'ugadi', 'ugh', 'ugos', 'uh', 'uhhhhrmm', 'uif', 'uin', 'ujhhhhhhh', 'uk', 'ukmobiledate', 'ukp2000', 'uks', 'ull', 'ultimate', 'ultimately', 'ultimatum', 'um', 'umma', 'ummmawill', 'ummmmmaah', 'un', 'unable', 'unbelievable', 'unclaimed', 'uncle', 'uncles', 'uncomfortable', 'unconditionally', 'unconscious', 'unconsciously', 'unconvinced', 'uncountable', 'uncut', 'underdtand', 'understand', 'understanding', 'understood', 'underwear', 'undrstnd', 'undrstndng', 'unemployed', 'uneventful', 'unfolds', 'unfortunately', 'unfortuntly', 'unhappiness', 'unhappy', 'uni', 'unicefs', 'uniform', 'unintentional', 'unintentionally', 'unique', 'uniquei', 'united', 'units', 'univ', 'university', 'unknown', 'unless', 'unlike', 'unlimited', 'unmits', 'unnecessarily', 'unni', 'unrecognized', 'unredeemed', 'unsecured', 'unsold', 'unsoldmike', 'unsoldnow', 'unsub', 'unsubscribe', 'unsubscribed', 'unusual', 'uothrwise', 'up4', 'upcharge', 'upd8', 'updat', 'update', 'updatenow', 'upgrade', 'upgrading', 'upgrdcentre', 'uphad', 'upload', 'uploaded', 'upnot', 'upon', 'upping', 'ups', 'upset', 'upseti', 'upsetits', 'upstairs', 'upto', 'uptown', 'upyeh', 'urfeeling', 'urgent', 'urgentbut', 'urgentlyits', 'urgh', 'urgnt', 'urgoin', 'urination', 'url', 'urmomi', 'urn', 'urself', 'us', 'usb', 'usc', 'uscedu', 'use', 'used', 'useful', 'useless', 'user', 'uses', 'usf', 'usget', 'usher', 'using', 'uslet', 'usmle', 'usno', 'uso', 'usps', 'usual', 'usualiam', 'usually', 'uterus', 'utter', 'uttered', 'uu', 'uup', 'uv', 'uve', 'uworld', 'uxxxx', 'vaazhthukkal', 'vague', 'vaguely', 'vai', 'vale', 'valentine', 'valentines', 'valid', 'valid12hrs', 'valuable', 'value', 'valued', 'valuemorning', 'values', 'valuing', 'varaya', 'vargu', 'various', 'varma', 'vary', 'vasai', 'vat', 'vatian', 'vava', 'vco', 'vday', 've', 'vegas', 'vegetables', 'veggie', 'vehicle', 'velachery', 'velly', 'velusamy', 'venaam', 'venugopal', 'verified', 'verify', 'verifying', 'version', 'versus', 'vettam', 'vewy', 'via', 'vibrant', 'vibrate', 'vibrator', 'vic', 'victoria', 'victors', 'vid', 'video', 'videochat', 'videophones', 'videopic', 'videos', 'videosound', 'videosounds2', 'vidnot', 'view', 'vijay', 'vijaykanth', 'vikky', 'vikkyim', 'vilikkamt', 'vill', 'villa', 'village', 'vinobanagar', 'violated', 'violence', 'violet', 'vip', 'virgils', 'virgin', 'virgins', 'virtual', 'visa', 'visionsmscom', 'visit', 'visiting', 'visitneed', 'visitors', 'vital', 'vitamin', 'viva', 'vivek', 'viveki', 'vl', 'vldo', 'voda', 'vodafone', 'vodka', 'voice', 'voicemail', 'voila', 'volcanoes', 'vomit', 'vomitin', 'vomiting', 'vote', 'voted', 'voucher', 'vouchers', 'voucherstext', 'vpist', 'vpod', 'vry', 'vs', 'vth', 'vtired', 'vu', 'w111wx', 'w14rg', 'w1a', 'w1j', 'w1t1jy', 'w4', 'w45wq', 'w8in', 'wa', 'wa14', 'waaaat', 'wad', 'wadebridgei', 'wah', 'wahala', 'wahay', 'waheed', 'waheeda', 'wahleykkumsharing', 'waht', 'wait', 'waited', 'waiti', 'waitin', 'waiting', 'waitshould', 'waitu', 'wake', 'waking', 'wales', 'waliking', 'walk', 'walkabout', 'walked', 'walkin', 'walking', 'walks', 'wall', 'wallet', 'wallpaper', 'wallpaperall', 'walls', 'walmart', 'walsall', 'wamma', 'wan', 'wan2', 'wana', 'wanna', 'wannatell', 'want', 'want2come', 'wanted', 'wanting', 'wants', 'wap', 'waqt', 'warm', 'warming', 'warned', 'warner', 'warning', 'warranty', 'warwick', 'washob', 'wasn', 'wasnt', 'wasnåõt', 'waste', 'wasted', 'wasting', 'wat', 'watch', 'watched', 'watches', 'watchin', 'watching', 'watchng', 'water', 'watever', 'watevr', 'wating', 'watll', 'watrdayno', 'wats', 'watts', 'waves', 'way', 'way2smscom', 'waythis', 'wc', 'wc1n', 'wc1n3xx', 'we', 'weak', 'weakness', 'weaknesses', 'weapon', 'wear', 'wearing', 'weaseling', 'weasels', 'weather', 'weathers', 'web', 'web2mobile', 'webadres', 'webeburnin', 'webpage', 'website', 'websitenow', 'wed', 'weddin', 'wedding', 'weddingfriend', 'wednesday', 'weds', 'wee', 'weed', 'weeddeficient', 'week', 'weekdays', 'weekend', 'weekends', 'weekly', 'weeks', 'weekstop', 'weigh', 'weighed', 'weight', 'weighthaha', 'weightloss', 'weird', 'weirdest', 'weirdo', 'weirdy', 'weiyi', 'welcome', 'welcomes', 'well', 'wellda', 'welli', 'welltake', 'wellyou', 'welp', 'wen', 'wendy', 'wenever', 'went', 'wenwecan', 'wer', 'wereare', 'werebored', 'werent', 'werethe', 'wesley', 'wesleys', 'west', 'western', 'westlife', 'westonzoyland', 'westshore', 'wet', 'wetherspoons', 'weve', 'wewa', 'weåõve', 'whassup', 'what', 'whatever', 'whats', 'whatsup', 'wheat', 'wheel', 'wheellock', 'whenever', 'whenevr', 'whenre', 'whens', 'whenwhere', 'whereare', 'wherebtw', 'wheres', 'wherever', 'wherevr', 'wherres', 'whether', 'whileamp', 'whilltake', 'whispers', 'white', 'whn', 'whole', 'whore', 'whos', 'whose', 'whr', 'wi', 'wicked', 'wicket', 'wicklow', 'wid', 'widelivecomindex', 'wif', 'wife', 'wifedont', 'wifehow', 'wifes', 'wifi', 'wihtuot', 'wikipediacom', 'wil', 'wild', 'wildest', 'wildlife', 'willing', 'willpower', 'win', 'win150ppmx3age16', 'wind', 'window', 'windows', 'winds', 'windy', 'wine', 'wined', 'wings', 'wining', 'winner', 'winnersclub', 'winning', 'wins', 'winterstone', 'wipro', 'wiproyou', 'wire3net', 'wisdom', 'wise', 'wish', 'wisheds', 'wishes', 'wishin', 'wishing', 'wishlist', 'wiskey', 'wit', 'withdraw', 'wither', 'within', 'without', 'witin', 'witot', 'witout', 'wiv', 'wizzle', 'wk', 'wkend', 'wkent150p16', 'wkg', 'wkly', 'wknd', 'wks', 'wktxt', 'wlcome', 'wld', 'wmlid1b6a5ecef91ff937819firsttrue180430jul05', 'wmlid820554ad0a1705572711firsttrueåác', 'wn', 'wnevr', 'wnt', 'wo', 'woah', 'wocay', 'woke', 'woken', 'woman', 'womdarfull', 'women', 'wondar', 'wondarfull', 'wonder', 'wonderful', 'wondering', 'wonders', 'wont', 'woo', 'woodland', 'woods', 'woohoo', 'woot', 'woould', 'woozles', 'worc', 'word', 'wordcollect', 'wordnot', 'words', 'wordsevry', 'wordstart', 'work', 'workage', 'workand', 'workin', 'working', 'worklove', 'workout', 'works', 'world', 'worldgnun', 'worldmay', 'worlds', 'worldvery', 'worms', 'worried', 'worriedx', 'worries', 'worry', 'worryc', 'worrying', 'worryuse', 'worse', 'worst', 'worth', 'worthless', 'wot', 'wotu', 'wotz', 'woul', 'would', 'woulda', 'wouldnt', 'wounds', 'wow', 'wquestion', 'wrc', 'wrecked', 'wrench', 'wrenching', 'wright', 'write', 'writhing', 'wrk', 'wrki', 'wrkin', 'wrking', 'wrks', 'wrld', 'wrnog', 'wrong', 'wrongly', 'wrongtake', 'wrote', 'ws', 'wt', 'wtc', 'wtf', 'wth', 'wthout', 'wud', 'wudnt', 'wuld', 'wuldnt', 'wun', 'www07781482378com', 'www4tcbiz', 'www80488biz', 'wwwapplausestorecom', 'wwwareyouuniquecouk', 'wwwasjesuscom', 'wwwb4utelecom', 'wwwbridalpetticoatdreamscouk', 'wwwcashbincouk', 'wwwclubmobycom', 'wwwclubzedcouk', 'wwwcnupdatescomnewsletter', 'wwwcomuknet', 'wwwdbuknet', 'wwwflirtpartyus', 'wwwfullonsmscom', 'wwwgambtv', 'wwwgetzedcouk', 'wwwidewcom', 'wwwldewcom', 'wwwldewcom1win150ppmx3age16', 'wwwldewcom1win150ppmx3age16subscription', 'wwwldewcomsubs161win150ppmx3', 'wwwmovietriviatv', 'wwwmusictrivianet', 'wwworangecoukow', 'wwwphb1com', 'wwwregalportfoliocouk', 'wwwringtonekingcouk', 'wwwringtonescouk', 'wwwrtfsphostingcom', 'wwwsantacallingcom', 'wwwshortbreaksorguk', 'wwwsmsacubootydelious', 'wwwsmsacugoldviking', 'wwwsmsacuhmmross', 'wwwsmsacunat27081980', 'wwwsmsacunatalie2k9', 'wwwsmsconet', 'wwwtcbiz', 'wwwtelediscountcouk', 'wwwtextcompcom', 'wwwtextpodnet', 'wwwtklscom', 'wwwtxt2shopcom', 'wwwtxt43com', 'wwwtxt82228com', 'wwwtxttowincouk', 'wwwwin82050couk', 'wylie', 'x2', 'x29', 'x49', 'x49your', 'xafter', 'xam', 'xavier', 'xchat', 'xclusiveclubsaisai', 'xin', 'xins', 'xmas', 'xnet', 'xoxo', 'xt', 'xuhui', 'xx', 'xxsp', 'xxuk', 'xxx', 'xxxmobilemovieclub', 'xxxmobilemovieclubcomnqjkgighjjgcbl', 'xxxx', 'xxxxx', 'xxxxxx', 'xxxxxxx', 'xxxxxxxx', 'xxxxxxxxxxxxxx', 'xy', 'y87', 'ya', 'yagoing', 'yah', 'yahoo', 'yalrigu', 'yalru', 'yam', 'yan', 'yar', 'yards', 'yavnt', 'yaxx', 'yaxxx', 'yay', 'yck', 'yday', 'yeah', 'yeahand', 'year', 'years', 'yeesh', 'yeh', 'yelling', 'yellow', 'yelowi', 'yen', 'yeovil', 'yep', 'yer', 'yes', 'yes165', 'yes434', 'yes440', 'yes762', 'yes910', 'yesbut', 'yesfrom', 'yesgauti', 'yeshe', 'yeshere', 'yesim', 'yesmum', 'yessura', 'yest', 'yesterday', 'yet', 'yettys', 'yetunde', 'yi', 'yifeng', 'yijue', 'yijuehotmailcom', 'ym', 'ymca', 'yo', 'yoga', 'yogasana', 'yohere', 'yor', 'yorge', 'you', 'youany', 'youcarlos', 'youclean', 'youd', 'youdearwith', 'youdoing', 'youhow', 'youi', 'youkwhere', 'yould', 'youll', 'youmoney', 'youmy', 'young', 'younger', 'youphone', 'youre', 'yourinclusive', 'yourjob', 'youso', 'youthats', 'youto', 'youuuuu', 'youve', 'youwanna', 'youwhen', 'youåõre', 'yoville', 'yowifes', 'yoyyooo', 'yr', 'yrs', 'ystrdayice', 'yummmm', 'yummy', 'yun', 'yunny', 'yuo', 'yuou', 'yup', 'yupz', 'ywhere', 'zac', 'zahers', 'zealand', 'zebra', 'zed', 'zeros', 'zhong', 'zindgi', 'zoe', 'zogtorius', 'zoom', 'zouk', 'zyada', 'åè10', 'åð', 'åòharry', 'åòits', 'åômorrow', 'åôrents', 'ìll', 'ìï', 'ìïll', 'ûthanks', 'ûªm', 'ûªt', 'ûªve', 'ûï', 'ûïharry', 'ûò', 'ûówell']\n",
            "(5572, 9371)\n"
          ],
          "name": "stdout"
        }
      ]
    },
    {
      "cell_type": "markdown",
      "metadata": {
        "id": "k-pTmZTY2dHS"
      },
      "source": [
        "#### 2.9. Feature extraction using HashingVectorizer"
      ]
    },
    {
      "cell_type": "code",
      "metadata": {
        "id": "2Z1pe1z82dHT",
        "colab": {
          "base_uri": "https://localhost:8080/"
        },
        "outputId": "6fd7d767-0185-47eb-9399-802f115fd1fc"
      },
      "source": [
        "# enter here\n",
        "from sklearn.feature_extraction.text import HashingVectorizer\n",
        "temp=[]\n",
        "for row in sms['message']:\n",
        "  temp.append(row)\n",
        "vectorizer_hash = HashingVectorizer(n_features=3**4)\n",
        "X_hash = vectorizer_hash.fit_transform(temp)\n",
        "print(X_hash.shape)"
      ],
      "execution_count": 16,
      "outputs": [
        {
          "output_type": "stream",
          "text": [
            "(5572, 81)\n"
          ],
          "name": "stdout"
        }
      ]
    },
    {
      "cell_type": "markdown",
      "metadata": {
        "id": "e7G8X6bK2dHT"
      },
      "source": [
        "#### 2.10. Feature extraction using CountVectorizer"
      ]
    },
    {
      "cell_type": "code",
      "metadata": {
        "id": "iqAkkeLZ2dHT",
        "colab": {
          "base_uri": "https://localhost:8080/"
        },
        "outputId": "7fc7b62d-28f7-4dbc-fd83-b2e4922e9419"
      },
      "source": [
        "# enter here\n",
        "from sklearn.feature_extraction.text import CountVectorizer\n",
        "temp=[]\n",
        "for row in sms['message']:\n",
        "  temp.append(row)\n",
        "vectorizer_count = CountVectorizer()\n",
        "X_count = vectorizer_count.fit_transform(temp)\n",
        "print(vectorizer_count.get_feature_names())\n",
        "print(X_count.shape)"
      ],
      "execution_count": 17,
      "outputs": [
        {
          "output_type": "stream",
          "text": [
            "['008704050406', '0089my', '0121', '01223585236', '01223585334', '0125698789', '02', '020603', '0207', '02070836089', '02072069400', '02073162414', '02085076972', '020903', '021', '050703', '0578', '06', '060505', '061104', '07008009200', '07046744435', '07090201529', '07090298926', '07099833605', '071104', '07123456789', '0721072', '07732584351', '07734396839', '07742676969', '07753741225', '0776xxxxxxx', '07786200117', '077xxx', '078', '07801543489', '07808', '07808247860', '07808726822', '07815296484', '07821230901', '0784987', '0789xxxxxxx', '0794674629107880867867', '0796xxxxxx', '07973788240', '07xxxxxxxxx', '0800', '08000407165', '08000776320', '08000839402', '08000930705', '08000938767', '08001950382', '08002888812', '08002986030', '08002986906', '08002988890', '08006344447', '0808', '08081263000', '08081560665', '0825', '0844', '08448350055', '08448714184', '0845', '08450542832', '08452810071', '08452810073', '08452810075over18s', '0870', '08700621170150p', '08701213186', '08701237397', '08701417012', '08701417012150p', '0870141701216', '087016248', '08701752560', '087018728737', '0870241182716', '08702490080', '08702840625', '08702840625comuk', '08704439680', '08704439680tscs', '08706091795', '0870737910216yrs', '08707500020', '08707509020', '0870753331018', '08707808226', '08708034412', '08708800282', '08709222922', '08709501522', '0870k', '087104711148', '08712101358', '08712103738', '0871212025016', '08712300220', '087123002209am7pm', '08712317606', '08712400200', '08712400603', '08712402050', '08712402578', '08712402779', '08712402902', '08712402972', '08712404000', '08712405020', '08712405022', '08712460324', '08712460324nat', '08712466669', '0871277810710pmin', '0871277810810', '0871277810910pmin', '087143423992stop', '087147123779am7pm', '08714712379', '08714712388', '08714712394', '08714712412', '08714714011', '08714719523', '08715203028', '08715203649', '08715203652', '08715203656', '08715203677', '08715203685', '08715203694', '08715205273', '08715500022', '08715705022', '08717111821', '08717168528', '08717205546', '08717507382', '08717507711', '08717509990', '08717890890å', '08717895698', '08717898035', '08718711108', '08718720201', '08718723815', '08718725756', '08718726270', '08718726270150gbpmtmsg18', '08718726970', '08718726971', '08718726978', '087187272008', '08718727868', '08718727870', '08718729755', '08718729758', '08718730555', '08718730666', '08718738001', '08718738002', '08718738034', '08719180219', '08719180248', '08719181259', '08719181503', '08719181513', '08719839835', '08719899217', '08719899229', '08719899230', '09041940223', '09050000301', '09050000332', '09050000460', '09050000555', '09050000878', '09050000928', '09050001295', '09050001808', '09050002311', '09050003091', '09050005321', '09050090044', '09050280520', '09053750005', '09056242159', '09057039994', '09058091854', '09058091870', '09058094454', '09058094455', '09058094507', '09058094565', '09058094583', '09058094594', '09058094597', '09058094599', '09058095107', '09058095201', '09058097189', '09058097218', '09058098002', '09058099801', '09061104276', '09061104283', '09061209465', '09061213237', '09061221061', '09061221066', '09061701444', '09061701461', '09061701851', '09061701939', '09061702893', '09061743386', '09061743806', '09061743810', '09061743811', '09061744553', '09061749602', '09061790121', '09061790125', '09061790126', '09063440451', '09063442151', '09063458130', '0906346330', '09064011000', '09064012103', '09064012160', '09064015307', '09064017295', '09064017305', '09064018838', '09064019014', '09064019788', '09065069120', '09065069154', '09065171142stopsms08', '09065171142stopsms08718727870150ppm', '09065174042', '09065394514', '09065394973', '09065989180', '09065989182', '09066350750', '09066358152', '09066358361', '09066361921', '09066362206', '09066362220', '09066362231', '09066364311', '09066364349', '09066364589', '09066368327', '09066368470', '09066368753', '09066380611', '09066382422', '09066612661', '09066649731from', '09066660100', '09071512432', '09071512433', '09071517866', '09077818151', '09090204448', '09090900040', '09094100151', '09094646631', '09094646899', '09095350301', '09096102316', '09099725823', '09099726395', '09099726429', '09099726481', '09099726553', '09111030116', '09111032124', '09701213186', '0anetworks', '10', '100', '1000', '10000', '100000', '1000call', '1000s', '100603', '100psms', '100s', '1010', '1013', '101mega', '1030', '10803', '10am', '10am7pm', '10am9pm', '10k', '10p', '10pmin', '10ppm', '10th', '11', '1120', '113', '1131', '11414', '1148', '116', '1172', '118pmsg', '11mths', '12', '120', '12000pes', '1205', '121', '1225', '123', '1230', '125', '1250', '125gift', '128', '12hours', '12hrs', '12mths', '12price', '13', '130', '131004', '1327', '13404', '139', '140', '1405', '140ppm', '145', '1450', '146tf150p', '14thmarch', '150', '1500', '150ea', '150morefrmmob', '150msg', '150mtmsgrcvd18', '150p', '150pday', '150perweeksub', '150perwksub', '150pm', '150pmeg', '150pmin', '150pmmorefrommobile2bremovedmobypobox734ls27yf', '150pmsg', '150pmsgrcvd', '150pmsgrcvdhgsuite3422landsroww1j6hl', '150pmt', '150pmtmsg', '150pmtmsgrcvd18', '150ppermesssubscription', '150ppm', '150ppmpobox10183bhamb64xe', '150ppmsg', '150prcvd', '150psms', '150ptext', '150ptone', '150pw', '150pwk', '150rcvd', '150week', '150wk', '151', '1526', '153', '15541', '15pmin', '16', '1680', '169', '16only', '177', '18', '180', '181104', '1843', '186å', '18only', '18ptxt', '18yrs', '195', '1956669', '1appledayno', '1childish', '1cup', '1da', '1er', '1hanuman', '1his', '1hr', '1im', '1lemondayno', '1mcflyall', '1million', '1minmobsmore', '1minmobsmorelkpobox177hp51fl', '1minmoremobsemspobox45po139wa', '1month', '1pm', '1s', '1st', '1st4terms', '1stchoicecouk', '1stone', '1tulsi', '1u', '1unbreakable', '1winaweek', '1winawk', '1x150pwk', '1yf', '20', '200', '2000', '20000', '2003', '2004', '2005', '2006', '2007', '2025050', '20f', '20m12aq', '20p', '20pmin', '21', '211104', '215', '21870000hi', '21m', '21st', '22', '220cm2', '2309', '230ish', '24', '241', '241004', '247mp', '24hrs', '24m', '24th', '25', '250', '250k', '255', '25f', '25p', '260305', '261004', '261104', '2667', '26th', '2703', '27603', '28', '2814032', '285', '28days', '28th', '28thfebtcs', '290305', '29100', '29m', '2b', '2bajarangabali', '2bold', '2c', '2channel', '2day', '2daylove', '2end', '2exit', '2ez', '2getha', '2geva', '2go', '2godid', '2gthr', '2hrs', '2im', '2kbsubject', '2marrow', '2moro', '2morow', '2morro', '2morrow', '2morrowxxxx', '2mro', '2mrw', '2naughty', '2nd', '2nhite', '2nights', '2nite', '2nitetell', '2optout', '2optoutd3wv', '2p', '2police', '2px', '2rcv', '2stop', '2stoptx', '2stoptxt', '2u', '2u2', '2untamed', '2waxsto', '2when', '2wks', '2wt', '2wu', '2years', '2yr', '2yrs', '30', '300', '3000', '300603', '300603tcsbcm4235wc1n3xxcallcost150ppmmobilesvary', '300p', '3030', '30apr', '30pptxt', '30s', '30th', '31', '3100', '310303', '311004', '31pmsg150p', '32000', '3230', '32323', '326', '32f', '330', '3350', '3365', '350', '3510i', '35p', '3650', '36504', '3680', '3680offer', '373', '3750', '375max', '38', '391784', '399', '3aj', '3cover', '3d', '3days', '3db', '3g', '3gbp', '3hrs', '3lions', '3lp', '3maruti', '3miles', '3mins', '3mobile', '3optical', '3pound', '3qxj9', '3rd', '3sentiment', '3ss', '3u', '3unkempt', '3uz', '3wife', '3wk', '3wks', '3xx', '3xå', '40', '400', '400minscall', '402', '4041', '40411', '40533', '40gb', '40mph', '415', '41685', '41782', '420', '42049', '4217', '42478', '42810', '430', '434', '44', '4403ldnw1a7rw18', '447797706009', '447801259231', '447per', '448712404000please', '449050000301', '449071512431', '449month', '45', '450', '450p', '450pw', '45239', '46', '47', '4712', '4742', '48', '4882', '48922', '49557', '4a', '4cook', '4d', '4eva', '4few', '4fil', '4get', '4give', '4got', '4goten', '4info', '4jx', '4lux', '4mths', '4o', '4pavanaputra', '4press', '4rowdy', '4some1', '4tctxt', '4th', '4the', '4thnovbehind', '4txt120p', '4txtì¼120', '4u', '4ui', '4utxt', '4w', '4ward', '4wrd', '4years', '50', '500', '5000', '500000', '505060', '50award', '50p', '50s', '50å', '515', '515pm', '5226', '526', '528', '530', '532', '54', '542', '545', '5903', '5digital', '5free', '5ful', '5gardener', '5gently', '5ish', '5iåõm', '5k', '5min', '5mls', '5month', '5p', '5pm', '5sankatmochan', '5terror', '5th', '5wb', '5we', '5wkg', '5wq', '5years', '600', '6031', '60400thousadi', '60p', '60pmin', '61200', '61610', '62220cncl', '6230', '62468', '62735å', '630', '63miles', '645', '645pm', '650', '6669', '67441233', '68866', '69101', '69200', '69669', '69696', '69698', '69855', '6986618', '69876', '69888', '69888nyt', '69911å', '69969', '69988', '6cruel', '6days', '6hl', '6housemaid', '6hrs', '6ish', '6missed', '6months', '6pm', '6ramaduth', '6romantic', '6th', '6times', '6wu', '6zf', '700', '71', '725', '7250', '7250i', '730', '730ish', '730pm', '731', '74355', '750', '75000', '7548', '7634', '7684', '7732584351', '78', '786', '7876150ppm', '78pmin', '79', '7am', '7cfca1a', '7children', '7ish', '7mahaveer', '7oz', '7pm', '7romantic', '7shy', '7th', '7ws', '7zs', '800', '8000930705', '80062', '8007', '80082', '80086', '80122300pwk', '80155', '80160', '80182', '8027', '80488', '80488biz', '80608', '8077', '80878', '80s', '81010', '81151', '81303', '81618', '816183', '82242', '82277', '82277unsub', '82324', '82468', '830', '83021', '83039', '83049', '83110', '83118', '83222', '83332please', '83338', '83355', '83370', '83383', '83435', '83600', '83738', '84', '84025', '84122', '84128', '84128custcare', '84199', '84484', '85', '850', '85023', '85069', '85222', '85233', '8552', '85555', '86021', '861', '863', '864233', '86688', '86888', '87021', '87066', '87070', '87077', '87121', '87131', '8714714', '87239', '87575', '8800', '88039', '88039skilgmetscs087147403231winawkage16å', '88066', '88088', '88222', '8830', '88600', '88800', '8883', '88877', '88877free', '88888', '89034', '89070', '89080', '89105', '89123', '89545', '89555', '89693', '89938', '8am', '8attractive', '8ball', '8hr', '8lb', '8lovable', '8neighbour', '8o', '8pm', '8th', '8wp', '900', '9061100010', '9153', '924', '930', '945', '946', '95pax', '96', '97n7qp', '98321561', '9996', '9ae', '9am', '9am11pm', '9decent', '9funny', '9ja', '9pm', '9t', '9th', '9yt', 'a21', 'a30', 'aa', 'aah', 'aaniye', 'aaooooright', 'aathilove', 'aathiwhere', 'ab', 'abbey', 'abdomen', 'abeg', 'abel', 'aberdeen', 'abi', 'ability', 'abiola', 'abj', 'able', 'abnormally', 'aboutas', 'abroad', 'absence', 'absolutely', 'abstract', 'abt', 'abta', 'aburo', 'abuse', 'abusers', 'ac', 'academic', 'acc', 'accent', 'accenture', 'accept', 'access', 'accessible', 'accidant', 'accident', 'accidentally', 'accommodation', 'accommodationvouchers', 'accomodate', 'accomodations', 'accordin', 'accordingly', 'accordinglyor', 'account', 'accounting', 'accounts', 'accumulation', 'achanammarakheshqatar', 'ache', 'achieve', 'acid', 'acknowledgement', 'acl03530150pm', 'acnt', 'acoentry41', 'across', 'acsmsrewards', 'act', 'acted', 'actin', 'acting', 'action', 'activ8', 'activate', 'active', 'activities', 'actor', 'actual', 'actually', 'acwicmb3cktz8r74', 'ad', 'adam', 'add', 'addamsfa', 'added', 'addicted', 'addie', 'adding', 'address', 'addressull', 'adds', 'adewale', 'adi', 'adjustable', 'admin', 'administrator', 'admirer', 'admission', 'admit', 'admiti', 'adore', 'adoring', 'adp', 'adress', 'adrian', 'ads', 'adsense', 'adult', 'adults', 'advance', 'adventure', 'adventuring', 'advice', 'advise', 'advising', 'advisors', 'aeronautics', 'aeroplane', 'afew', 'affair', 'affairs', 'affection', 'affectionate', 'affectionsamp', 'affidavit', 'afford', 'afghanistan', 'afraid', 'africa', 'african', 'aft', 'afternon', 'afternoon', 'afternoons', 'afterwards', 'aftr', 'ag', 'againcall', 'againloving', 'agalla', 'age', 'age16', 'age16150ppermesssubscription', 'age23', 'agency', 'agent', 'agents', 'ages', 'agesring', 'agidhane', 'aging', 'ago', 'agocusoon', 'agree', 'agreen', 'ah', 'aha', 'ahead', 'ahgee', 'ahhh', 'ahhhhjust', 'ahmad', 'ahnow', 'ahold', 'ahsen', 'ahthe', 'ahwhat', 'aid', 'aids', 'aig', 'aight', 'aint', 'air', 'air1', 'airport', 'airtel', 'aiya', 'aiyah', 'aiyar', 'aiyo', 'ajith', 'ak', 'aka', 'akonlonely', 'al', 'alaikkumpride', 'alaipayuthe', 'albi', 'album', 'albumquite', 'alcohol', 'aldrine', 'alert', 'alertfrom', 'alerts', 'aletter', 'alex', 'alexs', 'alfie', 'algarve', 'algebra', 'algorithms', 'ali', 'alian', 'alibi', 'alive', 'alivebetter', 'allah', 'allahmeet', 'allahrakhesh', 'allalo', 'allday', 'alle', 'allo', 'allow', 'allowed', 'allows', 'alls', 'almost', 'alone', 'along', 'alot', 'already', 'alreadysabarish', 'alright', 'alrightokay', 'alrite', 'alritehave', 'also', 'alsoor', 'alter', 'alternativehope', 'although', 'alwa', 'always', 'alwys', 'amanda', 'amazing', 'ambitious', 'ambrithmaduraimet', 'american', 'ami', 'amigos', 'amk', 'ammaelife', 'ammo', 'among', 'amongst', 'amore', 'amount', 'amp', 'amplikater', 'amrca', 'amrita', 'ams', 'amt', 'amused', 'amx', 'amy', 'ana', 'anal', 'analysis', 'anand', 'anderson', 'andor', 'andre', 'andres', 'andrewsboy', 'andros', 'angels', 'angry', 'animal', 'animation', 'anjie', 'anjolas', 'anna', 'annie', 'anniversary', 'annoncement', 'announced', 'announcement', 'annoyin', 'annoying', 'anonymous', 'anot', 'another', 'ans', 'ansr', 'answer', 'answered', 'answerin', 'answering', 'answers', 'answr', 'antelope', 'anthony', 'anti', 'antibiotic', 'anybody', 'anybodys', 'anyhow', 'anymore', 'anyone', 'anyones', 'anyplaces', 'anythiing', 'anythin', 'anything', 'anythings', 'anythingtomorrow', 'anytime', 'anyway', 'anyways', 'anywhere', 'aom', 'apart', 'apartment', 'apes', 'apeshit', 'aphexåõs', 'apnt', 'apo', 'apologetic', 'apologise', 'apologize', 'apology', 'app', 'apparently', 'appeal', 'appear', 'appendix', 'applebees', 'applespairsall', 'application', 'apply', 'apply2', 'applyed', 'applying', 'appointment', 'appointments', 'appreciate', 'appreciated', 'approaches', 'approaching', 'appropriate', 'approve', 'approved', 'approx', 'apps', 'appt', 'appy', 'april', 'aproach', 'apt', 'aptitude', 'aquarius', 'ar', 'arab', 'arabian', 'arcade', 'archive', 'ard', 'ardìä', 'area', 'arent', 'arestaurant', 'aretaking', 'argentina', 'argh', 'argue', 'arguing', 'argument', 'arguments', 'aries', 'arise', 'arises', 'arithmetic', 'arm', 'armand', 'armands', 'armenia', 'arms', 'arng', 'arngd', 'arnt', 'around', 'aroundn', 'arpraveesh', 'arr', 'arrange', 'arranging', 'arrested', 'arrival', 'arrive', 'arrived', 'arrow', 'arsenal', 'art', 'artists', 'arts', 'arty', 'arul', 'arun', 'asa', 'asap', 'asapok', 'asda', 'ashes', 'ashley', 'ashleys', 'ashwini', 'asia', 'asian', 'ask', 'askd', 'asked', 'askin', 'asking', 'asks', 'aslamalaikkuminsha', 'asleep', 'aspects', 'ass', 'assessment', 'asshole', 'assistance', 'associate', 'assume', 'assumed', 'asthere', 'asthma', 'astne', 'astoundingly', 'astrology', 'astronomer', 'asus', 'asusual1', 'ate', 'athletic', 'athome', 'atlanta', 'atlast', 'atleast', 'atm', 'atrocious', 'attach', 'attached', 'attack', 'attempt', 'atten', 'attend', 'attended', 'attending', 'attention', 'attitude', 'attractioni', 'attracts', 'attributed', 'atyour', 'auction', 'auctionpunj', 'audiitions', 'audition', 'audrey', 'audreys', 'audrie', 'august', 'aunt', 'auntie', 'aunties', 'aunts', 'aunty', 'auntys', 'aust', 'australia', 'authorise', 'auto', 'autocorrect', 'av', 'ava', 'availa', 'available', 'availablei', 'availablethey', 'avalarr', 'avatar', 'avble', 'ave', 'avenge', 'avent', 'avenue', 'avin', 'avo', 'avoid', 'avoiding', 'avoids', 'await', 'awaiting', 'awake', 'award', 'awarded', 'away', 'awesome', 'awkward', 'aww', 'awww', 'ax', 'axis', 'ay', 'ayn', 'ayo', 'aå', 'b4', 'b4190604', 'b4280703', 'b4u', 'ba', 'ba128nnfwfly150ppm', 'baaaaaaaabe', 'baaaaabe', 'babe', 'babes', 'babesozi', 'babies', 'baby', 'babygoodbye', 'babyhope', 'babyjontet', 'babysit', 'babysitting', 'bac', 'back', 'backa', 'backdoor', 'backwards', 'bad', 'badass', 'badly', 'badrith', 'bag', 'bagi', 'bags', 'bahamas', 'baig', 'bailiff', 'bak', 'bakra', 'bakrid', 'balance', 'ball', 'baller', 'balloon', 'balls', 'bam', 'bambling', 'band', 'bandages', 'bang', 'bangb', 'bangbabes', 'bani', 'bank', 'banks', 'banned', 'banneduk', 'banter', 'bao', 'bar', 'barbie', 'barcelona', 'bare', 'barely', 'bari', 'barkleys', 'barmed', 'barolla', 'barred', 'barrel', 'barring', 'barry', 'bars', 'base', 'bash', 'basic', 'basically', 'basketball', 'baskets', 'basqihave', 'bat', 'batch', 'batchlor', 'bath', 'bathe', 'bathing', 'bathroom', 'batsman', 'batt', 'battery', 'bawling', 'bay', 'bb', 'bbc', 'bbdeluxe', 'bbdpooja', 'bbdthts', 'bblue', 'bbq', 'bbs', 'bc', 'bcaz', 'bck', 'bcm', 'bcm1896wc1n3xx', 'bcm4284', 'bcmsfwc1n3xx', 'bcoz', 'bcozi', 'bcum', 'bcums', 'bcz', 'bday', 'beach', 'beads', 'bear', 'bears', 'beatings', 'beauties', 'beautiful', 'beautifulmay', 'beauty', 'bec', 'becaus', 'becausethey', 'become', 'becomes', 'becoz', 'becz', 'bed', 'bedrm', 'bedrm900', 'bedroom', 'bedroomlove', 'beeen', 'beehoon', 'beendropping', 'beer', 'beerage', 'beerrs', 'beers', 'befor', 'beforehand', 'beforewent', 'beg', 'beggar', 'begging', 'begin', 'begins', 'begun', 'behalf', 'behave', 'behind', 'bein', 'believe', 'belive', 'bell', 'bellearlier', 'belligerent', 'belly', 'belong', 'belongs', 'belovd', 'beloved', 'belt', 'ben', 'bend', 'beneath', 'beneficiary', 'benefits', 'bennys', 'bergkamp', 'beside', 'best', 'best1', 'bestcongrats', 'bestrply', 'bet', 'beta', 'beth', 'betta', 'better', 'bettersn', 'beverage', 'bevieswaz', 'beware', 'beyond', 'bf', 'bffs', 'bfore', 'bhaskar', 'bhayandar', 'bian', 'biatch', 'bid', 'bids', 'big', 'bigger', 'biggest', 'bike', 'bill', 'billed', 'billing', 'billion', 'bills', 'billy', 'bilo', 'bimbo', 'bin', 'biola', 'biolas', 'bird', 'birds', 'birla', 'biro', 'birth', 'birthdate', 'birthday', 'bishan', 'bit', 'bitch', 'bitching', 'bite', 'bites', 'bits', 'bk', 'black', 'blackand', 'blackberry', 'blackim', 'blacko', 'blah', 'blakes', 'blame', 'blank', 'blanked', 'blanket', 'blankets', 'blastin', 'bleak', 'bleh', 'bless', 'blessed', 'blessget', 'blessing', 'blessings', 'blimey', 'blind', 'block', 'blocked', 'blog', 'blogging', 'bloke', 'blokes', 'blonde', 'bloo', 'blood', 'bloodblood', 'bloodsend', 'bloody', 'bloomberg', 'bloombergcom', 'blow', 'blowing', 'blown', 'blu', 'blue', 'bluetooth', 'bluetoothhdset', 'blueu', 'bluff', 'blur', 'bluray', 'bmw', 'board', 'boat', 'boatin', 'bob', 'body', 'boggy', 'bognor', 'bold', 'bold2', 'bollox', 'boltblue', 'bomb', 'bone', 'bong', 'bonus', 'boo', 'boobs', 'book', 'booked', 'bookedthe', 'booking', 'bookmark', 'books', 'bookshelf', 'boooo', 'boost', 'booty', 'bootydelious', 'borderline', 'bored', 'borin', 'boring', 'born', 'bornplease', 'borrow', 'boss', 'boston', 'bot', 'bother', 'bothering', 'bottle', 'bottom', 'bought', 'boughtåóbraindanceåóa', 'boundaries', 'bout', 'boutxx', 'bowa', 'bowl', 'bowls', 'box', 'box1146', 'box139', 'box177', 'box245c2150pm', 'box326', 'box334', 'box334sk38ch', 'box385', 'box39822', 'box403', 'box420', 'box42wr29c', 'box434sk38wp150ppm18', 'box61m60', 'box95qu', 'box97n7qp', 'boy', 'boye', 'boyf', 'boyfriend', 'boys', 'boytoy', 'boyy', 'bpo', 'brah', 'brain', 'brainless', 'brains', 'brainy', 'brand', 'brandy', 'bras', 'brats', 'braved', 'bray', 'brb', 'brdget', 'bread', 'breadstick', 'break', 'breaker', 'breakfast', 'breakin', 'breaking', 'breaks', 'breath', 'breathe', 'breathe1', 'breather', 'breathing', 'breeze', 'breezy', 'bribe', 'bridge', 'bridgwater', 'brief', 'bright', 'brighten', 'brilliant', 'brilliant1thingi', 'brilliantly', 'brin', 'bring', 'bringing', 'brings', 'brisk', 'brison', 'bristol', 'british', 'britney', 'bro', 'broad', 'broadband', 'broke', 'broken', 'brolly', 'bros', 'broth', 'brothas', 'brother', 'brothers', 'brought', 'browni', 'brownie', 'brownies', 'browse', 'browser', 'browsin', 'bruce', 'brum', 'bruv', 'bslvyl', 'bsn', 'bsnl', 'bstfrnd', 'bt', 'bthmm', 'btnational', 'btnationalrate', 'btooth', 'btw', 'btwn', 'bucks', 'bud', 'buddy', 'buddys', 'budget', 'buen', 'buff', 'buffet', 'buffy', 'bugis', 'build', 'building', 'built', 'bulbs', 'bull', 'bullshit', 'bunch', 'bundle', 'bunkers', 'buns', 'burden', 'burger', 'burgundy', 'burial', 'burn', 'burning', 'burns', 'burnt', 'burrito', 'bus', 'bus822656166382', 'buses', 'busetop', 'business', 'busty', 'busy', 'busyi', 'butt', 'buttheres', 'butting', 'buttons', 'buy', 'buyer', 'buyers', 'buying', 'buzy', 'buzz', 'buzzzz', 'bw', 'bx', 'bx420', 'bx420ip45we', 'bx526', 'byatch', 'bye', 'byåóleafcutter', 'båõday', 'c52', 'cab', 'cabin', 'cable', 'cafe', 'cage', 'cake', 'caken', 'cakes', 'cal', 'calculated', 'calculation', 'cali', 'calicut', 'california', 'calis', 'call', 'call09050000327', 'call2optout4qf2', 'call2optout674', 'call2optoutf4q', 'call2optouthf8', 'call2optoutj', 'call2optoutj5q', 'call2optoutlf56', 'call2optoutn9dx', 'call2optoutyhl', 'callback', 'callcost', 'callcoz', 'calld', 'calldrove', 'called', 'caller', 'callers', 'callertune', 'callfreefone', 'callin', 'calling', 'callingforgot', 'callon', 'calls', 'calls150ppm', 'callsmessagesmissed', 'callså', 'callurgent', 'calm', 'cam', 'camcorder', 'came', 'camera', 'cameravideo', 'camp', 'campus', 'camry', 'can', 'canada', 'canal', 'canary', 'cancel', 'canceled', 'cancelled', 'cancer', 'candont', 'canlove', 'canname', 'cannot', 'cannt', 'cant', 'cantdo', 'canteen', 'canåõt', 'capacity', 'capital', 'cappuccino', 'caps', 'captain', 'captaining', 'car', 'card', 'cardiff', 'cardin', 'cards', 'care', 'careabout', 'cared', 'career', 'careful', 'carefully', 'careinsha', 'careless', 'carente', 'cares', 'careswt', 'careumma', 'caring', 'carlie', 'carlin', 'carlos', 'carlosll', 'carly', 'carolina', 'caroline', 'carpark', 'carry', 'carryin', 'cars', 'carso', 'cartons', 'cartoon', 'case', 'cash', 'cashbalance', 'cashbincouk', 'cashed', 'cashin', 'cashto', 'casing', 'cast', 'casting', 'castor', 'casualty', 'cat', 'catch', 'catches', 'catching', 'categories', 'caught', 'cause', 'causes', 'causing', 'cave', 'caveboy', 'cbe', 'cc', 'cc100pmin', 'ccna', 'cd', 'cdgt', 'cds', 'cedar', 'ceiling', 'celeb', 'celeb4', 'celebrate', 'celebrated', 'celebration', 'celebrations', 'cell', 'census', 'center', 'centre', 'century', 'cer', 'cereals', 'ceri', 'certainly', 'certificate', 'cha', 'chachi', 'chad', 'chain', 'challenge', 'challenging', 'champ', 'champlaxigating', 'champneys', 'chance', 'chances', 'change', 'changed', 'changes', 'changing', 'channel', 'chapel', 'chaps', 'chapter', 'character', 'characters', 'charge', 'charged', 'charged150pmsg2', 'charges', 'charity', 'charles', 'charlie', 'charming', 'chart', 'charts', 'chase', 'chasing', 'chastity', 'chat', 'chat80155', 'chatim', 'chatlines', 'chatter', 'chatting', 'cheap', 'cheaper', 'cheat', 'cheating', 'chechi', 'check', 'checkboxes', 'checked', 'checkin', 'checking', 'checkmate', 'checkup', 'cheek', 'cheer', 'cheered', 'cheers', 'cheery', 'cheese', 'cheesy', 'cheetos', 'chef', 'chennai', 'chennaibecause', 'chennaii', 'cheque', 'cherish', 'cherthalain', 'chess', 'chest', 'chex', 'cheyyamoand', 'chez', 'chg', 'chgs', 'chic', 'chick', 'chicken', 'chickened', 'chief', 'chik', 'chikku', 'chikkuali', 'chikkub', 'chikkudb', 'chikkugoing', 'chikkuil', 'chikkuk', 'chikkusimple', 'chikkuwat', 'child', 'childish', 'childporn', 'children', 'childs', 'chile', 'chill', 'chillaxin', 'chillin', 'china', 'chinatown', 'chinchillas', 'chinese', 'chinky', 'chiong', 'chip', 'chitchat', 'chk', 'chloe', 'chocolate', 'choice', 'choices', 'choose', 'choosing', 'chop', 'chords', 'chores', 'chosen', 'chrgd50p', 'christ', 'christians', 'christmas', 'christmasmerry', 'christmassy', 'chuck', 'chuckin', 'church', 'ciao', 'cin', 'cine', 'cinema', 'citizen', 'city', 'citylink', 'cl', 'claim', 'claimcode', 'claims', 'claire', 'clarification', 'clarify', 'clas', 'clash', 'class', 'classes', 'classic', 'classmates', 'claypot', 'cld', 'clean', 'cleaning', 'clear', 'cleared', 'clearer', 'clearing', 'clearly', 'clever', 'click', 'cliff', 'cliffs', 'clip', 'clock', 'clocks', 'clos1', 'close', 'closeby', 'closed', 'closedincluding', 'closer', 'closes', 'closingdate040902', 'cloth', 'clothes', 'cloud', 'clover', 'club', 'club4', 'club4mobilescom', 'clue', 'cm', 'cme', 'cmon', 'cn', 'cnl', 'cnn', 'co', 'coach', 'coast', 'coat', 'coaxing', 'cocacola', 'coccooning', 'cochin', 'cock', 'cocksuckers', 'coco', 'code', 'code4xx26', 'coffee', 'coherently', 'coimbatore', 'coin', 'coincidence', 'coins', 'colany', 'cold', 'coldheard', 'colin', 'collages', 'collapsed', 'colleagues', 'collect', 'collected', 'collecting', 'collection', 'colleg', 'college', 'collegexx', 'color', 'colour', 'colourful', 'colourredtextcolourtxtstar', 'colours', 'com', 'comb', 'combination', 'combine', 'come', 'comedy', 'comedycant', 'comei', 'comes', 'cometil', 'comfey', 'comfort', 'comin', 'coming', 'comingdown', 'comingtmorow', 'command', 'comment', 'commercial', 'commit', 'common', 'community', 'comp', 'companies', 'companion', 'company', 'compare', 'compass', 'compensation', 'competition', 'complacent', 'complain', 'complaining', 'complaint', 'complementary', 'complete', 'completed', 'completely', 'completes', 'completing', 'complexities', 'complimentary', 'compliments', 'compofstuff', 'comprehensive', 'compromised', 'compulsory', 'computational', 'computer', 'computerless', 'computers', 'comuk220cm2', 'conacted', 'concentrate', 'concentrating', 'concentration', 'concern', 'concerned', 'concert', 'conclusion', 'condition', 'conditionand', 'conditions', 'conducts', 'conected', 'conference', 'confidence', 'configure', 'confirm', 'confirmd', 'confirmdeny', 'confirmed', 'conform', 'confused', 'confuses', 'congrats', 'congratulations', 'connect', 'connected', 'connection', 'connections', 'cons', 'consensus', 'consent', 'conserve', 'consider', 'considering', 'consistently', 'console', 'constant', 'constantly', 'contact', 'contacted', 'contacts', 'contains', 'content', 'contented', 'contention', 'contents', 'continent', 'continue', 'continued', 'contract', 'contribute', 'control', 'convenience', 'conversations', 'converted', 'converter', 'convey', 'conveying', 'convince', 'convinced', 'convincing', 'convincingjust', 'cook', 'cooked', 'cookies', 'cooking', 'cool', 'coolmob', 'cooped', 'cooperative', 'copied', 'copies', 'coping', 'cops', 'copy', 'corect', 'cornwall', 'corporation', 'corrct', 'correct', 'correction', 'correctionor', 'correctly', 'corrupt', 'corvettes', 'cos', 'cosign', 'cost', 'costa', 'costing', 'costs', 'costume', 'costumes', 'costå', 'couch', 'cougarpen', 'cough', 'coughing', 'could', 'coulda', 'couldnt', 'couldnåõt', 'count', 'countin', 'countinlots', 'country', 'counts', 'coupla', 'couple', 'courage', 'courageous', 'course', 'court', 'courtroom', 'cousin', 'cover', 'coveragd', 'covers', 'coz', 'cozsomtimes', 'cozy', 'cps', 'cr', 'cr01327bt', 'cr9', 'crab', 'crack', 'craigslist', 'crammed', 'cramps', 'crap', 'crash', 'crashed', 'crashing', 'crave', 'craving', 'craziest', 'crazy', 'crazyin', 'cream', 'created', 'creative', 'creativity', 'cred', 'credit', 'credited', 'credits', 'creep', 'creepy', 'cresubi', 'cribbs', 'cricket', 'cricketer', 'crickiting', 'cried', 'crisis', 'crisisspk', 'cro1327', 'crore', 'cross', 'crossing', 'crowd', 'croydon', 'crucial', 'crucify', 'cruise', 'cruisin', 'crushes', 'cry', 'crying', 'cs', 'csh11', 'cst', 'cstore', 'ctagg', 'ctargg', 'cthen', 'ctla', 'cttargg', 'ctter', 'cttergg', 'cuck', 'cud', 'cuddle', 'cuddled', 'cuddling', 'cudnt', 'culdnt', 'cultures', 'cum', 'cumin', 'cumming', 'cup', 'cupboard', 'cuppa', 'curfew', 'curious', 'current', 'currently', 'curry', 'curtsey', 'cust', 'custcare', 'custcare08718720201', 'custom', 'customer', 'customercare', 'customers', 'customersqueriesnetvisionukcom', 'cut', 'cute', 'cutefrnd', 'cutest', 'cutie', 'cutter', 'cutting', 'cuz', 'cw25wx', 'cya', 'cyclists', 'cysts', 'da', 'daal', 'daalways', 'dabbles', 'dabooks', 'dad', 'daddy', 'dado', 'dads', 'dagood', 'dahe', 'dahow', 'dai', 'daily', 'dajst', 'dammit', 'damn', 'dan', 'danalla', 'dancce', 'dance', 'dancin', 'dancing', 'dane', 'dang', 'danger', 'dangerous', 'dao', 'daplease', 'dare', 'dark', 'darker', 'darkest', 'darkness', 'darlin', 'darling', 'darlings', 'darlinim', 'darren', 'dartboard', 'das', 'dasara', 'dat', 'data', 'date', 'datebox1282essexcm61xn', 'dates', 'dating', 'datingi', 'datoday', 'dats', 'daurgent', 'dave', 'dawhats', 'dawhere', 'dawns', 'day', 'day2', 'day2find', 'dayexcept', 'dayhas', 'days', 'dayshe', 'daysso', 'dayswill', 'daysì', 'daytime', 'dayu', 'daywith', 'dd', 'de', 'dead', 'deadwell', 'deal', 'dealer', 'dealers', 'dealfarm', 'dealing', 'deals', 'deam', 'dear', 'dear1', 'dearer', 'deari', 'dearloving', 'dearly', 'dearme', 'dearrakhesh', 'dearregret', 'dearshall', 'dearslp', 'deartake', 'deary', 'death', 'debating', 'dec', 'decades', 'december', 'decide', 'decided', 'deciding', 'decimal', 'decision', 'decisions', 'deck', 'decking', 'declare', 'decorating', 'dedicate', 'dedicated', 'deduct', 'deep', 'deepak', 'deepest', 'deer', 'deeraj', 'def', 'defeat', 'defer', 'definite', 'definitely', 'definitly', 'defo', 'degree', 'degrees', 'dehydrated', 'dehydration', 'del', 'delay', 'delayed', 'delete', 'deleted', 'delhi', 'delicious', 'deliver', 'delivered', 'deliveredtomorrow', 'delivery', 'deltomorrow', 'deluxe', 'dem', 'demand', 'den', 'dena', 'dengra', 'denis', 'dent', 'dental', 'dentist', 'dentists', 'denying', 'department', 'dependable', 'dependents', 'depends', 'deposit', 'deposited', 'depressed', 'depression', 'dept', 'der', 'derek', 'dereks', 'derp', 'describe', 'description', 'desert', 'deserve', 'designation', 'desires', 'desk', 'desparate', 'desparately', 'desperate', 'despite', 'dessert', 'destination', 'destiny', 'detail', 'detailed', 'details', 'detailsi', 'determine', 'determined', 'detroit', 'deus', 'develop', 'developed', 'developer', 'device', 'devils', 'devouring', 'dey', 'deyhope', 'deyi', 'dha', 'dhina', 'dhoni', 'dhorte', 'di', 'dial', 'dialling', 'dialogue', 'diamond', 'diamonds', 'diapers', 'dice', 'dick', 'dict', 'dictionary', 'diddy', 'didn', 'didnt', 'didntgive', 'didnåõt', 'didt', 'die', 'died', 'diesel', 'diet', 'dieting', 'diff', 'differ', 'differbe', 'difference', 'differences', 'different', 'difficult', 'difficulties', 'dificult', 'digi', 'digital', 'digits', 'dignity', 'dileepthank', 'dime', 'dimension', 'din', 'dine', 'dined', 'dinero', 'ding', 'dining', 'dinner', 'dinnermsg', 'dino', 'dint', 'dippeditinadew', 'dips', 'direct', 'directly', 'director', 'directors', 'dirt', 'dirtiest', 'dirty', 'dis', 'disagreeable', 'disappeared', 'disappointment', 'disaster', 'disasters', 'disastrous', 'disc', 'disclose', 'disconnect', 'disconnected', 'discount', 'discreet', 'discuss', 'discussed', 'diseases', 'diskyou', 'dislikes', 'dismay', 'dismissial', 'display', 'distance', 'distract', 'disturb', 'disturbancemight', 'disturbing', 'ditto', 'divert', 'division', 'divorce', 'diwali', 'dizzamn', 'dizzee', 'dl', 'dled', 'dlf', 'dload', 'dnt', 'dob', 'dobby', 'dobbys', 'doc', 'dock', 'docks', 'docs', 'doctor', 'doctors', 'documents', 'dodda', 'dodgey', 'doesdiscountshitinnit', 'doesn', 'doesnt', 'doesnåõt', 'dog', 'dogbreath', 'dogg', 'doggin', 'dogging', 'doggy', 'dogs', 'dogwood', 'doinat', 'doinghow', 'doingwhat', 'dointerested', 'doke', 'dokey', 'dollar', 'dollars', 'dolld', 'dolls', 'dom', 'domain', 'don', 'donate', 'done', 'donewant', 'donno', 'dont4get2text', 'dontcha', 'donyt', 'donåõt', 'dooms', 'door', 'doors', 'dorm', 'dormitory', 'dorothykiefercom', 'dose', 'dosomething', 'dot', 'double', 'doublefaggot', 'doublemins', 'doubles', 'doubletxt', 'doubt', 'doug', 'dough', 'download', 'downloaded', 'downloads', 'downon', 'downs', 'downstem', 'dozens', 'dps', 'dr', 'dracula', 'drama', 'dramastorms', 'dramatic', 'drastic', 'draw', 'drawplease', 'draws', 'dreading', 'dream', 'dreamlove', 'dreams', 'dreamsmuah', 'dreamsu', 'dreamz', 'dress', 'dressed', 'dresser', 'drink', 'drinkin', 'drinking', 'drinkpa', 'drinks', 'drive', 'driver', 'drivin', 'driving', 'drizzling', 'drms', 'drmstake', 'drop', 'dropped', 'drops', 'drove', 'drpd', 'drug', 'drugdealer', 'drugs', 'drum', 'drunk', 'drunkard', 'drunken', 'drvgsto', 'dry', 'dryer', 'dsnt', 'dt', 'dual', 'dub', 'dubsack', 'duchess', 'ducking', 'dude', 'dudes', 'dudette', 'due', 'duffer', 'dull', 'dumb', 'dump', 'dun', 'dungerees', 'dunno', 'duo', 'durban', 'durham', 'dusk', 'dust', 'duvet', 'dvd', 'dvg', 'dwn', 'dying', 'dysentry', 'e14', 'eachother', 'ear', 'earlier', 'earlierwe', 'earliest', 'early', 'earn', 'earning', 'ears', 'earth', 'earthsofa', 'easier', 'easiest', 'easily', 'east', 'eastenders', 'easter', 'easy', 'eat', 'eaten', 'eatin', 'eating', 'ebay', 'ec2a', 'echo', 'eckankar', 'ecstacy', 'ecstasy', 'edge', 'edhae', 'edison', 'edition', 'edrunk', 'education', 'educational', 'edukkukayee', 'edward', 'edwards', 'ee', 'eek', 'eerie', 'eerulli', 'effect', 'effects', 'efficient', 'efreefone', 'eg', 'eg23f', 'eg23g', 'egbon', 'egg', 'eggpotato', 'eggs', 'eggspert', 'ego', 'eh', 'eh74rr', 'eight', 'eighth', 'eightish', 'eire', 'either', 'el', 'ela', 'elaborate', 'elaborating', 'elaine', 'elama', 'elaya', 'eldest', 'election', 'elections', 'electricity', 'elephant', 'eleven', 'elliot', 'ello', 'else', 'elsewhere', 'elvis', 'em', 'email', 'emailed', 'embarassed', 'embarassing', 'embarrassed', 'embassy', 'emergency', 'emerging', 'emigrated', 'emily', 'emotion', 'employee', 'employers', 'empty', 'en', 'enamous', 'enc', 'end', 'ended', 'ending', 'endless', 'endowed', 'ends', 'enemies', 'enemy', 'energy', 'eng', 'engaged', 'engagement', 'engalnd', 'engin', 'england', 'english', 'enjoy', 'enjoyed', 'enjoyin', 'enjoying', 'enketa', 'enna', 'ennal', 'enough', 'enter', 'entered', 'enters', 'entertain', 'entertaining', 'entey', 'entire', 'entirely', 'entitled', 'entrepreneurs', 'entropication', 'entry', 'enufcredeit', 'enuff', 'envelope', 'envy', 'epi', 'epsilon', 'equally', 'er', 'ericson', 'ericsson', 'erm', 'erotic', 'err', 'error', 'errors', 'ertini', 'eruku', 'erupt', 'erutupalam', 'erything', 'esaplanade', 'escalator', 'escape', 'ese', 'eshxxxxxxxxxxx', 'especially', 'espell', 'esplanade', 'essay', 'essential', 'establish', 'eta', 'etc', 'eternal', 'ethnicity', 'ethreats', 'ettans', 'euro', 'euro2004', 'eurodisinc', 'europe', 'evaluation', 'evaporated', 'eve', 'eveb', 'evei', 'even', 'evening', 'evenings', 'event', 'events', 'eventually', 'ever', 'every', 'every1', 'everybody', 'everybodys', 'everyboy', 'everyday', 'everyone', 'everyones', 'everyso', 'everythin', 'everything', 'everytime', 'everywhere', 'evey', 'eviction', 'evil', 'evn', 'evng', 'evo', 'evone', 'evr', 'evrey', 'evry', 'evry1', 'evrydy', 'ew', 'ex', 'exact', 'exactly', 'exam', 'exams', 'excellent', 'except', 'exchanged', 'excited', 'exciting', 'excuse', 'excused', 'excuses', 'exe', 'executive', 'exercise', 'exeter', 'exhaust', 'exhausted', 'exhibition', 'exist', 'exmpel', 'exorcism', 'exorcist', 'exp', 'expect', 'expected', 'expecting', 'expects', 'expensive', 'experience', 'experiencehttpwwwvouch4mecometlpdiningasp', 'experiment', 'expert', 'expired', 'expiredso', 'expires', 'expiry', 'explain', 'explicit', 'explicitly', 'explosive', 'exposed', 'exposes', 'express', 'expression', 'ext', 'exterminator', 'extra', 'extract', 'extreme', 'exwife', 'ey', 'eye', 'eyeddont', 'eyes', 'eå', 'fa', 'fab', 'faber', 'face', 'faceasssssholeeee', 'facebook', 'facilities', 'fact', 'factory', 'facts', 'faded', 'faggy', 'faglord', 'failed', 'failing', 'fails', 'failure', 'fainting', 'fair', 'faith', 'faithevening', 'fake', 'fakemy', 'fakeyes', 'fal', 'falconerf', 'fall', 'fallen', 'falling', 'falls', 'fals', 'famamus', 'familiar', 'family', 'familymay', 'famous', 'fan', 'fancied', 'fancies', 'fancy', 'fans', 'fantasies', 'fantastic', 'fantasy', 'far', 'farm', 'farrell', 'farting', 'fassyole', 'fast', 'faster', 'fastest', 'fastpls', 'fat', 'fated', 'father', 'fathima', 'fats', 'fatty', 'fault', 'faultal', 'faultfed', 'fav', 'fave', 'favor', 'favorite', 'favour', 'favourite', 'fb', 'fear', 'feathery', 'features', 'feb', 'febapril', 'february', 'fedex', 'feed', 'feel', 'feelin', 'feeling', 'feelingwavering', 'feels', 'fees', 'feet', 'fell', 'fellow', 'felt', 'female', 'feng', 'festival', 'fetch', 'fetching', 'fever', 'fffff', 'ffffffffff', 'ffffuuuuuuu', 'fgkslpo', 'fgkslpopw', 'fidalfication', 'field', 'fieldof', 'fiendmake', 'fifa', 'fifteen', 'fifth', 'fifty', 'fight', 'fighting', 'fightng', 'fights', 'figure', 'figures', 'figuring', 'file', 'files', 'fill', 'filled', 'filling', 'fills', 'film', 'films', 'filth', 'filthy', 'filthyguys', 'final', 'finalise', 'finally', 'finance', 'financial', 'find', 'finding', 'finds', 'fine', 'fineabsolutly', 'fineinshah', 'finest', 'finewhen', 'fingers', 'finish', 'finishd', 'finished', 'finishes', 'finishing', 'fink', 'finns', 'fire', 'fired', 'firefox', 'fireplace', 'firesare', 'firmware', 'firsg', 'first', 'fish', 'fishhead', 'fishrman', 'fit', 'fiting', 'five', 'fix', 'fixd', 'fixed', 'fixedline', 'fixes', 'fizz', 'flag', 'flaked', 'flaky', 'flame', 'flash', 'flat', 'flatter', 'flavour', 'flea', 'fletcher', 'flew', 'flies', 'flight', 'flights', 'flim', 'flip', 'flippin', 'flirt', 'flirting', 'floating', 'flood', 'floor', 'floppy', 'florida', 'flow', 'flower', 'flowers', 'flowing', 'fluids', 'flung', 'flurries', 'flute', 'fly', 'flyim', 'flying', 'flyng', 'fml', 'fmyou', 'fne', 'fo', 'fold', 'foley', 'folks', 'follow', 'followed', 'followin', 'following', 'follows', 'fond', 'fondly', 'fone', 'foned', 'fones', 'food', 'fool', 'fooled', 'fools', 'foot', 'football', 'footblcrckt', 'footie', 'footprints', 'footy', 'force', 'forced', 'foregate', 'foreign', 'forever', 'forevr', 'forfeit', 'forget', 'forgets', 'forgive', 'forgiven', 'forgiveness', 'forgot', 'forgotten', 'forgt', 'formal', 'formallypls', 'format', 'formatting', 'formclark', 'forms', 'formsdon', 'forth', 'fortune', 'forum', 'forums', 'forward', 'forwarded', 'forwarding', 'forå', 'found', 'four', 'fourth', 'foward', 'fowler', 'fox', 'fps', 'fr', 'fraction', 'fran', 'frankgood', 'frankie', 'franxx', 'franyxxxxx', 'frauds', 'freak', 'freaked', 'freaking', 'freaky', 'fredericksburg', 'free', 'free2day', 'freedom', 'freeentry', 'freefone', 'freek', 'freely', 'freemessage', 'freemsg', 'freemsgfav', 'freemsgfeelin', 'freenokia', 'freephone', 'freeringtone', 'freeringtonereply', 'freesend', 'freezing', 'fren', 'french', 'frens', 'frequently', 'fresh', 'freshers', 'fret', 'fri', 'friday', 'fridayhope', 'fridays', 'fridge', 'fried', 'friend', 'friendofafriend', 'friends', 'friendsare', 'friendship', 'friendshipmotherfatherteacherschildrens', 'friendships', 'fring', 'fringe', 'frm', 'frnd', 'frnds', 'frndship', 'frndshp', 'frndsship', 'frndz', 'frnt', 'fro', 'frog', 'frogaxel', 'fromm', 'front', 'frontierville', 'frosty', 'frwd', 'frying', 'ft', 'fuck', 'fucked', 'fuckin', 'fucking', 'fuckinniceselfish', 'fucks', 'fudge', 'fuelled', 'fujitsu', 'ful', 'fulfil', 'full', 'fullonsmscom', 'fumbling', 'fun', 'function', 'functions', 'fund', 'fundamentals', 'funeral', 'funk', 'funky', 'funny', 'funs', 'furniture', 'fusion', 'future', 'fuuuuck', 'fwiw', 'fyi', 'g2', 'g696ga', 'ga', 'gail', 'gailxx', 'gain', 'gained', 'gal', 'galcan', 'galileo', 'galno', 'gals', 'galsu', 'gam', 'game', 'games', 'gamestar', 'gandhipuram', 'ganesh', 'gang', 'gap', 'gaps', 'garage', 'garbage', 'garden', 'gari', 'garments', 'gary', 'gas', 'gastroenteritis', 'gate', 'gauge', 'gautham', 'gave', 'gay', 'gayle', 'gays', 'gaytextbuddycom', 'gaze', 'gb', 'gbp', 'gbp150week', 'gbp450week', 'gbp5month', 'gbpsms', 'gbpweek', 'gd', 'gdnow', 'gdthe', 'ge', 'gee', 'geeee', 'geeeee', 'geelater', 'gei', 'gek1510', 'gender', 'general', 'generally', 'genes', 'genius', 'gent', 'gentle', 'gentleman', 'gently', 'genuine', 'genus', 'geoenvironmental', 'georges', 'gep', 'ger', 'germany', 'get', 'get4an18th', 'getiing', 'geting', 'gets', 'getsleep', 'getstop', 'gettin', 'getting', 'getzedcouk', 'gf', 'ghodbandar', 'ghost', 'gibbs', 'gibe', 'gift', 'gifted', 'gifts', 'giggle', 'gigolo', 'gimme', 'gimmi', 'gin', 'girl', 'girld', 'girlfrnd', 'girlie', 'girls', 'gist', 'giv', 'give', 'given', 'gives', 'giving', 'givits', 'glad', 'glands', 'glasgow', 'glass', 'glo', 'global', 'glorious', 'glory', 'gloucesterroad', 'gm', 'gmgngegn', 'gmw', 'gn', 'gnarls', 'go', 'go2', 'go2sri', 'goa', 'goal', 'goals', 'goalsteam', 'gobi', 'god', 'godi', 'godnot', 'gods', 'godtaken', 'godyou', 'goes', 'goggles', 'goigng', 'goin', 'goin2bed', 'going', 'gokila', 'gold', 'golddigger', 'golden', 'goldviking', 'golf', 'gon', 'gona', 'gone', 'goneu', 'gong', 'gonna', 'gonnamissu', 'good', 'gooddhanush', 'goodenvironment', 'goodevening', 'goodfine', 'goodfriend', 'goodies', 'goodmate', 'goodmorning', 'goodmorningmy', 'goodnight', 'goodnite', 'goodno', 'goodnoon', 'goodo', 'goods', 'goodtimeoli', 'goodwhen', 'google', 'gopalettan', 'gorgeous', 'gosh', 'gossip', 'gossx', 'got', 'gota', 'gotany', 'gotmarried', 'goto', 'gotta', 'gotten', 'gotto', 'goverment', 'govtinstituitions', 'gowait', 'gower', 'gprs', 'gpu', 'gr8', 'gr8fun', 'gr8prizes', 'grab', 'grace', 'graduated', 'grahmbell', 'gram', 'grams', 'gran', 'grand', 'grandfather', 'grandma', 'grandmas', 'granite', 'granted', 'graphics', 'grasp', 'grateful', 'grave', 'gravel', 'gravity', 'gravy', 'gray', 'grazed', 'gre', 'great', 'greatbhaji', 'greatbye', 'greatest', 'greatly', 'greatness', 'greece', 'green', 'greeni', 'greet', 'greeting', 'greetings', 'grief', 'grinder', 'grins', 'grinule', 'grl', 'grocers', 'grooved', 'groovy', 'groovying', 'ground', 'groundamla', 'group', 'grow', 'growing', 'grown', 'grownup', 'growrandom', 'grr', 'grumble', 'grumpy', 'gs', 'gsex', 'gsoh', 'gt', 'gua', 'guai', 'guaranteed', 'gucci', 'gud', 'gudk', 'gudni8', 'gudnite', 'gudnitetcpractice', 'gudnyt', 'guess', 'guessed', 'guesses', 'guessin', 'guessing', 'guidance', 'guide', 'guides', 'guild', 'guilty', 'guitar', 'gumbys', 'guoyang', 'gurl', 'gut', 'guy', 'guys', 'gv', 'gving', 'gwr', 'gym', 'gymnastics', 'gynae', 'gyno', 'ha', 'habbahw', 'habit', 'hack', 'hadnt', 'hadya', 'haf', 'haha', 'hahahause', 'hahatake', 'hai', 'hail', 'hair', 'haircut', 'hairdressers', 'haiyoh', 'haiz', 'half', 'half8th', 'hall', 'halla', 'hallaq', 'halloween', 'ham', 'hamper', 'hamster', 'hand', 'handed', 'handing', 'handle', 'hands', 'handset', 'handsome', 'handsomes', 'hang', 'hanger', 'hangin', 'hanging', 'hanks', 'hannaford', 'hanumanji', 'happen', 'happend', 'happened', 'happenin', 'happening', 'happens', 'happier', 'happiest', 'happily', 'happiness', 'happy', 'hard', 'hardcore', 'harder', 'hardest', 'hardly', 'hari', 'harishs', 'harlem', 'harri', 'harry', 'hasbroin', 'hasnt', 'hassling', 'hat', 'hate', 'hates', 'haughaighgtujhyguj', 'haul', 'haunt', 'hav', 'hava', 'havent', 'haventcn', 'havenåõt', 'havin', 'havnt', 'hcl', 'hdd', 'head', 'headache', 'headin', 'heading', 'heads', 'headset', 'headstart', 'heal', 'healer', 'healthy', 'heap', 'hear', 'heard', 'hearin', 'hearing', 'heart', 'hearted', 'heartgn', 'heartheart', 'hearts', 'heartsnot', 'heat', 'heater', 'heaven', 'heavily', 'heavy', 'hectic', 'hee', 'heehee', 'height', 'held', 'helen', 'helens', 'hell', 'hella', 'hello', 'hellodrivby0quit', 'helloed', 'hellogorgeous', 'hellohow', 'helloooo', 'helloyou', 'help', 'help08700469649', 'help08700621170150p', 'help08712400602450p', 'help08714742804', 'help08718728876', 'helpful', 'helping', 'helpline', 'helps', 'heltiniiyo', 'hen', 'hence', 'henry', 'hep', 'herepls', 'hereremember', 'herethanksi', 'heri', 'herlove', 'hermy', 'heroes', 'heroi', 'heron', 'hershe', 'herwho', 'herwill', 'hes', 'hesitant', 'hesitate', 'hesitation', 'hex', 'hey', 'heygreat', 'heåõs', 'hgsuite3422lands', 'hgsuite3422landsroww1j6hl', 'hhahhaahahah', 'hi', 'hicts', 'hidden', 'hide', 'hides', 'hidid', 'hiding', 'high', 'highest', 'hii', 'hilariousalso', 'hill', 'hills', 'hillsborough', 'himso', 'himthen', 'hint', 'hip', 'hiphop', 'hire', 'hisher', 'history', 'hit', 'hitechnical', 'hitler', 'hitman', 'hits', 'hitteranyway', 'hittng', 'hiwhat', 'hiya', 'hl', 'hlday', 'hlp', 'hm', 'hme', 'hmm', 'hmmbad', 'hmmm', 'hmmmbut', 'hmmmhow', 'hmmmkbut', 'hmmmm', 'hmmmstill', 'hmmmy', 'hmph', 'hmv', 'hmv1', 'ho', 'hockey', 'hogidhechinnu', 'hogli', 'hogolo', 'hol', 'holby', 'hold', 'holder', 'holding', 'hole', 'holiday', 'holidayso', 'holla', 'hollalater', 'hols', 'holy', 'home', 'homebut', 'homecheck', 'homeleft', 'homelove', 'homeowners', 'homewot', 'hon', 'honest', 'honestly', 'honesty', 'honey', 'honeybee', 'honeydid', 'honeymoon', 'honi', 'hont', 'hoo', 'hooch', 'hoody', 'hook', 'hooked', 'hoops', 'hop', 'hope', 'hopeafternoon', 'hoped', 'hopeful', 'hopefully', 'hopeing', 'hopes', 'hopeu', 'hoping', 'hor', 'horniest', 'horny', 'horo', 'horrible', 'horse', 'hos', 'hospital', 'hospitals', 'hostbased', 'hostel', 'hostile', 'hot', 'hotel', 'hotels', 'hotmix', 'hottest', 'hour', 'hourish', 'hours', 'house', 'houseful', 'housemaid', 'housewives', 'housework', 'housing', 'howard', 'howda', 'howdy', 'however', 'howre', 'hows', 'howve', 'howz', 'hp', 'hp20', 'hppnss', 'hr', 'hrishi', 'hrs', 'hsbc', 'html', 'httpalto18coukwavewaveaspo44345', 'httpcareers', 'httpdoit', 'httpgotbabescouk', 'httpimg', 'httptms', 'httpwap', 'httpwwwbubbletextcom', 'httpwwwetlpcoukexpressoffer', 'httpwwwetlpcoukreward', 'httpwwwgr8prizescom', 'httpwwwurawinnercom', 'httpwwwwtlpcouktext', 'hu', 'huai', 'hubby', 'hubbys', 'hudgi', 'hug', 'huge', 'hugging', 'hugh', 'hugs', 'huh', 'hui', 'huiming', 'hum', 'humanities', 'humans', 'hun', 'hundred', 'hundredhe', 'hundreds', 'hungover', 'hungry', 'hunks', 'hunlove', 'hunny', 'hunnyhope', 'hunnywot', 'hunonbus', 'hunt', 'hunting', 'hurricanes', 'hurried', 'hurry', 'hurt', 'hurting', 'hurts', 'husband', 'hussey', 'hustle', 'hut', 'hv', 'hvae', 'hw', 'hwd', 'hwkeep', 'hyde', 'hypertension', 'hypotheticalhuagauahahuagahyuhagga', 'iam', 'ias', 'ibh', 'ibhltd', 'ibiza', 'ibm', 'ibn', 'ibored', 'ibuprofens', 'ic', 'iccha', 'ice', 'icic', 'icicibankcom', 'icky', 'icon', 'id', 'idc', 'idconvey', 'idea', 'ideal', 'ideas', 'identification', 'identifier', 'idiot', 'idk', 'idps', 'idu', 'ie', 'iff', 'ifink', 'ifwhenhow', 'ig11', 'ignorant', 'ignore', 'ignoring', 'ijust', 'ikea', 'ikno', 'iknow', 'il', 'ileave', 'ill', 'illness', 'ilol', 'ima', 'image', 'images', 'imaginationmy', 'imagine', 'imat', 'imf', 'imin', 'imma', 'immed', 'immediately', 'immunisation', 'imp', 'impatient', 'implications', 'important', 'importantly', 'imposed', 'impossible', 'imposter', 'impress', 'impressed', 'impression', 'impressively', 'improve', 'improved', 'imprtant', 'in2', 'inc', 'inch', 'inches', 'incident', 'inclu', 'include', 'includes', 'including', 'inclusive', 'incomm', 'inconsiderate', 'inconvenience', 'inconvenient', 'incorrect', 'increase', 'incredible', 'increments', 'inde', 'indeed', 'independence', 'independently', 'india', 'indian', 'indianpls', 'indians', 'indicate', 'individual', 'individualtime', 'indyarockscom', 'inever', 'infact', 'infections', 'infernal', 'influx', 'info', 'inforingtonekingcouk', 'inform', 'information', 'informed', 'informedrgdsrakheshkerala', 'infotxt82228couk', 'infovipclub4u', 'infowww100percentrealcom', 'infra', 'infront', 'ing', 'ingredients', 'initiate', 'ink', 'inlude', 'inmind', 'inner', 'innings', 'innocent', 'innu', 'inour', 'inperialmusic', 'inpersonation', 'inr', 'insects', 'insha', 'inshah', 'inside', 'inspection', 'inst', 'install', 'installation', 'installing', 'instant', 'instantly', 'instead', 'instructions', 'insurance', 'intelligent', 'intend', 'intention', 'intentions', 'interest', 'interested', 'interesting', 'interflora', 'interfued', 'internal', 'internet', 'internetservice', 'interview', 'interviews', 'interviw', 'intha', 'intimate', 'intrepid', 'intro', 'intrude', 'invaders', 'invention', 'invest', 'investigate', 'invitation', 'invite', 'invited', 'inviting', 'invnted', 'invoices', 'involve', 'involved', 'iouri', 'ip', 'ip4', 'ipad', 'ipaditan', 'ipads', 'iphone', 'ipod', 'iq', 'iraq', 'ireneere', 'iriver', 'iron', 'ironing', 'irritated', 'irritates', 'irritating', 'irritation', 'irulinae', 'isaiahd', 'isare', 'iscoming', 'ish', 'ishtamayoohappy', 'island', 'islands', 'islove', 'isn', 'isnt', 'isnåõt', 'issue', 'issues', 'it', 'italian', 'itboth', 'itcould', 'items', 'iter', 'ithis', 'iti', 'itjust', 'itleave', 'itlet', 'itll', 'itmail', 'itmay', 'itna', 'itnow', 'itor', 'itplspls', 'itried2tell', 'itsnot', 'ittb', 'itu', 'itwhichturnedinto', 'itxt', 'itxx', 'itz', 'itåõs', 'ivatte', 'ive', 'iwana', 'iwasmarinethatåõs', 'iz', 'izzit', 'iåõd', 'iåõllspeak', 'iåõm', 'iåõve', 'j89', 'jabo', 'jack', 'jacket', 'jackpot', 'jackson', 'jacuzzi', 'jada', 'jade', 'jaklin', 'jam', 'james', 'jamster', 'jamstercouk', 'jamsterget', 'jamz', 'jan', 'janarige', 'jane', 'janinexx', 'january', 'janx', 'jap', 'japanese', 'jason', 'java', 'jay', 'jaya', 'jaykwon', 'jays', 'jaz', 'jazz', 'jb', 'jd', 'je', 'jealous', 'jeans', 'jeetey', 'jeevithathile', 'jelly', 'jen', 'jenne', 'jenny', 'jeremiah', 'jeri', 'jerk', 'jerry', 'jersey', 'jess', 'jesus', 'jet', 'jetton', 'jewelry', 'jez', 'ji', 'jia', 'jiayin', 'jide', 'jiu', 'jjc', 'jo', 'joanna', 'job', 'jobs', 'jocks', 'jod', 'jog', 'jogging', 'john', 'johnåósounds', 'join', 'joined', 'joinedhope', 'joinedso', 'joining', 'joke', 'joker', 'jokes', 'jokethet', 'jokin', 'joking', 'jolly', 'jolt', 'jon', 'jones', 'jontin', 'jordan', 'jordantxt', 'jorgeshock', 'jos', 'jot', 'journey', 'joy', 'joys', 'jp', 'js', 'jsco', 'jst', 'jstfrnd', 'jsut', 'juan', 'judgementali', 'juicy', 'jules', 'juliana', 'julianaland', 'july', 'jump', 'jumpers', 'june', 'jungle', 'junna', 'jurong', 'jus', 'justbeen', 'justify', 'juswoke', 'juz', 'k52', 'k61', 'k718', 'kaaj', 'kadeem', 'kafter', 'kaiez', 'kaila', 'kaitlyn', 'kalaachutaarama', 'kalainar', 'kalisidare', 'kall', 'kallis', 'kalstiyathen', 'kama', 'kanagu', 'kane', 'kanji', 'kano', 'kanoanyway', 'kanoil', 'kanowhr', 'kappa', 'karaoke', 'karnan', 'karo', 'kate', 'katexxx', 'kath', 'kavalan', 'kay', 'kaypoh', 'kb', 'kbut', 'kdo', 'ke', 'keen', 'keep', 'keeping', 'keeps', 'kegger', 'keluviri', 'keng', 'kens', 'kent', 'kept', 'kerala', 'keralacircle', 'keris', 'kettoda', 'key', 'keypad', 'keys', 'keyword', 'kfc', 'kg', 'kgive', 'kgood', 'khelate', 'ki', 'kicchu', 'kick', 'kickboxing', 'kickoff', 'kicks', 'kid', 'kidding', 'kids', 'kidz', 'kill', 'killed', 'killing', 'kills', 'kilos', 'kim', 'kind', 'kinda', 'kindly', 'king', 'kingdom', 'kintu', 'kiosk', 'kip', 'kisi', 'kiss', 'kisses', 'kissing', 'kit', 'kits', 'kittum', 'kitty', 'kkadvance', 'kkany', 'kkapo', 'kkare', 'kkcongratulation', 'kkfrom', 'kkgoodstudy', 'kkhow', 'kkim', 'kkits', 'kkthis', 'kkwhat', 'kkwhen', 'kkwhere', 'kkwhy', 'kkyesterday', 'kl341', 'knackered', 'knees', 'knew', 'knickers', 'knock', 'knocking', 'know', 'knowhe', 'knowing', 'known', 'knows', 'knowthis', 'knowwait', 'knowyetunde', 'knw', 'ko', 'kochi', 'kodstini', 'kodthini', 'konw', 'korche', 'korean', 'korli', 'korte', 'kotees', 'kothi', 'kr', 'ksry', 'kthen', 'ktv', 'ku', 'kuch', 'kudiyarasu', 'kusruthi', 'kvb', 'kwish', 'kyou', 'kz', 'l8', 'l8er', 'l8r', 'l8tr', 'la', 'la1', 'la3', 'la32wu', 'lab', 'labor', 'lac', 'lacking', 'lacsthats', 'lacsthere', 'laden', 'ladies', 'ladiesu', 'lady', 'lag', 'lage', 'lager', 'laid', 'laidwant', 'lakhs', 'lambda', 'lambu', 'lamp', 'lancaster', 'land', 'landing', 'landline', 'landlineonly', 'landlines', 'landmark', 'lands', 'lane', 'langport', 'language', 'lanka', 'lanre', 'lap', 'lapdancer', 'laptop', 'lar', 'lara', 'laready', 'large', 'largest', 'lark', 'lasagna', 'last', 'lastest', 'lasting', 'late', 'latebut', 'latei', 'lately', 'latelyxxx', 'later', 'lateso', 'latest', 'latests', 'latr', 'laugh', 'laughed', 'laughing', 'laughs', 'laundry', 'laurie', 'lautech', 'lavender', 'law', 'laxinorficated', 'lay', 'laying', 'lays', 'lazy', 'lccltd', 'ldn', 'ldnw15h', 'le', 'lead', 'leadership', 'leading', 'leads', 'leafdayno', 'league', 'leannewhat', 'learn', 'learned', 'least', 'least5times', 'leastwhich', 'leave', 'leaves', 'leaving', 'lect', 'lecture', 'lecturer', 'left', 'leftovers', 'leg', 'legal', 'legitimat', 'legs', 'leh', 'lehhaha', 'lei', 'lekdog', 'lemme', 'length', 'lengths', 'lennon', 'leo', 'leona', 'leonardo', 'leonas', 'les', 'less', 'lesser', 'lesson', 'lessons', 'let', 'lets', 'letter', 'letters', 'leu', 'level', 'li', 'liao', 'liaoso', 'liaotoo', 'lib', 'libertines', 'library', 'lick', 'licks', 'lido', 'lie', 'lies', 'life', 'lifeand', 'lifebook', 'lifeis', 'lifethis', 'lifetime', 'lifeyou', 'lifpartnr', 'lift', 'lifted', 'lifting', 'light', 'lighters', 'lightly', 'lik', 'like', 'liked', 'likely', 'likes', 'likeyour', 'likingbe', 'lil', 'lily', 'lim', 'limit', 'limited', 'limiting', 'limits', 'limping', 'lindsay', 'line', 'linear', 'lined', 'linerental', 'lines', 'lineyou', 'lingerie', 'lingo', 'link', 'links', 'linux', 'lion', 'lionm', 'lionp', 'lions', 'lip', 'lipo', 'lips', 'liquor', 'list', 'listed', 'listen', 'listener', 'listening', 'listening2the', 'listn', 'lists', 'lit', 'literally', 'litres', 'little', 'live', 'lived', 'liver', 'liverpool', 'lives', 'living', 'lk', 'lkpobox177hp51fl', 'll', 'lm', 'lmao', 'lmaonice', 'lnly', 'lo', 'load', 'loads', 'loan', 'loans', 'lobby', 'local', 'location', 'locations', 'locaxx', 'lock', 'locks', 'lodge', 'lodging', 'log', 'logged', 'logging', 'login', 'logo', 'logoff', 'logon', 'logopic', 'logos', 'logosmusicnews', 'loko', 'lol', 'lolnice', 'lololo', 'londn', 'london', 'loneliness', 'lonely', 'long', 'longer', 'lonlines', 'loo', 'look', 'lookatme', 'looked', 'lookin', 'looking', 'looks', 'lool', 'loooooool', 'looovvve', 'loose', 'loosing', 'loosu', 'lor', 'lord', 'lorgoin', 'lorwe', 'lose', 'losers', 'loses', 'losing', 'loss', 'lost', 'lot', 'loti', 'lotr', 'lots', 'lotsly', 'lotta', 'lotto', 'lotwill', 'lotz', 'lou', 'loud', 'lounge', 'lousy', 'lov', 'lovable', 'love', 'loveable', 'loved', 'lovejen', 'lovely', 'loveme', 'lover', 'loverakhesh', 'loverboy', 'lovers', 'loves', 'lovin', 'loving', 'lovingly', 'lovly', 'low', 'lowcost', 'lower', 'lowes', 'loxahatchee', 'loyal', 'loyalty', 'ls1', 'ls15hb', 'ls278bb', 'lst', 'lt', 'lt3', 'ltd', 'ltdecimalgt', 'ltdhelpdesk', 'ltdå', 'ltemailgt', 'ltgt', 'lttimegt', 'lttrs', 'lturlgt', 'lubly', 'luck', 'luck2', 'luckily', 'lucky', 'lucozade', 'lucozadecoukwrc', 'lucy', 'lucyxx', 'luks', 'lul', 'lunch', 'lunchtime', 'lunchyou', 'lunsford', 'lush', 'luton', 'luv', 'luvd', 'luvnight', 'luvs', 'lux', 'luxury', 'lv', 'lvblefrnd', 'lyf', 'lyfu', 'lying', 'lyk', 'lyricalladie21f', 'lyrics', 'm100', 'm221bp', 'm227xy', 'm26', 'm263uz', 'm39m51', 'm6', 'm8', 'm8s', 'm95', 'maaaan', 'maangalyam', 'maat', 'mac', 'macedonia', 'macha', 'machan', 'machiany', 'machines', 'macho', 'mack', 'macleran', 'macs', 'mad', 'mad1', 'mad2', 'madam', 'madamregret', 'made', 'madodu', 'madoke', 'madstini', 'madthen', 'mag', 'maga', 'magazine', 'maggi', 'magic', 'magical', 'magicalsongsblogspotcom', 'mah', 'mahal', 'mahfuuzmeaning', 'mail', 'mailbox', 'mailed', 'maili', 'mails', 'main', 'maintain', 'maintaining', 'major', 'make', 'makes', 'makiing', 'makin', 'making', 'malaria', 'malarky', 'male', 'mall', 'mallika', 'man', 'manage', 'manageable', 'managed', 'management', 'manchester', 'manda', 'mandan', 'mandara', 'mandy', 'maneesha', 'manege', 'mango', 'maniac', 'manky', 'manual', 'many', 'map', 'mapquest', 'maps', 'maraikara', 'marandratha', 'march', 'maretare', 'margaret', 'margin', 'mark', 'market', 'marketing', 'marking', 'marley', 'marrgeremembr', 'marriage', 'marriageprogram', 'married', 'marry', 'marsms', 'marvel', 'mary', 'mas', 'masked', 'massages', 'massagetiepos', 'massive', 'masteriastering', 'masters', 'mat', 'match', 'matched', 'matches', 'mate', 'mates', 'math', 'mathe', 'mathematics', 'mathews', 'maths', 'matra', 'matric', 'matrix3', 'matter', 'mattermsg', 'matters', 'matthew', 'matured', 'maturity', 'max', 'max10mins', 'max6month', 'maximize', 'maximum', 'maxå', 'may', 'mayb', 'maybe', 'mb', 'mc', 'mca', 'mcat', 'mcr', 'meal', 'meals', 'mean', 'meaning', 'meaningful', 'meaningless', 'means', 'meant', 'meanwhile', 'meare', 'measure', 'meat', 'meatballs', 'mecause', 'med', 'medical', 'medicine', 'medont', 'meds', 'mee', 'meet', 'meetgreet', 'meetin', 'meeting', 'meetins', 'meetitz', 'meets', 'mega', 'meh', 'mei', 'meim', 'meis', 'meive', 'mel', 'melike', 'melle', 'melnite', 'melody', 'melt', 'member', 'members', 'membership', 'membershiptake', 'memorable', 'memories', 'memory', 'men', 'meneed', 'mens', 'mental', 'mention', 'mentionedtomorrow', 'mentionned', 'mentor', 'menu', 'meok', 'meow', 'meowd', 'merely', 'merememberin', 'meremove', 'merry', 'mesages', 'meshe', 'meso', 'mess', 'message', 'messaged', 'messageit', 'messageits', 'messageno', 'messagepandy', 'messages', 'messagesim', 'messagesome', 'messagestext', 'messagethanks', 'messaging', 'messed', 'messenger', 'messy', 'met', 'method', 'meummifyingbye', 'mf', 'mfl', 'mgs', 'mi', 'mia', 'michael', 'mid', 'middle', 'midnight', 'mids', 'might', 'miiiiiiissssssssss', 'mila', 'mileage', 'miles', 'milk', 'milkdayno', 'millers', 'million', 'millions', 'miltazindgi', 'min', 'mina', 'minapn', 'mind', 'minded', 'mindsetbelieve', 'mine', 'mineall', 'minecraft', 'mines', 'mini', 'minimum', 'minnaminunginte', 'minor', 'mins', 'mins100txtmth', 'minstand', 'minstexts', 'mint', 'minus', 'minute', 'minutes', 'minuts', 'miracle', 'mirror', 'mis', 'misbehaved', 'miserable', 'misfits', 'mising', 'misplaced', 'miss', 'misscall', 'missed', 'missin', 'missing', 'missionary', 'missions', 'misss', 'misstake', 'missunderstding', 'missy', 'mist', 'mistake', 'mistakes', 'mistakeu', 'misundrstud', 'mite', 'mitsake', 'mittelschmertz', 'miwa', 'mix', 'mj', 'mjzgroup', 'mk45', 'ml', 'mm', 'mmm', 'mmmm', 'mmmmm', 'mmmmmm', 'mmmmmmm', 'mmsto', 'mns', 'mnth', 'mnths', 'mo', 'moan', 'mob', 'mobcudb', 'mobile', 'mobiles', 'mobilesdirect', 'mobilesvary', 'mobileupd8', 'mobno', 'mobs', 'mobsicom', 'mobstorequiz10ppm', 'moby', 'mode', 'model', 'modelsony', 'modl', 'module', 'modules', 'mofo', 'moji', 'mojibiola', 'mokka', 'molestedsomeone', 'mom', 'moment', 'moments', 'moms', 'mon', 'monday', 'mondaynxt', 'moneeppolum', 'money', 'moneyas', 'moneyi', 'monkeespeople', 'monkey', 'monkeyaround', 'monkeys', 'monl8rsx', 'mono', 'monoc', 'monos', 'monster', 'month', 'monthly', 'monthlysubscription50pmsg', 'monthnot', 'months', 'mood', 'moon', 'moons', 'moral', 'moraldont', 'moralone', 'morn', 'mornin', 'morning', 'mornings', 'morningtake', 'morphine', 'moseley', 'mostly', 'mother', 'motherfucker', 'motherinlaw', 'motivate', 'motivating', 'motive', 'motor', 'motorola', 'mountain', 'mountains', 'mouse', 'mouth', 'move', 'moved', 'moves', 'movie', 'movies', 'moviewat', 'moving', 'mp3', 'mquiz', 'mr', 'mre', 'mrng', 'mrt', 'mrur', 'ms', 'msg', 'msg150p', 'msging', 'msgrcvd18', 'msgs', 'msgs150p', 'msgsd', 'msgsometext', 'msgsubscription', 'msgticketkioskvalid', 'msgwe', 'msgå', 'msn', 'mssuman', 'mt', 'mtalk', 'mth', 'mths', 'mtnl', 'mu', 'much', 'muchand', 'muchi', 'muchimpede', 'muchxxlove', 'mudyadhu', 'mufti', 'muhommad', 'muht', 'multimedia', 'multiply', 'multis', 'mum', 'mumbai', 'mumhas', 'mummy', 'mummys', 'mums', 'mumtaz', 'mumtazs', 'mundhe', 'munsters', 'murali', 'murder', 'murdered', 'murderer', 'mus', 'mush', 'mushy', 'music', 'musical', 'must', 'musta', 'musthu', 'mustprovide', 'mutai', 'mutations', 'muz', 'mw', 'mwahs', 'mylife', 'mymoby', 'myparents', 'mys', 'myspace', 'mystery', 'mytonecomenjoy', 'n8', 'na', 'naal', 'nachos', 'nag', 'nagar', 'nah', 'nahi', 'nails', 'naked', 'nalla', 'nalli', 'name', 'name1', 'name2', 'named', 'namemy', 'names', 'nammanna', 'nan', 'nange', 'nanny', 'nannys', 'nap', 'narcotics', 'nasdaq', 'naseeb', 'nasty', 'nat', 'natalie', 'natalja', 'national', 'nationwide', 'nattil', 'natuition', 'natural', 'nature', 'natwest', 'naughty', 'nauseous', 'nav', 'navigate', 'nb', 'nbme', 'nd', 'ne', 'near', 'nearby', 'nearer', 'nearly', 'necesity', 'necessarily', 'necessary', 'necessity', 'neck', 'necklace', 'ned', 'need', 'needa', 'needed', 'neededsalary', 'needing', 'needle', 'needs', 'needy', 'neekunna', 'neft', 'negative', 'neglect', 'neglet', 'neighbor', 'neighbors', 'neither', 'nelson', 'neo69', 'nervous', 'neshanthtel', 'net', 'netcollex', 'netflix', 'nething', 'netno', 'network', 'networking', 'networks', 'neva', 'never', 'nevering', 'neville', 'nevr', 'new', 'neway', 'newest', 'newport', 'newquaysend', 'news', 'newsby', 'newscaster', 'newshype', 'newspapers', 'next', 'ngage', 'nhs', 'ni8', 'ni8swt', 'nic', 'nice', 'nicenicehow', 'nichols', 'nick', 'nickey', 'nicky', 'nig', 'nigeria', 'nigh', 'night', 'nighters', 'nightnight', 'nightnobody', 'nights', 'nightsexcellent', 'nightswe', 'nigpun', 'nigro', 'nike', 'nikiyu4net', 'nimbomsons', 'nimya', 'nimyapls', 'ninish', 'nino', 'nipost', 'nit', 'nite', 'nite2', 'nitro', 'nitros', 'nitw', 'nitz', 'njan', 'nmde', 'no1', 'no165', 'no434', 'no440', 'no762', 'no81151', 'no83355', 'no910', 'nobbing', 'noble', 'nobody', 'nobodys', 'nobut', 'noe', 'nofew', 'nohe', 'noi', 'noice', 'noise', 'noisy', 'noits', 'nojst', 'nok', 'nokia', 'nokia150p', 'nokia6600', 'nokia6650', 'nokias', 'noline', 'nolistened2the', 'non', 'noncomittal', 'none', 'nonenowhere', 'nonetheless', 'nookii', 'noon', 'nooooooo', 'noooooooo', 'nope', 'nora', 'norcorp', 'nordstrom', 'norm', 'norm150ptone', 'normal', 'normally', 'north', 'northampton', 'nos', 'nose', 'nosh', 'nosy', 'note', 'notebook', 'notes', 'nothin', 'nothing', 'nothis', 'notice', 'notifications', 'notified', 'notixiquating', 'nottel', 'nottingham', 'notxtcouk', 'noun', 'novelty', 'november', 'now1', 'now4t', 'nowadays', 'nowadayslot', 'nowcan', 'nowi', 'nownyt', 'nowonion', 'noworriesloanscom', 'nowreply', 'nowsavamobmember', 'nowsend', 'nowsky', 'nowstill', 'nowtcs', 'nowuse', 'nr31', 'nri', 'nt', 'nte', 'ntswt', 'ntt', 'ntwk', 'nuclear', 'nudist', 'nuerologist', 'num', 'number', 'numberpls', 'numberrespectful', 'numbers', 'numberso', 'nursery', 'nurses', 'nurungu', 'nus', 'nusstu', 'nuther', 'nutter', 'nver', 'nvm', 'nvq', 'nw', 'nxt', 'nyc', 'nydc', 'nys', 'nyt', 'nytec2a3lpmsg150p', 'nyusa', 'nz', 'nìâte', 'o2', 'o2coukgames', 'o2fwd', 'oath', 'obedient', 'obese', 'obey', 'objection', 'oblisingately', 'oblivious', 'obviously', 'occasion', 'occupied', 'occupy', 'occur', 'occurs', 'oceand', 'oclock', 'october', 'odalebeku', 'odi', 'ofcourse', 'offc', 'offcampus', 'offense', 'offer', 'offered', 'offering', 'offers', 'offerthe', 'office', 'officer', 'officestill', 'officethenampet', 'officeunderstand', 'officewhats', 'official', 'officially', 'offline', 'ofice', 'oficegot', 'ofsi', 'often', 'ofå', 'oga', 'ogunrinde', 'oh', 'ohas', 'ohi', 'oi', 'oic', 'oil', 'oja', 'ok', 'okay', 'okcome', 'okday', 'okden', 'okey', 'okie', 'okies', 'okmail', 'okok', 'okors', 'oktake', 'okthenwhats', 'okvarunnathu', 'ola', 'olage', 'olave', 'olayiwolas', 'old', 'ollubut', 'olol', 'olowoyey', 'olympics', 'omg', 'omw', 'onam', 'oncall', 'ondu', 'one', 'onedge', 'ones', 'oneta', 'oni', 'onionrs', 'onit', 'online', 'onlinewhy', 'onluy', 'only1more', 'onlybettr', 'onlydon', 'onlyfound', 'onto', 'onum', 'onwards', 'onwords', 'ooh', 'oooh', 'oooooh', 'ooooooh', 'oops', 'open', 'opened', 'opener', 'openin', 'opening', 'openings', 'operate', 'operator', 'opinion', 'opinions', 'opponenter', 'opportunity', 'opportunityall', 'opportunitypls', 'opposed', 'opposite', 'opps', 'opt', 'opted', 'optimistic', 'optin', 'option', 'optout', 'or2optouthv9d', 'or2stoptxt', 'oral', 'orange', 'orangei', 'oranges', 'orc', 'orchard', 'order', 'ordered', 'ore', 'oredi', 'oreo', 'oreos', 'organise', 'organizer', 'orh', 'orig', 'original', 'orno', 'ors', 'ortxt', 'oru', 'os', 'oscar', 'oso', 'otbox', 'others', 'otherwise', 'othrs', 'otside', 'ou', 'ouch', 'ourbacks', 'oursso', 'outage', 'outages', 'outbid', 'outdoors', 'outfit', 'outfor', 'outgoing', 'outhave', 'outif', 'outl8r', 'outrageous', 'outreach', 'outs', 'outside', 'outsider', 'outstanding', 'outta', 'ovarian', 'overa', 'overdid', 'overdose', 'overemphasiseor', 'overheating', 'overtime', 'ovr', 'ovulatewhen', 'ovulation', 'ow', 'owe', 'owed', 'owl', 'owned', 'owns', 'ownyouve', 'owo', 'oxygen', 'oyea', 'oyster', 'oz', 'pa', 'paces', 'pack', 'package', 'packalso', 'packing', 'packs', 'padhegm', 'page', 'pages', 'pai', 'paid', 'pain', 'painful', 'painhope', 'paining', 'painit', 'painting', 'pale', 'palm', 'pan', 'panalambut', 'panasonic', 'pandy', 'panic', 'panicks', 'panren', 'pansy', 'panther', 'panties', 'pants', 'pap', 'papa', 'paper', 'papers', 'paperwork', 'paracetamol', 'parachute', 'parade', 'paragon', 'paragraphs', 'paranoid', 'parantella', 'parchi', 'parco', 'parent', 'parentnot', 'parents', 'parentsi', 'paris', 'parisfree', 'parish', 'park', 'park6ph', 'parked', 'parkin', 'parking', 'part', 'participate', 'particular', 'particularly', 'parties', 'partner', 'partners', 'partnership', 'parts', 'party', 'partys', 'paru', 'pases', 'pass', 'passable', 'passed', 'passes', 'passion', 'passionate', 'passport', 'passthey', 'password', 'passwordsatmsms', 'past', 'pataistha', 'patent', 'path', 'pathaya', 'paths', 'patients', 'patrick', 'pattern', 'patty', 'pattys', 'paul', 'pause', 'pay', 'payasam', 'payback', 'payed', 'payee', 'paying', 'payment', 'payments', 'payoh', 'paypal', 'pc', 'pdatenow', 'peace', 'peaceful', 'peach', 'peak', 'pears', 'pee', 'peeps', 'pehle', 'pei', 'pen', 'pence', 'pendent', 'pending', 'pendingi', 'penis', 'penny', 'people', 'peoples', 'per', 'percent', 'percentages', 'perf', 'perfect', 'perform', 'performance', 'performed', 'perfume', 'perhaps', 'peril', 'period', 'peripherals', 'permanent', 'permission', 'permissions', 'perpetual', 'persevered', 'persian', 'person', 'person2die', 'personal', 'personality', 'personally', 'personmeet', 'persons', 'perspective', 'perumbavoor', 'pesky', 'pest', 'pete', 'peteis', 'petey', 'peteynoiåõm', 'petrol', 'petrolrs', 'pg', 'ph', 'ph08700435505150p', 'ph08704050406', 'pharmacy', 'phasing', 'phd', 'phews', 'phil', 'philosophical', 'philosophy', 'phne', 'phoenix', 'phone', 'phone750', 'phonebook', 'phoned', 'phones', 'phony', 'photo', 'photos', 'photoshop', 'php', 'phrase', 'physics', 'piah', 'pic', 'pick', 'picked', 'picking', 'pickle', 'pics', 'picsfree1', 'picture', 'pictures', 'pictxt', 'pie', 'piece', 'pieces', 'pierre', 'pig', 'piggy', 'pilates', 'pile', 'pillows', 'pimples', 'pimpleseven', 'pin', 'pink', 'pinku', 'pints', 'pisces', 'piss', 'pissed', 'pity', 'pix', 'pixels', 'pizza', 'pl', 'place', 'placed', 'placement', 'placeno', 'places', 'plaid', 'plan', 'plane', 'planet', 'planeti', 'planettalkinstantcom', 'planned', 'planning', 'plans', 'plate', 'platt', 'play', 'played', 'player', 'players', 'playerwhy', 'playi', 'playin', 'playing', 'playng', 'plaza', 'pleasant', 'please', 'pleased', 'pleassssssseeeeee', 'pleasure', 'pleasured', 'plenty', 'plm', 'ploughing', 'pls', 'plsi', 'plum', 'plumbers', 'plumbingremixed', 'plural', 'plus', 'plyr', 'plz', 'pm', 'pmt', 'po', 'po19', 'pobox', 'pobox1', 'pobox11414tcrw1', 'pobox12n146tf15', 'pobox12n146tf150p', 'pobox202', 'pobox334', 'pobox36504w45wq', 'pobox365o4w45wq', 'pobox45w2tg150p', 'pobox75ldns7', 'pobox84', 'poboxox36504w45wq', 'pocay', 'pocked', 'pocketbabecouk', 'pockets', 'pocy', 'pod', 'poem', 'poet', 'point', 'points', 'poker', 'poking', 'pokkiri', 'pole', 'police', 'politicians', 'polo', 'poly', 'poly200p', 'poly3', 'polyc', 'polyh', 'polyph', 'polyphonic', 'polys', 'polytruepixringtonesgames', 'pongal', 'pongaldo', 'ponnungale', 'poo', 'pookie', 'pool', 'poop', 'poor', 'poorly', 'poortiyagi', 'pop', 'popcorn', 'popcornjust', 'popped', 'popping', 'porn', 'porridge', 'port', 'portal', 'portege', 'pose', 'posh', 'posible', 'position', 'positions', 'positive', 'possession', 'possessive', 'possessiveness', 'possibility', 'possible', 'possiblehope', 'possibly', 'post', 'postal', 'postcard', 'postcode', 'posted', 'posterode', 'posting', 'postponed', 'posts', 'potato', 'potential', 'potter', 'pouch', 'pound', 'pounded', 'pounds', 'poured', 'pours', 'pouts', 'power', 'powerful', 'poyyarikaturkolathupalayamunjalur', 'ppl', 'pple', 'pple700', 'ppm', 'ppm150', 'ppt150x3normal', 'prabha', 'prabhaim', 'prabu', 'pract', 'practical', 'practice', 'practicing', 'practicum', 'practising', 'praises', 'prakasam', 'prakasamanu', 'prakesh', 'praps', 'prasad', 'prasanth', 'prashanthettans', 'pray', 'prayers', 'praying', 'prayingwill', 'prayrs', 'pre', 'prebook', 'predict', 'predicte', 'predicting', 'prediction', 'predictive', 'prefer', 'preferably', 'prem', 'premaricakindly', 'premier', 'premium', 'prepaid', 'prepare', 'prepared', 'prepayment', 'preponed', 'prescribed', 'prescripiton', 'prescription', 'presence', 'present', 'presents', 'president', 'presleys', 'presnts', 'press', 'pressies', 'pressure', 'prestige', 'pretend', 'pretsorginta', 'pretsovru', 'pretty', 'prevent', 'previews', 'previous', 'previously', 'prey', 'price', 'prices', 'priceso', 'pride', 'priest', 'prin', 'prince', 'princegn', 'princes', 'princess', 'print', 'printed', 'printer', 'printing', 'prior', 'priority', 'priscillas', 'privacy', 'private', 'prix', 'priya', 'prize', 'prizeawaiting', 'prizes', 'prizeswith', 'prizeto', 'pro', 'prob', 'probably', 'problem', 'problematic', 'problembut', 'problemfree', 'problemi', 'problems', 'problms', 'problum', 'probs', 'probthat', 'process', 'processed', 'processexcellent', 'processits', 'processnetworking', 'prods', 'products', 'prof', 'professional', 'professors', 'profile', 'profiles', 'profit', 'program', 'programs', 'progress', 'project', 'projects', 'prolly', 'prometazine', 'prominent', 'promise', 'promised', 'promises', 'promo', 'promoting', 'promotion', 'promptly', 'prompts', 'prone', 'proof', 'proove', 'proper', 'properly', 'property', 'propose', 'props', 'propsd', 'pros', 'prospects', 'protect', 'proverb', 'provided', 'provider', 'province', 'proze', 'prsn', 'ps', 'ps3', 'pshewmissing', 'psp', 'psychiatrist', 'psychic', 'psychologist', 'pt2', 'ptbo', 'pthis', 'pub', 'pubcafe', 'public', 'publish', 'pubs', 'pudunga', 'pull', 'pulling', 'pulls', 'pump', 'punch', 'punish', 'punishment', 'punto', 'puppy', 'pura', 'purchase', 'purchases', 'pure', 'purity', 'purpleu', 'purpose', 'purse', 'push', 'pushbutton', 'pushes', 'pussy', 'put', 'puts', 'puttin', 'putting', 'puzzeles', 'puzzles', 'px3748', 'på', 'qatar', 'qatarrakhesh', 'qbank', 'qet', 'qi', 'qing', 'qlynnbv', 'quality', 'quarter', 'que', 'queen', 'queries', 'ques', 'question', 'questioned', 'questions', 'questionstd', 'quick', 'quickly', 'quiet', 'quit', 'quite', 'quiteamuzing', 'quitting', 'quiz', 'quizclub', 'quizwin', 'quizzes', 'quote', 'quoting', 'r836', 'racal', 'racing', 'radiator', 'radio', 'raed', 'rael', 'raglan', 'rahul', 'raiden', 'railway', 'rain', 'raining', 'raise', 'raised', 'raj', 'rajas', 'rajini', 'rajipls', 'rajitha', 'rajnikant', 'rakhesh', 'raksha', 'rally', 'ralphs', 'ramen', 'ran', 'random', 'randomlly', 'randomly', 'randy', 'rang', 'range', 'ranjith', 'ranju', 'raping', 'rate', 'rates', 'ratetcs', 'rather', 'ratio', 'rats', 'raviyog', 'rawring', 'rayan', 'rayman', 'rays', 'rcbbattle', 'rcd', 'rct', 'rcv', 'rcvd', 'rd', 'rdy', 're', 'reach', 'reache', 'reached', 'reaching', 'reacting', 'reaction', 'read', 'readers', 'readiness', 'reading', 'ready', 'readyall', 'real', 'real1', 'realise', 'realised', 'realising', 'reality', 'realize', 'realized', 'realizes', 'really', 'realy', 'reapply', 'rearrange', 'reason', 'reasonable', 'reasons', 'reassurance', 'reassuring', 'rebel', 'reboot', 'rebooting', 'rebtel', 'rec', 'recd', 'recdthirtyeight', 'receipt', 'receipts', 'receive', 'receivea', 'received', 'receiving', 'recent', 'recently', 'reception', 'recession', 'recharge', 'recharged', 'rechargerakhesh', 'recieve', 'reckon', 'recognise', 'recognises', 'record', 'recorded', 'recorder', 'records', 'recount', 'recovery', 'recpt', 'recreation', 'recycling', 'red', 'redeemable', 'redim', 'redred', 'reduce', 'ree', 'ref', 'ref9280114', 'ref9307622', 'reference', 'references', 'referin', 'reffering', 'refilled', 'reflection', 'reflex', 'reformat', 'refreshed', 'refund', 'refundedthis', 'refused', 'reg', 'regard', 'regarding', 'regards', 'register', 'registered', 'registration', 'regret', 'regretted', 'regular', 'rejected', 'related', 'relation', 'relationshipits', 'relatives', 'relax', 'relaxing', 'released', 'reliant', 'relieved', 'religiously', 'relocate', 'reltnship', 'rem', 'remain', 'remains', 'remb', 'remember', 'remembered', 'rememberi', 'remembr', 'remembrs', 'remet', 'remind', 'reminded', 'reminder', 'reminding', 'reminds', 'removal', 'remove', 'removed', 'rencontre', 'renewal', 'renewed', 'renewing', 'rent', 'rental', 'renting', 'rentl', 'rents', 'repair', 'repairs', 'repeat', 'repeating', 'repent', 'replace', 'replacement', 'replacing', 'replied', 'replies', 'reply', 'replybe', 'replying', 'replys150', 'report', 'reppurcussions', 'representative', 'republic', 'request', 'requests', 'require', 'required', 'requirements', 'requires', 'reschedule', 'research', 'resend', 'resent', 'reservations', 'reserve', 'reserved', 'reserves', 'reset', 'residency', 'resizing', 'reslove', 'resolution', 'resolved', 'resort', 'respect', 'respectful', 'responcewhat', 'respond', 'responding', 'response', 'responsibilities', 'responsibility', 'responsible', 'rest', 'restaurant', 'restock', 'restocked', 'restrict', 'restrictions', 'restuwud', 'restwish', 'resub', 'resubbing', 'resubmit', 'result', 'results', 'resume', 'resuming', 'retard', 'retired', 'retrieve', 'return', 'returned', 'returning', 'returns', 'reunion', 'reveal', 'revealed', 'revealing', 'reverse', 'review', 'revision', 'reward', 'rewarding', 'rg21', 'rgds', 'rgent', 'rhode', 'rhythm', 'rice', 'rich', 'riddance', 'ridden', 'ride', 'right', 'rightio', 'rightly', 'rights', 'rileys', 'rimac', 'ring', 'ringing', 'ringsreturn', 'ringtone', 'ringtonefrom', 'ringtoneget', 'ringtoneking', 'ringtones', 'ringtoneåá', 'rinu', 'rip', 'ripped', 'risk', 'risks', 'rite', 'ritten', 'river', 'road', 'roads', 'roadsrvx', 'roast', 'rob', 'robinson', 'robs', 'rock', 'rocking', 'rocks', 'rodds1', 'rodger', 'rofl', 'roger', 'role', 'roles', 'rolled', 'roller', 'romantic', 'romcapspam', 'ron', 'rons', 'room', 'roomate', 'roommate', 'roommates', 'rooms', 'ros', 'rose', 'roses', 'rough', 'round', 'rounderso', 'rounds', 'route', 'row', 'rows', 'roww1j6hl', 'roww1jhl', 'royal', 'rp176781', 'rpl', 'rply', 'rr', 'rreveal', 'rs', 'rs5', 'rsi', 'rstm', 'rtking', 'rtm', 'rto', 'ru', 'rub', 'rubber', 'rude', 'rudi', 'rugby', 'ruin', 'ruining', 'rule', 'rules', 'rum', 'rumbling', 'rummer', 'rumour', 'run', 'running', 'runninglets', 'runs', 'rupaul', 'rush', 'rushing', 'rv', 'ryan', 'ryans', 'ryder', 's3xy', 's8', 's89', 'sac', 'sachin', 'sachinjust', 'sack', 'sacked', 'sacrifice', 'sad', 'sae', 'saeed', 'safe', 'safely', 'safety', 'sagamu', 'saibaba', 'said', 'saidif', 'sake', 'salad', 'salam', 'salary', 'sale', 'sales', 'salesman', 'salespee', 'salmon', 'salon', 'salt', 'sam', 'samachara', 'samantha', 'sambarlife', 'sameso', 'samus', 'sandiago', 'sane', 'sang', 'sankranti', 'santa', 'santha', 'sao', 'sapna', 'sar', 'sara', 'sarasota', 'sarcasm', 'sarcastic', 'saristar', 'sariyag', 'sary', 'sashimi', 'sat', 'satanic', 'sathy', 'sathya', 'satisfied', 'satisfy', 'satlove', 'satsgettin', 'satsoundåõs', 'saturday', 'satì', 'saucy', 'savamob', 'save', 'saved', 'saves', 'savings', 'saw', 'say', 'sayask', 'sayin', 'saying', 'says', 'sayy', 'sbut', 'sc', 'scallies', 'scammers', 'scarcasim', 'scared', 'scary', 'scenario', 'scenery', 'sch', 'schedule', 'school', 'schools', 'science', 'scold', 'scorable', 'score', 'scores', 'scoring', 'scotch', 'scotland', 'scotsman', 'scouse', 'scraped', 'scrappy', 'scratches', 'scratching', 'scream', 'screamed', 'screaming', 'screen', 'screwd', 'scrounge', 'scrumptious', 'sculpture', 'sd', 'sday', 'sdryb8i', 'se', 'sea', 'search', 'searching', 'season', 'seat', 'sec', 'second', 'secondary', 'seconds', 'secret', 'secretary', 'secretly', 'secrets', 'secs', 'section', 'sections', 'secure', 'secured', 'sed', 'see', 'seeds', 'seeing', 'seekers', 'seeking', 'seem', 'seemed', 'seems', 'seen', 'seeno', 'sees', 'sef', 'seh', 'sehwag', 'seing', 'select', 'selected', 'selection', 'self', 'selfindependence', 'selfish', 'selflessness', 'sell', 'selling', 'sells', 'sem', 'semester', 'semi', 'semiobscure', 'sen', 'send', 'sender', 'sendername', 'sending', 'sends', 'senor', 'senrddnot', 'sense', 'sensesrespect', 'sensible', 'sensitive', 'sent', 'sentdate', 'sentence', 'senthil', 'senthilhsbc', 'seperated', 'sept', 'september', 'serena', 'series', 'serious', 'seriously', 'served', 'server', 'service', 'services', 'serving', 'servs', 'set', 'setting', 'settings', 'settle', 'settled', 'settling', 'seven', 'seventeen', 'several', 'sex', 'sexiest', 'sextextukcom', 'sexual', 'sexy', 'sexychat', 'sez', 'sf', 'sfine', 'sfirst', 'sfrom', 'sh', 'sha', 'shades', 'shadow', 'shag', 'shagged', 'shah', 'shahjahan', 'shahjahans', 'shakara', 'shake', 'shakespeare', 'shaking', 'shall', 'shame', 'shampain', 'shangela', 'shanghai', 'shanilrakhesh', 'shant', 'shaping', 'share', 'shared', 'sharing', 'shattered', 'shaved', 'shb', 'shd', 'sheet', 'sheets', 'sheffield', 'shelf', 'shell', 'shelves', 'sherawat', 'shes', 'shesil', 'shhhhh', 'shifad', 'shijas', 'shijutta', 'shinco', 'shindig', 'shining', 'shiny', 'ship', 'shipped', 'shipping', 'shirt', 'shirts', 'shit', 'shite', 'shitin', 'shitjustfound', 'shitload', 'shits', 'shitstorm', 'shivratri', 'shjas', 'shld', 'shldxxxx', 'shock', 'shocking', 'shoes', 'shola', 'shoot', 'shop', 'shoppin', 'shopping', 'shopthe', 'shopwe', 'shoranur', 'shore', 'shorethe', 'short', 'shortage', 'shortcode', 'shorter', 'shortly', 'shorts', 'shot', 'shoul', 'shoulders', 'shouldn', 'shouldnt', 'shouted', 'shouting', 'shove', 'shoving', 'show', 'showed', 'shower', 'showered', 'showers', 'showing', 'showr', 'showroomscity', 'shows', 'shracomorsglsuplt10', 'shrek', 'shrink', 'shrub', 'shu', 'shud', 'shuhui', 'shun', 'shut', 'shy', 'si', 'sian', 'sib', 'sic', 'sick', 'sickness', 'sicomo', 'side', 'sif', 'sigh', 'sighs', 'sight', 'sign', 'signal', 'significance', 'significant', 'signin', 'signing', 'siguviri', 'silence', 'silent', 'silently', 'silly', 'silver', 'sim', 'simonwatson5120', 'simple', 'simpler', 'simply', 'simpsons', 'simulate', 'since', 'sinco', 'sindu', 'sing', 'singapore', 'singing', 'single', 'singles', 'sink', 'sip', 'sipix', 'sips', 'sir', 'siri', 'sirjii', 'sirs', 'sirsalam', 'sis', 'sister', 'sisters', 'sit', 'site', 'sitll', 'sitter', 'sittin', 'sitting', 'situation', 'situations', 'siva', 'sivatats', 'six', 'size', 'sized', 'sk3', 'sk38xh', 'skallis', 'skateboarding', 'skilgme', 'skillgame', 'skillgame1winaweek', 'skills', 'skinny', 'skins', 'skint', 'skip', 'skirt', 'sky', 'skye', 'skype', 'skyped', 'skyving', 'slaaaaave', 'slacking', 'slap', 'slave', 'sleep', 'sleepin', 'sleeping', 'sleepingand', 'sleepingwith', 'sleeps', 'sleepsweet', 'sleepwellamptake', 'sleepy', 'slept', 'slice', 'slices', 'slide', 'sliding', 'slightly', 'slip', 'slippers', 'slippery', 'slo', 'slo4msgs', 'slob', 'slots', 'slovely', 'slow', 'slower', 'slowing', 'slowly', 'slurp', 'smacks', 'small', 'smaller', 'smart', 'smartcall', 'smarter', 'smartthough', 'smash', 'smashed', 'smear', 'smell', 'smells', 'smeone', 'smidgin', 'smile', 'smiled', 'smiles', 'smiley', 'smiling', 'smith', 'smithswitch', 'smoke', 'smoked', 'smokes', 'smokin', 'smoking', 'smoothly', 'sms', 'sms08718727870', 'smsd', 'smsing', 'smsservices', 'smsshsexnetun', 'smth', 'sn', 'snake', 'snap', 'snappy', 'snatch', 'snd', 'sneham', 'snickering', 'sno', 'snogs', 'snoringthey', 'snow', 'snowball', 'snowboarding', 'snowman', 'snuggles', 'soany', 'soc', 'sochte', 'social', 'sofa', 'soft', 'software', 'soil', 'soiree', 'sol', 'soladha', 'sold', 'solihull', 'solve', 'solved', 'some1', 'somebody', 'someday', 'someone', 'someones', 'someonethat', 'someonone', 'someplace', 'somerset', 'somethin', 'something', 'somethings', 'sometime', 'sometimerakheshvisitor', 'sometimes', 'sometme', 'somewhat', 'somewhere', 'somewheresomeone', 'somewhr', 'somone', 'somtimes', 'sonathaya', 'sonetimes', 'song', 'songs', 'sonot', 'sony', 'sonyericsson', 'soo', 'soon', 'soonc', 'sooner', 'soonlots', 'soonxxx', 'sooo', 'soooo', 'sooooo', 'sophas', 'sore', 'sorrow', 'sorrowsi', 'sorry', 'sorryi', 'sorryin', 'sort', 'sorta', 'sorted', 'sortedbut', 'sorting', 'sorts', 'sory', 'sorydarealyfrm', 'sos', 'soso', 'soul', 'sound', 'sounding', 'sounds', 'soundtrack', 'soup', 'source', 'sources', 'south', 'southern', 'souveniers', 'soz', 'sp', 'space', 'spacebucks', 'spaces', 'spageddies', 'spain', 'spam', 'spanish', 'spare', 'spares', 'spark', 'sparkling', 'spatula', 'speak', 'speaking', 'special', 'specialcall', 'speciale', 'specialisation', 'specialise', 'specially', 'specific', 'specify', 'specs', 'speechless', 'speed', 'speedchat', 'speeding', 'speling', 'spell', 'spelled', 'spelling', 'spend', 'spending', 'spent', 'spice', 'spider', 'spiderman', 'spiffing', 'spile', 'spin', 'spinout', 'spiral', 'spirit', 'spiritual', 'spjanuary', 'spk', 'spl', 'splash', 'splashmobile', 'splat', 'splendid', 'split', 'splleing', 'splwat', 'spoil', 'spoiled', 'spoilt', 'spoke', 'spoken', 'sponsors', 'spontaneously', 'spook', 'spoon', 'spoons', 'sporadically', 'sport', 'sports', 'sportsx', 'spose', 'spot', 'spotty', 'spouse', 'sppok', 'spreadsheet', 'spree', 'spring', 'springs', 'sprint', 'sprwm', 'sptv', 'sptyrone', 'spunout', 'spys', 'sq825', 'squatting', 'squeeeeeze', 'squeezed', 'squid', 'squishy', 'srs', 'srsly', 'srt', 'sry', 'ssi', 'ssindia', 'ssnervous', 'st', 'stability', 'stable', 'stadium', 'staff', 'staffsciencenusedusgphyhcmkteachingpc1323', 'stage', 'stagwood', 'stairs', 'stalk', 'stalking', 'stamped', 'stamps', 'stand', 'standard', 'standing', 'stands', 'stapati', 'star', 'starer', 'staring', 'starring', 'stars', 'starshine', 'start', 'started', 'startedindia', 'starti', 'starting', 'starts', 'starve', 'starving', 'starwars3', 'stash', 'stated', 'statement', 'statements', 'station', 'stations', 'status', 'stay', 'stayed', 'stayin', 'staying', 'stays', 'std', 'stdtxtrate', 'steak', 'steal', 'stealing', 'steam', 'steamboat', 'steed', 'steering', 'step', 'steps', 'stereo', 'stereophonics', 'sterling', 'sterm', 'steve', 'stevelike', 'stewartsize', 'steyn', 'sth', 'sthis', 'stick', 'sticky', 'stifled', 'stil', 'still', 'stillmaybe', 'stink', 'stitch', 'stock', 'stocked', 'stockport', 'stolen', 'stomach', 'stomps', 'stone', 'stoners', 'stones', 'stool', 'stop', 'stop2', 'stop2stop', 'stopbcm', 'stopcost', 'stopcs', 'stopped', 'stops', 'stoptxt', 'stoptxtstop', 'stoptxtstopå', 'store', 'storelike', 'stores', 'stories', 'storming', 'story', 'str', 'str8', 'straight', 'strain', 'strange', 'stranger', 'strangersaw', 'stream', 'street', 'streetshall', 'stress', 'stressed', 'stressful', 'stressfull', 'stretch', 'strewn', 'strict', 'strike', 'strings', 'strip', 'stripes', 'strips', 'strokes', 'strong', 'strongbuy', 'strongly', 'strt', 'strtd', 'struggling', 'sts', 'stu', 'stubborn', 'stuck', 'studdying', 'student', 'studentfinancial', 'students', 'studies', 'studio', 'study', 'studying', 'studyn', 'stuff', 'stuff42moro', 'stuffed', 'stuffing', 'stuffleaving', 'stuffs', 'stuffwhy', 'stunning', 'stupid', 'stupidits', 'style', 'styles', 'styling', 'stylish', 'stylist', 'sub', 'subject', 'subletting', 'submitted', 'submitting', 'subpoly', 'subs', 'subscribe', 'subscribe6gbpmnth', 'subscribed', 'subscriber', 'subscribers', 'subscription', 'subscriptions', 'subscriptn3gbpwk', 'subscrition', 'subsequent', 'subtoitles', 'success', 'successful', 'successfully', 'sucker', 'suckers', 'sucks', 'sudden', 'suddenly', 'sudn', 'sue', 'suffer', 'suffering', 'suffers', 'sufficient', 'sugababes', 'suganya', 'sugar', 'sugardad', 'suggest', 'suggestion', 'suggestions', 'suite', 'suitemates', 'suits', 'sullivan', 'sum', 'sum1', 'sumfing', 'summer', 'summers', 'summon', 'sumthin', 'sumthinxx', 'sun', 'sun0819', 'sunday', 'sundayish', 'sunlight', 'sunny', 'sunoco', 'sunroof', 'sunscreen', 'sunshine', 'suntec', 'sup', 'super', 'superb', 'superior', 'supervisor', 'suply', 'supose', 'suppliers', 'supplies', 'supply', 'support', 'supportproviding', 'supports', 'supportvery', 'suppose', 'supposed', 'supreme', 'suprman', 'sura', 'sure', 'surely', 'surf', 'surfing', 'surgical', 'surly', 'surname', 'surprise', 'surprised', 'surrender', 'surrounded', 'survey', 'surya', 'sutra', 'sux', 'suzy', 'svc', 'sw7', 'sw73ss', 'swalpa', 'swan', 'swann', 'swap', 'swashbuckling', 'swat', 'swatch', 'sway', 'swayze', 'swear', 'sweater', 'sweatter', 'sweet', 'sweetest', 'sweetheart', 'sweetie', 'sweets', 'swell', 'swhrt', 'swimming', 'swimsuit', 'swing', 'swiss', 'switch', 'swollen', 'swoop', 'swt', 'swtheart', 'syd', 'syllabus', 'symbol', 'sympathetic', 'symptoms', 'synced', 'syria', 'syrup', 'system', 'systems', 't91', 'ta', 'table', 'tables', 'tablet', 'tablets', 'tackle', 'tacos', 'tactful', 'tactless', 'tadaaaaa', 'tag', 'tagged', 'tahan', 'tai', 'tait', 'taj', 'taka', 'take', 'takecare', 'taken', 'takenonly', 'takes', 'takin', 'taking', 'talent', 'talents', 'talk', 'talkbut', 'talked', 'talkin', 'talking', 'talks', 'tall', 'tallahassee', 'tallent', 'tamilnaduthen', 'tampa', 'tank', 'tantrums', 'tap', 'tape', 'tariffs', 'tarot', 'tarpon', 'tas', 'taste', 'tasts', 'tat', 'tata', 'tattoos', 'tau', 'taught', 'taunton', 'taxes', 'taxi', 'taxless', 'taxt', 'taylor', 'taylors', 'tayseertissco', 'tb', 'tbspersolvo', 'tc', 'tcllc', 'tcrw1', 'tcs', 'tcsbcm4235wc1n3xx', 'tcsc', 'tcsstop', 'tddnewsletteremc1couk', 'tea', 'teach', 'teacher', 'teaches', 'teaching', 'teacoffee', 'team', 'teams', 'tear', 'tears', 'tease', 'teasing', 'tech', 'technical', 'technologies', 'tee', 'teenager', 'teeth', 'teethif', 'teethis', 'teju', 'tel', 'telephone', 'telephonic', 'teletext', 'tell', 'telling', 'tellmiss', 'tells', 'telly', 'telphone', 'telugu', 'teluguthts', 'temales', 'temp', 'temper', 'temple', 'ten', 'tenants', 'tendencies', 'tenerife', 'tensed', 'tension', 'teresa', 'term', 'terminatedwe', 'terms', 'termsapply', 'terrible', 'terrific', 'terrorist', 'terry', 'tescos', 'tessypls', 'test', 'testing', 'tests', 'tex', 'texas', 'texd', 'text', 'text82228', 'textand', 'textbook', 'textbuddy', 'textcomp', 'texted', 'textin', 'texting', 'textoperator', 'textpod', 'texts', 'textsweekend', 'tgxxrz', 'th', 'thandiyachu', 'thangam', 'thangamits', 'thank', 'thanks', 'thanks2', 'thanksgiving', 'thanku', 'thankyou', 'thanx', 'thanx4', 'thanxxx', 'thasa', 'that', 'that2worzels', 'thatd', 'thatdont', 'thati', 'thatll', 'thatmum', 'thatnow', 'thats', 'thatåõs', 'thatåõscool', 'the4th', 'theacusations', 'theater', 'theatre', 'thedailydraw', 'thekingshead', 'themed', 'themes', 'themob', 'themobhit', 'themobyo', 'themp', 'thenwill', 'theoretically', 'theory', 'theplace', 'theredo', 'theregoodnight', 'therell', 'therere', 'theres', 'therexx', 'thesedays', 'theseyours', 'thesis', 'thesmszonecom', 'thewend', 'theyll', 'theyre', 'thgt', 'thia', 'thin', 'thing', 'thinghow', 'things', 'think', 'thinked', 'thinkin', 'thinking', 'thinks', 'thinkthis', 'thinl', 'thirunelvali', 'thisdon', 'thk', 'thkin', 'thm', 'thnk', 'thnq', 'thnx', 'tho', 'thoso', 'thot', 'thou', 'though', 'thought', 'thoughts', 'thoughtsi', 'thousands', 'thout', 'thread', 'threats', 'three', 'threw', 'thriller', 'throat', 'throw', 'throwin', 'throwing', 'thrown', 'throws', 'thru', 'thrurespect', 'ths', 'tht', 'thts', 'thuglyfe', 'thurs', 'thursday', 'thus', 'thx', 'thy', 'tick', 'ticket', 'tickets', 'tiempo', 'tiger', 'tight', 'tightly', 'tigress', 'tihs', 'tiime', 'til', 'till', 'tim', 'time', 'timedhoni', 'timehope', 'times', 'timeslil', 'timeyou', 'timeyour', 'timi', 'timin', 'timing', 'timings', 'tip', 'tips', 'tired', 'tiring', 'tirunelvai', 'tirunelvali', 'tirupur', 'tis', 'tisscotayseer', 'title', 'titles', 'titleso', 'tiwary', 'tix', 'tiz', 'tke', 'tkts', 'tlk', 'tm', 'tming', 'tmobile', 'tmorrowpls', 'tmr', 'tmrw', 'tmw', 'tnc', 'tncs', 'toa', 'toaday', 'tobacco', 'tobed', 'tocallshall', 'toclaim', 'today', 'todaybut', 'todaydo', 'todayfrom', 'todaygood', 'todayhe', 'todays', 'todaysundaysunday', 'todo', 'tog', 'together', 'tohar', 'toilet', 'tok', 'token', 'toking', 'tol', 'told', 'toldshe', 'toledo', 'tolerance', 'toll', 'tom', 'tomarrow', 'tomeandsaidthis', 'tomo', 'tomocant', 'tomorro', 'tomorrow', 'tomorrowcall', 'tomorrowtoday', 'tomorw', 'tone', 'tones', 'tones2u', 'tones2youcouk', 'tonesreply', 'tonexs', 'tonght', 'tongued', 'tonight', 'tonights', 'tonite', 'tonitebusy', 'tonitethings', 'tons', 'took', 'tookplace', 'tool', 'toolets', 'tooo', 'toopray', 'toot', 'toothpaste', 'tootsie', 'top', 'topic', 'topicsorry', 'toplay', 'topped', 'toppoly', 'tops', 'tor', 'torch', 'torrents', 'tortilla', 'torture', 'tosend', 'toshiba', 'toss', 'tot', 'total', 'totally', 'totes', 'touch', 'touched', 'tough', 'toughest', 'tour', 'towards', 'town', 'towndontmatter', 'toxic', 'toyota', 'tp', 'track', 'trackmarque', 'trade', 'traditions', 'traffic', 'train', 'trained', 'training', 'trainners', 'trains', 'tram', 'tranquility', 'transaction', 'transcribing', 'transfer', 'transferacc', 'transfered', 'transferred', 'transfr', 'transfred', 'transport', 'trash', 'trauma', 'trav', 'travel', 'traveling', 'travelled', 'travelling', 'treacle', 'treadmill', 'treasure', 'treat', 'treated', 'treatin', 'treats', 'trebles', 'tree', 'trek', 'trends', 'trial', 'tried', 'trip', 'triple', 'trips', 'trishul', 'triumphed', 'tron', 'trouble', 'troubleshooting', 'trouser', 'truble', 'truck', 'true', 'truekdo', 'truffles', 'truly', 'truro', 'trust', 'trusting', 'truth', 'truthful', 'try', 'tryin', 'trying', 'trywales', 'ts', 'tsandcs', 'tscs', 'tscs08714740323', 'tscs087147403231winawkage16', 'tshirt', 'tsunami', 'tsunamis', 'tt', 'tts', 'ttyl', 'tue', 'tues', 'tuesday', 'tui', 'tuition', 'tul', 'tulip', 'tunde', 'tune', 'tunji', 'turkeys', 'turn', 'turned', 'turning', 'turns', 'tuth', 'tv', 'tvhe', 'tvlol', 'twat', 'twelve', 'twenty', 'twice', 'twiggs', 'twilight', 'twinks', 'twins', 'twittering', 'two', 'txt', 'txt250com', 'txtauction', 'txtauctiontxt', 'txtin', 'txting', 'txtjourney', 'txtno', 'txts', 'txtx', 'tyler', 'tylers', 'type', 'typelyk', 'types', 'typical', 'u4', 'uawakefeellikw', 'ubandu', 'ubi', 'ucall', 'ud', 'ufind', 'ugadi', 'ugh', 'ugos', 'uh', 'uhhhhrmm', 'uif', 'uin', 'ujhhhhhhh', 'uk', 'ukmobiledate', 'ukp2000', 'uks', 'ull', 'ultimate', 'ultimately', 'ultimatum', 'um', 'umma', 'ummmawill', 'ummmmmaah', 'un', 'unable', 'unbelievable', 'unclaimed', 'uncle', 'uncles', 'uncomfortable', 'unconditionally', 'unconscious', 'unconsciously', 'unconvinced', 'uncountable', 'uncut', 'underdtand', 'understand', 'understanding', 'understood', 'underwear', 'undrstnd', 'undrstndng', 'unemployed', 'uneventful', 'unfolds', 'unfortunately', 'unfortuntly', 'unhappiness', 'unhappy', 'uni', 'unicefs', 'uniform', 'unintentional', 'unintentionally', 'unique', 'uniquei', 'united', 'units', 'univ', 'university', 'unknown', 'unless', 'unlike', 'unlimited', 'unmits', 'unnecessarily', 'unni', 'unrecognized', 'unredeemed', 'unsecured', 'unsold', 'unsoldmike', 'unsoldnow', 'unsub', 'unsubscribe', 'unsubscribed', 'unusual', 'uothrwise', 'up4', 'upcharge', 'upd8', 'updat', 'update', 'updatenow', 'upgrade', 'upgrading', 'upgrdcentre', 'uphad', 'upload', 'uploaded', 'upnot', 'upon', 'upping', 'ups', 'upset', 'upseti', 'upsetits', 'upstairs', 'upto', 'uptown', 'upyeh', 'urfeeling', 'urgent', 'urgentbut', 'urgentlyits', 'urgh', 'urgnt', 'urgoin', 'urination', 'url', 'urmomi', 'urn', 'urself', 'us', 'usb', 'usc', 'uscedu', 'use', 'used', 'useful', 'useless', 'user', 'uses', 'usf', 'usget', 'usher', 'using', 'uslet', 'usmle', 'usno', 'uso', 'usps', 'usual', 'usualiam', 'usually', 'uterus', 'utter', 'uttered', 'uu', 'uup', 'uv', 'uve', 'uworld', 'uxxxx', 'vaazhthukkal', 'vague', 'vaguely', 'vai', 'vale', 'valentine', 'valentines', 'valid', 'valid12hrs', 'valuable', 'value', 'valued', 'valuemorning', 'values', 'valuing', 'varaya', 'vargu', 'various', 'varma', 'vary', 'vasai', 'vat', 'vatian', 'vava', 'vco', 'vday', 've', 'vegas', 'vegetables', 'veggie', 'vehicle', 'velachery', 'velly', 'velusamy', 'venaam', 'venugopal', 'verified', 'verify', 'verifying', 'version', 'versus', 'vettam', 'vewy', 'via', 'vibrant', 'vibrate', 'vibrator', 'vic', 'victoria', 'victors', 'vid', 'video', 'videochat', 'videophones', 'videopic', 'videos', 'videosound', 'videosounds2', 'vidnot', 'view', 'vijay', 'vijaykanth', 'vikky', 'vikkyim', 'vilikkamt', 'vill', 'villa', 'village', 'vinobanagar', 'violated', 'violence', 'violet', 'vip', 'virgils', 'virgin', 'virgins', 'virtual', 'visa', 'visionsmscom', 'visit', 'visiting', 'visitneed', 'visitors', 'vital', 'vitamin', 'viva', 'vivek', 'viveki', 'vl', 'vldo', 'voda', 'vodafone', 'vodka', 'voice', 'voicemail', 'voila', 'volcanoes', 'vomit', 'vomitin', 'vomiting', 'vote', 'voted', 'voucher', 'vouchers', 'voucherstext', 'vpist', 'vpod', 'vry', 'vs', 'vth', 'vtired', 'vu', 'w111wx', 'w14rg', 'w1a', 'w1j', 'w1t1jy', 'w4', 'w45wq', 'w8in', 'wa', 'wa14', 'waaaat', 'wad', 'wadebridgei', 'wah', 'wahala', 'wahay', 'waheed', 'waheeda', 'wahleykkumsharing', 'waht', 'wait', 'waited', 'waiti', 'waitin', 'waiting', 'waitshould', 'waitu', 'wake', 'waking', 'wales', 'waliking', 'walk', 'walkabout', 'walked', 'walkin', 'walking', 'walks', 'wall', 'wallet', 'wallpaper', 'wallpaperall', 'walls', 'walmart', 'walsall', 'wamma', 'wan', 'wan2', 'wana', 'wanna', 'wannatell', 'want', 'want2come', 'wanted', 'wanting', 'wants', 'wap', 'waqt', 'warm', 'warming', 'warned', 'warner', 'warning', 'warranty', 'warwick', 'washob', 'wasn', 'wasnt', 'wasnåõt', 'waste', 'wasted', 'wasting', 'wat', 'watch', 'watched', 'watches', 'watchin', 'watching', 'watchng', 'water', 'watever', 'watevr', 'wating', 'watll', 'watrdayno', 'wats', 'watts', 'waves', 'way', 'way2smscom', 'waythis', 'wc', 'wc1n', 'wc1n3xx', 'we', 'weak', 'weakness', 'weaknesses', 'weapon', 'wear', 'wearing', 'weaseling', 'weasels', 'weather', 'weathers', 'web', 'web2mobile', 'webadres', 'webeburnin', 'webpage', 'website', 'websitenow', 'wed', 'weddin', 'wedding', 'weddingfriend', 'wednesday', 'weds', 'wee', 'weed', 'weeddeficient', 'week', 'weekdays', 'weekend', 'weekends', 'weekly', 'weeks', 'weekstop', 'weigh', 'weighed', 'weight', 'weighthaha', 'weightloss', 'weird', 'weirdest', 'weirdo', 'weirdy', 'weiyi', 'welcome', 'welcomes', 'well', 'wellda', 'welli', 'welltake', 'wellyou', 'welp', 'wen', 'wendy', 'wenever', 'went', 'wenwecan', 'wer', 'wereare', 'werebored', 'werent', 'werethe', 'wesley', 'wesleys', 'west', 'western', 'westlife', 'westonzoyland', 'westshore', 'wet', 'wetherspoons', 'weve', 'wewa', 'weåõve', 'whassup', 'what', 'whatever', 'whats', 'whatsup', 'wheat', 'wheel', 'wheellock', 'whenever', 'whenevr', 'whenre', 'whens', 'whenwhere', 'whereare', 'wherebtw', 'wheres', 'wherever', 'wherevr', 'wherres', 'whether', 'whileamp', 'whilltake', 'whispers', 'white', 'whn', 'whole', 'whore', 'whos', 'whose', 'whr', 'wi', 'wicked', 'wicket', 'wicklow', 'wid', 'widelivecomindex', 'wif', 'wife', 'wifedont', 'wifehow', 'wifes', 'wifi', 'wihtuot', 'wikipediacom', 'wil', 'wild', 'wildest', 'wildlife', 'willing', 'willpower', 'win', 'win150ppmx3age16', 'wind', 'window', 'windows', 'winds', 'windy', 'wine', 'wined', 'wings', 'wining', 'winner', 'winnersclub', 'winning', 'wins', 'winterstone', 'wipro', 'wiproyou', 'wire3net', 'wisdom', 'wise', 'wish', 'wisheds', 'wishes', 'wishin', 'wishing', 'wishlist', 'wiskey', 'wit', 'withdraw', 'wither', 'within', 'without', 'witin', 'witot', 'witout', 'wiv', 'wizzle', 'wk', 'wkend', 'wkent150p16', 'wkg', 'wkly', 'wknd', 'wks', 'wktxt', 'wlcome', 'wld', 'wmlid1b6a5ecef91ff937819firsttrue180430jul05', 'wmlid820554ad0a1705572711firsttrueåác', 'wn', 'wnevr', 'wnt', 'wo', 'woah', 'wocay', 'woke', 'woken', 'woman', 'womdarfull', 'women', 'wondar', 'wondarfull', 'wonder', 'wonderful', 'wondering', 'wonders', 'wont', 'woo', 'woodland', 'woods', 'woohoo', 'woot', 'woould', 'woozles', 'worc', 'word', 'wordcollect', 'wordnot', 'words', 'wordsevry', 'wordstart', 'work', 'workage', 'workand', 'workin', 'working', 'worklove', 'workout', 'works', 'world', 'worldgnun', 'worldmay', 'worlds', 'worldvery', 'worms', 'worried', 'worriedx', 'worries', 'worry', 'worryc', 'worrying', 'worryuse', 'worse', 'worst', 'worth', 'worthless', 'wot', 'wotu', 'wotz', 'woul', 'would', 'woulda', 'wouldnt', 'wounds', 'wow', 'wquestion', 'wrc', 'wrecked', 'wrench', 'wrenching', 'wright', 'write', 'writhing', 'wrk', 'wrki', 'wrkin', 'wrking', 'wrks', 'wrld', 'wrnog', 'wrong', 'wrongly', 'wrongtake', 'wrote', 'ws', 'wt', 'wtc', 'wtf', 'wth', 'wthout', 'wud', 'wudnt', 'wuld', 'wuldnt', 'wun', 'www07781482378com', 'www4tcbiz', 'www80488biz', 'wwwapplausestorecom', 'wwwareyouuniquecouk', 'wwwasjesuscom', 'wwwb4utelecom', 'wwwbridalpetticoatdreamscouk', 'wwwcashbincouk', 'wwwclubmobycom', 'wwwclubzedcouk', 'wwwcnupdatescomnewsletter', 'wwwcomuknet', 'wwwdbuknet', 'wwwflirtpartyus', 'wwwfullonsmscom', 'wwwgambtv', 'wwwgetzedcouk', 'wwwidewcom', 'wwwldewcom', 'wwwldewcom1win150ppmx3age16', 'wwwldewcom1win150ppmx3age16subscription', 'wwwldewcomsubs161win150ppmx3', 'wwwmovietriviatv', 'wwwmusictrivianet', 'wwworangecoukow', 'wwwphb1com', 'wwwregalportfoliocouk', 'wwwringtonekingcouk', 'wwwringtonescouk', 'wwwrtfsphostingcom', 'wwwsantacallingcom', 'wwwshortbreaksorguk', 'wwwsmsacubootydelious', 'wwwsmsacugoldviking', 'wwwsmsacuhmmross', 'wwwsmsacunat27081980', 'wwwsmsacunatalie2k9', 'wwwsmsconet', 'wwwtcbiz', 'wwwtelediscountcouk', 'wwwtextcompcom', 'wwwtextpodnet', 'wwwtklscom', 'wwwtxt2shopcom', 'wwwtxt43com', 'wwwtxt82228com', 'wwwtxttowincouk', 'wwwwin82050couk', 'wylie', 'x2', 'x29', 'x49', 'x49your', 'xafter', 'xam', 'xavier', 'xchat', 'xclusiveclubsaisai', 'xin', 'xins', 'xmas', 'xnet', 'xoxo', 'xt', 'xuhui', 'xx', 'xxsp', 'xxuk', 'xxx', 'xxxmobilemovieclub', 'xxxmobilemovieclubcomnqjkgighjjgcbl', 'xxxx', 'xxxxx', 'xxxxxx', 'xxxxxxx', 'xxxxxxxx', 'xxxxxxxxxxxxxx', 'xy', 'y87', 'ya', 'yagoing', 'yah', 'yahoo', 'yalrigu', 'yalru', 'yam', 'yan', 'yar', 'yards', 'yavnt', 'yaxx', 'yaxxx', 'yay', 'yck', 'yday', 'yeah', 'yeahand', 'year', 'years', 'yeesh', 'yeh', 'yelling', 'yellow', 'yelowi', 'yen', 'yeovil', 'yep', 'yer', 'yes', 'yes165', 'yes434', 'yes440', 'yes762', 'yes910', 'yesbut', 'yesfrom', 'yesgauti', 'yeshe', 'yeshere', 'yesim', 'yesmum', 'yessura', 'yest', 'yesterday', 'yet', 'yettys', 'yetunde', 'yi', 'yifeng', 'yijue', 'yijuehotmailcom', 'ym', 'ymca', 'yo', 'yoga', 'yogasana', 'yohere', 'yor', 'yorge', 'you', 'youany', 'youcarlos', 'youclean', 'youd', 'youdearwith', 'youdoing', 'youhow', 'youi', 'youkwhere', 'yould', 'youll', 'youmoney', 'youmy', 'young', 'younger', 'youphone', 'youre', 'yourinclusive', 'yourjob', 'youso', 'youthats', 'youto', 'youuuuu', 'youve', 'youwanna', 'youwhen', 'youåõre', 'yoville', 'yowifes', 'yoyyooo', 'yr', 'yrs', 'ystrdayice', 'yummmm', 'yummy', 'yun', 'yunny', 'yuo', 'yuou', 'yup', 'yupz', 'ywhere', 'zac', 'zahers', 'zealand', 'zebra', 'zed', 'zeros', 'zhong', 'zindgi', 'zoe', 'zogtorius', 'zoom', 'zouk', 'zyada', 'åè10', 'åð', 'åòharry', 'åòits', 'åômorrow', 'åôrents', 'ìll', 'ìï', 'ìïll', 'ûthanks', 'ûªm', 'ûªt', 'ûªve', 'ûï', 'ûïharry', 'ûò', 'ûówell']\n",
            "(5572, 9371)\n"
          ],
          "name": "stdout"
        }
      ]
    },
    {
      "cell_type": "markdown",
      "metadata": {
        "id": "8CBUDKYX2dHU"
      },
      "source": [
        "#### 2.11. Your contributions\n",
        "\n",
        "    Create clean_msg_2 with your text_process function. \n",
        "    Then, apply feature extraction using TfidfVectorizer, HashingVectorizer and CountVectorizer\n",
        "    Compare the result with the default text_process function. "
      ]
    },
    {
      "cell_type": "code",
      "metadata": {
        "id": "bZSaKbD5VBvS"
      },
      "source": [
        "def clean_msg_2(message):\n",
        "  temp=''\n",
        "  STOPWORDS = stopwords.words('english') + ['u', 'ü', 'ur', '4', '2', 'im', 'dont', 'doin', 'ure']\n",
        "  word_list = message.split()\n",
        "  for word in word_list:\n",
        "    if word.lower() not in STOPWORDS:\n",
        "      temp += ' '+ word\n",
        "  return temp[1:]\n"
      ],
      "execution_count": 18,
      "outputs": []
    },
    {
      "cell_type": "code",
      "metadata": {
        "colab": {
          "base_uri": "https://localhost:8080/",
          "height": 204
        },
        "id": "lFgZBrKCjRr3",
        "outputId": "b7f6ad37-583c-49fc-9068-538dbf04d951"
      },
      "source": [
        "for row in sms1['message']:\n",
        "  temp = clean_msg_2(row)\n",
        "  sms1 = sms1.replace(row, temp)\n",
        "sms1.head()"
      ],
      "execution_count": 19,
      "outputs": [
        {
          "output_type": "execute_result",
          "data": {
            "text/html": [
              "<div>\n",
              "<style scoped>\n",
              "    .dataframe tbody tr th:only-of-type {\n",
              "        vertical-align: middle;\n",
              "    }\n",
              "\n",
              "    .dataframe tbody tr th {\n",
              "        vertical-align: top;\n",
              "    }\n",
              "\n",
              "    .dataframe thead th {\n",
              "        text-align: right;\n",
              "    }\n",
              "</style>\n",
              "<table border=\"1\" class=\"dataframe\">\n",
              "  <thead>\n",
              "    <tr style=\"text-align: right;\">\n",
              "      <th></th>\n",
              "      <th>label</th>\n",
              "      <th>message</th>\n",
              "      <th>length</th>\n",
              "    </tr>\n",
              "  </thead>\n",
              "  <tbody>\n",
              "    <tr>\n",
              "      <th>0</th>\n",
              "      <td>0</td>\n",
              "      <td>Go jurong point, crazy.. Available bugis n gre...</td>\n",
              "      <td>111</td>\n",
              "    </tr>\n",
              "    <tr>\n",
              "      <th>1</th>\n",
              "      <td>0</td>\n",
              "      <td>Ok lar... Joking wif oni...</td>\n",
              "      <td>29</td>\n",
              "    </tr>\n",
              "    <tr>\n",
              "      <th>2</th>\n",
              "      <td>1</td>\n",
              "      <td>Free entry wkly comp win FA Cup final tkts 21s...</td>\n",
              "      <td>155</td>\n",
              "    </tr>\n",
              "    <tr>\n",
              "      <th>3</th>\n",
              "      <td>0</td>\n",
              "      <td>dun say early hor... c already say...</td>\n",
              "      <td>49</td>\n",
              "    </tr>\n",
              "    <tr>\n",
              "      <th>4</th>\n",
              "      <td>0</td>\n",
              "      <td>Nah think goes usf, lives around though</td>\n",
              "      <td>61</td>\n",
              "    </tr>\n",
              "  </tbody>\n",
              "</table>\n",
              "</div>"
            ],
            "text/plain": [
              "   label                                            message  length\n",
              "0      0  Go jurong point, crazy.. Available bugis n gre...     111\n",
              "1      0                        Ok lar... Joking wif oni...      29\n",
              "2      1  Free entry wkly comp win FA Cup final tkts 21s...     155\n",
              "3      0              dun say early hor... c already say...      49\n",
              "4      0            Nah think goes usf, lives around though      61"
            ]
          },
          "metadata": {
            "tags": []
          },
          "execution_count": 19
        }
      ]
    },
    {
      "cell_type": "code",
      "metadata": {
        "colab": {
          "base_uri": "https://localhost:8080/",
          "height": 204
        },
        "id": "TpQdoLiHkFKZ",
        "outputId": "0543da50-984f-40df-c8d3-5c4ad99f2168"
      },
      "source": [
        "length=[]\n",
        "for row in sms1['message']:\n",
        "  length.append(len(row))\n",
        "sms1['length']=length\n",
        "sms1.head()"
      ],
      "execution_count": 20,
      "outputs": [
        {
          "output_type": "execute_result",
          "data": {
            "text/html": [
              "<div>\n",
              "<style scoped>\n",
              "    .dataframe tbody tr th:only-of-type {\n",
              "        vertical-align: middle;\n",
              "    }\n",
              "\n",
              "    .dataframe tbody tr th {\n",
              "        vertical-align: top;\n",
              "    }\n",
              "\n",
              "    .dataframe thead th {\n",
              "        text-align: right;\n",
              "    }\n",
              "</style>\n",
              "<table border=\"1\" class=\"dataframe\">\n",
              "  <thead>\n",
              "    <tr style=\"text-align: right;\">\n",
              "      <th></th>\n",
              "      <th>label</th>\n",
              "      <th>message</th>\n",
              "      <th>length</th>\n",
              "    </tr>\n",
              "  </thead>\n",
              "  <tbody>\n",
              "    <tr>\n",
              "      <th>0</th>\n",
              "      <td>0</td>\n",
              "      <td>Go jurong point, crazy.. Available bugis n gre...</td>\n",
              "      <td>91</td>\n",
              "    </tr>\n",
              "    <tr>\n",
              "      <th>1</th>\n",
              "      <td>0</td>\n",
              "      <td>Ok lar... Joking wif oni...</td>\n",
              "      <td>27</td>\n",
              "    </tr>\n",
              "    <tr>\n",
              "      <th>2</th>\n",
              "      <td>1</td>\n",
              "      <td>Free entry wkly comp win FA Cup final tkts 21s...</td>\n",
              "      <td>139</td>\n",
              "    </tr>\n",
              "    <tr>\n",
              "      <th>3</th>\n",
              "      <td>0</td>\n",
              "      <td>dun say early hor... c already say...</td>\n",
              "      <td>37</td>\n",
              "    </tr>\n",
              "    <tr>\n",
              "      <th>4</th>\n",
              "      <td>0</td>\n",
              "      <td>Nah think goes usf, lives around though</td>\n",
              "      <td>39</td>\n",
              "    </tr>\n",
              "  </tbody>\n",
              "</table>\n",
              "</div>"
            ],
            "text/plain": [
              "   label                                            message  length\n",
              "0      0  Go jurong point, crazy.. Available bugis n gre...      91\n",
              "1      0                        Ok lar... Joking wif oni...      27\n",
              "2      1  Free entry wkly comp win FA Cup final tkts 21s...     139\n",
              "3      0              dun say early hor... c already say...      37\n",
              "4      0            Nah think goes usf, lives around though      39"
            ]
          },
          "metadata": {
            "tags": []
          },
          "execution_count": 20
        }
      ]
    },
    {
      "cell_type": "code",
      "metadata": {
        "id": "9rH8uwIOOBsj"
      },
      "source": [
        "from sklearn.feature_extraction.text import HashingVectorizer, TfidfVectorizer, CountVectorizer\n",
        "from sklearn.linear_model.logistic import LogisticRegression\n",
        "from sklearn.model_selection import train_test_split, cross_val_score\n",
        "from sklearn.tree import DecisionTreeClassifier\n",
        "from sklearn.svm import LinearSVC\n",
        "\n",
        "X1 = sms1['message']\n",
        "y1 = sms1['label']\n",
        "X1_train, X1_test, y1_train, y1_test = train_test_split(X1, y1, test_size = 0.3, random_state = 50)\n",
        "\n",
        "X = sms['message']\n",
        "y = sms['label']\n",
        "X_train, X_test, y_train, y_test = train_test_split(X, y, test_size = 0.3, random_state = 50)"
      ],
      "execution_count": 21,
      "outputs": []
    },
    {
      "cell_type": "code",
      "metadata": {
        "id": "3EvCnS5wORZD"
      },
      "source": [
        "#HashingVectorizer\n",
        "vectorizer_hash = HashingVectorizer()\n",
        "X1_train_hash = vectorizer_hash.fit_transform(X1_train)"
      ],
      "execution_count": 22,
      "outputs": []
    },
    {
      "cell_type": "code",
      "metadata": {
        "colab": {
          "base_uri": "https://localhost:8080/"
        },
        "id": "JL6bR4heOpG1",
        "outputId": "7107b90d-41ca-4396-e741-c3a652c84e7b"
      },
      "source": [
        "from sklearn.pipeline import Pipeline\n",
        "pipeline = Pipeline([('hashing', HashingVectorizer()),\n",
        "                      ('clf', DecisionTreeClassifier()),\n",
        "                    ])\n",
        "pipeline.fit(X1_train, y1_train)"
      ],
      "execution_count": 23,
      "outputs": [
        {
          "output_type": "execute_result",
          "data": {
            "text/plain": [
              "Pipeline(memory=None,\n",
              "         steps=[('hashing',\n",
              "                 HashingVectorizer(alternate_sign=True, analyzer='word',\n",
              "                                   binary=False, decode_error='strict',\n",
              "                                   dtype=<class 'numpy.float64'>,\n",
              "                                   encoding='utf-8', input='content',\n",
              "                                   lowercase=True, n_features=1048576,\n",
              "                                   ngram_range=(1, 1), norm='l2',\n",
              "                                   preprocessor=None, stop_words=None,\n",
              "                                   strip_accents=None,\n",
              "                                   token_pattern='(?u)\\\\b\\\\w\\\\w+\\\\b',\n",
              "                                   tokenizer=None)),\n",
              "                ('clf',\n",
              "                 DecisionTreeClassifier(ccp_alpha=0.0, class_weight=None,\n",
              "                                        criterion='gini', max_depth=None,\n",
              "                                        max_features=None, max_leaf_nodes=None,\n",
              "                                        min_impurity_decrease=0.0,\n",
              "                                        min_impurity_split=None,\n",
              "                                        min_samples_leaf=1, min_samples_split=2,\n",
              "                                        min_weight_fraction_leaf=0.0,\n",
              "                                        presort='deprecated', random_state=None,\n",
              "                                        splitter='best'))],\n",
              "         verbose=False)"
            ]
          },
          "metadata": {
            "tags": []
          },
          "execution_count": 23
        }
      ]
    },
    {
      "cell_type": "code",
      "metadata": {
        "id": "JMGTjjTWPB0y"
      },
      "source": [
        "predictions = pipeline.predict(X1_test)"
      ],
      "execution_count": 24,
      "outputs": []
    },
    {
      "cell_type": "code",
      "metadata": {
        "colab": {
          "base_uri": "https://localhost:8080/"
        },
        "id": "LMod4o0KPKOP",
        "outputId": "0b91b254-35c6-4f44-c1c1-0e4df515bb5e"
      },
      "source": [
        "#Sms1\n",
        "from sklearn.metrics import confusion_matrix, classification_report, accuracy_score\n",
        "print(\"Sms1: \")\n",
        "print(accuracy_score(y1_test, predictions))\n",
        "print(confusion_matrix(y1_test, predictions))\n",
        "print(classification_report(y1_test, predictions))"
      ],
      "execution_count": 25,
      "outputs": [
        {
          "output_type": "stream",
          "text": [
            "Sms1: \n",
            "0.9665071770334929\n",
            "[[1407   19]\n",
            " [  37  209]]\n",
            "              precision    recall  f1-score   support\n",
            "\n",
            "           0       0.97      0.99      0.98      1426\n",
            "           1       0.92      0.85      0.88       246\n",
            "\n",
            "    accuracy                           0.97      1672\n",
            "   macro avg       0.95      0.92      0.93      1672\n",
            "weighted avg       0.97      0.97      0.97      1672\n",
            "\n"
          ],
          "name": "stdout"
        }
      ]
    },
    {
      "cell_type": "code",
      "metadata": {
        "id": "HZPlBHTFy7vK"
      },
      "source": [
        "vectorizer_hash = HashingVectorizer()\n",
        "X_train_hash = vectorizer_hash.fit_transform(X_train)"
      ],
      "execution_count": 26,
      "outputs": []
    },
    {
      "cell_type": "code",
      "metadata": {
        "colab": {
          "base_uri": "https://localhost:8080/"
        },
        "id": "LQ8JJlqfy-9i",
        "outputId": "a76546a8-01d5-445c-c9f0-c3075d9e3127"
      },
      "source": [
        "from sklearn.pipeline import Pipeline\n",
        "pipeline = Pipeline([('hashing', HashingVectorizer()),\n",
        "                      ('clf', DecisionTreeClassifier()),\n",
        "                    ])\n",
        "pipeline.fit(X_train, y_train)"
      ],
      "execution_count": 27,
      "outputs": [
        {
          "output_type": "execute_result",
          "data": {
            "text/plain": [
              "Pipeline(memory=None,\n",
              "         steps=[('hashing',\n",
              "                 HashingVectorizer(alternate_sign=True, analyzer='word',\n",
              "                                   binary=False, decode_error='strict',\n",
              "                                   dtype=<class 'numpy.float64'>,\n",
              "                                   encoding='utf-8', input='content',\n",
              "                                   lowercase=True, n_features=1048576,\n",
              "                                   ngram_range=(1, 1), norm='l2',\n",
              "                                   preprocessor=None, stop_words=None,\n",
              "                                   strip_accents=None,\n",
              "                                   token_pattern='(?u)\\\\b\\\\w\\\\w+\\\\b',\n",
              "                                   tokenizer=None)),\n",
              "                ('clf',\n",
              "                 DecisionTreeClassifier(ccp_alpha=0.0, class_weight=None,\n",
              "                                        criterion='gini', max_depth=None,\n",
              "                                        max_features=None, max_leaf_nodes=None,\n",
              "                                        min_impurity_decrease=0.0,\n",
              "                                        min_impurity_split=None,\n",
              "                                        min_samples_leaf=1, min_samples_split=2,\n",
              "                                        min_weight_fraction_leaf=0.0,\n",
              "                                        presort='deprecated', random_state=None,\n",
              "                                        splitter='best'))],\n",
              "         verbose=False)"
            ]
          },
          "metadata": {
            "tags": []
          },
          "execution_count": 27
        }
      ]
    },
    {
      "cell_type": "code",
      "metadata": {
        "id": "4-rGYaYyzufj"
      },
      "source": [
        "predictions = pipeline.predict(X_test)"
      ],
      "execution_count": 28,
      "outputs": []
    },
    {
      "cell_type": "code",
      "metadata": {
        "colab": {
          "base_uri": "https://localhost:8080/"
        },
        "id": "RF2sRqbXzxkg",
        "outputId": "5d1db66f-1122-4825-820e-45c295d200a1"
      },
      "source": [
        "#Sms\n",
        "from sklearn.metrics import confusion_matrix, classification_report, accuracy_score\n",
        "print(\"Sms: \")\n",
        "print(accuracy_score(y_test, predictions))\n",
        "print(confusion_matrix(y_test, predictions))\n",
        "print(classification_report(y_test, predictions))"
      ],
      "execution_count": 29,
      "outputs": [
        {
          "output_type": "stream",
          "text": [
            "Sms: \n",
            "0.9581339712918661\n",
            "[[1406   20]\n",
            " [  50  196]]\n",
            "              precision    recall  f1-score   support\n",
            "\n",
            "           0       0.97      0.99      0.98      1426\n",
            "           1       0.91      0.80      0.85       246\n",
            "\n",
            "    accuracy                           0.96      1672\n",
            "   macro avg       0.94      0.89      0.91      1672\n",
            "weighted avg       0.96      0.96      0.96      1672\n",
            "\n"
          ],
          "name": "stdout"
        }
      ]
    },
    {
      "cell_type": "code",
      "metadata": {
        "id": "uhnQxrBzPV7E"
      },
      "source": [
        "# TfidfVectorizer\n",
        "vectorizer_tfi = TfidfVectorizer()\n",
        "X1_train_tfi = vectorizer_tfi.fit_transform(X1_train)"
      ],
      "execution_count": 30,
      "outputs": []
    },
    {
      "cell_type": "code",
      "metadata": {
        "colab": {
          "base_uri": "https://localhost:8080/"
        },
        "id": "6_c-JLyrQPJI",
        "outputId": "f63a5584-a2f5-49a3-f9f7-862ced25d6e8"
      },
      "source": [
        "from sklearn.pipeline import Pipeline\n",
        "pipeline = Pipeline([('tfidf', TfidfVectorizer()),\n",
        "                      ('clf', DecisionTreeClassifier()),\n",
        "                    ])\n",
        "pipeline.fit(X1_train, y1_train)"
      ],
      "execution_count": 31,
      "outputs": [
        {
          "output_type": "execute_result",
          "data": {
            "text/plain": [
              "Pipeline(memory=None,\n",
              "         steps=[('tfidf',\n",
              "                 TfidfVectorizer(analyzer='word', binary=False,\n",
              "                                 decode_error='strict',\n",
              "                                 dtype=<class 'numpy.float64'>,\n",
              "                                 encoding='utf-8', input='content',\n",
              "                                 lowercase=True, max_df=1.0, max_features=None,\n",
              "                                 min_df=1, ngram_range=(1, 1), norm='l2',\n",
              "                                 preprocessor=None, smooth_idf=True,\n",
              "                                 stop_words=None, strip_accents=None,\n",
              "                                 sublinear_tf=False,\n",
              "                                 token_pattern='...\n",
              "                                 tokenizer=None, use_idf=True,\n",
              "                                 vocabulary=None)),\n",
              "                ('clf',\n",
              "                 DecisionTreeClassifier(ccp_alpha=0.0, class_weight=None,\n",
              "                                        criterion='gini', max_depth=None,\n",
              "                                        max_features=None, max_leaf_nodes=None,\n",
              "                                        min_impurity_decrease=0.0,\n",
              "                                        min_impurity_split=None,\n",
              "                                        min_samples_leaf=1, min_samples_split=2,\n",
              "                                        min_weight_fraction_leaf=0.0,\n",
              "                                        presort='deprecated', random_state=None,\n",
              "                                        splitter='best'))],\n",
              "         verbose=False)"
            ]
          },
          "metadata": {
            "tags": []
          },
          "execution_count": 31
        }
      ]
    },
    {
      "cell_type": "code",
      "metadata": {
        "id": "GkVPqWnFQRkJ"
      },
      "source": [
        "predictions = pipeline.predict(X1_test)"
      ],
      "execution_count": 32,
      "outputs": []
    },
    {
      "cell_type": "code",
      "metadata": {
        "colab": {
          "base_uri": "https://localhost:8080/"
        },
        "id": "ONm9Dd5SQYx4",
        "outputId": "6d23afb8-e7c0-4de6-f116-8e8847c196af"
      },
      "source": [
        "#Sms1\n",
        "from sklearn.metrics import confusion_matrix, classification_report, accuracy_score\n",
        "print(\"Sms1\")\n",
        "print(accuracy_score(y1_test, predictions))\n",
        "print(confusion_matrix(y1_test, predictions))\n",
        "print(classification_report(y1_test, predictions))"
      ],
      "execution_count": 33,
      "outputs": [
        {
          "output_type": "stream",
          "text": [
            "Sms1\n",
            "0.9527511961722488\n",
            "[[1406   20]\n",
            " [  59  187]]\n",
            "              precision    recall  f1-score   support\n",
            "\n",
            "           0       0.96      0.99      0.97      1426\n",
            "           1       0.90      0.76      0.83       246\n",
            "\n",
            "    accuracy                           0.95      1672\n",
            "   macro avg       0.93      0.87      0.90      1672\n",
            "weighted avg       0.95      0.95      0.95      1672\n",
            "\n"
          ],
          "name": "stdout"
        }
      ]
    },
    {
      "cell_type": "code",
      "metadata": {
        "id": "pmnsWLBg0U7j"
      },
      "source": [
        "vectorizer_tfi = TfidfVectorizer()\n",
        "X_train_tfi = vectorizer_tfi.fit_transform(X_train)"
      ],
      "execution_count": 34,
      "outputs": []
    },
    {
      "cell_type": "code",
      "metadata": {
        "colab": {
          "base_uri": "https://localhost:8080/"
        },
        "id": "SuQCJjUy0YNE",
        "outputId": "9d328bc7-d5e1-423f-bbdf-33f4292c1b06"
      },
      "source": [
        "from sklearn.pipeline import Pipeline\n",
        "pipeline = Pipeline([('tfidf', TfidfVectorizer()),\n",
        "                      ('clf', DecisionTreeClassifier()),\n",
        "                    ])\n",
        "pipeline.fit(X_train, y_train)"
      ],
      "execution_count": 35,
      "outputs": [
        {
          "output_type": "execute_result",
          "data": {
            "text/plain": [
              "Pipeline(memory=None,\n",
              "         steps=[('tfidf',\n",
              "                 TfidfVectorizer(analyzer='word', binary=False,\n",
              "                                 decode_error='strict',\n",
              "                                 dtype=<class 'numpy.float64'>,\n",
              "                                 encoding='utf-8', input='content',\n",
              "                                 lowercase=True, max_df=1.0, max_features=None,\n",
              "                                 min_df=1, ngram_range=(1, 1), norm='l2',\n",
              "                                 preprocessor=None, smooth_idf=True,\n",
              "                                 stop_words=None, strip_accents=None,\n",
              "                                 sublinear_tf=False,\n",
              "                                 token_pattern='...\n",
              "                                 tokenizer=None, use_idf=True,\n",
              "                                 vocabulary=None)),\n",
              "                ('clf',\n",
              "                 DecisionTreeClassifier(ccp_alpha=0.0, class_weight=None,\n",
              "                                        criterion='gini', max_depth=None,\n",
              "                                        max_features=None, max_leaf_nodes=None,\n",
              "                                        min_impurity_decrease=0.0,\n",
              "                                        min_impurity_split=None,\n",
              "                                        min_samples_leaf=1, min_samples_split=2,\n",
              "                                        min_weight_fraction_leaf=0.0,\n",
              "                                        presort='deprecated', random_state=None,\n",
              "                                        splitter='best'))],\n",
              "         verbose=False)"
            ]
          },
          "metadata": {
            "tags": []
          },
          "execution_count": 35
        }
      ]
    },
    {
      "cell_type": "code",
      "metadata": {
        "id": "wQshuefP0buR"
      },
      "source": [
        "predictions = pipeline.predict(X_test)"
      ],
      "execution_count": 36,
      "outputs": []
    },
    {
      "cell_type": "code",
      "metadata": {
        "colab": {
          "base_uri": "https://localhost:8080/"
        },
        "id": "1p7b6bQ30eZk",
        "outputId": "c32df363-56bf-4040-cbf8-25463729b032"
      },
      "source": [
        "#Sms\n",
        "from sklearn.metrics import confusion_matrix, classification_report, accuracy_score\n",
        "print(\"Sms\")\n",
        "print(accuracy_score(y_test, predictions))\n",
        "print(confusion_matrix(y_test, predictions))\n",
        "print(classification_report(y_test, predictions))"
      ],
      "execution_count": 37,
      "outputs": [
        {
          "output_type": "stream",
          "text": [
            "Sms\n",
            "0.9521531100478469\n",
            "[[1408   18]\n",
            " [  62  184]]\n",
            "              precision    recall  f1-score   support\n",
            "\n",
            "           0       0.96      0.99      0.97      1426\n",
            "           1       0.91      0.75      0.82       246\n",
            "\n",
            "    accuracy                           0.95      1672\n",
            "   macro avg       0.93      0.87      0.90      1672\n",
            "weighted avg       0.95      0.95      0.95      1672\n",
            "\n"
          ],
          "name": "stdout"
        }
      ]
    },
    {
      "cell_type": "code",
      "metadata": {
        "id": "sJ82IEJNQhzv"
      },
      "source": [
        "# CountVectorizer\n",
        "vectorizer_tfi = CountVectorizer()\n",
        "X1_train_count = vectorizer_count.fit_transform(X1_train)"
      ],
      "execution_count": 38,
      "outputs": []
    },
    {
      "cell_type": "code",
      "metadata": {
        "colab": {
          "base_uri": "https://localhost:8080/"
        },
        "id": "h02F9vvhQ0PA",
        "outputId": "3ad6be00-ad52-45f2-f09c-8667912bbb9b"
      },
      "source": [
        "from sklearn.pipeline import Pipeline\n",
        "pipeline = Pipeline([('count', CountVectorizer()),\n",
        "                      ('clf', DecisionTreeClassifier()),\n",
        "                    ])\n",
        "pipeline.fit(X1_train, y1_train)"
      ],
      "execution_count": 39,
      "outputs": [
        {
          "output_type": "execute_result",
          "data": {
            "text/plain": [
              "Pipeline(memory=None,\n",
              "         steps=[('count',\n",
              "                 CountVectorizer(analyzer='word', binary=False,\n",
              "                                 decode_error='strict',\n",
              "                                 dtype=<class 'numpy.int64'>, encoding='utf-8',\n",
              "                                 input='content', lowercase=True, max_df=1.0,\n",
              "                                 max_features=None, min_df=1,\n",
              "                                 ngram_range=(1, 1), preprocessor=None,\n",
              "                                 stop_words=None, strip_accents=None,\n",
              "                                 token_pattern='(?u)\\\\b\\\\w\\\\w+\\\\b',\n",
              "                                 tokenizer=None, vocabulary=None)),\n",
              "                ('clf',\n",
              "                 DecisionTreeClassifier(ccp_alpha=0.0, class_weight=None,\n",
              "                                        criterion='gini', max_depth=None,\n",
              "                                        max_features=None, max_leaf_nodes=None,\n",
              "                                        min_impurity_decrease=0.0,\n",
              "                                        min_impurity_split=None,\n",
              "                                        min_samples_leaf=1, min_samples_split=2,\n",
              "                                        min_weight_fraction_leaf=0.0,\n",
              "                                        presort='deprecated', random_state=None,\n",
              "                                        splitter='best'))],\n",
              "         verbose=False)"
            ]
          },
          "metadata": {
            "tags": []
          },
          "execution_count": 39
        }
      ]
    },
    {
      "cell_type": "code",
      "metadata": {
        "id": "nJsasa08Q3Sg"
      },
      "source": [
        "predictions = pipeline.predict(X1_test)"
      ],
      "execution_count": 40,
      "outputs": []
    },
    {
      "cell_type": "code",
      "metadata": {
        "colab": {
          "base_uri": "https://localhost:8080/"
        },
        "id": "Ry7vmnRhQ5er",
        "outputId": "3eee6472-0dc1-44f6-9f3e-1fc0fd9a2a0c"
      },
      "source": [
        "#Sms1\n",
        "from sklearn.metrics import confusion_matrix, classification_report, accuracy_score\n",
        "print(\"Sms1\")\n",
        "print(accuracy_score(y1_test, predictions))\n",
        "print(confusion_matrix(y1_test, predictions))\n",
        "print(classification_report(y1_test, predictions))"
      ],
      "execution_count": 41,
      "outputs": [
        {
          "output_type": "stream",
          "text": [
            "Sms1\n",
            "0.9665071770334929\n",
            "[[1411   15]\n",
            " [  41  205]]\n",
            "              precision    recall  f1-score   support\n",
            "\n",
            "           0       0.97      0.99      0.98      1426\n",
            "           1       0.93      0.83      0.88       246\n",
            "\n",
            "    accuracy                           0.97      1672\n",
            "   macro avg       0.95      0.91      0.93      1672\n",
            "weighted avg       0.97      0.97      0.97      1672\n",
            "\n"
          ],
          "name": "stdout"
        }
      ]
    },
    {
      "cell_type": "code",
      "metadata": {
        "id": "roOnnefI0-ck"
      },
      "source": [
        "vectorizer_count = CountVectorizer()\n",
        "X_train_count = vectorizer_count.fit_transform(X_train)"
      ],
      "execution_count": 42,
      "outputs": []
    },
    {
      "cell_type": "code",
      "metadata": {
        "colab": {
          "base_uri": "https://localhost:8080/"
        },
        "id": "-CWN1xv81v4H",
        "outputId": "06431861-2975-473b-8879-25cbd4b18e23"
      },
      "source": [
        "from sklearn.pipeline import Pipeline\n",
        "pipeline = Pipeline([('count', CountVectorizer()),\n",
        "                      ('clf', DecisionTreeClassifier()),\n",
        "                    ])\n",
        "pipeline.fit(X_train, y_train)"
      ],
      "execution_count": 43,
      "outputs": [
        {
          "output_type": "execute_result",
          "data": {
            "text/plain": [
              "Pipeline(memory=None,\n",
              "         steps=[('count',\n",
              "                 CountVectorizer(analyzer='word', binary=False,\n",
              "                                 decode_error='strict',\n",
              "                                 dtype=<class 'numpy.int64'>, encoding='utf-8',\n",
              "                                 input='content', lowercase=True, max_df=1.0,\n",
              "                                 max_features=None, min_df=1,\n",
              "                                 ngram_range=(1, 1), preprocessor=None,\n",
              "                                 stop_words=None, strip_accents=None,\n",
              "                                 token_pattern='(?u)\\\\b\\\\w\\\\w+\\\\b',\n",
              "                                 tokenizer=None, vocabulary=None)),\n",
              "                ('clf',\n",
              "                 DecisionTreeClassifier(ccp_alpha=0.0, class_weight=None,\n",
              "                                        criterion='gini', max_depth=None,\n",
              "                                        max_features=None, max_leaf_nodes=None,\n",
              "                                        min_impurity_decrease=0.0,\n",
              "                                        min_impurity_split=None,\n",
              "                                        min_samples_leaf=1, min_samples_split=2,\n",
              "                                        min_weight_fraction_leaf=0.0,\n",
              "                                        presort='deprecated', random_state=None,\n",
              "                                        splitter='best'))],\n",
              "         verbose=False)"
            ]
          },
          "metadata": {
            "tags": []
          },
          "execution_count": 43
        }
      ]
    },
    {
      "cell_type": "code",
      "metadata": {
        "id": "3TcyqhTf10ST"
      },
      "source": [
        "predictions = pipeline.predict(X_test)"
      ],
      "execution_count": 44,
      "outputs": []
    },
    {
      "cell_type": "code",
      "metadata": {
        "colab": {
          "base_uri": "https://localhost:8080/"
        },
        "id": "wrfZ1WM_2I41",
        "outputId": "a625c98b-d928-4662-d49a-2e1a1f909709"
      },
      "source": [
        "#Sms\n",
        "from sklearn.metrics import confusion_matrix, classification_report, accuracy_score\n",
        "print(\"Sms\")\n",
        "print(accuracy_score(y_test, predictions))\n",
        "print(confusion_matrix(y_test, predictions))\n",
        "print(classification_report(y_test, predictions))"
      ],
      "execution_count": 45,
      "outputs": [
        {
          "output_type": "stream",
          "text": [
            "Sms\n",
            "0.9641148325358851\n",
            "[[1415   11]\n",
            " [  49  197]]\n",
            "              precision    recall  f1-score   support\n",
            "\n",
            "           0       0.97      0.99      0.98      1426\n",
            "           1       0.95      0.80      0.87       246\n",
            "\n",
            "    accuracy                           0.96      1672\n",
            "   macro avg       0.96      0.90      0.92      1672\n",
            "weighted avg       0.96      0.96      0.96      1672\n",
            "\n"
          ],
          "name": "stdout"
        }
      ]
    },
    {
      "cell_type": "markdown",
      "metadata": {
        "id": "OBJpxKLA2dHU"
      },
      "source": [
        "### 3. Spam detection"
      ]
    },
    {
      "cell_type": "code",
      "metadata": {
        "id": "odyGeTgt2dHU"
      },
      "source": [
        "from sklearn import tree\n",
        "from sklearn.model_selection import KFold\n",
        "from sklearn import metrics\n",
        "import time\n",
        "\n",
        "y = sms.label\n",
        "\n",
        "# only using the decision tree classifier with default setting for training and predicting. \n",
        "# In other words, make no changes to this section.\n",
        "\n",
        "model = tree.DecisionTreeClassifier()"
      ],
      "execution_count": 46,
      "outputs": []
    },
    {
      "cell_type": "markdown",
      "metadata": {
        "id": "xbl585i_2dHV"
      },
      "source": [
        "#### 3.1. Using TF-IDF Vectorizer\n",
        "\n",
        "    Requirements:\n",
        "    1. Using 5-fold for spliting the dataset \n",
        "    2. Add accuracy of each fold to acc_tv\n",
        "    3. Caculate and print the proccessing time\n",
        "    4. Print mean of accuracy"
      ]
    },
    {
      "cell_type": "code",
      "metadata": {
        "id": "tgwOwX_S2dHV",
        "colab": {
          "base_uri": "https://localhost:8080/"
        },
        "outputId": "a460f0fc-df24-4a60-dfd1-ea3052acd278"
      },
      "source": [
        "acc_tv = []\n",
        "# enter here\n",
        "from sklearn.model_selection import cross_val_score, KFold\n",
        "from numpy import mean\n",
        "from sklearn.tree import DecisionTreeClassifier\n",
        "import time\n",
        "\n",
        "folds = range(2,6)\n",
        "for i in folds:\n",
        "  start = time.time()\n",
        "  acc_tv=cross_val_score(model, X_train_tfi, y_train, scoring=\"accuracy\", cv=KFold(n_splits=i))\n",
        "  end=time.time()\n",
        "  print(\"- folds=%d, accuracy= %f, time= %f\" %(i, mean(acc_tv), (end-start)))\n",
        "\n",
        "\n"
      ],
      "execution_count": 53,
      "outputs": [
        {
          "output_type": "stream",
          "text": [
            "- folds=2, accuracy= 0.946154, time= 0.153567\n",
            "- folds=3, accuracy= 0.952821, time= 0.339383\n",
            "- folds=4, accuracy= 0.954359, time= 0.545237\n",
            "- folds=5, accuracy= 0.955128, time= 0.720568\n"
          ],
          "name": "stdout"
        }
      ]
    },
    {
      "cell_type": "markdown",
      "metadata": {
        "id": "6dqKrOkx2dHV"
      },
      "source": [
        "#### 3.2. Using Hashing Vectorizer\n",
        "    Requirements:\n",
        "    1. Using 5-fold for spliting the dataset \n",
        "    2. Add accuracy of each fold to acc_hv\n",
        "    3. Caculate and print the proccessing time\n",
        "    4. Print mean of accuracy"
      ]
    },
    {
      "cell_type": "code",
      "metadata": {
        "id": "ysjv5bOx2dHW",
        "colab": {
          "base_uri": "https://localhost:8080/"
        },
        "outputId": "3d15aed3-6449-438c-f948-1f30dd28a4b7"
      },
      "source": [
        "acc_hv = []\n",
        "# enter here\n",
        "folds = range(2,6)\n",
        "for i in folds:\n",
        "  start = time.time()\n",
        "  acc_hv=cross_val_score(model, X_train_hash, y_train, scoring=\"accuracy\", cv=KFold(n_splits=i))\n",
        "  end=time.time()\n",
        "  print(\"- folds=%d, accuracy= %f, time= %f\" %(i, mean(acc_hv), (end-start)))"
      ],
      "execution_count": 54,
      "outputs": [
        {
          "output_type": "stream",
          "text": [
            "- folds=2, accuracy= 0.945641, time= 7.832203\n",
            "- folds=3, accuracy= 0.949231, time= 15.279437\n",
            "- folds=4, accuracy= 0.951026, time= 21.861047\n",
            "- folds=5, accuracy= 0.957179, time= 28.553749\n"
          ],
          "name": "stdout"
        }
      ]
    },
    {
      "cell_type": "markdown",
      "metadata": {
        "id": "sEDJCFSK2dHW"
      },
      "source": [
        "#### 3.3. Using Count Vectorizer\n",
        "\n",
        "    Requirements:\n",
        "    1. Using 5-fold for spliting the dataset \n",
        "    2. Add accuracy of each fold to acc_cv\n",
        "    3. Caculate and print the proccessing time\n",
        "    4. Print mean of accuracy"
      ]
    },
    {
      "cell_type": "code",
      "metadata": {
        "id": "vIvK89af2dHW",
        "colab": {
          "base_uri": "https://localhost:8080/"
        },
        "outputId": "3c279939-b476-4f53-ba10-669305926529"
      },
      "source": [
        "acc_cv = []\n",
        "# enter here\n",
        "folds = range(2,6)\n",
        "for i in folds:\n",
        "  start = time.time()\n",
        "  acc_cv=cross_val_score(model, X_train_count, y_train, scoring=\"accuracy\", cv=KFold(n_splits=i))\n",
        "  end=time.time()\n",
        "  print(\"- folds=%d, accuracy= %f, time= %f\" %(i, mean(acc_cv), (end-start)))"
      ],
      "execution_count": 56,
      "outputs": [
        {
          "output_type": "stream",
          "text": [
            "- folds=2, accuracy= 0.950256, time= 0.125520\n",
            "- folds=3, accuracy= 0.957949, time= 0.256538\n",
            "- folds=4, accuracy= 0.959487, time= 0.375271\n",
            "- folds=5, accuracy= 0.958974, time= 0.529286\n"
          ],
          "name": "stdout"
        }
      ]
    },
    {
      "cell_type": "markdown",
      "metadata": {
        "id": "iJEmB3IU2dHW"
      },
      "source": [
        "#### 3.4. Ploting Accuracies in 5-Folds"
      ]
    },
    {
      "cell_type": "code",
      "metadata": {
        "id": "qIHYDHYz2dHX",
        "colab": {
          "base_uri": "https://localhost:8080/",
          "height": 348
        },
        "outputId": "e5ef31e8-59f8-420c-eb71-76c914bad311"
      },
      "source": [
        "# enter here\n",
        "import matplotlib.pyplot as plt\n",
        "import numpy\n",
        "\n",
        "print(acc_tv)\n",
        "print(acc_hv)\n",
        "print(acc_cv)\n",
        "\n",
        "labels = ['Flod 1', 'Flod 2', 'Flod 3', 'Flod 4', 'Flod 5']\n",
        "\n",
        "x=numpy.arange(len(labels))\n",
        "width = 0.2\n",
        "\n",
        "fig, ax = plt.subplots()\n",
        "rects1 = ax.bar(x-width/3-width/3-width/3-width/3, acc_tv, width, label='TF-IDF Vectorizer')\n",
        "rects2 = ax.bar(x-width/3, acc_hv, width, label='Hashing Vectorizer')\n",
        "rects3 = ax.bar(x+width/3+width/3, acc_cv, width, label='Count Vectorizer')\n",
        "\n",
        "\n",
        "ax.set_ylabel('Accuracy')\n",
        "ax.set_title('Accuracy')\n",
        "ax.set_xticks(x)\n",
        "ax.set_xticklabels(labels)\n",
        "ax.legend()\n",
        "\n",
        "\n",
        "ax.set_label(rects1)\n",
        "ax.set_label(rects2)\n",
        "ax.set_label(rects3)\n",
        "\n",
        "fig.tight_layout()\n",
        "\n",
        "plt.show()\n",
        "\n"
      ],
      "execution_count": 101,
      "outputs": [
        {
          "output_type": "stream",
          "text": [
            "[0.96794872 0.96153846 0.96538462 0.95512821 0.95512821]\n",
            "[0.96538462 0.95128205 0.96153846 0.9525641  0.95512821]\n",
            "[0.96410256 0.96025641 0.95512821 0.95897436 0.95641026]\n"
          ],
          "name": "stdout"
        },
        {
          "output_type": "display_data",
          "data": {
            "image/png": "[encoded data removed]",
            "text/plain": [
              "<Figure size 432x288 with 1 Axes>"
            ]
          },
          "metadata": {
            "tags": [],
            "needs_background": "light"
          }
        }
      ]
    }
  ]
}