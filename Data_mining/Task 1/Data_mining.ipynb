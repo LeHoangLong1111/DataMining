{
 "cells": [
  {
   "cell_type": "code",
   "execution_count": 1,
   "metadata": {
    "scrolled": true
   },
   "outputs": [
    {
     "name": "stdout",
     "output_type": "stream",
     "text": [
      "Requirement already satisfied: selenium in c:\\programdata\\anaconda3\\lib\\site-packages (3.141.0)\n",
      "Requirement already satisfied: urllib3 in c:\\programdata\\anaconda3\\lib\\site-packages (from selenium) (1.25.11)\n"
     ]
    },
    {
     "name": "stderr",
     "output_type": "stream",
     "text": [
      "WARNING: You are using pip version 20.2.4; however, version 21.1.1 is available.\n",
      "You should consider upgrading via the 'C:\\ProgramData\\Anaconda3\\python.exe -m pip install --upgrade pip' command.\n",
      "WARNING: You are using pip version 20.2.4; however, version 21.1.1 is available.\n",
      "You should consider upgrading via the 'C:\\ProgramData\\Anaconda3\\python.exe -m pip install --upgrade pip' command.\n"
     ]
    },
    {
     "name": "stdout",
     "output_type": "stream",
     "text": [
      "Requirement already satisfied: pywin32 in c:\\programdata\\anaconda3\\lib\\site-packages (227)\n"
     ]
    }
   ],
   "source": [
    "!pip install selenium\n",
    "!pip install pywin32\n",
    "import time\n",
    "from selenium.webdriver import Chrome\n",
    "from selenium.webdriver.common.by import By\n",
    "from selenium.webdriver.common.keys import Keys\n",
    "from selenium.webdriver.support.ui import WebDriverWait\n",
    "from selenium.webdriver.support import expected_conditions as EC\n",
    "import pandas as pd\n",
    "\n"
   ]
  },
  {
   "cell_type": "code",
   "execution_count": 2,
   "metadata": {},
   "outputs": [],
   "source": [
    "def get_comments_url(url):\n",
    "    data = []\n",
    "    with Chrome() as driver:\n",
    "        wait = WebDriverWait(driver,15)\n",
    "        driver.get(url)\n",
    "\n",
    "        for item in range(13): \n",
    "            wait.until(EC.visibility_of_element_located((By.TAG_NAME, \"body\"))).send_keys(Keys.END)\n",
    "            time.sleep(5)\n",
    "\n",
    "        for comment in wait.until(EC.presence_of_all_elements_located((By.CSS_SELECTOR, \"#content\"))):\n",
    "            data.append(comment.text)\n",
    "    return data"
   ]
  },
  {
   "cell_type": "code",
   "execution_count": 3,
   "metadata": {},
   "outputs": [],
   "source": [
    "datG = get_comments_url(\"https://www.youtube.com/watch?v=MTC4jtAAFgY\")\n",
    "sontung = get_comments_url(\"https://www.youtube.com/watch?v=6t-MjBazs3o\")\n",
    "trinhthangbinh = get_comments_url(\"https://www.youtube.com/watch?v=FnCVRQKxx2c\")\n",
    "\n",
    "\n"
   ]
  },
  {
   "cell_type": "code",
   "execution_count": 4,
   "metadata": {},
   "outputs": [],
   "source": [
    "#smoth data\n",
    "import pandas as pd  \n",
    "def smoth(data): \n",
    "    df = pd.DataFrame(data, columns=['comment'])\n",
    "    df.drop({0,1}, axis=0, inplace=True)\n",
    "    df.head()\n",
    "    return df"
   ]
  },
  {
   "cell_type": "code",
   "execution_count": 5,
   "metadata": {},
   "outputs": [],
   "source": [
    "datG = smoth(datG)\n",
    "sontung = smoth(sontung)\n",
    "trinhthangbinh = smoth(trinhthangbinh)\n"
   ]
  },
  {
   "cell_type": "code",
   "execution_count": 6,
   "metadata": {},
   "outputs": [
    {
     "name": "stdout",
     "output_type": "stream",
     "text": [
      "                                               comment\n",
      "2    Buồn Không Em - Đạt G || OFFICIAL MV \\nỦng hộ ...\n",
      "3    Ông quay phim lẽ ra phải zoom với focus em gái...\n",
      "4                    2020 ai còn nghe điểm danh đi :))\n",
      "5          Team chỉ nhìn ah đạt g hát thôi điểm danh 😆\n",
      "6                Có ai vừa nghe vừa đọc comment ko nhỉ\n",
      "..                                                 ...\n",
      "99                                 live tuyệt tác...<3\n",
      "100                         Nghê Đừng Khóc Nhé Em :(((\n",
      "101                                2021 nghe vẫn thấm😇\n",
      "102                              2021 vẫn nghe bài này\n",
      "103                                                   \n",
      "\n",
      "[102 rows x 1 columns]\n"
     ]
    }
   ],
   "source": [
    "print(datG)"
   ]
  },
  {
   "cell_type": "code",
   "execution_count": 7,
   "metadata": {},
   "outputs": [
    {
     "name": "stdout",
     "output_type": "stream",
     "text": [
      "                                               comment\n",
      "2    #CoChacYeuLaDay #SonTungMTP #MTPEntertainment ...\n",
      "3    SƠN TÙNG M-TP | MUỘN RỒI MÀ SAO CÒN | OFFICIAL...\n",
      "4                  Hãy chứng tỏ bạn vẫn còn xem MV này\n",
      "5                                3.2M likes r nha hihi\n",
      "6                 Số người âm thầm đưa mv này lên 150M\n",
      "..                                                 ...\n",
      "140  Hmm... this song is good. \\n-Added to my secre...\n",
      "141                                          M-TP ❤️❤️\n",
      "142                                 Ai còn nghe hk nèk\n",
      "143                                                   \n",
      "144                                                   \n",
      "\n",
      "[143 rows x 1 columns]\n"
     ]
    }
   ],
   "source": [
    "print(sontung)"
   ]
  },
  {
   "cell_type": "code",
   "execution_count": 8,
   "metadata": {},
   "outputs": [
    {
     "name": "stdout",
     "output_type": "stream",
     "text": [
      "                                               comment\n",
      "2    Các bạn đăng ký kênh và bấm chuông để theo dõi...\n",
      "3                                               ❤️❤️❤️\n",
      "4                                       Hóng beat ạ ❤️\n",
      "5    Ơ... a Bình lại ra bài này ngay lúc này nó lại...\n",
      "6    Làm người thứ 3 khổ lắm mọi người ơi! Tự nhiên...\n",
      "..                                                 ...\n",
      "113                                                hay\n",
      "114                                                hay\n",
      "115                                             Quá tệ\n",
      "116                                                   \n",
      "117                                                   \n",
      "\n",
      "[116 rows x 1 columns]\n"
     ]
    }
   ],
   "source": [
    "print(trinhthangbinh)"
   ]
  },
  {
   "cell_type": "code",
   "execution_count": 9,
   "metadata": {},
   "outputs": [],
   "source": [
    "\n",
    "import xlsxwriter\n",
    "def writeFile(data, path):\n",
    "    workbook = xlsxwriter.Workbook(path)\n",
    "    worksheet = workbook.add_worksheet()\n",
    "    row = 0\n",
    "    count = 0\n",
    "    worksheet.write(row, 1, \"comment\")\n",
    "    for doc  in data.comment:\n",
    "        row = row +1\n",
    "        worksheet.write(row, 0, count)\n",
    "        worksheet.write(row, 1, doc)\n",
    "        count = count +1\n",
    "    workbook.close()"
   ]
  },
  {
   "cell_type": "code",
   "execution_count": 10,
   "metadata": {},
   "outputs": [],
   "source": [
    "#datG.to_csv(\"datG.csv\",index = False )\n",
    "#sontung.to_csv(\"sontung.csv\", index = False )\n",
    "#trinhthangbinh.to_csv(\"trinhthangbinh.csv\", index = False )\n",
    "\n",
    "writeFile(datG, \"datG.xlsx\")\n",
    "writeFile(sontung, \"sontung.xlsx\")\n",
    "writeFile(trinhthangbinh, \"trinhthanbinh.xlsx\")\n",
    "\n"
   ]
  },
  {
   "cell_type": "code",
   "execution_count": null,
   "metadata": {},
   "outputs": [],
   "source": []
  },
  {
   "cell_type": "code",
   "execution_count": null,
   "metadata": {},
   "outputs": [],
   "source": []
  }
 ],
 "metadata": {
  "kernelspec": {
   "display_name": "Python 3",
   "language": "python",
   "name": "python3"
  },
  "language_info": {
   "codemirror_mode": {
    "name": "ipython",
    "version": 3
   },
   "file_extension": ".py",
   "mimetype": "text/x-python",
   "name": "python",
   "nbconvert_exporter": "python",
   "pygments_lexer": "ipython3",
   "version": "3.8.5"
  },
  "metadata": {
   "interpreter": {
    "hash": "aee8b7b246df8f9039afb4144a1f6fd8d2ca17a180786b69acc140d282b71a49"
   }
  }
 },
 "nbformat": 4,
 "nbformat_minor": 2
}
